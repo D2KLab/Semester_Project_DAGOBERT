{
  "cells": [
    {
      "cell_type": "code",
      "execution_count": null,
      "metadata": {
        "id": "ayCXt4XDTd5I"
      },
      "outputs": [],
      "source": [
        "from __future__ import absolute_import, division, print_function\n",
        "\n",
        "import argparse\n",
        "import glob\n",
        "import logging\n",
        "import os\n",
        "import pickle\n",
        "import random\n",
        "import re\n",
        "import shutil\n",
        "\n",
        "import numpy as np\n",
        "import torch\n",
        "import torch.nn.functional as F\n",
        "from torch.utils.data import DataLoader, Dataset, SequentialSampler, RandomSampler\n",
        "from torch.utils.data.distributed import DistributedSampler\n",
        "\n",
        "try:\n",
        "    from torch.utils.tensorboard import SummaryWriter\n",
        "except:\n",
        "    from tensorboardX import SummaryWriter\n",
        "\n",
        "from tqdm import trange\n",
        "from tqdm.autonotebook import tqdm\n"
      ]
    },
    {
      "cell_type": "code",
      "source": [
        ""
      ],
      "metadata": {
        "id": "tW0vZPGcAkQb"
      },
      "execution_count": null,
      "outputs": []
    },
    {
      "cell_type": "markdown",
      "source": [
        "**ALL THE DATA CAN BE DOWNLOAED FROM THE LINK BELOW**"
      ],
      "metadata": {
        "id": "6v9uafyHMypw"
      }
    },
    {
      "cell_type": "markdown",
      "source": [
        "https://drive.google.com/drive/folders/1Rh7SJSfGV77UeyV3gQDwLTODvJVlSCZK?usp=sharing"
      ],
      "metadata": {
        "id": "8stnqvgQNAW2"
      }
    },
    {
      "cell_type": "markdown",
      "source": [
        "**NOTE: This notebook has been run on COLAB. Please make sure it is run on COLAB to avoid any discrepancies.**"
      ],
      "metadata": {
        "id": "o6PbmLJvBK5C"
      }
    },
    {
      "cell_type": "markdown",
      "source": [
        "**NOTE: *Install these packages to make it compatible with the current enviornment and versions***"
      ],
      "metadata": {
        "id": "RFHo1JkPAlji"
      }
    },
    {
      "cell_type": "code",
      "execution_count": null,
      "metadata": {
        "colab": {
          "base_uri": "https://localhost:8080/"
        },
        "id": "MpBaZWDKyXzf",
        "outputId": "b70e8676-fb09-4c23-fe53-16146526abf9"
      },
      "outputs": [
        {
          "output_type": "stream",
          "name": "stdout",
          "text": [
            "Looking in indexes: https://pypi.org/simple, https://us-python.pkg.dev/colab-wheels/public/simple/\n",
            "Requirement already satisfied: boto3 in /usr/local/lib/python3.7/dist-packages (1.23.10)\n",
            "Requirement already satisfied: s3transfer<0.6.0,>=0.5.0 in /usr/local/lib/python3.7/dist-packages (from boto3) (0.5.2)\n",
            "Requirement already satisfied: jmespath<2.0.0,>=0.7.1 in /usr/local/lib/python3.7/dist-packages (from boto3) (1.0.0)\n",
            "Requirement already satisfied: botocore<1.27.0,>=1.26.10 in /usr/local/lib/python3.7/dist-packages (from boto3) (1.26.10)\n",
            "Requirement already satisfied: python-dateutil<3.0.0,>=2.1 in /usr/local/lib/python3.7/dist-packages (from botocore<1.27.0,>=1.26.10->boto3) (2.8.2)\n",
            "Requirement already satisfied: urllib3<1.27,>=1.25.4 in /usr/local/lib/python3.7/dist-packages (from botocore<1.27.0,>=1.26.10->boto3) (1.25.11)\n",
            "Requirement already satisfied: six>=1.5 in /usr/local/lib/python3.7/dist-packages (from python-dateutil<3.0.0,>=2.1->botocore<1.27.0,>=1.26.10->boto3) (1.15.0)\n",
            "Looking in indexes: https://pypi.org/simple, https://us-python.pkg.dev/colab-wheels/public/simple/\n",
            "Requirement already satisfied: sacremoses in /usr/local/lib/python3.7/dist-packages (0.0.53)\n",
            "Requirement already satisfied: click in /usr/local/lib/python3.7/dist-packages (from sacremoses) (7.1.2)\n",
            "Requirement already satisfied: regex in /usr/local/lib/python3.7/dist-packages (from sacremoses) (2019.12.20)\n",
            "Requirement already satisfied: six in /usr/local/lib/python3.7/dist-packages (from sacremoses) (1.15.0)\n",
            "Requirement already satisfied: tqdm in /usr/local/lib/python3.7/dist-packages (from sacremoses) (4.64.0)\n",
            "Requirement already satisfied: joblib in /usr/local/lib/python3.7/dist-packages (from sacremoses) (1.1.0)\n",
            "Looking in indexes: https://pypi.org/simple, https://us-python.pkg.dev/colab-wheels/public/simple/\n",
            "Requirement already satisfied: sentencepiece in /usr/local/lib/python3.7/dist-packages (0.1.96)\n",
            "Looking in indexes: https://pypi.org/simple, https://us-python.pkg.dev/colab-wheels/public/simple/\n",
            "Requirement already satisfied: transformers in /usr/local/lib/python3.7/dist-packages (4.19.2)\n",
            "Requirement already satisfied: filelock in /usr/local/lib/python3.7/dist-packages (from transformers) (3.7.0)\n",
            "Requirement already satisfied: pyyaml>=5.1 in /usr/local/lib/python3.7/dist-packages (from transformers) (6.0)\n",
            "Requirement already satisfied: tokenizers!=0.11.3,<0.13,>=0.11.1 in /usr/local/lib/python3.7/dist-packages (from transformers) (0.12.1)\n",
            "Requirement already satisfied: huggingface-hub<1.0,>=0.1.0 in /usr/local/lib/python3.7/dist-packages (from transformers) (0.7.0)\n",
            "Requirement already satisfied: packaging>=20.0 in /usr/local/lib/python3.7/dist-packages (from transformers) (21.3)\n",
            "Requirement already satisfied: importlib-metadata in /usr/local/lib/python3.7/dist-packages (from transformers) (4.11.3)\n",
            "Requirement already satisfied: requests in /usr/local/lib/python3.7/dist-packages (from transformers) (2.23.0)\n",
            "Requirement already satisfied: regex!=2019.12.17 in /usr/local/lib/python3.7/dist-packages (from transformers) (2019.12.20)\n",
            "Requirement already satisfied: numpy>=1.17 in /usr/local/lib/python3.7/dist-packages (from transformers) (1.21.6)\n",
            "Requirement already satisfied: tqdm>=4.27 in /usr/local/lib/python3.7/dist-packages (from transformers) (4.64.0)\n",
            "Requirement already satisfied: typing-extensions>=3.7.4.3 in /usr/local/lib/python3.7/dist-packages (from huggingface-hub<1.0,>=0.1.0->transformers) (4.2.0)\n",
            "Requirement already satisfied: pyparsing!=3.0.5,>=2.0.2 in /usr/local/lib/python3.7/dist-packages (from packaging>=20.0->transformers) (3.0.9)\n",
            "Requirement already satisfied: zipp>=0.5 in /usr/local/lib/python3.7/dist-packages (from importlib-metadata->transformers) (3.8.0)\n",
            "Requirement already satisfied: certifi>=2017.4.17 in /usr/local/lib/python3.7/dist-packages (from requests->transformers) (2022.5.18.1)\n",
            "Requirement already satisfied: chardet<4,>=3.0.2 in /usr/local/lib/python3.7/dist-packages (from requests->transformers) (3.0.4)\n",
            "Requirement already satisfied: urllib3!=1.25.0,!=1.25.1,<1.26,>=1.21.1 in /usr/local/lib/python3.7/dist-packages (from requests->transformers) (1.25.11)\n",
            "Requirement already satisfied: idna<3,>=2.5 in /usr/local/lib/python3.7/dist-packages (from requests->transformers) (2.10)\n"
          ]
        }
      ],
      "source": [
        "!pip install boto3\n",
        "!pip install sacremoses\n",
        "!pip install sentencepiece\n",
        "!pip install transformers\n",
        "\n"
      ]
    },
    {
      "cell_type": "code",
      "execution_count": null,
      "metadata": {
        "id": "bDk7owI61STh"
      },
      "outputs": [],
      "source": [
        "# Doinng this because of getting an error while loading the dataset\n",
        "\n",
        "# MY ERROR:Truncation was not explicitly activated but `max_length` is provided a specific value, please use `truncation=True` to explicitly truncate examples to max length. Defaulting to 'longest_first' truncation strategy.\n",
        " #If you encode pairs of sequences (GLUE-style) with the tokenizer you can select this strategy more precisely by providing a specific strategy to `truncation`\n",
        "#!pip install transformers==3.0.0"
      ]
    },
    {
      "cell_type": "code",
      "execution_count": null,
      "metadata": {
        "colab": {
          "base_uri": "https://localhost:8080/"
        },
        "id": "HpbjW-n1wwMk",
        "outputId": "89808771-023a-4f9b-e10d-fad1cf3044df"
      },
      "outputs": [
        {
          "output_type": "stream",
          "name": "stdout",
          "text": [
            "Drive already mounted at /content/drive; to attempt to forcibly remount, call drive.mount(\"/content/drive\", force_remount=True).\n"
          ]
        }
      ],
      "source": [
        "from google.colab import drive\n",
        "drive.mount('/content/drive')"
      ]
    },
    {
      "cell_type": "code",
      "execution_count": null,
      "metadata": {
        "id": "oySu7rqwxAv-"
      },
      "outputs": [],
      "source": [
        "path='/content/drive/MyDrive/TURL'\n",
        "import os\n",
        "os.chdir(path)"
      ]
    },
    {
      "cell_type": "code",
      "execution_count": null,
      "metadata": {
        "colab": {
          "base_uri": "https://localhost:8080/"
        },
        "id": "m4eb1S5rxMJC",
        "outputId": "d0b25a3a-345c-4ca8-e3c5-74e39da99264"
      },
      "outputs": [
        {
          "output_type": "stream",
          "name": "stdout",
          "text": [
            "cp: -r not specified; omitting directory '/content/drive/MyDrive/TURL'\n"
          ]
        }
      ],
      "source": [
        "\n",
        "!cp /content/drive/MyDrive/TURL /content"
      ]
    },
    {
      "cell_type": "markdown",
      "metadata": {
        "id": "6V2uYKHwN5dw"
      },
      "source": [
        "**Always place it in the content whilr working in COLAB. Also change made hybrid loader script regarding the directory name . Also change replace model.transformers with model.***"
      ]
    },
    {
      "cell_type": "markdown",
      "metadata": {
        "id": "5k4bt5swOYM4"
      },
      "source": [
        "**Change the directory from which file is being taken.**"
      ]
    },
    {
      "cell_type": "markdown",
      "metadata": {
        "id": "oe0V_QMUOgE6"
      },
      "source": [
        "**Dependances:  Sentencepirece,sacremoses, transformers(been adjusted to accomodate the current version)*"
      ]
    },
    {
      "cell_type": "markdown",
      "metadata": {
        "id": "8WYZ5Er5PNI0"
      },
      "source": [
        "**Also predefined BERT TOKENIZER doesnt work and even exist. Replace that with TOKENIZER from HuggingFace.**"
      ]
    },
    {
      "cell_type": "code",
      "execution_count": null,
      "metadata": {
        "id": "VK6z_Ph1w803"
      },
      "outputs": [],
      "source": [
        "from data_loader.hybrid_data_loaders import *\n",
        "from data_loader.header_data_loaders import *\n",
        "from data_loader.CT_Wiki_data_loaders import *\n",
        "from data_loader.RE_data_loaders import *\n",
        "from data_loader.EL_data_loaders import *"
      ]
    },
    {
      "cell_type": "code",
      "execution_count": null,
      "metadata": {
        "id": "cijZAOo4wmjD"
      },
      "outputs": [],
      "source": [
        "\n",
        "\n",
        "from model.configuration import TableConfig\n",
        "from model.model import HybridTableMaskedLM, HybridTableCER, TableHeaderRanking, HybridTableCT,HybridTableEL,HybridTableRE,BertRE\n",
        "from model.transformers import BertConfig,BertTokenizer, WEIGHTS_NAME, AdamW, get_linear_schedule_with_warmup\n",
        "from utils.util import *\n",
        "from baselines.row_population.metric import average_precision,ndcg_at_k\n",
        "from baselines.cell_filling.cell_filling import *\n",
        "from model import metric"
      ]
    },
    {
      "cell_type": "code",
      "execution_count": null,
      "metadata": {
        "id": "KWtPCaXoTd5g"
      },
      "outputs": [],
      "source": [
        "logger = logging.getLogger(__name__)\n",
        "\n",
        "MODEL_CLASSES = {\n",
        "    'CER': (TableConfig, HybridTableCER, BertTokenizer),\n",
        "    'CF' : (TableConfig, HybridTableMaskedLM, BertTokenizer),\n",
        "    'HR': (TableConfig, TableHeaderRanking, BertTokenizer),\n",
        "    'CT': (TableConfig, HybridTableCT, BertTokenizer),\n",
        "    'EL': (TableConfig, HybridTableEL, BertTokenizer),\n",
        "    'RE': (TableConfig, HybridTableRE, BertTokenizer),\n",
        "    'REBERT': (BertConfig, BertRE, BertTokenizer)\n",
        "}"
      ]
    },
    {
      "cell_type": "code",
      "execution_count": null,
      "metadata": {
        "id": "2qfKzP0qTd5h"
      },
      "outputs": [],
      "source": [
        "# set data directory, this will be used to load test data\n",
        "data_dir = '/content/drive/MyDrive/TURL/data'"
      ]
    },
    {
      "cell_type": "code",
      "execution_count": null,
      "metadata": {
        "colab": {
          "base_uri": "https://localhost:8080/"
        },
        "id": "fCj8nsClTd5j",
        "outputId": "aa1c843f-41e9-4fc2-aeb1-cb5ad739f6e4"
      },
      "outputs": [
        {
          "output_type": "stream",
          "name": "stdout",
          "text": [
            "total number of entity: 926135\n",
            "remove because of empty title: 14206\n",
            "remove because count<2: 847401\n"
          ]
        }
      ],
      "source": [
        "config_name = \"configs/table-base-config_v2.json\"\n",
        "device = torch.device('cuda')\n",
        "# load entity vocab from entity_vocab.txt\n",
        "entity_vocab = load_entity_vocab(data_dir, ignore_bad_title=True, min_ent_count=2)\n",
        "entity_wikid2id = {entity_vocab[x]['wiki_id']:x for x in entity_vocab}"
      ]
    },
    {
      "cell_type": "markdown",
      "source": [
        "*1. entity_vocab.txt: Contains the basic statistics for each of the wikipedia tables generated by a script. Consists of count of words,wiki_id and a wiki_title.*"
      ],
      "metadata": {
        "id": "Kiy-GSoxzqbw"
      }
    },
    {
      "cell_type": "markdown",
      "source": [
        "*eg, 986: {'count': 437,\n",
        "  'mid': 'm.07bxhl',\n",
        "  'wiki_id': 2421391,\n",
        "  'wiki_title': 'Bhutan'}*"
      ],
      "metadata": {
        "id": "jIT8AnqV5-ew"
      }
    },
    {
      "cell_type": "markdown",
      "source": [
        "*2.entity_wiki2id: uses the function load_entity_vocab to extract the info from entity_vocab.txt-----wiki_id and number_of_words.*"
      ],
      "metadata": {
        "id": "7zByroZZ86iq"
      }
    },
    {
      "cell_type": "code",
      "execution_count": null,
      "metadata": {
        "id": "2f57wKmvTd5k"
      },
      "outputs": [],
      "source": [
        "os.environ[\"CUDA_DEVICE_ORDER\"] = \"PCI_BUS_ID\"\n",
        "os.environ[\"CUDA_VISIBLE_DEVICES\"] = \"0\""
      ]
    },
    {
      "cell_type": "markdown",
      "metadata": {
        "id": "6fJfi0oETd5l"
      },
      "source": [
        "# Table of Contents\n",
        "This notebook shows examples of how to using the model components and running evaluation of different tasks.\n",
        "* [Pretrained and Cell Filling](#cf)\n",
        "* [Entity Linking](#el)\n",
        "* [Column Type Classification](#ct)\n",
        "* [Relation Extraction](#re)"
      ]
    },
    {
      "cell_type": "markdown",
      "metadata": {
        "id": "pRv246VxTd5m"
      },
      "source": [
        "<a class=\"anchor\" id=\"cf\"></a>\n",
        "# Pretrained and CF\n",
        "Here we show how to use the pretrained model to get contextualized representation for a given input table. \n",
        "\n",
        "We use the cell filling task for demonstration as it does not need task-specific finetuning."
      ]
    },
    {
      "cell_type": "markdown",
      "source": [
        "**CELL FILLING TASK is not relevant to the context of our project but we do it here as the original authors of the project do it before starting with Entity Linking. Kind of a pre-processing step.**"
      ],
      "metadata": {
        "id": "Xrhsjhv4CpVc"
      }
    },
    {
      "cell_type": "markdown",
      "source": [
        "*CF- stands for Cell Filling.*"
      ],
      "metadata": {
        "id": "7rxiKejeIi2E"
      }
    },
    {
      "cell_type": "markdown",
      "source": [
        "*Only 1 step instead of 2 steps : use the pre-train to get the contextualised representation of a input table.*"
      ],
      "metadata": {
        "id": "p7vac7hpIsKq"
      }
    },
    {
      "cell_type": "markdown",
      "source": [
        "**Masked Language Modelling in the context of CF.**"
      ],
      "metadata": {
        "id": "Z3m_8_Z5D7ra"
      }
    },
    {
      "cell_type": "code",
      "execution_count": null,
      "metadata": {
        "id": "LvjsobuTTd5n"
      },
      "outputs": [],
      "source": [
        "config_class, model_class, _ = MODEL_CLASSES['CF']\n",
        "config = config_class.from_pretrained(config_name)\n",
        "config.output_attentions = True\n",
        "\n",
        "# For CF, we use the base HybridTableMaskedLM, and directly load the pretrained checkpoint. The checkpoint is given by the authors and downloaded by me seperately\n",
        "checkpoint = \"/content/drive/MyDrive/TURL/checkpoint/output/hybrid/v2/model_v1_table_0.2_0.6_0.7_10000_1e-4_candnew_0_adam/\"\n",
        "model = model_class(config, is_simple=True)\n",
        "#checkpoint = torch.load(os.path.join(checkpoint, 'pytorch_model.bin'))\n",
        "#model.load_state_dict(checkpoint)\n",
        "\n",
        "#--------------------REMOVE THIS------------------------------\n",
        "#model.to(device)\n",
        "#-------------------------------------------------------\n",
        "model.eval()\n",
        "# load the module for cell filling baselines\n",
        "CF = cell_filling(data_dir)"
      ]
    },
    {
      "cell_type": "markdown",
      "source": [
        "**TO DO: You must restart the runtime after installing the packages/dependacies(running the cell below) while doing the first time**"
      ],
      "metadata": {
        "id": "ZRsbWS_Qf3Jc"
      }
    },
    {
      "cell_type": "code",
      "execution_count": null,
      "metadata": {
        "colab": {
          "base_uri": "https://localhost:8080/"
        },
        "id": "X9V9zHfU6xoG",
        "outputId": "fab4ca9f-6332-4f36-cf25-86bf498eb8a2"
      },
      "outputs": [
        {
          "output_type": "stream",
          "name": "stdout",
          "text": [
            "Looking in indexes: https://pypi.org/simple, https://us-python.pkg.dev/colab-wheels/public/simple/\n",
            "Requirement already satisfied: tf_transformers in /usr/local/lib/python3.7/dist-packages (2.0.0)\n",
            "Requirement already satisfied: sentencepiece<0.2.0,>=0.1.96 in /usr/local/lib/python3.7/dist-packages (from tf_transformers) (0.1.96)\n",
            "Requirement already satisfied: tqdm<5.0.0,>=4.62.3 in /usr/local/lib/python3.7/dist-packages (from tf_transformers) (4.64.0)\n",
            "Requirement already satisfied: transformers<5.0.0,>=4.15.0 in /usr/local/lib/python3.7/dist-packages (from tf_transformers) (4.19.2)\n",
            "Requirement already satisfied: absl-py<2.0.0,>=1.0.0 in /usr/local/lib/python3.7/dist-packages (from tf_transformers) (1.0.0)\n",
            "Requirement already satisfied: six in /usr/local/lib/python3.7/dist-packages (from absl-py<2.0.0,>=1.0.0->tf_transformers) (1.15.0)\n",
            "Requirement already satisfied: importlib-metadata in /usr/local/lib/python3.7/dist-packages (from transformers<5.0.0,>=4.15.0->tf_transformers) (4.11.3)\n",
            "Requirement already satisfied: regex!=2019.12.17 in /usr/local/lib/python3.7/dist-packages (from transformers<5.0.0,>=4.15.0->tf_transformers) (2019.12.20)\n",
            "Requirement already satisfied: requests in /usr/local/lib/python3.7/dist-packages (from transformers<5.0.0,>=4.15.0->tf_transformers) (2.23.0)\n",
            "Requirement already satisfied: huggingface-hub<1.0,>=0.1.0 in /usr/local/lib/python3.7/dist-packages (from transformers<5.0.0,>=4.15.0->tf_transformers) (0.7.0)\n",
            "Requirement already satisfied: tokenizers!=0.11.3,<0.13,>=0.11.1 in /usr/local/lib/python3.7/dist-packages (from transformers<5.0.0,>=4.15.0->tf_transformers) (0.12.1)\n",
            "Requirement already satisfied: filelock in /usr/local/lib/python3.7/dist-packages (from transformers<5.0.0,>=4.15.0->tf_transformers) (3.7.0)\n",
            "Requirement already satisfied: numpy>=1.17 in /usr/local/lib/python3.7/dist-packages (from transformers<5.0.0,>=4.15.0->tf_transformers) (1.21.6)\n",
            "Requirement already satisfied: packaging>=20.0 in /usr/local/lib/python3.7/dist-packages (from transformers<5.0.0,>=4.15.0->tf_transformers) (21.3)\n",
            "Requirement already satisfied: pyyaml>=5.1 in /usr/local/lib/python3.7/dist-packages (from transformers<5.0.0,>=4.15.0->tf_transformers) (6.0)\n",
            "Requirement already satisfied: typing-extensions>=3.7.4.3 in /usr/local/lib/python3.7/dist-packages (from huggingface-hub<1.0,>=0.1.0->transformers<5.0.0,>=4.15.0->tf_transformers) (4.2.0)\n",
            "Requirement already satisfied: pyparsing!=3.0.5,>=2.0.2 in /usr/local/lib/python3.7/dist-packages (from packaging>=20.0->transformers<5.0.0,>=4.15.0->tf_transformers) (3.0.9)\n",
            "Requirement already satisfied: zipp>=0.5 in /usr/local/lib/python3.7/dist-packages (from importlib-metadata->transformers<5.0.0,>=4.15.0->tf_transformers) (3.8.0)\n",
            "Requirement already satisfied: idna<3,>=2.5 in /usr/local/lib/python3.7/dist-packages (from requests->transformers<5.0.0,>=4.15.0->tf_transformers) (2.10)\n",
            "Requirement already satisfied: chardet<4,>=3.0.2 in /usr/local/lib/python3.7/dist-packages (from requests->transformers<5.0.0,>=4.15.0->tf_transformers) (3.0.4)\n",
            "Requirement already satisfied: urllib3!=1.25.0,!=1.25.1,<1.26,>=1.21.1 in /usr/local/lib/python3.7/dist-packages (from requests->transformers<5.0.0,>=4.15.0->tf_transformers) (1.25.11)\n",
            "Requirement already satisfied: certifi>=2017.4.17 in /usr/local/lib/python3.7/dist-packages (from requests->transformers<5.0.0,>=4.15.0->tf_transformers) (2022.5.18.1)\n",
            "Looking in indexes: https://pypi.org/simple, https://us-python.pkg.dev/colab-wheels/public/simple/\n",
            "Requirement already satisfied: tensorflow_text in /usr/local/lib/python3.7/dist-packages (2.9.0)\n",
            "Requirement already satisfied: tensorflow<2.10,>=2.9.0 in /usr/local/lib/python3.7/dist-packages (from tensorflow_text) (2.9.1)\n",
            "Requirement already satisfied: tensorflow-hub>=0.8.0 in /usr/local/lib/python3.7/dist-packages (from tensorflow_text) (0.12.0)\n",
            "Requirement already satisfied: absl-py>=1.0.0 in /usr/local/lib/python3.7/dist-packages (from tensorflow<2.10,>=2.9.0->tensorflow_text) (1.0.0)\n",
            "Requirement already satisfied: typing-extensions>=3.6.6 in /usr/local/lib/python3.7/dist-packages (from tensorflow<2.10,>=2.9.0->tensorflow_text) (4.2.0)\n",
            "Requirement already satisfied: wrapt>=1.11.0 in /usr/local/lib/python3.7/dist-packages (from tensorflow<2.10,>=2.9.0->tensorflow_text) (1.14.1)\n",
            "Requirement already satisfied: termcolor>=1.1.0 in /usr/local/lib/python3.7/dist-packages (from tensorflow<2.10,>=2.9.0->tensorflow_text) (1.1.0)\n",
            "Requirement already satisfied: packaging in /usr/local/lib/python3.7/dist-packages (from tensorflow<2.10,>=2.9.0->tensorflow_text) (21.3)\n",
            "Requirement already satisfied: gast<=0.4.0,>=0.2.1 in /usr/local/lib/python3.7/dist-packages (from tensorflow<2.10,>=2.9.0->tensorflow_text) (0.4.0)\n",
            "Requirement already satisfied: libclang>=13.0.0 in /usr/local/lib/python3.7/dist-packages (from tensorflow<2.10,>=2.9.0->tensorflow_text) (14.0.1)\n",
            "Requirement already satisfied: numpy>=1.20 in /usr/local/lib/python3.7/dist-packages (from tensorflow<2.10,>=2.9.0->tensorflow_text) (1.21.6)\n",
            "Requirement already satisfied: google-pasta>=0.1.1 in /usr/local/lib/python3.7/dist-packages (from tensorflow<2.10,>=2.9.0->tensorflow_text) (0.2.0)\n",
            "Requirement already satisfied: setuptools in /usr/local/lib/python3.7/dist-packages (from tensorflow<2.10,>=2.9.0->tensorflow_text) (57.4.0)\n",
            "Requirement already satisfied: tensorflow-estimator<2.10.0,>=2.9.0rc0 in /usr/local/lib/python3.7/dist-packages (from tensorflow<2.10,>=2.9.0->tensorflow_text) (2.9.0)\n",
            "Requirement already satisfied: opt-einsum>=2.3.2 in /usr/local/lib/python3.7/dist-packages (from tensorflow<2.10,>=2.9.0->tensorflow_text) (3.3.0)\n",
            "Requirement already satisfied: tensorflow-io-gcs-filesystem>=0.23.1 in /usr/local/lib/python3.7/dist-packages (from tensorflow<2.10,>=2.9.0->tensorflow_text) (0.26.0)\n",
            "Requirement already satisfied: protobuf<3.20,>=3.9.2 in /usr/local/lib/python3.7/dist-packages (from tensorflow<2.10,>=2.9.0->tensorflow_text) (3.17.3)\n",
            "Requirement already satisfied: keras-preprocessing>=1.1.1 in /usr/local/lib/python3.7/dist-packages (from tensorflow<2.10,>=2.9.0->tensorflow_text) (1.1.2)\n",
            "Requirement already satisfied: grpcio<2.0,>=1.24.3 in /usr/local/lib/python3.7/dist-packages (from tensorflow<2.10,>=2.9.0->tensorflow_text) (1.46.1)\n",
            "Requirement already satisfied: astunparse>=1.6.0 in /usr/local/lib/python3.7/dist-packages (from tensorflow<2.10,>=2.9.0->tensorflow_text) (1.6.3)\n",
            "Requirement already satisfied: h5py>=2.9.0 in /usr/local/lib/python3.7/dist-packages (from tensorflow<2.10,>=2.9.0->tensorflow_text) (3.1.0)\n",
            "Requirement already satisfied: keras<2.10.0,>=2.9.0rc0 in /usr/local/lib/python3.7/dist-packages (from tensorflow<2.10,>=2.9.0->tensorflow_text) (2.9.0)\n",
            "Requirement already satisfied: flatbuffers<2,>=1.12 in /usr/local/lib/python3.7/dist-packages (from tensorflow<2.10,>=2.9.0->tensorflow_text) (1.12)\n",
            "Requirement already satisfied: six>=1.12.0 in /usr/local/lib/python3.7/dist-packages (from tensorflow<2.10,>=2.9.0->tensorflow_text) (1.15.0)\n",
            "Requirement already satisfied: tensorboard<2.10,>=2.9 in /usr/local/lib/python3.7/dist-packages (from tensorflow<2.10,>=2.9.0->tensorflow_text) (2.9.0)\n",
            "Requirement already satisfied: wheel<1.0,>=0.23.0 in /usr/local/lib/python3.7/dist-packages (from astunparse>=1.6.0->tensorflow<2.10,>=2.9.0->tensorflow_text) (0.37.1)\n",
            "Requirement already satisfied: cached-property in /usr/local/lib/python3.7/dist-packages (from h5py>=2.9.0->tensorflow<2.10,>=2.9.0->tensorflow_text) (1.5.2)\n",
            "Requirement already satisfied: google-auth<3,>=1.6.3 in /usr/local/lib/python3.7/dist-packages (from tensorboard<2.10,>=2.9->tensorflow<2.10,>=2.9.0->tensorflow_text) (1.35.0)\n",
            "Requirement already satisfied: markdown>=2.6.8 in /usr/local/lib/python3.7/dist-packages (from tensorboard<2.10,>=2.9->tensorflow<2.10,>=2.9.0->tensorflow_text) (3.3.7)\n",
            "Requirement already satisfied: tensorboard-data-server<0.7.0,>=0.6.0 in /usr/local/lib/python3.7/dist-packages (from tensorboard<2.10,>=2.9->tensorflow<2.10,>=2.9.0->tensorflow_text) (0.6.1)\n",
            "Requirement already satisfied: werkzeug>=1.0.1 in /usr/local/lib/python3.7/dist-packages (from tensorboard<2.10,>=2.9->tensorflow<2.10,>=2.9.0->tensorflow_text) (1.0.1)\n",
            "Requirement already satisfied: requests<3,>=2.21.0 in /usr/local/lib/python3.7/dist-packages (from tensorboard<2.10,>=2.9->tensorflow<2.10,>=2.9.0->tensorflow_text) (2.23.0)\n",
            "Requirement already satisfied: tensorboard-plugin-wit>=1.6.0 in /usr/local/lib/python3.7/dist-packages (from tensorboard<2.10,>=2.9->tensorflow<2.10,>=2.9.0->tensorflow_text) (1.8.1)\n",
            "Requirement already satisfied: google-auth-oauthlib<0.5,>=0.4.1 in /usr/local/lib/python3.7/dist-packages (from tensorboard<2.10,>=2.9->tensorflow<2.10,>=2.9.0->tensorflow_text) (0.4.6)\n",
            "Requirement already satisfied: pyasn1-modules>=0.2.1 in /usr/local/lib/python3.7/dist-packages (from google-auth<3,>=1.6.3->tensorboard<2.10,>=2.9->tensorflow<2.10,>=2.9.0->tensorflow_text) (0.2.8)\n",
            "Requirement already satisfied: cachetools<5.0,>=2.0.0 in /usr/local/lib/python3.7/dist-packages (from google-auth<3,>=1.6.3->tensorboard<2.10,>=2.9->tensorflow<2.10,>=2.9.0->tensorflow_text) (4.2.4)\n",
            "Requirement already satisfied: rsa<5,>=3.1.4 in /usr/local/lib/python3.7/dist-packages (from google-auth<3,>=1.6.3->tensorboard<2.10,>=2.9->tensorflow<2.10,>=2.9.0->tensorflow_text) (4.8)\n",
            "Requirement already satisfied: requests-oauthlib>=0.7.0 in /usr/local/lib/python3.7/dist-packages (from google-auth-oauthlib<0.5,>=0.4.1->tensorboard<2.10,>=2.9->tensorflow<2.10,>=2.9.0->tensorflow_text) (1.3.1)\n",
            "Requirement already satisfied: importlib-metadata>=4.4 in /usr/local/lib/python3.7/dist-packages (from markdown>=2.6.8->tensorboard<2.10,>=2.9->tensorflow<2.10,>=2.9.0->tensorflow_text) (4.11.3)\n",
            "Requirement already satisfied: zipp>=0.5 in /usr/local/lib/python3.7/dist-packages (from importlib-metadata>=4.4->markdown>=2.6.8->tensorboard<2.10,>=2.9->tensorflow<2.10,>=2.9.0->tensorflow_text) (3.8.0)\n",
            "Requirement already satisfied: pyasn1<0.5.0,>=0.4.6 in /usr/local/lib/python3.7/dist-packages (from pyasn1-modules>=0.2.1->google-auth<3,>=1.6.3->tensorboard<2.10,>=2.9->tensorflow<2.10,>=2.9.0->tensorflow_text) (0.4.8)\n",
            "Requirement already satisfied: urllib3!=1.25.0,!=1.25.1,<1.26,>=1.21.1 in /usr/local/lib/python3.7/dist-packages (from requests<3,>=2.21.0->tensorboard<2.10,>=2.9->tensorflow<2.10,>=2.9.0->tensorflow_text) (1.25.11)\n",
            "Requirement already satisfied: chardet<4,>=3.0.2 in /usr/local/lib/python3.7/dist-packages (from requests<3,>=2.21.0->tensorboard<2.10,>=2.9->tensorflow<2.10,>=2.9.0->tensorflow_text) (3.0.4)\n",
            "Requirement already satisfied: certifi>=2017.4.17 in /usr/local/lib/python3.7/dist-packages (from requests<3,>=2.21.0->tensorboard<2.10,>=2.9->tensorflow<2.10,>=2.9.0->tensorflow_text) (2022.5.18.1)\n",
            "Requirement already satisfied: idna<3,>=2.5 in /usr/local/lib/python3.7/dist-packages (from requests<3,>=2.21.0->tensorboard<2.10,>=2.9->tensorflow<2.10,>=2.9.0->tensorflow_text) (2.10)\n",
            "Requirement already satisfied: oauthlib>=3.0.0 in /usr/local/lib/python3.7/dist-packages (from requests-oauthlib>=0.7.0->google-auth-oauthlib<0.5,>=0.4.1->tensorboard<2.10,>=2.9->tensorflow<2.10,>=2.9.0->tensorflow_text) (3.2.0)\n",
            "Requirement already satisfied: pyparsing!=3.0.5,>=2.0.2 in /usr/local/lib/python3.7/dist-packages (from packaging->tensorflow<2.10,>=2.9.0->tensorflow_text) (3.0.9)\n"
          ]
        }
      ],
      "source": [
        "\n",
        "!pip install tf_transformers\n",
        "!pip install tensorflow_text"
      ]
    },
    {
      "cell_type": "code",
      "execution_count": null,
      "metadata": {
        "id": "G10I0rYc6rnv"
      },
      "outputs": [],
      "source": [
        "from tf_transformers.models import BertModel\n",
        "from transformers import BertTokenizer\n"
      ]
    },
    {
      "cell_type": "code",
      "execution_count": null,
      "metadata": {
        "colab": {
          "base_uri": "https://localhost:8080/",
          "height": 208
        },
        "id": "gvT5DyRa_QQL",
        "outputId": "041b7d39-b433-4270-818c-5d38b045c6e5"
      },
      "outputs": [
        {
          "output_type": "stream",
          "name": "stdout",
          "text": [
            "example for cell filling\n"
          ]
        },
        {
          "output_type": "display_data",
          "data": {
            "text/plain": [
              "['27295818-29',\n",
              " 27295818,\n",
              " '2010–11 rangers f.c. season',\n",
              " 'overall',\n",
              " '',\n",
              " ['competition', 'final position / round'],\n",
              " [[[18255941, 'UEFA Champions League'], 18255941],\n",
              "  [[20795986, 'UEFA Europa League'], 20795986],\n",
              "  [[28233480, 'League Cup'], 28233480],\n",
              "  [[28233536, 'Scottish Cup'], 28233536]]]"
            ]
          },
          "metadata": {}
        }
      ],
      "source": [
        "with open(os.path.join(data_dir,\"CF_test_data.json\"), 'r') as f:\n",
        "    dev_data = json.load(f)\n",
        "print('example for cell filling')\n",
        "display(dev_data[1])"
      ]
    },
    {
      "cell_type": "code",
      "execution_count": null,
      "metadata": {
        "colab": {
          "base_uri": "https://localhost:8080/"
        },
        "id": "JYEJL6cwdXV4",
        "outputId": "bf315bf7-fd56-4318-8b1d-b60f066ceedb"
      },
      "outputs": [
        {
          "output_type": "stream",
          "name": "stdout",
          "text": [
            "total number of entity: 926135\n",
            "remove because of empty title: 14206\n",
            "remove because count<2: 847401\n"
          ]
        }
      ],
      "source": [
        "entity_vocab = load_entity_vocab(data_dir, ignore_bad_title=True, min_ent_count=2)"
      ]
    },
    {
      "cell_type": "code",
      "execution_count": null,
      "metadata": {
        "colab": {
          "base_uri": "https://localhost:8080/",
          "height": 1000
        },
        "id": "yOoaJneJTd5o",
        "outputId": "9d9c9925-3a93-49b6-f4a3-cd9c771627dd"
      },
      "outputs": [
        {
          "output_type": "stream",
          "name": "stdout",
          "text": [
            "example of pretraining data\n"
          ]
        },
        {
          "output_type": "display_data",
          "data": {
            "text/plain": [
              "{'_id': '27289759-6',\n",
              " 'column_type': [0, 0, 0, 4, 2],\n",
              " 'entityCell': [[1, 1, 1, 0, 0],\n",
              "  [1, 1, 1, 0, 0],\n",
              "  [1, 1, 1, 0, 0],\n",
              "  [1, 1, 1, 0, 0],\n",
              "  [1, 1, 1, 0, 0],\n",
              "  [1, 1, 1, 0, 0],\n",
              "  [1, 1, 1, 0, 0],\n",
              "  [1, 1, 1, 0, 0],\n",
              "  [1, 0, 1, 0, 0],\n",
              "  [1, 1, 1, 0, 0],\n",
              "  [1, 1, 1, 0, 0],\n",
              "  [1, 1, 1, 0, 0],\n",
              "  [1, 0, 1, 0, 0],\n",
              "  [1, 1, 1, 0, 0],\n",
              "  [1, 1, 1, 0, 0],\n",
              "  [1, 1, 1, 0, 0],\n",
              "  [1, 1, 0, 0, 0],\n",
              "  [1, 1, 1, 0, 0],\n",
              "  [1, 1, 1, 0, 0],\n",
              "  [1, 1, 1, 0, 0],\n",
              "  [1, 1, 1, 0, 0],\n",
              "  [1, 1, 1, 0, 0],\n",
              "  [1, 1, 1, 0, 0],\n",
              "  [1, 1, 1, 0, 0],\n",
              "  [1, 1, 1, 0, 0]],\n",
              " 'entityColumn': [0, 1, 2],\n",
              " 'entity_count': 72,\n",
              " 'merged_row': [],\n",
              " 'pgId': 27289759,\n",
              " 'pgTitle': '2010 Santos FC season',\n",
              " 'processed_tableHeaders': ['pos.', 'name', 'moving to', 'type', 'source'],\n",
              " 'sectionTitle': 'Out',\n",
              " 'subject_column': 1,\n",
              " 'tableCaption': '',\n",
              " 'tableData': [[{'surfaceLinks': [{'linkType': 'INTERNAL',\n",
              "      'locType': 'MAIN_TABLE',\n",
              "      'surface': 'DF',\n",
              "      'target': {'id': 649702,\n",
              "       'language': 'en',\n",
              "       'title': 'Defender_(association_football)'}}],\n",
              "    'text': 'DF'},\n",
              "   {'surfaceLinks': [{'linkType': 'INTERNAL',\n",
              "      'locType': 'MAIN_TABLE',\n",
              "      'surface': 'Wagner Diniz',\n",
              "      'target': {'id': 15043356, 'language': 'en', 'title': 'Wagner_Diniz'}}],\n",
              "    'text': 'Wagner Diniz'},\n",
              "   {'surfaceLinks': [{'linkType': 'INTERNAL',\n",
              "      'locType': 'MAIN_TABLE',\n",
              "      'surface': 'São Paulo',\n",
              "      'target': {'id': 187274, 'language': 'en', 'title': 'São_Paulo_FC'}}],\n",
              "    'text': 'São Paulo'},\n",
              "   {'surfaceLinks': [], 'text': 'Loan expiration'},\n",
              "   {'surfaceLinks': [], 'text': ''}],\n",
              "  [{'surfaceLinks': [{'linkType': 'INTERNAL',\n",
              "      'locType': 'MAIN_TABLE',\n",
              "      'surface': 'DF',\n",
              "      'target': {'id': 649702,\n",
              "       'language': 'en',\n",
              "       'title': 'Defender_(association_football)'}}],\n",
              "    'text': 'DF'},\n",
              "   {'surfaceLinks': [{'linkType': 'INTERNAL',\n",
              "      'locType': 'MAIN_TABLE',\n",
              "      'surface': 'André Astorga',\n",
              "      'target': {'id': 14373147, 'language': 'en', 'title': 'André_Astorga'}}],\n",
              "    'text': 'André Astorga'},\n",
              "   {'surfaceLinks': [{'linkType': 'INTERNAL',\n",
              "      'locType': 'MAIN_TABLE',\n",
              "      'surface': 'Bragantino',\n",
              "      'target': {'id': 1861824,\n",
              "       'language': 'en',\n",
              "       'title': 'Clube_Atlético_Bragantino'}}],\n",
              "    'text': 'Bragantino'},\n",
              "   {'surfaceLinks': [], 'text': 'End of contract'},\n",
              "   {'surfaceLinks': [], 'text': ''}],\n",
              "  [{'surfaceLinks': [{'linkType': 'INTERNAL',\n",
              "      'locType': 'MAIN_TABLE',\n",
              "      'surface': 'DF',\n",
              "      'target': {'id': 649702,\n",
              "       'language': 'en',\n",
              "       'title': 'Defender_(association_football)'}}],\n",
              "    'text': 'DF'},\n",
              "   {'surfaceLinks': [{'linkType': 'INTERNAL',\n",
              "      'locType': 'MAIN_TABLE',\n",
              "      'surface': 'Luizinho',\n",
              "      'target': {'id': 10060066,\n",
              "       'language': 'en',\n",
              "       'title': 'Luiz_Antonio_de_Oliveira'}}],\n",
              "    'text': 'Luizinho'},\n",
              "   {'surfaceLinks': [{'linkType': 'INTERNAL',\n",
              "      'locType': 'MAIN_TABLE',\n",
              "      'surface': 'Cruzeiro',\n",
              "      'target': {'id': 187301, 'language': 'en', 'title': 'Cruzeiro_EC'}}],\n",
              "    'text': 'Cruzeiro'},\n",
              "   {'surfaceLinks': [], 'text': 'Loan expiration'},\n",
              "   {'surfaceLinks': [], 'text': ''}],\n",
              "  [{'surfaceLinks': [{'linkType': 'INTERNAL',\n",
              "      'locType': 'MAIN_TABLE',\n",
              "      'surface': 'GK',\n",
              "      'target': {'id': 86314, 'language': 'en', 'title': 'Goalkeeper'}}],\n",
              "    'text': 'GK'},\n",
              "   {'surfaceLinks': [{'linkType': 'INTERNAL',\n",
              "      'locType': 'MAIN_TABLE',\n",
              "      'surface': 'Sérgio',\n",
              "      'target': {'id': 13540684,\n",
              "       'language': 'en',\n",
              "       'title': 'Sérgio_Luís_de_Araújo'}}],\n",
              "    'text': 'Sérgio'},\n",
              "   {'surfaceLinks': [{'linkType': 'INTERNAL',\n",
              "      'locType': 'MAIN_TABLE',\n",
              "      'surface': 'Free Agent',\n",
              "      'target': {'id': 322192, 'language': 'en', 'title': 'Free_Agent'}}],\n",
              "    'text': 'Free Agent'},\n",
              "   {'surfaceLinks': [], 'text': 'End of contract'},\n",
              "   {'surfaceLinks': [], 'text': ''}],\n",
              "  [{'surfaceLinks': [{'linkType': 'INTERNAL',\n",
              "      'locType': 'MAIN_TABLE',\n",
              "      'surface': 'MF',\n",
              "      'target': {'id': 548981, 'language': 'en', 'title': 'Midfielder'}}],\n",
              "    'text': 'MF'},\n",
              "   {'surfaceLinks': [{'linkType': 'INTERNAL',\n",
              "      'locType': 'MAIN_TABLE',\n",
              "      'surface': 'Felipe Azevedo',\n",
              "      'target': {'id': 27992158,\n",
              "       'language': 'en',\n",
              "       'title': 'Felipe_Azevedo_dos_Santos'}}],\n",
              "    'text': 'Felipe Azevedo'},\n",
              "   {'surfaceLinks': [{'linkType': 'INTERNAL',\n",
              "      'locType': 'MAIN_TABLE',\n",
              "      'surface': 'Paulista',\n",
              "      'target': {'id': 1787979, 'language': 'en', 'title': 'Paulista_FC'}}],\n",
              "    'text': 'Paulista'},\n",
              "   {'surfaceLinks': [], 'text': 'Loan expiration'},\n",
              "   {'surfaceLinks': [], 'text': ''}],\n",
              "  [{'surfaceLinks': [{'linkType': 'INTERNAL',\n",
              "      'locType': 'MAIN_TABLE',\n",
              "      'surface': 'DF',\n",
              "      'target': {'id': 649702,\n",
              "       'language': 'en',\n",
              "       'title': 'Defender_(association_football)'}}],\n",
              "    'text': 'DF'},\n",
              "   {'surfaceLinks': [{'linkType': 'INTERNAL',\n",
              "      'locType': 'MAIN_TABLE',\n",
              "      'surface': 'Eli Sabiá',\n",
              "      'target': {'id': 19876001, 'language': 'en', 'title': 'Eli_Sabiá'}}],\n",
              "    'text': 'Eli Sabiá'},\n",
              "   {'surfaceLinks': [{'linkType': 'INTERNAL',\n",
              "      'locType': 'MAIN_TABLE',\n",
              "      'surface': 'Paulista',\n",
              "      'target': {'id': 1787979, 'language': 'en', 'title': 'Paulista_FC'}}],\n",
              "    'text': 'Paulista'},\n",
              "   {'surfaceLinks': [], 'text': 'Loan expiration'},\n",
              "   {'surfaceLinks': [], 'text': ''}],\n",
              "  [{'surfaceLinks': [{'linkType': 'INTERNAL',\n",
              "      'locType': 'MAIN_TABLE',\n",
              "      'surface': 'DF',\n",
              "      'target': {'id': 649702,\n",
              "       'language': 'en',\n",
              "       'title': 'Defender_(association_football)'}}],\n",
              "    'text': 'DF'},\n",
              "   {'surfaceLinks': [{'linkType': 'INTERNAL',\n",
              "      'locType': 'MAIN_TABLE',\n",
              "      'surface': 'Adaílton',\n",
              "      'target': {'id': 5996744,\n",
              "       'language': 'en',\n",
              "       'title': 'Adaílton_José_dos_Santos_Filho'}}],\n",
              "    'text': 'Adaílton'},\n",
              "   {'surfaceLinks': [{'linkType': 'INTERNAL',\n",
              "      'locType': 'MAIN_TABLE',\n",
              "      'surface': 'Free Agent',\n",
              "      'target': {'id': 322192, 'language': 'en', 'title': 'Free_Agent'}}],\n",
              "    'text': 'Free Agent'},\n",
              "   {'surfaceLinks': [], 'text': 'End of contract'},\n",
              "   {'surfaceLinks': [], 'text': ''}],\n",
              "  [{'surfaceLinks': [{'linkType': 'INTERNAL',\n",
              "      'locType': 'MAIN_TABLE',\n",
              "      'surface': 'FW',\n",
              "      'target': {'id': 428681,\n",
              "       'language': 'en',\n",
              "       'title': 'Forward_(association_football)'}}],\n",
              "    'text': 'FW'},\n",
              "   {'surfaceLinks': [{'linkType': 'INTERNAL',\n",
              "      'locType': 'MAIN_TABLE',\n",
              "      'surface': 'Jean',\n",
              "      'target': {'id': 10605602,\n",
              "       'language': 'en',\n",
              "       'title': 'Jean_Carlos_da_Silva_Ferreira'}}],\n",
              "    'text': 'Jean'},\n",
              "   {'surfaceLinks': [{'linkType': 'INTERNAL',\n",
              "      'locType': 'MAIN_TABLE',\n",
              "      'surface': 'Free Agent',\n",
              "      'target': {'id': 322192, 'language': 'en', 'title': 'Free_Agent'}}],\n",
              "    'text': 'Free Agent'},\n",
              "   {'surfaceLinks': [], 'text': 'End of contract'},\n",
              "   {'surfaceLinks': [], 'text': ''}],\n",
              "  [{'surfaceLinks': [{'linkType': 'INTERNAL',\n",
              "      'locType': 'MAIN_TABLE',\n",
              "      'surface': 'DF',\n",
              "      'target': {'id': 649702,\n",
              "       'language': 'en',\n",
              "       'title': 'Defender_(association_football)'}}],\n",
              "    'text': 'DF'},\n",
              "   {'surfaceLinks': [], 'text': 'Paulo Henrique Rodrigues'},\n",
              "   {'surfaceLinks': [{'linkType': 'INTERNAL',\n",
              "      'locType': 'MAIN_TABLE',\n",
              "      'surface': 'Atlético–GO',\n",
              "      'target': {'id': 4597013,\n",
              "       'language': 'en',\n",
              "       'title': 'Atlético_Goianiense'}}],\n",
              "    'text': 'Atlético–GO'},\n",
              "   {'surfaceLinks': [], 'text': 'Loan expiration'},\n",
              "   {'surfaceLinks': [], 'text': ''}],\n",
              "  [{'surfaceLinks': [{'linkType': 'INTERNAL',\n",
              "      'locType': 'MAIN_TABLE',\n",
              "      'surface': 'DF',\n",
              "      'target': {'id': 649702,\n",
              "       'language': 'en',\n",
              "       'title': 'Defender_(association_football)'}}],\n",
              "    'text': 'DF'},\n",
              "   {'surfaceLinks': [{'linkType': 'INTERNAL',\n",
              "      'locType': 'MAIN_TABLE',\n",
              "      'surface': 'Triguinho',\n",
              "      'target': {'id': 11271195, 'language': 'en', 'title': 'Triguinho'}}],\n",
              "    'text': 'Triguinho'},\n",
              "   {'surfaceLinks': [{'linkType': 'INTERNAL',\n",
              "      'locType': 'MAIN_TABLE',\n",
              "      'surface': 'São Caetano',\n",
              "      'target': {'id': 608861, 'language': 'en', 'title': 'AD_São_Caetano'}}],\n",
              "    'text': 'São Caetano'},\n",
              "   {'surfaceLinks': [], 'text': 'Loan expiration'},\n",
              "   {'surfaceLinks': [], 'text': ''}],\n",
              "  [{'surfaceLinks': [{'linkType': 'INTERNAL',\n",
              "      'locType': 'MAIN_TABLE',\n",
              "      'surface': 'DF',\n",
              "      'target': {'id': 649702,\n",
              "       'language': 'en',\n",
              "       'title': 'Defender_(association_football)'}}],\n",
              "    'text': 'DF'},\n",
              "   {'surfaceLinks': [{'linkType': 'INTERNAL',\n",
              "      'locType': 'MAIN_TABLE',\n",
              "      'surface': 'Fabão',\n",
              "      'target': {'id': 7969524, 'language': 'en', 'title': 'Fabão'}}],\n",
              "    'text': 'Fabão'},\n",
              "   {'surfaceLinks': [{'linkType': 'INTERNAL',\n",
              "      'locType': 'MAIN_TABLE',\n",
              "      'surface': 'Free Agent',\n",
              "      'target': {'id': 322192, 'language': 'en', 'title': 'Free_Agent'}}],\n",
              "    'text': 'Free Agent'},\n",
              "   {'surfaceLinks': [], 'text': 'End of contract'},\n",
              "   {'surfaceLinks': [], 'text': ''}],\n",
              "  [{'surfaceLinks': [{'linkType': 'INTERNAL',\n",
              "      'locType': 'MAIN_TABLE',\n",
              "      'surface': 'FW',\n",
              "      'target': {'id': 428681,\n",
              "       'language': 'en',\n",
              "       'title': 'Forward_(association_football)'}}],\n",
              "    'text': 'FW'},\n",
              "   {'surfaceLinks': [{'linkType': 'INTERNAL',\n",
              "      'locType': 'MAIN_TABLE',\n",
              "      'surface': 'Kléber Pereira',\n",
              "      'target': {'id': 3695574, 'language': 'en', 'title': 'Kléber_Pereira'}}],\n",
              "    'text': 'Kléber Pereira'},\n",
              "   {'surfaceLinks': [{'linkType': 'INTERNAL',\n",
              "      'locType': 'MAIN_TABLE',\n",
              "      'surface': 'Free Agent',\n",
              "      'target': {'id': 322192, 'language': 'en', 'title': 'Free_Agent'}}],\n",
              "    'text': 'Free Agent'},\n",
              "   {'surfaceLinks': [], 'text': 'End of contract'},\n",
              "   {'surfaceLinks': [], 'text': ''}],\n",
              "  [{'surfaceLinks': [{'linkType': 'INTERNAL',\n",
              "      'locType': 'MAIN_TABLE',\n",
              "      'surface': 'FW',\n",
              "      'target': {'id': 428681,\n",
              "       'language': 'en',\n",
              "       'title': 'Forward_(association_football)'}}],\n",
              "    'text': 'FW'},\n",
              "   {'surfaceLinks': [], 'text': 'Gil'},\n",
              "   {'surfaceLinks': [{'linkType': 'INTERNAL',\n",
              "      'locType': 'MAIN_TABLE',\n",
              "      'surface': 'Vila Nova',\n",
              "      'target': {'id': 1783425,\n",
              "       'language': 'en',\n",
              "       'title': 'Vila_Nova_Futebol_Clube'}}],\n",
              "    'text': 'Vila Nova'},\n",
              "   {'surfaceLinks': [], 'text': 'Contract termination'},\n",
              "   {'surfaceLinks': [], 'text': ''}],\n",
              "  [{'surfaceLinks': [{'linkType': 'INTERNAL',\n",
              "      'locType': 'MAIN_TABLE',\n",
              "      'surface': 'MF',\n",
              "      'target': {'id': 548981, 'language': 'en', 'title': 'Midfielder'}}],\n",
              "    'text': 'MF'},\n",
              "   {'surfaceLinks': [{'linkType': 'INTERNAL',\n",
              "      'locType': 'MAIN_TABLE',\n",
              "      'surface': 'Rodrigo Souto',\n",
              "      'target': {'id': 11171674, 'language': 'en', 'title': 'Rodrigo_Souto'}}],\n",
              "    'text': 'Rodrigo Souto'},\n",
              "   {'surfaceLinks': [{'linkType': 'INTERNAL',\n",
              "      'locType': 'MAIN_TABLE',\n",
              "      'surface': 'São Paulo',\n",
              "      'target': {'id': 187274, 'language': 'en', 'title': 'São_Paulo_FC'}}],\n",
              "    'text': 'São Paulo'},\n",
              "   {'surfaceLinks': [], 'text': 'Swapped [b ]'},\n",
              "   {'surfaceLinks': [], 'text': ''}],\n",
              "  [{'surfaceLinks': [{'linkType': 'INTERNAL',\n",
              "      'locType': 'MAIN_TABLE',\n",
              "      'surface': 'FW',\n",
              "      'target': {'id': 428681,\n",
              "       'language': 'en',\n",
              "       'title': 'Forward_(association_football)'}}],\n",
              "    'text': 'FW'},\n",
              "   {'surfaceLinks': [{'linkType': 'INTERNAL',\n",
              "      'locType': 'MAIN_TABLE',\n",
              "      'surface': 'Fabiano',\n",
              "      'target': {'id': 8545692,\n",
              "       'language': 'en',\n",
              "       'title': 'Fabiano_Vieira_Soares'}}],\n",
              "    'text': 'Fabiano'},\n",
              "   {'surfaceLinks': [{'linkType': 'INTERNAL',\n",
              "      'locType': 'MAIN_TABLE',\n",
              "      'surface': 'Ipatinga',\n",
              "      'target': {'id': 1755869, 'language': 'en', 'title': 'Ipatinga_FC'}}],\n",
              "    'text': 'Ipatinga'},\n",
              "   {'surfaceLinks': [], 'text': 'End of contract'},\n",
              "   {'surfaceLinks': [], 'text': ''}],\n",
              "  [{'surfaceLinks': [{'linkType': 'INTERNAL',\n",
              "      'locType': 'MAIN_TABLE',\n",
              "      'surface': 'MF',\n",
              "      'target': {'id': 548981, 'language': 'en', 'title': 'Midfielder'}}],\n",
              "    'text': 'MF'},\n",
              "   {'surfaceLinks': [{'linkType': 'INTERNAL',\n",
              "      'locType': 'MAIN_TABLE',\n",
              "      'surface': 'Dionísio',\n",
              "      'target': {'id': 15146100,\n",
              "       'language': 'en',\n",
              "       'title': 'Díonísio_de_Oliveira_Alves'}}],\n",
              "    'text': 'Dionísio'},\n",
              "   {'surfaceLinks': [{'linkType': 'INTERNAL',\n",
              "      'locType': 'MAIN_TABLE',\n",
              "      'surface': 'Oeste',\n",
              "      'target': {'id': 21659370,\n",
              "       'language': 'en',\n",
              "       'title': 'Oeste_Futebol_Clube'}}],\n",
              "    'text': 'Oeste'},\n",
              "   {'surfaceLinks': [], 'text': 'End of contract'},\n",
              "   {'surfaceLinks': [], 'text': ''}],\n",
              "  [{'surfaceLinks': [{'linkType': 'INTERNAL',\n",
              "      'locType': 'MAIN_TABLE',\n",
              "      'surface': 'DF',\n",
              "      'target': {'id': 649702,\n",
              "       'language': 'en',\n",
              "       'title': 'Defender_(association_football)'}}],\n",
              "    'text': 'DF'},\n",
              "   {'surfaceLinks': [{'linkType': 'INTERNAL',\n",
              "      'locType': 'MAIN_TABLE',\n",
              "      'surface': 'Filipi Souza',\n",
              "      'target': {'id': 15424133,\n",
              "       'language': 'en',\n",
              "       'title': 'Filipi_de_Souza_Barros'}}],\n",
              "    'text': 'Filipi Souza'},\n",
              "   {'surfaceLinks': [], 'text': 'SEV Hortolândia'},\n",
              "   {'surfaceLinks': [], 'text': 'End of contract'},\n",
              "   {'surfaceLinks': [], 'text': ''}],\n",
              "  [{'surfaceLinks': [{'linkType': 'INTERNAL',\n",
              "      'locType': 'MAIN_TABLE',\n",
              "      'surface': 'MF',\n",
              "      'target': {'id': 548981, 'language': 'en', 'title': 'Midfielder'}}],\n",
              "    'text': 'MF'},\n",
              "   {'surfaceLinks': [{'linkType': 'INTERNAL',\n",
              "      'locType': 'MAIN_TABLE',\n",
              "      'surface': 'Patrik',\n",
              "      'target': {'id': 15424334,\n",
              "       'language': 'en',\n",
              "       'title': 'Patrik_César_dos_Santos_Duzi'}}],\n",
              "    'text': 'Patrik'},\n",
              "   {'surfaceLinks': [{'linkType': 'INTERNAL',\n",
              "      'locType': 'MAIN_TABLE',\n",
              "      'surface': 'São Bento',\n",
              "      'target': {'id': 9014477,\n",
              "       'language': 'en',\n",
              "       'title': 'Esporte_Clube_São_Bento'}}],\n",
              "    'text': 'São Bento'},\n",
              "   {'surfaceLinks': [], 'text': 'End of contract'},\n",
              "   {'surfaceLinks': [], 'text': ''}],\n",
              "  [{'surfaceLinks': [{'linkType': 'INTERNAL',\n",
              "      'locType': 'MAIN_TABLE',\n",
              "      'surface': 'DF',\n",
              "      'target': {'id': 649702,\n",
              "       'language': 'en',\n",
              "       'title': 'Defender_(association_football)'}}],\n",
              "    'text': 'DF'},\n",
              "   {'surfaceLinks': [{'linkType': 'INTERNAL',\n",
              "      'locType': 'MAIN_TABLE',\n",
              "      'surface': 'Luciano Castan',\n",
              "      'target': {'id': 26010146,\n",
              "       'language': 'en',\n",
              "       'title': 'Luciano_Castan'}}],\n",
              "    'text': 'Luciano Castan'},\n",
              "   {'surfaceLinks': [{'linkType': 'INTERNAL',\n",
              "      'locType': 'MAIN_TABLE',\n",
              "      'surface': 'União São João',\n",
              "      'target': {'id': 6239243,\n",
              "       'language': 'en',\n",
              "       'title': 'União_São_João_Esporte_Clube'}}],\n",
              "    'text': 'União São João'},\n",
              "   {'surfaceLinks': [], 'text': 'Loan expiration'},\n",
              "   {'surfaceLinks': [], 'text': ''}],\n",
              "  [{'surfaceLinks': [{'linkType': 'INTERNAL',\n",
              "      'locType': 'MAIN_TABLE',\n",
              "      'surface': 'MF',\n",
              "      'target': {'id': 548981, 'language': 'en', 'title': 'Midfielder'}}],\n",
              "    'text': 'MF'},\n",
              "   {'surfaceLinks': [{'linkType': 'INTERNAL',\n",
              "      'locType': 'MAIN_TABLE',\n",
              "      'surface': 'Germano',\n",
              "      'target': {'id': 12006779,\n",
              "       'language': 'en',\n",
              "       'title': 'Germano_Borovicz_Cardoso_Schweger'}}],\n",
              "    'text': 'Germano'},\n",
              "   {'surfaceLinks': [{'linkType': 'INTERNAL',\n",
              "      'locType': 'MAIN_TABLE',\n",
              "      'surface': 'Sport',\n",
              "      'target': {'id': 604575,\n",
              "       'language': 'en',\n",
              "       'title': 'Sport_Club_do_Recife'}}],\n",
              "    'text': 'Sport'},\n",
              "   {'surfaceLinks': [], 'text': 'Contract termination'},\n",
              "   {'surfaceLinks': [], 'text': ''}],\n",
              "  [{'surfaceLinks': [{'linkType': 'INTERNAL',\n",
              "      'locType': 'MAIN_TABLE',\n",
              "      'surface': 'DF',\n",
              "      'target': {'id': 649702,\n",
              "       'language': 'en',\n",
              "       'title': 'Defender_(association_football)'}}],\n",
              "    'text': 'DF'},\n",
              "   {'surfaceLinks': [{'linkType': 'INTERNAL',\n",
              "      'locType': 'MAIN_TABLE',\n",
              "      'surface': 'George Lucas',\n",
              "      'target': {'id': 10726902,\n",
              "       'language': 'en',\n",
              "       'title': 'George_Lucas_Coser'}}],\n",
              "    'text': 'George Lucas'},\n",
              "   {'surfaceLinks': [{'linkType': 'INTERNAL',\n",
              "      'locType': 'MAIN_TABLE',\n",
              "      'surface': 'S.C. Braga',\n",
              "      'target': {'id': 990671, 'language': 'en', 'title': 'S.C._Braga'}}],\n",
              "    'text': 'S.C. Braga'},\n",
              "   {'surfaceLinks': [], 'text': 'End of contract'},\n",
              "   {'surfaceLinks': [], 'text': ''}],\n",
              "  [{'surfaceLinks': [{'linkType': 'INTERNAL',\n",
              "      'locType': 'MAIN_TABLE',\n",
              "      'surface': 'MF',\n",
              "      'target': {'id': 548981, 'language': 'en', 'title': 'Midfielder'}}],\n",
              "    'text': 'MF'},\n",
              "   {'surfaceLinks': [{'linkType': 'INTERNAL',\n",
              "      'locType': 'MAIN_TABLE',\n",
              "      'surface': 'Giovanni',\n",
              "      'target': {'id': 2647669,\n",
              "       'language': 'en',\n",
              "       'title': 'Giovanni_Silva_de_Oliveira'}}],\n",
              "    'text': 'Giovanni'},\n",
              "   {'surfaceLinks': [{'linkType': 'INTERNAL',\n",
              "      'locType': 'MAIN_TABLE',\n",
              "      'surface': 'Retirement',\n",
              "      'target': {'id': 26495, 'language': 'en', 'title': 'Retirement'}}],\n",
              "    'text': 'Retirement'},\n",
              "   {'surfaceLinks': [], 'text': 'Retirement'},\n",
              "   {'surfaceLinks': [], 'text': ''}],\n",
              "  [{'surfaceLinks': [{'linkType': 'INTERNAL',\n",
              "      'locType': 'MAIN_TABLE',\n",
              "      'surface': 'FW',\n",
              "      'target': {'id': 428681,\n",
              "       'language': 'en',\n",
              "       'title': 'Forward_(association_football)'}}],\n",
              "    'text': 'FW'},\n",
              "   {'surfaceLinks': [{'linkType': 'INTERNAL',\n",
              "      'locType': 'MAIN_TABLE',\n",
              "      'surface': 'André',\n",
              "      'target': {'id': 13729574, 'language': 'en', 'title': 'André'}}],\n",
              "    'text': 'André'},\n",
              "   {'surfaceLinks': [{'linkType': 'INTERNAL',\n",
              "      'locType': 'MAIN_TABLE',\n",
              "      'surface': 'Dynamo Kyiv',\n",
              "      'target': {'id': 889025, 'language': 'en', 'title': 'Dynamo_Kyiv'}}],\n",
              "    'text': 'Dynamo Kyiv'},\n",
              "   {'surfaceLinks': [], 'text': 'Transferred'},\n",
              "   {'surfaceLinks': [], 'text': ''}],\n",
              "  [{'surfaceLinks': [{'linkType': 'INTERNAL',\n",
              "      'locType': 'MAIN_TABLE',\n",
              "      'surface': 'FW',\n",
              "      'target': {'id': 428681,\n",
              "       'language': 'en',\n",
              "       'title': 'Forward_(association_football)'}}],\n",
              "    'text': 'FW'},\n",
              "   {'surfaceLinks': [{'linkType': 'INTERNAL',\n",
              "      'locType': 'MAIN_TABLE',\n",
              "      'surface': 'Robinho',\n",
              "      'target': {'id': 1172821, 'language': 'en', 'title': 'Robinho'}}],\n",
              "    'text': 'Robinho'},\n",
              "   {'surfaceLinks': [{'linkType': 'INTERNAL',\n",
              "      'locType': 'MAIN_TABLE',\n",
              "      'surface': 'Manchester City',\n",
              "      'target': {'id': 165813,\n",
              "       'language': 'en',\n",
              "       'title': 'Manchester_City_F.C.'}}],\n",
              "    'text': 'Manchester City'},\n",
              "   {'surfaceLinks': [], 'text': 'Loan expiration'},\n",
              "   {'surfaceLinks': [], 'text': ''}],\n",
              "  [{'surfaceLinks': [{'linkType': 'INTERNAL',\n",
              "      'locType': 'MAIN_TABLE',\n",
              "      'surface': 'MF',\n",
              "      'target': {'id': 548981, 'language': 'en', 'title': 'Midfielder'}}],\n",
              "    'text': 'MF'},\n",
              "   {'surfaceLinks': [{'linkType': 'INTERNAL',\n",
              "      'locType': 'MAIN_TABLE',\n",
              "      'surface': 'Wesley',\n",
              "      'target': {'id': 15146865,\n",
              "       'language': 'en',\n",
              "       'title': 'Wesley_Lopes_Beltrame'}}],\n",
              "    'text': 'Wesley'},\n",
              "   {'surfaceLinks': [{'linkType': 'INTERNAL',\n",
              "      'locType': 'MAIN_TABLE',\n",
              "      'surface': 'Werder Bremen',\n",
              "      'target': {'id': 7598082, 'language': 'en', 'title': 'Werder_Bremen'}}],\n",
              "    'text': 'Werder Bremen'},\n",
              "   {'surfaceLinks': [], 'text': 'Transferred'},\n",
              "   {'surfaceLinks': [], 'text': ''}]],\n",
              " 'tableHeaders': [['Pos.', 'Name', 'Moving to', 'Type', 'Source']],\n",
              " 'tableId': 6,\n",
              " 'unique': [0.16, 1.0, 0.75, 0, 0]}"
            ]
          },
          "metadata": {}
        }
      ],
      "source": [
        "\n",
        "# the dataset here is the dataloader for pretraining. We use it to pass the config to construct the cell filling example\n",
        "#dataset = WikiHybridTableDataset(data_dir,entity_vocab,max_cell=100, max_input_tok=350, max_input_ent=150, src=\"dev\", max_length = [50, 10, 10], force_new=False, tokenizer = None, mode=0)\n",
        "print('example of pretraining data')\n",
        "with open(os.path.join(data_dir, 'dev_tables.jsonl'), 'r') as f:\n",
        "    for line in f:\n",
        "        example = json.loads(line.strip())\n",
        "        break\n",
        "display(example)"
      ]
    },
    {
      "cell_type": "markdown",
      "metadata": {
        "id": "kC6BgJsOHPm2"
      },
      "source": [
        "**Data loader script: Change the Bert uncasse model to Hugging Face Model.**"
      ]
    },
    {
      "cell_type": "code",
      "execution_count": null,
      "metadata": {
        "id": "PkQYIWfFhCt6"
      },
      "outputs": [],
      "source": [
        "def mask_tokens(inputs, tokenizer, mlm_probability=0.15):\n",
        "    \"\"\" Prepare masked tokens inputs/labels for masked language modeling: 80% MASK, 10% random, 10% original. \"\"\"\n",
        "    labels = inputs.clone()\n",
        "    # We sample a few tokens in each sequence for masked-LM training (with probability args.mlm_probability defaults to 0.15 in Bert/RoBERTa)\n",
        "    probability_matrix = torch.full(labels.shape, mlm_probability)\n",
        "    special_tokens_mask = [list(map(lambda x: 1 if x == tokenizer.pad_token_id else 0, val)) for val in labels.tolist()]\n",
        "    probability_matrix.masked_fill_(torch.tensor(special_tokens_mask, dtype=torch.bool), value=0.0)\n",
        "    masked_indices = torch.bernoulli(probability_matrix).bool()\n",
        "    labels[~masked_indices] = -1  # We only compute loss on masked tokens\n",
        "\n",
        "    # 80% of the time, we replace masked input tokens with tokenizer.mask_token ([MASK])\n",
        "    indices_replaced = torch.bernoulli(torch.full(labels.shape, 0.8)).bool() & masked_indices\n",
        "    inputs[indices_replaced] = tokenizer.convert_tokens_to_ids(tokenizer.mask_token)\n",
        "\n",
        "    # 10% of the time, we replace masked input tokens with random word\n",
        "    indices_random = torch.bernoulli(torch.full(labels.shape, 0.5)).bool() & masked_indices & ~indices_replaced\n",
        "    random_words = torch.randint(len(tokenizer), labels.shape, dtype=torch.long)\n",
        "    inputs[indices_random] = random_words[indices_random]\n",
        "\n",
        "    # The rest of the time (10% of the time) we keep the masked input tokens unchanged\n",
        "    return inputs, labels\n",
        "\n",
        "RESERVED_ENT_VOCAB = {0:{'wiki_id':'[PAD]'},\n",
        "                        1:{'wiki_id':'[ENT_MASK]'},\n",
        "                        2:{'wiki_id':'[PG_ENT_MASK]'},\n",
        "                        3:{'wiki_id':'[CORE_ENT_MASK]'}\n",
        "                        }\n",
        "RESERVED_ENT_VOCAB_NUM = len(RESERVED_ENT_VOCAB)\n",
        "\n",
        "def process_single_hybrid_table(input_table, config):\n",
        "    table_id,subject,pgEnt,pgTitle,secTitle,caption,headers,core_entities,core_entities_text,all_entities,entities,entities_text,entity_cand = input_table\n",
        "    tokenized_pgTitle = config.tokenizer.encode(pgTitle, max_length=config.max_title_length, add_special_tokens=False)\n",
        "    tokenized_meta = tokenized_pgTitle+\\\n",
        "                    config.tokenizer.encode(secTitle, max_length=config.max_title_length, add_special_tokens=False)\n",
        "    if caption != secTitle:\n",
        "        tokenized_meta += config.tokenizer.encode(caption, max_length=config.max_title_length, add_special_tokens=False)\n",
        "    tokenized_headers = [config.tokenizer.encode(z, max_length=config.max_header_length, add_special_tokens=False) for _,z in headers]\n",
        "    input_tok = []\n",
        "    input_tok_pos = []\n",
        "    input_tok_type = []\n",
        "    tokenized_meta_length = len(tokenized_meta)\n",
        "    input_tok += tokenized_meta\n",
        "    input_tok_pos += list(range(tokenized_meta_length))\n",
        "    input_tok_type += [0]*tokenized_meta_length\n",
        "    tokenized_headers_length = [len(z) for z in tokenized_headers]\n",
        "    input_tok += list(itertools.chain(*tokenized_headers))\n",
        "    input_tok_pos += list(itertools.chain(*[list(range(z)) for z in tokenized_headers_length]))\n",
        "    input_tok_type += [1]*sum(tokenized_headers_length)\n",
        "    input_ent = []\n",
        "    input_ent_text = []\n",
        "    input_ent_type = []\n",
        "    column_en_map = {}\n",
        "    row_en_map = {}\n",
        "    core_entity_mask = []\n",
        "    for e_i, (index, entity) in enumerate(entities):\n",
        "        input_ent.append(entity)\n",
        "        if len(entities_text[e_i])!=0:\n",
        "            input_ent_text.append(config.tokenizer.encode(entities_text[e_i], max_length=config.max_cell_length, add_special_tokens=False))\n",
        "        else:\n",
        "            input_ent_text.append([])\n",
        "        input_ent_type.append(3 if index[1]==subject else 4)\n",
        "        core_entity_mask.append(1 if index[1]==subject else 0)\n",
        "        if index[1] not in column_en_map:\n",
        "            column_en_map[index[1]] = [e_i]\n",
        "        else:\n",
        "            column_en_map[index[1]].append(e_i)\n",
        "        if index[0] not in row_en_map:\n",
        "            row_en_map[index[0]] = [e_i]\n",
        "        else:\n",
        "            row_en_map[index[0]].append(e_i)\n",
        "    input_length = len(input_tok) + len(input_ent)\n",
        "    assert len(input_tok) < config.max_input_tok\n",
        "    assert len(input_ent) < config.max_input_ent\n",
        "    meta_and_headers_length = tokenized_meta_length+sum(tokenized_headers_length)\n",
        "    assert len(input_tok) == meta_and_headers_length\n",
        "    #create input mask\n",
        "    tok_tok_mask = np.ones([len(input_tok), len(input_tok)], dtype=int)\n",
        "    if config.src == \"train\":\n",
        "        meta_ent_mask = np.ones([tokenized_meta_length, len(input_ent)], dtype=int)\n",
        "    else:\n",
        "        meta_ent_mask = np.zeros([tokenized_meta_length, len(input_ent)], dtype=int)\n",
        "    header_ent_mask = np.zeros([sum(tokenized_headers_length), len(input_ent)], dtype=int)\n",
        "    start_i = 0\n",
        "    header_span = {}\n",
        "    for h_i, (h_j, _) in enumerate(headers):\n",
        "        header_span[h_j] = (start_i, start_i+tokenized_headers_length[h_i])\n",
        "        start_i += tokenized_headers_length[h_i]\n",
        "    for e_i, (index, _) in enumerate(entities):\n",
        "        header_ent_mask[header_span[index[1]][0]:header_span[index[1]][1], e_i] = 1\n",
        "    ent_header_mask = np.transpose(header_ent_mask)\n",
        "    if config.src != \"train\":\n",
        "        header_ent_mask = np.zeros([sum(tokenized_headers_length), len(input_ent)], dtype=int)\n",
        "\n",
        "    input_tok_mask = [tok_tok_mask, np.concatenate([meta_ent_mask, header_ent_mask], axis=0)]\n",
        "    ent_meta_mask = np.ones([len(input_ent), tokenized_meta_length], dtype=int)\n",
        "    \n",
        "    ent_ent_mask = np.eye(len(input_ent), dtype=int)\n",
        "    for _,e_is in column_en_map.items():\n",
        "        for e_i_1 in e_is:\n",
        "            for e_i_2 in e_is:\n",
        "                if config.src==\"train\" or (e_i_2<e_i_1 and input_ent[e_i_2]>=len(RESERVED_ENT_VOCAB)):\n",
        "                    ent_ent_mask[e_i_1, e_i_2] = 1\n",
        "\n",
        "    for _,e_is in row_en_map.items():\n",
        "        for e_i_1 in e_is:\n",
        "            for e_i_2 in e_is:\n",
        "                if config.src==\"train\" or (e_i_2<e_i_1 and input_ent[e_i_2]>=len(RESERVED_ENT_VOCAB)):\n",
        "                    ent_ent_mask[e_i_1, e_i_2] = 1\n",
        "    input_ent_mask = [np.concatenate([ent_meta_mask, ent_header_mask], axis=1), ent_ent_mask]\n",
        "\n",
        "    # prepend [CORE_ENT_MASK] to input, input_ent[1] = [CORE_ENT_MASK]\n",
        "    input_tok_mask[1] = np.concatenate([np.zeros([len(input_tok), 1], dtype=int),input_tok_mask[1]],axis=1)\n",
        "    input_ent = [config.entity_wikid2id['[CORE_ENT_MASK]']] + input_ent\n",
        "    input_ent_text = [[]] + input_ent_text\n",
        "    input_ent_type = [3] + input_ent_type\n",
        "    # prepend pgEnt to input_ent, input_ent[0] = pgEnt\n",
        "    if pgEnt!=-1:\n",
        "        input_tok_mask[1] = np.concatenate([np.ones([len(input_tok), 1], dtype=int),input_tok_mask[1]],axis=1)\n",
        "    else:\n",
        "        input_tok_mask[1] = np.concatenate([np.zeros([len(input_tok), 1], dtype=int),input_tok_mask[1]],axis=1)\n",
        "    input_ent = [pgEnt if pgEnt!=-1 else 0] + input_ent\n",
        "    input_ent_text = [tokenized_pgTitle[:config.max_cell_length]] + input_ent_text\n",
        "    input_ent_type = [2] + input_ent_type\n",
        "\n",
        "    new_input_ent_mask = [np.ones([len(input_ent), len(input_tok)], dtype=int), np.ones([len(input_ent), len(input_ent)], dtype=int)]\n",
        "    new_input_ent_mask[0][2:, :] = input_ent_mask[0]\n",
        "    new_input_ent_mask[1][2:, 2:] = input_ent_mask[1]\n",
        "    # process [CORE_ENT_MASK] mask\n",
        "    new_input_ent_mask[0][1, tokenized_meta_length:] = 0\n",
        "    if subject in header_span:\n",
        "        # assert header_span[0][0] == 0\n",
        "        new_input_ent_mask[0][1, tokenized_meta_length+header_span[subject][0]:tokenized_meta_length+header_span[subject][1]] = 1\n",
        "    new_input_ent_mask[1][1, 2:] = 0\n",
        "    new_input_ent_mask[1][2:, 1] = 0\n",
        "    if subject in column_en_map:\n",
        "        new_input_ent_mask[1][1, 2+column_en_map[subject][0]] = 1 # seed=1\n",
        "    # process pgEnt mask\n",
        "    if pgEnt==-1:\n",
        "        new_input_ent_mask[1][:, 0] = 0\n",
        "        new_input_ent_mask[1][0, :] = 0\n",
        "    input_ent_mask = new_input_ent_mask\n",
        "    core_entity_mask = [0,1]+core_entity_mask\n",
        "    \n",
        "    if entity_cand is not None:\n",
        "        entity_cand = list(set(entity_cand)-all_entities)\n",
        "    all_entity_set = list(all_entities)\n",
        "\n",
        "    def find_id(e, e_list):\n",
        "        for i, e_1 in enumerate(e_list):\n",
        "            if e == e_1:\n",
        "                return i\n",
        "        # pdb.set_trace()\n",
        "        raise Exception\n",
        "    if config.src == \"train\":\n",
        "        input_ent_local_id = [find_id(pgEnt, all_entity_set) if pgEnt!=-1 else 0,0]+[find_id(e, all_entity_set) for e in input_ent[2:]]\n",
        "        exclusive_ent_mask = np.full([len(input_ent), max([len(z) for _,z in column_en_map.items()])-1], 1000) # mask entity in the same column for prediction\n",
        "        for e_i, (index, _) in enumerate(entities):\n",
        "            tmp_j = 0\n",
        "            for e_i_0 in column_en_map[index[1]]:\n",
        "                if input_ent_local_id[2+e_i_0] != input_ent_local_id[2+e_i]:\n",
        "                    exclusive_ent_mask[2+e_i,tmp_j] = input_ent_local_id[2+e_i_0]\n",
        "                    tmp_j += 1\n",
        "\n",
        "    else:\n",
        "        input_ent_local_id = [find_id(pgEnt, all_entity_set) if pgEnt!=-1 else 0,0]\n",
        "        i = 2\n",
        "        while i < len(input_ent):\n",
        "            if input_ent[i]>=len(RESERVED_ENT_VOCAB):\n",
        "                e = input_ent[i]\n",
        "                input_ent_local_id.append(find_id(e, all_entity_set))\n",
        "                i+=1\n",
        "            else:\n",
        "                e = input_ent[i+1]\n",
        "                tmp_e = find_id(e, all_entity_set)\n",
        "                input_ent_local_id += [tmp_e, tmp_e]\n",
        "                i+=2\n",
        "        exclusive_ent_mask = None\n",
        "\n",
        "    if len(core_entities) > 1:\n",
        "        core_ent_local_id = [find_id(e, all_entity_set) for e in core_entities[1:]]\n",
        "    else:\n",
        "        core_ent_local_id = []\n",
        "    input_ent_cell_length = [len(x) if len(x)!=0 else 1 for x in input_ent_text]\n",
        "    max_cell_length = max(input_ent_cell_length)\n",
        "    input_ent_text_padded = np.zeros([len(input_ent_text), max_cell_length], dtype=int)\n",
        "    for i,x in enumerate(input_ent_text):\n",
        "        input_ent_text_padded[i, :len(x)] = x\n",
        "    return [table_id,np.array(input_tok),np.array(input_tok_type),np.array(input_tok_pos),(np.array(input_tok_mask[0]),np.array(input_tok_mask[1])),len(input_tok), \\\n",
        "                np.array(input_ent),input_ent_text_padded,input_ent_cell_length,np.array(input_ent_local_id),np.array(input_ent_type),(np.array(input_ent_mask[0]),np.array(input_ent_mask[1])),len(input_ent), \\\n",
        "                np.array(core_entity_mask),core_ent_local_id,all_entity_set,entity_cand,exclusive_ent_mask]\n",
        "\n",
        "def process_single_hybrid_table_CER(input_table, config):\n",
        "    table_id,subject,pgEnt,pgTitle,secTitle,caption,headers,core_entities,core_entities_text,all_entities,entities,entities_text,entity_cand = input_table\n",
        "    tokenized_pgTitle = config.tokenizer.encode(pgTitle, max_length=config.max_title_length, add_special_tokens=False)\n",
        "    tokenized_meta = tokenized_pgTitle+\\\n",
        "                    config.tokenizer.encode(secTitle, max_length=config.max_title_length, add_special_tokens=False)\n",
        "    if caption != secTitle:\n",
        "        tokenized_meta += config.tokenizer.encode(caption, max_length=config.max_title_length, add_special_tokens=False)\n",
        "    tokenized_header = config.tokenizer.encode(headers[0][1], max_length=config.max_header_length, add_special_tokens=False)\n",
        "    input_tok = []\n",
        "    input_tok_pos = []\n",
        "    input_tok_type = []\n",
        "    tokenized_meta_length = len(tokenized_meta)\n",
        "    input_tok += tokenized_meta\n",
        "    input_tok_pos += list(range(tokenized_meta_length))\n",
        "    input_tok_type += [0]*tokenized_meta_length\n",
        "    tokenized_header_length = len(tokenized_header)\n",
        "    input_tok += tokenized_header\n",
        "    input_tok_pos += list(range(tokenized_header_length))\n",
        "    input_tok_type += [1]*tokenized_header_length\n",
        "\n",
        "    input_ent = [entity for _, entity in entities]\n",
        "    input_ent_text = [config.tokenizer.encode(entity_text, max_length=config.max_cell_length, add_special_tokens=False) if len(entity_text)!=0 else [] for entity_text in entities_text]\n",
        "    def find_id(e, e_list):\n",
        "        for i, e_1 in enumerate(e_list):\n",
        "            if e == e_1:\n",
        "                return i\n",
        "        # pdb.set_trace()\n",
        "        raise Exception\n",
        "    # prepend special token to input_ent, input_ent[0] = pgEnt, input_ent[1] = [CORE_ENT_MASK]\n",
        "    input_ent_local_id = [find_id(e, core_entities) for e in input_ent]\n",
        "    input_ent = [pgEnt if pgEnt!=-1 else 0, config.entity_wikid2id['[CORE_ENT_MASK]']] + input_ent\n",
        "    input_ent_text = [tokenized_pgTitle[:config.max_cell_length], []] + input_ent_text\n",
        "    \n",
        "    input_ent_cell_length = [len(x) if len(x)!=0 else 1 for x in input_ent_text]\n",
        "    max_cell_length = max(input_ent_cell_length)\n",
        "    input_ent_text_padded = np.zeros([len(input_ent_text), max_cell_length], dtype=int)\n",
        "    for i,x in enumerate(input_ent_text):\n",
        "        input_ent_text_padded[i, :len(x)] = x\n",
        "\n",
        "    return [table_id,np.array(input_tok),np.array(input_tok_type),np.array(input_tok_pos),len(input_tok), \\\n",
        "                np.array(input_ent),input_ent_text_padded,input_ent_cell_length,len(input_ent),np.array(input_ent_local_id),np.array(core_entities), \\\n",
        "                entity_cand]\n",
        "\n",
        "class WikiHybridTableDataset(Dataset):\n",
        "\n",
        "    def _preprocess(self, data_dir):\n",
        "        if self.mode == 0:\n",
        "            preprocessed_filename = os.path.join(\n",
        "                data_dir, \"procressed_hybrid\", self.src\n",
        "            )\n",
        "        elif self.mode == 1:\n",
        "            preprocessed_filename = os.path.join(\n",
        "                data_dir, \"procressed_hybrid_CER\", self.src\n",
        "            )\n",
        "        elif self.mode == 2:\n",
        "            preprocessed_filename = os.path.join(\n",
        "                data_dir, \"procressed_hybrid_all\", self.src\n",
        "            )\n",
        "        else:\n",
        "            raise Exception\n",
        "        preprocessed_filename += \".pickle\"\n",
        "        if not self.force_new and os.path.exists(preprocessed_filename):\n",
        "            print(\"try loading preprocessed data from %s\" % preprocessed_filename)\n",
        "            with open(preprocessed_filename, \"rb\") as f:\n",
        "                return pickle.load(f)\n",
        "        else:\n",
        "            print(\"try creating preprocessed data in %s\" % preprocessed_filename)\n",
        "            try:\n",
        "                if self.mode == 0:\n",
        "                    os.mkdir(os.path.join(data_dir, \"procressed_hybrid\"))\n",
        "                elif self.mode == 1:\n",
        "                    os.mkdir(os.path.join(data_dir, \"procressed_hybrid_CER\"))\n",
        "                elif self.mode == 2:\n",
        "                    os.mkdir(os.path.join(data_dir, \"procressed_hybrid_all\"))\n",
        "                else:\n",
        "                    raise Exception\n",
        "            except FileExistsError:\n",
        "                pass\n",
        "            origin_data = open(os.path.join(data_dir, self.src + \"_tables.jsonl\"), \"r\")\n",
        "            entity_candidate_file = os.path.join(data_dir, self.src + \".entity_candidate.pkl\")\n",
        "            if os.path.exists(entity_candidate_file):\n",
        "                with open(entity_candidate_file, \"rb\") as f:\n",
        "                    entity_candidate = pickle.load(f)\n",
        "            else:\n",
        "                entity_candidate = None\n",
        "        print(\"Pre-processing data...\")\n",
        "        origin_table_num = 0\n",
        "        actual_tables = []\n",
        "        table_removed = 0\n",
        "        for table in tqdm(origin_data):\n",
        "            origin_table_num += 1\n",
        "            table = json.loads(table.strip())\n",
        "            table_id = table.get(\"_id\",\"\")\n",
        "            pgTitle = table.get(\"pgTitle\", \"\").lower()\n",
        "            pgEnt = table.get(\"pgId\", -1)\n",
        "            if entity_candidate is not None:\n",
        "                entity_cand = entity_candidate.get(table_id, [])\n",
        "                entity_cand = [self.entity_wikid2id[z] for z in entity_cand if z in self.entity_wikid2id]\n",
        "            else:\n",
        "                entity_cand = None\n",
        "\n",
        "            if pgEnt != -1:\n",
        "                try:\n",
        "                    pgEnt = self.entity_wikid2id[pgEnt]\n",
        "                except:\n",
        "                    pgEnt = -1\n",
        "            secTitle = table.get(\"sectionTitle\", \"\").lower()\n",
        "            caption = table.get(\"tableCaption\", \"\").lower()\n",
        "            headers = table.get(\"processed_tableHeaders\", [])\n",
        "            rows = table.get(\"tableData\", {})\n",
        "            subject = table.get(\"subject_column\", 0)\n",
        "            entity_columns = table.get(\"entityColumn\", [])\n",
        "            headers = [[j, headers[j]] for j in entity_columns]\n",
        "            entity_cells = np.array(table.get(\"entityCell\",[[]]))\n",
        "            core_entities = []\n",
        "            core_entities_text = []\n",
        "            all_entities = set()\n",
        "            if pgEnt!=-1:\n",
        "                all_entities.add(pgEnt)\n",
        "            num_rows = len(rows)\n",
        "            num_columns = len(rows[0])\n",
        "            entities = []\n",
        "            entities_text= []\n",
        "            split = [0]\n",
        "            tmp_entity_num = 0\n",
        "            for i in range(num_rows):\n",
        "                tmp_entities = []\n",
        "                tmp_entities_text = []\n",
        "                for j in range(num_columns):\n",
        "                    if j in entity_columns:\n",
        "                        if self.mode == 1 and j!=subject:\n",
        "                            continue\n",
        "                        if entity_cells[i,j] == 1:\n",
        "                            try:\n",
        "                                entity = self.entity_wikid2id[rows[i][j]['surfaceLinks'][0]['target']['id']]\n",
        "                                entity_cells[i,j] = entity\n",
        "                                tmp_entities.append([(i,j), entity])\n",
        "                                tmp_entities_text.append(rows[i][j]['text'])\n",
        "                            except:\n",
        "                                entity_cells[i,j] = 0\n",
        "                    else:\n",
        "                        entity_cells[i,j] = 0\n",
        "                if len(tmp_entities) == 0:\n",
        "                    continue\n",
        "                if self.mode == 0:\n",
        "                    if i == 0 or not (entity_cells[i] == entity_cells[:i]).all(axis=1).any():\n",
        "                        has_core = True if any([z[0][1]==subject for z in tmp_entities]) else False\n",
        "                        if has_core or self.src == \"train\":\n",
        "                            for (index, entity), entity_text in zip(tmp_entities, tmp_entities_text):\n",
        "                                if self.mode == 0 and self.src != \"train\" and index[1]!=subject:\n",
        "                                    entities.append([index, self.entity_wikid2id['[ENT_MASK]']])\n",
        "                                    entities_text.append('')\n",
        "                                    tmp_entity_num += 1\n",
        "                                entities.append([index, entity])\n",
        "                                entities_text.append(entity_text)\n",
        "                                all_entities.add(entity)\n",
        "                                tmp_entity_num += 1\n",
        "                                if index[1] == subject:\n",
        "                                    core_entities.append(entity)\n",
        "                                    core_entities_text.append(entities_text)\n",
        "                            if tmp_entity_num >= self.max_cell:\n",
        "                                split.append(len(entities))\n",
        "                                tmp_entity_num = 0\n",
        "                elif self.mode == 1 or self.mode == 2:\n",
        "                    for (index, entity), entity_text in zip(tmp_entities, tmp_entities_text):\n",
        "                        entities.append([index, entity])\n",
        "                        entities_text.append(entity_text)\n",
        "                        tmp_entity_num += 1\n",
        "                        core_entities.append(entity)\n",
        "                        core_entities_text.append(entity_text)\n",
        "                    if tmp_entity_num >= self.max_cell:\n",
        "                        split.append(len(entities))\n",
        "                        tmp_entity_num = 0\n",
        "                #     pdb.set_trace()\n",
        "            if split[-1]!=len(entities):\n",
        "                split.append(len(entities))\n",
        "            if len(core_entities) < 5:\n",
        "                if self.mode!=2:\n",
        "                    if self.src!=\"train\" or len(core_entities) == 0 or (self.mode == 1 and len(core_entities) < 3):\n",
        "                        table_removed += 1\n",
        "                        continue\n",
        "            if split[-2]!=0 and split[-1]-split[-2]<5:\n",
        "                split[-2] = split[-1]\n",
        "                split = split[:-1]\n",
        "            for i in range(len(split)-1):\n",
        "                actual_tables.append([\n",
        "                    table_id,\n",
        "                    subject,\n",
        "                    pgEnt,\n",
        "                    pgTitle,\n",
        "                    secTitle,\n",
        "                    caption,\n",
        "                    headers,\n",
        "                    core_entities,\n",
        "                    core_entities_text,\n",
        "                    all_entities,\n",
        "                    entities[split[i]:split[i+1]],\n",
        "                    entities_text[split[i]:split[i+1]],\n",
        "                    entity_cand\n",
        "                ])\n",
        "            \n",
        "        actual_table_num = len(actual_tables)\n",
        "        print('%d original tables, actual %d tables in total\\n%d tables removed because of extra entity filtering'%(origin_table_num, actual_table_num, table_removed))\n",
        "        \n",
        "        pool = Pool(processes=4)\n",
        "        if self.mode == 0:\n",
        "            processed_data = list(tqdm(pool.imap(partial(process_single_hybrid_table,config=self), actual_tables, chunksize=2000),total=len(actual_tables)))\n",
        "        elif self.mode == 1 or self.mode == 2:\n",
        "            processed_data = list(tqdm(pool.imap(partial(process_single_hybrid_table_CER,config=self), actual_tables, chunksize=2000),total=len(actual_tables)))\n",
        "        # elif self.mode == 2:\n",
        "        else:\n",
        "            raise Exception\n",
        "        pool.close()\n",
        "        # pdb.set_trace()\n",
        "\n",
        "        \n",
        "        with open(preprocessed_filename, 'wb') as f:\n",
        "            pickle.dump(processed_data, f)\n",
        "        # pdb.set_trace()\n",
        "        return processed_data\n",
        "\n",
        "    def __init__(self, data_dir, entity_vocab, max_cell=100, max_input_tok=350, max_input_ent=150, src=\"train\", max_length = [50, 10, 10], force_new=False, tokenizer = None, mode=0):\n",
        "        if tokenizer is not None:\n",
        "            self.tokenizer = tokenizer\n",
        "        else:\n",
        "            self.tokenizer = BertTokenizer.from_pretrained('bert-base-uncased')\n",
        "        self.src = src\n",
        "        self.mode = mode #{0:pretrain,1:core entity retrieval,2:cell filling}\n",
        "        self.max_cell = float(max_cell)\n",
        "        self.max_title_length = max_length[0]\n",
        "        self.max_header_length = max_length[1]\n",
        "        self.max_cell_length = max_length[2]\n",
        "        self.force_new = force_new\n",
        "        self.max_input_tok = max_input_tok\n",
        "        self.max_input_ent = max_input_ent\n",
        "        self.entity_vocab = entity_vocab\n",
        "        self.entity_wikid2id = {self.entity_vocab[x]['wiki_id']:x for x in self.entity_vocab}\n",
        "        self.data = self._preprocess(data_dir)\n",
        "        # pdb.set_trace()\n",
        "\n",
        "    def __len__(self):\n",
        "        return len(self.data)\n",
        "\n",
        "    def __getitem__(self, index):\n",
        "        return self.data[index]\n",
        "\n",
        "def mask_ent(inputs_origin, inputs_local_id, core_entity_mask, entity_wikid2id, mlm_probability=0.15, mall_probability=0.5, is_train=False):\n",
        "    \"\"\" Prepare masked entities inputs/labels for masked entity modeling: 80% MASK, 10% random, 10% original. \"\"\"\n",
        "    labels = inputs_local_id.clone()\n",
        "    inputs = inputs_origin.clone()\n",
        "    input_ent_mask_type = torch.zeros_like(inputs)\n",
        "    if is_train:\n",
        "        # We sample a few tokens in each sequence for masked-LM training (with probability args.mlm_probability defaults to 0.15 in Bert/RoBERTa)\n",
        "        probability_matrix = torch.full(labels.shape, mlm_probability)\n",
        "        special_tokens_mask = (inputs<len(RESERVED_ENT_VOCAB))#[list(map(lambda x: 1 if x == entity_wikid2id['[PAD]'] else 0, val)) for val in labels.tolist()]\n",
        "        # special_tokens_mask[:, 1] = True\n",
        "        probability_matrix.masked_fill_(special_tokens_mask, value=0.0)\n",
        "        masked_indices = torch.bernoulli(probability_matrix).bool()\n",
        "        labels[~masked_indices] = -1  # We only compute loss on masked tokens\n",
        "\n",
        "        # 50% of the time, we mask input ent&text, the model need to recover the entity\n",
        "        indices_mask_both = torch.bernoulli(torch.full(labels.shape, mall_probability)).bool() & masked_indices\n",
        "        pg_ent_mask = torch.zeros(labels.shape)\n",
        "        pg_ent_mask[:,0] = 1\n",
        "        inputs[indices_mask_both] = 0\n",
        "        input_ent_mask_type[indices_mask_both] = entity_wikid2id['[ENT_MASK]']\n",
        "        input_ent_mask_type[indices_mask_both & pg_ent_mask.bool()] = entity_wikid2id['[PG_ENT_MASK]']\n",
        "        input_ent_mask_type[indices_mask_both & core_entity_mask] = entity_wikid2id['[CORE_ENT_MASK]']\n",
        "        # 50% of the time, we only mask ent, the task would be like entity linking\n",
        "        # 40% of the time, we mask ent directly\n",
        "        \n",
        "        indices_mask_single = masked_indices & ~indices_mask_both\n",
        "        inputs[indices_mask_single] = 0\n",
        "\n",
        "        # 5% of the time, we replace masked input tokens with random word\n",
        "        indices_random = torch.bernoulli(torch.full(labels.shape, 0.1)).bool() & indices_mask_single\n",
        "        random_words = torch.randint(low=RESERVED_ENT_VOCAB_NUM,high=len(entity_wikid2id), size=labels.shape, dtype=torch.long)\n",
        "        inputs[indices_random] = random_words[indices_random]\n",
        "\n",
        "        inputs[:, 1] = 0\n",
        "        input_ent_mask_type[:, 1] = entity_wikid2id['[CORE_ENT_MASK]']\n",
        "        indices_unchanged = torch.bernoulli(torch.full(labels.shape, 0.1)).bool() & masked_indices\n",
        "        inputs[indices_unchanged] = inputs_origin[indices_unchanged]\n",
        "        input_ent_mask_type[indices_unchanged] = 0\n",
        "\n",
        "        # 10% of the time, we keep the masked input tokens unchanged\n",
        "\n",
        "    else:\n",
        "        ent_mask = inputs==entity_wikid2id['[ENT_MASK]']\n",
        "        core_ent_mask = inputs==entity_wikid2id['[CORE_ENT_MASK]']\n",
        "        labels[~ent_mask] = -1\n",
        "        input_ent_mask_type[ent_mask] = entity_wikid2id['[ENT_MASK]']\n",
        "        input_ent_mask_type[core_ent_mask] = entity_wikid2id['[CORE_ENT_MASK]']\n",
        "        inputs[ent_mask|core_ent_mask] = 0\n",
        "\n",
        "    return inputs, input_ent_mask_type, labels\n",
        "class pretrain_hybrid_table_collate_fn:\n",
        "    def __init__(self, tokenizer, entity_wikid2id, mlm_probability, ent_mlm_probability, mall_probability=0.5, max_entity_candidate=1000, is_train=True, candidate_distribution=None, use_cand=True, random_sample=True, use_visibility=True):\n",
        "        self.tokenizer = tokenizer\n",
        "        self.entity_wikid2id = entity_wikid2id\n",
        "        self.mlm_probability = mlm_probability\n",
        "        self.ent_mlm_probability = ent_mlm_probability\n",
        "        self.mall_probability = mall_probability\n",
        "        self.max_entity_candidate = max_entity_candidate\n",
        "        self.is_train = is_train\n",
        "        self.candidate_distribution = candidate_distribution\n",
        "        self.use_cand = use_cand\n",
        "        self.random_sample = random_sample\n",
        "        self.use_visibility = use_visibility\n",
        "\n",
        "    def generate_random_candidate(self, batch_size, indice_mask):\n",
        "        random_shifts = np.random.random((batch_size, len(self.entity_wikid2id)))\n",
        "        random_shifts[indice_mask] = 10\n",
        "        return np.argpartition(random_shifts, self.max_entity_candidate, axis=1)[:, :self.max_entity_candidate]\n",
        "    \n",
        "    def generate_random_candidate_v2(self, batch_size, masked_entity, candidate_distribution=None, ent_cand=None):\n",
        "        if self.random_sample and self.is_train:\n",
        "            random_shifts = np.random.random(len(self.entity_wikid2id))\n",
        "            if candidate_distribution is not None:\n",
        "                random_shifts /= np.sum(random_shifts)\n",
        "                random_shifts -= candidate_distribution\n",
        "            all_masked = list(itertools.chain(*masked_entity))\n",
        "            random_shifts[all_masked] = 10\n",
        "            all_masked = set(all_masked)\n",
        "            final_candidates = np.tile(np.argpartition(random_shifts, self.max_entity_candidate)[:self.max_entity_candidate],[batch_size, 1])\n",
        "        else:\n",
        "            final_candidates = np.zeros([batch_size, self.max_entity_candidate])\n",
        "        for i, masked in enumerate(masked_entity):\n",
        "            final_candidates[i, :len(masked)] = masked\n",
        "            if self.use_cand:\n",
        "                cand_i = ent_cand[i]\n",
        "                if self.random_sample and self.is_train:\n",
        "                    if len(cand_i)+len(masked) > self.max_entity_candidate/2:\n",
        "                        cand_i = random.sample(cand_i, int(self.max_entity_candidate/2-len(masked)))\n",
        "                else:\n",
        "                    if len(cand_i)+len(masked) > self.max_entity_candidate:\n",
        "                        cand_i = random.sample(cand_i, int(self.max_entity_candidate-len(masked)))\n",
        "                final_candidates[i, len(masked):len(masked)+len(cand_i)] = cand_i\n",
        "            else:\n",
        "                remain = list(all_masked-set(masked))\n",
        "                final_candidates[i, len(masked):len(masked)+len(remain)] = remain\n",
        "        return final_candidates\n",
        "        \n",
        "    def __call__(self, raw_batch):\n",
        "        batch_table_id,batch_input_tok,batch_input_tok_type,batch_input_tok_pos,batch_input_tok_mask,batch_input_tok_length, \\\n",
        "            batch_input_ent,batch_input_ent_text,batch_input_ent_cell_length,batch_input_ent_local_id,batch_input_ent_type,batch_input_ent_mask,batch_input_ent_length, \\\n",
        "            batch_core_entity_mask,batch_core_ent_local_id,batch_all_entity_set,batch_entity_cand,batch_exclusive_ent_mask = zip(*raw_batch)\n",
        "        \n",
        "        if batch_entity_cand[0] is None and self.use_cand:\n",
        "            raise Exception\n",
        "\n",
        "        max_input_tok_length = max(batch_input_tok_length)\n",
        "        max_input_ent_length = max(batch_input_ent_length)\n",
        "        max_input_cell_length = max([z.shape[-1] for z in batch_input_ent_text])\n",
        "        batch_size = len(batch_input_tok_length)\n",
        "\n",
        "        batch_input_tok_padded = np.zeros([batch_size, max_input_tok_length], dtype=int)\n",
        "        batch_input_tok_type_padded = np.zeros([batch_size, max_input_tok_length], dtype=int)\n",
        "        batch_input_tok_pos_padded = np.zeros([batch_size, max_input_tok_length], dtype=int)\n",
        "        batch_input_tok_mask_padded = np.zeros([batch_size, max_input_tok_length, max_input_tok_length+max_input_ent_length], dtype=int)\n",
        "\n",
        "        batch_input_ent_padded = np.zeros([batch_size, max_input_ent_length], dtype=int)\n",
        "        batch_input_ent_text_padded = np.zeros([batch_size, max_input_ent_length, max_input_cell_length], dtype=int)\n",
        "        batch_input_ent_text_length = np.ones([batch_size, max_input_ent_length], dtype=int)\n",
        "        batch_input_ent_type_padded = np.zeros([batch_size, max_input_ent_length], dtype=int)\n",
        "        batch_input_ent_mask_padded = np.zeros([batch_size, max_input_ent_length, max_input_tok_length+max_input_ent_length], dtype=int)\n",
        "        batch_core_entity_mask_padded = np.zeros([batch_size, max_input_ent_length], dtype=int)\n",
        "        batch_input_ent_local_id_padded = np.zeros([batch_size, max_input_ent_length], dtype=int)\n",
        "        if self.is_train:\n",
        "            max_input_col_ent_num = max([z.shape[1] for z in batch_exclusive_ent_mask])\n",
        "            batch_exclusive_ent_mask_padded = np.full([batch_size, max_input_ent_length, max_input_col_ent_num], 1000, dtype=int)\n",
        "\n",
        "        for i, (tok_l, ent_l) in enumerate(zip(batch_input_tok_length, batch_input_ent_length)):\n",
        "            batch_input_tok_padded[i, :tok_l] = batch_input_tok[i]\n",
        "            batch_input_tok_type_padded[i, :tok_l] = batch_input_tok_type[i]\n",
        "            batch_input_tok_pos_padded[i, :tok_l] = batch_input_tok_pos[i]\n",
        "            if self.use_visibility or not self.is_train:\n",
        "                batch_input_tok_mask_padded[i, :tok_l, :tok_l] = batch_input_tok_mask[i][0]\n",
        "                batch_input_tok_mask_padded[i, :tok_l, max_input_tok_length:max_input_tok_length+ent_l] = batch_input_tok_mask[i][1]\n",
        "            else:\n",
        "                batch_input_tok_mask_padded[i, :tok_l, :tok_l] = 1\n",
        "                batch_input_tok_mask_padded[i, :tok_l, max_input_tok_length:max_input_tok_length+ent_l] = 1\n",
        "            batch_input_ent_padded[i, :ent_l] = batch_input_ent[i]\n",
        "            batch_input_ent_text_padded[i, :ent_l, :batch_input_ent_text[i].shape[-1]] = batch_input_ent_text[i]\n",
        "            batch_input_ent_text_length[i, :ent_l] = batch_input_ent_cell_length[i]\n",
        "            batch_input_ent_type_padded[i, :ent_l] = batch_input_ent_type[i]\n",
        "            if self.use_visibility or not self.is_train:\n",
        "                batch_input_ent_mask_padded[i, :ent_l, :tok_l] = batch_input_ent_mask[i][0]\n",
        "                batch_input_ent_mask_padded[i, :ent_l, max_input_tok_length:max_input_tok_length+ent_l] = batch_input_ent_mask[i][1]\n",
        "            else:\n",
        "                batch_input_ent_mask_padded[i, :ent_l, :tok_l] = 1\n",
        "                batch_input_ent_mask_padded[i, :ent_l, max_input_tok_length:max_input_tok_length+ent_l] = 1\n",
        "            batch_core_entity_mask_padded[i, :ent_l] = batch_core_entity_mask[i]\n",
        "            batch_input_ent_local_id_padded[i, :ent_l] = batch_input_ent_local_id[i]\n",
        "            if self.is_train:\n",
        "                batch_exclusive_ent_mask_padded[i, :ent_l, :batch_exclusive_ent_mask[i].shape[1]] = batch_exclusive_ent_mask[i]\n",
        "        \n",
        "        batch_input_tok_padded = torch.LongTensor(batch_input_tok_padded)\n",
        "        batch_input_tok_type_padded = torch.LongTensor(batch_input_tok_type_padded)\n",
        "        batch_input_tok_pos_padded = torch.LongTensor(batch_input_tok_pos_padded)\n",
        "        batch_input_tok_mask_padded = torch.LongTensor(batch_input_tok_mask_padded)\n",
        "\n",
        "        batch_input_ent_padded = torch.LongTensor(batch_input_ent_padded)\n",
        "        batch_input_ent_text_padded = torch.LongTensor(batch_input_ent_text_padded)\n",
        "        batch_input_ent_text_length = torch.LongTensor(batch_input_ent_text_length)\n",
        "        batch_input_ent_type_padded = torch.LongTensor(batch_input_ent_type_padded)\n",
        "        batch_input_ent_mask_padded = torch.LongTensor(batch_input_ent_mask_padded)\n",
        "        batch_core_entity_mask_padded = torch.BoolTensor(batch_core_entity_mask_padded)\n",
        "        batch_input_ent_local_id_padded = torch.LongTensor(batch_input_ent_local_id_padded)\n",
        "        if self.is_train:\n",
        "            batch_exclusive_ent_mask_padded = torch.LongTensor(batch_exclusive_ent_mask_padded)\n",
        "        else:\n",
        "            batch_exclusive_ent_mask_padded = None\n",
        "\n",
        "        batch_input_tok_final, batch_input_tok_labels = mask_tokens(batch_input_tok_padded, self.tokenizer, mlm_probability=self.mlm_probability)\n",
        "        batch_input_ent_final, batch_input_ent_mask_type, batch_input_ent_labels = mask_ent(batch_input_ent_padded, batch_input_ent_local_id_padded, batch_core_entity_mask_padded, self.entity_wikid2id, mlm_probability=self.ent_mlm_probability, mall_probability=self.mall_probability, is_train=self.is_train)\n",
        "\n",
        "        #random sample candidate\n",
        "        # indice_mask = (list(itertools.chain(*[[i]*len(x) for i,x in enumerate(batch_all_entity_set)])), list(itertools.chain(*batch_all_entity_set)))\n",
        "        # batch_candidate_entity_set = self.generate_random_candidate(batch_size, indice_mask)\n",
        "        batch_candidate_entity_set = self.generate_random_candidate_v2(batch_size, batch_all_entity_set, self.candidate_distribution, ent_cand=batch_entity_cand)\n",
        "        batch_candidate_entity_set = torch.LongTensor(batch_candidate_entity_set)\n",
        "        if not self.is_train:\n",
        "            batch_core_entity_label = np.zeros([batch_size, self.max_entity_candidate], dtype=bool)\n",
        "            for i in range(batch_size):\n",
        "                batch_core_entity_label[i, batch_core_ent_local_id[i]] = True\n",
        "            batch_core_entity_label = torch.BoolTensor(batch_core_entity_label)\n",
        "        else:\n",
        "            batch_core_entity_label = None\n",
        "        return batch_table_id,batch_input_tok_final, batch_input_tok_type_padded, batch_input_tok_pos_padded, batch_input_tok_labels, batch_input_tok_mask_padded, \\\n",
        "                batch_input_ent_text_padded, batch_input_ent_text_length, batch_input_ent_mask_type, batch_input_ent_final, batch_input_ent_type_padded, batch_input_ent_labels, batch_input_ent_mask_padded, batch_candidate_entity_set, batch_core_entity_label, batch_exclusive_ent_mask_padded, batch_core_entity_mask_padded\n",
        "\n",
        "class pretrain_hybrid_table_collate_fn_CER(pretrain_hybrid_table_collate_fn):\n",
        "    def __init__(self, tokenizer, entity_wikid2id, max_entity_candidate=1000, is_train=True, candidate_distribution=None, use_cand=True, seed_num=1, random_sample=True):\n",
        "        self.tokenizer = tokenizer\n",
        "        self.entity_wikid2id = entity_wikid2id\n",
        "        self.max_entity_candidate = max_entity_candidate\n",
        "        self.is_train = is_train\n",
        "        self.candidate_distribution = candidate_distribution\n",
        "        self.use_cand = use_cand\n",
        "        self.seed = seed_num\n",
        "        self.random_sample = random_sample\n",
        "    def __call__(self, raw_batch):\n",
        "        batch_table_id,batch_input_tok,batch_input_tok_type,batch_input_tok_pos,batch_input_tok_length, \\\n",
        "            batch_input_ent,batch_input_ent_text,batch_input_ent_cell_length,batch_input_ent_length,batch_input_ent_local_id,batch_core_entities, \\\n",
        "            batch_entity_cand = zip(*raw_batch)\n",
        "        \n",
        "        if batch_entity_cand[0] is None and self.use_cand:\n",
        "            raise Exception\n",
        "\n",
        "        max_input_tok_length = max(batch_input_tok_length)\n",
        "        max_input_ent_length = max(batch_input_ent_length)\n",
        "        max_input_cell_length = max([z.shape[-1] for z in batch_input_ent_text])\n",
        "        batch_size = len(batch_input_tok_length)\n",
        "\n",
        "        batch_input_tok_padded = np.zeros([batch_size, max_input_tok_length], dtype=int)\n",
        "        batch_input_tok_type_padded = np.zeros([batch_size, max_input_tok_length], dtype=int)\n",
        "        batch_input_tok_pos_padded = np.zeros([batch_size, max_input_tok_length], dtype=int)\n",
        "\n",
        "        batch_input_ent_padded = np.zeros([batch_size, max_input_ent_length], dtype=int)\n",
        "        batch_input_ent_text_padded = np.zeros([batch_size, max_input_ent_length, max_input_cell_length], dtype=int)\n",
        "        batch_input_ent_text_length = np.ones([batch_size, max_input_ent_length], dtype=int)\n",
        "        batch_input_ent_type_padded = np.zeros([batch_size, max_input_ent_length], dtype=int)\n",
        "        batch_input_ent_type_padded[:, 0] = 2\n",
        "        batch_input_ent_ent_mask_padded = np.zeros([batch_size, max_input_ent_length], dtype=int)\n",
        "        batch_input_ent_ent_mask_padded[:, 1] = 1\n",
        "\n",
        "        batch_input_mask_padded = np.zeros([batch_size, 1, max_input_tok_length+max_input_ent_length], dtype=int)\n",
        "\n",
        "        batch_seed_ent = []\n",
        "        batch_target_ent = np.full([batch_size, self.max_entity_candidate], 0, dtype=int)\n",
        "        for i, (tok_l, ent_l) in enumerate(zip(batch_input_tok_length, batch_input_ent_length)):\n",
        "            batch_input_tok_padded[i, :tok_l] = batch_input_tok[i]\n",
        "            batch_input_tok_type_padded[i, :tok_l] = batch_input_tok_type[i]\n",
        "            batch_input_tok_pos_padded[i, :tok_l] = batch_input_tok_pos[i]\n",
        "            batch_input_ent_padded[i, :ent_l] = batch_input_ent[i]\n",
        "            batch_input_ent_text_padded[i, :ent_l, :batch_input_ent_text[i].shape[-1]] = batch_input_ent_text[i]\n",
        "            batch_input_ent_text_length[i, :ent_l] = batch_input_ent_cell_length[i]\n",
        "            batch_input_ent_type_padded[i, 1:ent_l] = 3\n",
        "\n",
        "            if self.seed >0:\n",
        "                tmp_cand_core = set(range(ent_l-2))\n",
        "                tmp_selected_core = random.sample(tmp_cand_core,self.seed)\n",
        "                batch_seed_ent.append(batch_input_ent_local_id[i][tmp_selected_core])\n",
        "                tmp_cand_core = list(tmp_cand_core-set(tmp_selected_core))\n",
        "                # batch_target_ent[i,:len(tmp_cand_core)] = batch_input_ent_local_id[i][tmp_cand_core]\n",
        "                batch_target_ent[i,batch_input_ent_local_id[i][tmp_cand_core]] = 1\n",
        "                batch_input_ent_ent_mask_padded[i,2:][tmp_selected_core] = 1\n",
        "            elif self.seed == 0:\n",
        "                batch_input_ent_ent_mask_padded[i,2:ent_l] = 0\n",
        "                batch_seed_ent.append([])\n",
        "                batch_target_ent[i,batch_input_ent_local_id[i]] = 1\n",
        "            else:\n",
        "                batch_input_ent_ent_mask_padded[i,2:ent_l] = 1\n",
        "            batch_input_ent_ent_mask_padded[i,0] = batch_input_ent[i][0]!=0\n",
        "\n",
        "            batch_input_mask_padded[i, :, :tok_l] = 1\n",
        "\n",
        "        batch_input_mask_padded[:,0,max_input_tok_length:] = batch_input_ent_ent_mask_padded        \n",
        "\n",
        "        \n",
        "        batch_input_tok_padded = torch.LongTensor(batch_input_tok_padded)\n",
        "        batch_input_tok_type_padded = torch.LongTensor(batch_input_tok_type_padded)\n",
        "        batch_input_tok_pos_padded = torch.LongTensor(batch_input_tok_pos_padded)\n",
        "\n",
        "        batch_input_ent_padded = torch.LongTensor(batch_input_ent_padded)\n",
        "        batch_input_ent_text_padded = torch.LongTensor(batch_input_ent_text_padded)\n",
        "        batch_input_ent_text_length = torch.LongTensor(batch_input_ent_text_length)\n",
        "        batch_input_ent_type_padded = torch.LongTensor(batch_input_ent_type_padded)\n",
        "\n",
        "        batch_input_mask_padded = torch.LongTensor(batch_input_mask_padded)\n",
        "        batch_seed_ent = torch.LongTensor(batch_seed_ent)\n",
        "        batch_target_ent = torch.LongTensor(batch_target_ent)\n",
        "\n",
        "        #random sample candidate\n",
        "        batch_candidate_entity_set = self.generate_random_candidate_v2(batch_size, batch_core_entities, self.candidate_distribution, ent_cand=batch_entity_cand)\n",
        "        batch_candidate_entity_set = torch.LongTensor(batch_candidate_entity_set)\n",
        "        return batch_table_id,batch_input_tok_padded, batch_input_tok_type_padded, batch_input_tok_pos_padded, \\\n",
        "                batch_input_ent_padded, batch_input_ent_text_padded, batch_input_ent_text_length, batch_input_ent_type_padded, \\\n",
        "                batch_input_mask_padded, batch_candidate_entity_set, batch_seed_ent, batch_target_ent\n",
        "\n",
        "def CER_build_input(pgEnt, pgTitle, secTitle, caption, header, seed_entities, seed_entities_text, entity_cand, config):\n",
        "    tokenized_pgTitle = config.tokenizer.encode(pgTitle, max_length=config.max_title_length, add_special_tokens=False)\n",
        "    tokenized_meta = tokenized_pgTitle+\\\n",
        "                    config.tokenizer.encode(secTitle, max_length=config.max_title_length, add_special_tokens=False)\n",
        "    if caption != secTitle:\n",
        "        tokenized_meta += config.tokenizer.encode(caption, max_length=config.max_title_length, add_special_tokens=False)\n",
        "    tokenized_header = config.tokenizer.encode(header, max_length=config.max_header_length, add_special_tokens=False)\n",
        "    input_tok = []\n",
        "    input_tok_pos = []\n",
        "    input_tok_type = []\n",
        "    tokenized_meta_length = len(tokenized_meta)\n",
        "    input_tok += tokenized_meta\n",
        "    input_tok_pos += list(range(tokenized_meta_length))\n",
        "    input_tok_type += [0]*tokenized_meta_length\n",
        "    tokenized_header_length = len(tokenized_header)\n",
        "    input_tok += tokenized_header\n",
        "    input_tok_pos += list(range(tokenized_header_length))\n",
        "    input_tok_type += [1]*tokenized_header_length\n",
        "\n",
        "    input_ent = [config.entity_wikid2id[entity] for entity in seed_entities]\n",
        "    input_ent_text = [config.tokenizer.encode(entity_text, max_length=config.max_cell_length, add_special_tokens=False) if len(entity_text)!=0 else [] for entity_text in seed_entities_text]\n",
        "    input_ent = [config.entity_wikid2id[pgEnt] if pgEnt!=-1 else 0, config.entity_wikid2id['[CORE_ENT_MASK]']] + input_ent\n",
        "    input_ent_text = [tokenized_pgTitle[:config.max_cell_length], []] + input_ent_text\n",
        "    input_ent_cell_length = [len(x) if len(x)!=0 else 1 for x in input_ent_text]\n",
        "    max_cell_length = max(input_ent_cell_length)\n",
        "    input_ent_text_padded = np.zeros([len(input_ent_text), max_cell_length], dtype=int)\n",
        "    for i,x in enumerate(input_ent_text):\n",
        "        input_ent_text_padded[i, :len(x)] = x\n",
        "\n",
        "    input_mask = np.ones([1, 1, len(input_tok)+len(input_ent)], dtype=int)\n",
        "    if input_ent[0]==0:\n",
        "        input_mask[0,:,len(input_tok)] = 0\n",
        "    input_mask = torch.LongTensor(input_mask)\n",
        "\n",
        "    input_tok = torch.LongTensor([input_tok])\n",
        "    input_tok_type = torch.LongTensor([input_tok_type])\n",
        "    input_tok_pos = torch.LongTensor([input_tok_pos])\n",
        "    \n",
        "    input_ent = torch.LongTensor([input_ent])\n",
        "    input_ent_text = torch.LongTensor([input_ent_text_padded])\n",
        "    input_ent_cell_length = torch.LongTensor([input_ent_cell_length])\n",
        "    input_ent_type = torch.full_like(input_ent, 3)\n",
        "    input_ent_type[:, 0] = 2\n",
        "\n",
        "    candidate_entity_set = [config.entity_wikid2id[entity] for entity in entity_cand]\n",
        "    candidate_entity_set = torch.LongTensor([candidate_entity_set])\n",
        "\n",
        "    return input_tok, input_tok_type, input_tok_pos, input_mask,\\\n",
        "            input_ent, input_ent_text, input_ent_cell_length, input_ent_type, candidate_entity_set\n",
        "\n",
        "def CF_build_input(pgEnt, pgTitle, secTitle, caption, headers, core_entities, core_entities_text, entity_cand, config):\n",
        "    tokenized_pgTitle = config.tokenizer.encode(pgTitle, max_length=config.max_title_length, add_special_tokens=False)\n",
        "    tokenized_meta = tokenized_pgTitle+\\\n",
        "                    config.tokenizer.encode(secTitle, max_length=config.max_title_length, add_special_tokens=False)\n",
        "    if caption != secTitle:\n",
        "        tokenized_meta += config.tokenizer.encode(caption, max_length=config.max_title_length, add_special_tokens=False)\n",
        "    tokenized_headers = [config.tokenizer.encode(header, max_length=config.max_header_length, add_special_tokens=False) for header in headers]\n",
        "    input_tok = []\n",
        "    input_tok_pos = []\n",
        "    input_tok_type = []\n",
        "    tokenized_meta_length = len(tokenized_meta)\n",
        "    input_tok += tokenized_meta\n",
        "    input_tok_pos += list(range(tokenized_meta_length))\n",
        "    input_tok_type += [0]*tokenized_meta_length\n",
        "    header_span = []\n",
        "    for tokenized_header in tokenized_headers:\n",
        "        tokenized_header_length = len(tokenized_header)\n",
        "        header_span.append([len(input_tok), len(input_tok)+tokenized_header_length])\n",
        "        input_tok += tokenized_header\n",
        "        input_tok_pos += list(range(tokenized_header_length))\n",
        "        input_tok_type += [1]*tokenized_header_length\n",
        "\n",
        "    input_ent = [config.entity_wikid2id[pgEnt] if pgEnt!=-1 else 0]\n",
        "    input_ent_text = [tokenized_pgTitle[:config.max_cell_length]]\n",
        "    input_ent_type = [2]\n",
        "\n",
        "    input_ent += [config.entity_wikid2id[entity] for entity in core_entities]\n",
        "    input_ent_text += [config.tokenizer.encode(entity_text, max_length=config.max_cell_length, add_special_tokens=False) if len(entity_text)!=0 else [] for entity_text in core_entities_text]\n",
        "    input_ent_type += [3]*len(core_entities)\n",
        "\n",
        "    input_ent += [config.entity_wikid2id['[ENT_MASK]']]*len(core_entities)\n",
        "    input_ent_text += [[]]*len(core_entities)\n",
        "    input_ent_type += [4]*len(core_entities)\n",
        "\n",
        "    input_ent_cell_length = [len(x) if len(x)!=0 else 1 for x in input_ent_text]\n",
        "    max_cell_length = max(input_ent_cell_length)\n",
        "    input_ent_text_padded = np.zeros([len(input_ent_text), max_cell_length], dtype=int)\n",
        "    for i,x in enumerate(input_ent_text):\n",
        "        input_ent_text_padded[i, :len(x)] = x\n",
        "    assert len(input_ent) == 1+2*len(core_entities)\n",
        "\n",
        "    input_tok_mask = np.ones([1, len(input_tok), len(input_tok)+len(input_ent)], dtype=int)\n",
        "    input_tok_mask[0, header_span[0][0]:header_span[0][1], len(input_tok)+1+len(core_entities):] = 0\n",
        "    input_tok_mask[0, header_span[1][0]:header_span[1][1], len(input_tok)+1:len(input_tok)+1+len(core_entities)] = 0\n",
        "    input_tok_mask[0, :, len(input_tok)+1+len(core_entities):] = 0\n",
        "\n",
        "    input_ent_mask = np.ones([1, len(input_ent), len(input_tok)+len(input_ent)], dtype=int)\n",
        "    input_ent_mask[0, 1:1+len(core_entities), header_span[1][0]:header_span[1][1]] = 0\n",
        "    input_ent_mask[0, 1:1+len(core_entities), len(input_tok)+1+len(core_entities):] = np.eye(len(core_entities), dtype=int)\n",
        "    # input_ent_mask[0, 1:1+len(core_entities), len(input_tok)+1:len(input_tok)+1+len(core_entities)] = np.eye(len(core_entities), dtype=int)\n",
        "    input_ent_mask[0, 1+len(core_entities):, header_span[0][0]:header_span[0][1]] = 0\n",
        "    input_ent_mask[0, 1+len(core_entities):, len(input_tok)+1:len(input_tok)+1+len(core_entities)] = np.eye(len(core_entities), dtype=int)\n",
        "    input_ent_mask[0, 1+len(core_entities):, len(input_tok)+1+len(core_entities):] = np.eye(len(core_entities), dtype=int)\n",
        "\n",
        "    input_tok_mask = torch.LongTensor(input_tok_mask)\n",
        "    input_ent_mask = torch.LongTensor(input_ent_mask)\n",
        "\n",
        "    input_tok = torch.LongTensor([input_tok])\n",
        "    input_tok_type = torch.LongTensor([input_tok_type])\n",
        "    input_tok_pos = torch.LongTensor([input_tok_pos])\n",
        "    \n",
        "    input_ent = torch.LongTensor([input_ent])\n",
        "    input_ent_text = torch.LongTensor([input_ent_text_padded])\n",
        "    input_ent_cell_length = torch.LongTensor([input_ent_cell_length])\n",
        "    input_ent_type = torch.LongTensor([input_ent_type])\n",
        "\n",
        "    input_ent_mask_type = torch.zeros_like(input_ent)\n",
        "    input_ent_mask_type[:,:,1+len(core_entities):] = config.entity_wikid2id['[ENT_MASK]']\n",
        "\n",
        "    candidate_entity_set = [config.entity_wikid2id[entity] for entity in entity_cand]\n",
        "    candidate_entity_set = torch.LongTensor([candidate_entity_set])\n",
        "    \n",
        "\n",
        "    return input_tok, input_tok_type, input_tok_pos, input_tok_mask,\\\n",
        "            input_ent, input_ent_text, input_ent_cell_length, input_ent_type, input_ent_mask_type, input_ent_mask, candidate_entity_set\n",
        "\n",
        "\n",
        "class HybridTableLoader(DataLoader):\n",
        "    \"\"\"\n",
        "    Base class for all data loaders\n",
        "    \"\"\"\n",
        "    def __init__(\n",
        "        self,\n",
        "        dataset,\n",
        "        batch_size,\n",
        "        max_entity_candidate=1000,\n",
        "        sample_distribution=None,\n",
        "        shuffle=True,\n",
        "        is_train = True,\n",
        "        num_workers=0,\n",
        "        mlm_probability=0.15,\n",
        "        ent_mlm_probability=0.15,\n",
        "        mall_probability=0.5,\n",
        "        sampler=None,\n",
        "        use_cand=True,\n",
        "        mode=0,\n",
        "        random_sample = True,\n",
        "        seed_num = 1,\n",
        "        use_visibility = True\n",
        "    ):\n",
        "        self.mlm_probability = mlm_probability\n",
        "        self.ent_mlm_probability = ent_mlm_probability\n",
        "        self.mall_probability = mall_probability\n",
        "        self.max_entity_candidate=max_entity_candidate\n",
        "        self.shuffle = shuffle\n",
        "        self.use_cand = use_cand\n",
        "        self.random_sample = random_sample\n",
        "        if sampler is not None:\n",
        "            self.shuffle = False\n",
        "\n",
        "        self.batch_idx = 0\n",
        "        self.n_samples = len(dataset)\n",
        "        self.is_train = is_train\n",
        "        self.sample_distribution = sample_distribution\n",
        "        self.mode = mode\n",
        "        if self.mode == 0:\n",
        "            self.collate_fn = pretrain_hybrid_table_collate_fn(dataset.tokenizer, dataset.entity_wikid2id, self.mlm_probability, self.ent_mlm_probability, self.mall_probability, self.max_entity_candidate, is_train=self.is_train, candidate_distribution=self.sample_distribution, use_cand=self.use_cand, random_sample=self.random_sample, use_visibility=use_visibility)\n",
        "        elif self.mode == 1:\n",
        "            self.collate_fn = pretrain_hybrid_table_collate_fn_CER(dataset.tokenizer, dataset.entity_wikid2id, self.max_entity_candidate, is_train=self.is_train, candidate_distribution=self.sample_distribution, use_cand=self.use_cand, random_sample=self.random_sample, seed_num=seed_num)\n",
        "        else:\n",
        "            raise Exception\n",
        "\n",
        "        self.init_kwargs = {\n",
        "            \"dataset\": dataset,\n",
        "            \"batch_size\": batch_size,\n",
        "            \"shuffle\": self.shuffle,\n",
        "            \"collate_fn\": self.collate_fn,\n",
        "            \"num_workers\": num_workers,\n",
        "            \"sampler\": sampler\n",
        "        }\n",
        "        super().__init__(**self.init_kwargs)"
      ]
    },
    {
      "cell_type": "markdown",
      "metadata": {
        "id": "e6ycl7s9idDJ"
      },
      "source": [
        "**Making changes to py file hybrid_data_loaders. This script uses a bert uncase model which was perhaps developed by them . However that is not something that is in the data file even if we download them. Luckily Hugging face has a bert-uncase model that works fine here!!!**"
      ]
    },
    {
      "cell_type": "code",
      "execution_count": null,
      "metadata": {
        "colab": {
          "base_uri": "https://localhost:8080/",
          "height": 130,
          "referenced_widgets": [
            "f3c673af049f4fe1a0e173fda5072e0f",
            "66edaf101952408280bb8eef8f055598",
            "33cf984bd3e746dd80520246c549fc48",
            "259c0f119a3f4a99b203011b334d2ff7",
            "291fd2641b7c48f1864ff7891b4b8a4f",
            "58226e444da0440c9561e6d8e64a9815",
            "29dcee667e2449f6ab9cd327fe9205a2",
            "0d147dda4d4c40d0a32656909bc40f32",
            "62feaf1bed9d4a079d043b2e138bfd3e",
            "35f9fed1f7584617ac9ea77ed7434599",
            "b8dbcd692cf4475086209494cbdce553",
            "862260d31736412da95290a63b4c94f5",
            "2f2a465f8113415f8c7208e6c6f2d3e7",
            "5806ca38e04c45a38f20570d4dcac35d",
            "5ea12ef2d0e34e07bf8181b138d2767a",
            "cf919b7ec14944fcb8f8c0f73de5bb66",
            "1aad611696b84fa3aa58f3e40e908ae0",
            "80ae3d161108468cbb20508c5200cbc1",
            "d9945f7ce3644c22b811552fce099cf9",
            "c414a18fe2ee44fc9d002e8aeb7298b2",
            "11e72d0ea8e04eeda622c741d92ee92d",
            "b536af28704640749c381ef784279ed4",
            "9fcfdfca9b57429092911fc72738584d",
            "4947b45065274af2a33e7b1e7ee7a2f7",
            "61467f755a974b589462eb81d6aa255f",
            "443557dadbd04a1aadbc726bae31839d",
            "8cb355e03a1141e5a6f9834de0b555ee",
            "f2e5f4fb184f49b7a0774683930bf9c0",
            "c22000f10b28464b8ec5049024be4e07",
            "e7cc119ac20149c8b176cd86c8269de0",
            "b536ecb0f09e4521bfd1a13772b85277",
            "cbcef1d47db9403f9d37512f3ccf5ac3",
            "14d277bc95b3425a98999343680b5278"
          ]
        },
        "id": "XisWSljvYSfy",
        "outputId": "123cb2de-2a87-4846-e3b4-3c2248cc74fc"
      },
      "outputs": [
        {
          "output_type": "display_data",
          "data": {
            "text/plain": [
              "Downloading:   0%|          | 0.00/226k [00:00<?, ?B/s]"
            ],
            "application/vnd.jupyter.widget-view+json": {
              "version_major": 2,
              "version_minor": 0,
              "model_id": "f3c673af049f4fe1a0e173fda5072e0f"
            }
          },
          "metadata": {}
        },
        {
          "output_type": "display_data",
          "data": {
            "text/plain": [
              "Downloading:   0%|          | 0.00/28.0 [00:00<?, ?B/s]"
            ],
            "application/vnd.jupyter.widget-view+json": {
              "version_major": 2,
              "version_minor": 0,
              "model_id": "862260d31736412da95290a63b4c94f5"
            }
          },
          "metadata": {}
        },
        {
          "output_type": "display_data",
          "data": {
            "text/plain": [
              "Downloading:   0%|          | 0.00/570 [00:00<?, ?B/s]"
            ],
            "application/vnd.jupyter.widget-view+json": {
              "version_major": 2,
              "version_minor": 0,
              "model_id": "9fcfdfca9b57429092911fc72738584d"
            }
          },
          "metadata": {}
        },
        {
          "output_type": "stream",
          "name": "stdout",
          "text": [
            "try loading preprocessed data from /content/drive/MyDrive/TURL/data/procressed_hybrid/dev.pickle\n"
          ]
        }
      ],
      "source": [
        "dataset = WikiHybridTableDataset(data_dir,entity_vocab,max_cell=100, max_input_tok=350, max_input_ent=150, src=\"dev\", max_length = [50, 10, 10], force_new=False, tokenizer = None, mode=0)\n"
      ]
    },
    {
      "cell_type": "code",
      "execution_count": null,
      "metadata": {
        "id": "DToa-53AhDBr"
      },
      "outputs": [],
      "source": [
        ""
      ]
    },
    {
      "cell_type": "code",
      "execution_count": null,
      "metadata": {
        "id": "AaZnb2KATd5q"
      },
      "outputs": [],
      "source": [
        "# This is an example of converting an arbitrary table to input\n",
        "# Here we show an example for cell filling task\n",
        "# The input entites are entities in the subject column, we append [ENT_MASK] and use its representation to match with the candidate entities\n",
        "def CF_build_input(pgEnt, pgTitle, secTitle, caption, headers, core_entities, core_entities_text, entity_cand, config):\n",
        "    tokenized_pgTitle = config.tokenizer.encode(pgTitle, max_length=config.max_title_length, add_special_tokens=False)\n",
        "    tokenized_meta = tokenized_pgTitle+\\\n",
        "                    config.tokenizer.encode(secTitle, max_length=config.max_title_length, add_special_tokens=False)\n",
        "    if caption != secTitle:\n",
        "        tokenized_meta += config.tokenizer.encode(caption, max_length=config.max_title_length, add_special_tokens=False)\n",
        "    tokenized_headers = [config.tokenizer.encode(header, max_length=config.max_header_length, add_special_tokens=False) for header in headers]\n",
        "    input_tok = []\n",
        "    input_tok_pos = []\n",
        "    input_tok_type = []\n",
        "    tokenized_meta_length = len(tokenized_meta)\n",
        "    input_tok += tokenized_meta\n",
        "    input_tok_pos += list(range(tokenized_meta_length))\n",
        "    input_tok_type += [0]*tokenized_meta_length\n",
        "    header_span = []\n",
        "    for tokenized_header in tokenized_headers:\n",
        "        tokenized_header_length = len(tokenized_header)\n",
        "        header_span.append([len(input_tok), len(input_tok)+tokenized_header_length])\n",
        "        input_tok += tokenized_header\n",
        "        input_tok_pos += list(range(tokenized_header_length))\n",
        "        input_tok_type += [1]*tokenized_header_length\n",
        "\n",
        "    input_ent = [config.entity_wikid2id[pgEnt] if pgEnt!=-1 else 0]\n",
        "    input_ent_text = [tokenized_pgTitle[:config.max_cell_length]]\n",
        "    input_ent_type = [2]\n",
        "    \n",
        "    # core entities in the subject column\n",
        "    input_ent += [config.entity_wikid2id[entity] for entity in core_entities]\n",
        "    input_ent_text += [config.tokenizer.encode(entity_text, max_length=config.max_cell_length, add_special_tokens=False) if len(entity_text)!=0 else [] for entity_text in core_entities_text]\n",
        "    input_ent_type += [3]*len(core_entities)\n",
        "    \n",
        "    # append [ent_mask]\n",
        "    input_ent += [config.entity_wikid2id['[ENT_MASK]']]*len(core_entities)\n",
        "    input_ent_text += [[]]*len(core_entities)\n",
        "    input_ent_type += [4]*len(core_entities)\n",
        "\n",
        "    input_ent_cell_length = [len(x) if len(x)!=0 else 1 for x in input_ent_text]\n",
        "    max_cell_length = max(input_ent_cell_length)\n",
        "    input_ent_text_padded = np.zeros([len(input_ent_text), max_cell_length], dtype=int)\n",
        "    for i,x in enumerate(input_ent_text):\n",
        "        input_ent_text_padded[i, :len(x)] = x\n",
        "    assert len(input_ent) == 1+2*len(core_entities)\n",
        "\n",
        "    input_tok_mask = np.ones([1, len(input_tok), len(input_tok)+len(input_ent)], dtype=int)\n",
        "    input_tok_mask[0, header_span[0][0]:header_span[0][1], len(input_tok)+1+len(core_entities):] = 0\n",
        "    input_tok_mask[0, header_span[1][0]:header_span[1][1], len(input_tok)+1:len(input_tok)+1+len(core_entities)] = 0\n",
        "    input_tok_mask[0, :, len(input_tok)+1+len(core_entities):] = 0\n",
        "\n",
        "    # build the mask for entities\n",
        "    input_ent_mask = np.ones([1, len(input_ent), len(input_tok)+len(input_ent)], dtype=int)\n",
        "    input_ent_mask[0, 1:1+len(core_entities), header_span[1][0]:header_span[1][1]] = 0\n",
        "    input_ent_mask[0, 1:1+len(core_entities), len(input_tok)+1+len(core_entities):] = np.eye(len(core_entities), dtype=int)\n",
        "    input_ent_mask[0, 1+len(core_entities):, header_span[0][0]:header_span[0][1]] = 0\n",
        "    input_ent_mask[0, 1+len(core_entities):, len(input_tok)+1:len(input_tok)+1+len(core_entities)] = np.eye(len(core_entities), dtype=int)\n",
        "    input_ent_mask[0, 1+len(core_entities):, len(input_tok)+1+len(core_entities):] = np.eye(len(core_entities), dtype=int)\n",
        "\n",
        "    input_tok_mask = torch.LongTensor(input_tok_mask)\n",
        "    input_ent_mask = torch.LongTensor(input_ent_mask)\n",
        "\n",
        "    input_tok = torch.LongTensor([input_tok])\n",
        "    input_tok_type = torch.LongTensor([input_tok_type])\n",
        "    input_tok_pos = torch.LongTensor([input_tok_pos])\n",
        "    \n",
        "    input_ent = torch.LongTensor([input_ent])\n",
        "    input_ent_text = torch.LongTensor([input_ent_text_padded])\n",
        "    input_ent_cell_length = torch.LongTensor([input_ent_cell_length])\n",
        "    input_ent_type = torch.LongTensor([input_ent_type])\n",
        "\n",
        "    input_ent_mask_type = torch.zeros_like(input_ent)\n",
        "    input_ent_mask_type[:,1+len(core_entities):] = config.entity_wikid2id['[ENT_MASK]']\n",
        "\n",
        "    candidate_entity_set = [config.entity_wikid2id[entity] for entity in entity_cand]\n",
        "    candidate_entity_set = torch.LongTensor([candidate_entity_set])\n",
        "    \n",
        "\n",
        "    return input_tok, input_tok_type, input_tok_pos, input_tok_mask,\\\n",
        "            input_ent, input_ent_text, input_ent_cell_length, input_ent_type, input_ent_mask_type, input_ent_mask, candidate_entity_set"
      ]
    },
    {
      "cell_type": "code",
      "source": [
        ""
      ],
      "metadata": {
        "id": "f-Aa1OwxQDKX"
      },
      "execution_count": null,
      "outputs": []
    },
    {
      "cell_type": "markdown",
      "source": [
        "**The cell below is edited. Running the original cell gives the following errorr:**"
      ],
      "metadata": {
        "id": "LW6heYb9QDsp"
      }
    },
    {
      "cell_type": "markdown",
      "source": [
        "***RuntimeError: Expected all tensors to be on the same device, but found at least two devices, cpu and cuda:0! (when checking argument for argument index in method wrapper__index_select)***"
      ],
      "metadata": {
        "id": "tfdIQw3EQdqU"
      }
    },
    {
      "cell_type": "code",
      "source": [
        ""
      ],
      "metadata": {
        "id": "LtkEn8elQcu3"
      },
      "execution_count": null,
      "outputs": []
    },
    {
      "cell_type": "code",
      "execution_count": null,
      "metadata": {
        "colab": {
          "base_uri": "https://localhost:8080/"
        },
        "id": "0rn6rEdHTd5s",
        "outputId": "15e17714-d209-4bde-ffad-6feea4910870"
      },
      "outputs": [
        {
          "output_type": "stream",
          "name": "stderr",
          "text": [
            "\r  0%|          | 0/9075 [00:00<?, ?it/s]Truncation was not explicitly activated but `max_length` is provided a specific value, please use `truncation=True` to explicitly truncate examples to max length. Defaulting to 'longest_first' truncation strategy. If you encode pairs of sequences (GLUE-style) with the tokenizer you can select this strategy more precisely by providing a specific strategy to `truncation`.\n",
            "/usr/local/lib/python3.7/dist-packages/ipykernel_launcher.py:67: UserWarning: Creating a tensor from a list of numpy.ndarrays is extremely slow. Please consider converting the list to a single numpy.ndarray with numpy.array() before converting to a tensor. (Triggered internally at  ../torch/csrc/utils/tensor_new.cpp:210.)\n",
            "100%|██████████| 9075/9075 [05:04<00:00, 29.78it/s]\n"
          ]
        }
      ],
      "source": [
        "results = []\n",
        "for table_id,pgEnt,pgTitle,secTitle,caption,(h1, h2),data_sample in tqdm(dev_data):\n",
        "    result = []\n",
        "    while len(data_sample)!=0:\n",
        "        core_entities = []\n",
        "        core_entities_text = []\n",
        "        target_entities = []\n",
        "        all_entity_cand = set()\n",
        "        entity_cand = []\n",
        "        for (core_e, core_e_text), target_e in data_sample[:100]:\n",
        "            assert target_e in entity_wikid2id\n",
        "            core_entities.append(core_e)\n",
        "            core_entities_text.append(core_e_text)\n",
        "            target_entities.append(target_e)\n",
        "            cands = CF.get_cand_row(core_e, h2)\n",
        "            cands = {key:value for key,value in cands.items() if key in entity_wikid2id}\n",
        "            entity_cand.append(cands)\n",
        "            all_entity_cand |= set(cands.keys()) \n",
        "        all_entity_cand = list(all_entity_cand)\n",
        "        input_tok, input_tok_type, input_tok_pos, input_tok_mask,input_ent, input_ent_text, input_ent_text_length, input_ent_type, input_ent_mask_type, input_ent_mask,candidate_entity_set = CF_build_input(pgEnt, pgTitle, secTitle, caption, [h1, h2], core_entities, core_entities_text, all_entity_cand, dataset)\n",
        "        input_tok = input_tok.to(device)\n",
        "        input_tok_type = input_tok_type.to(device)\n",
        "        input_tok_pos = input_tok_pos.to(device)\n",
        "        input_tok_mask = input_tok_mask.to(device)\n",
        "        input_ent_text = input_ent_text.to(device)\n",
        "        input_ent_text_length = input_ent_text_length.to(device)\n",
        "        input_ent = input_ent.to(device)\n",
        "        input_ent_type = input_ent_type.to(device)\n",
        "        input_ent_mask_type = input_ent_mask_type.to(device)\n",
        "        input_ent_mask = input_ent_mask.to(device)\n",
        "        candidate_entity_set = candidate_entity_set.to(device)\n",
        "\n",
        "        # added line\n",
        "        #-------------------------\n",
        "\n",
        "        model.to(device=device)\n",
        "\n",
        "        #------------------------\n",
        "        with torch.no_grad():\n",
        "            tok_outputs, ent_outputs = model(input_tok, input_tok_type, input_tok_pos, input_tok_mask,\n",
        "                            input_ent_text, input_ent_text_length, input_ent_mask_type,input_ent, input_ent_type, input_ent_mask, candidate_entity_set)\n",
        "            num_sample = len(target_entities)\n",
        "            ent_prediction_scores = ent_outputs[0][0,num_sample+1:].tolist()\n",
        "        for i, target_e in enumerate(target_entities):\n",
        "            predictions = ent_prediction_scores[i]\n",
        "            if len(entity_cand[i]) == 0:\n",
        "                result.append([target_e, entity_cand[i], [], []])\n",
        "            else:\n",
        "                tmp_cand_scores = []\n",
        "                for j, cand_e in enumerate(all_entity_cand):\n",
        "                    if cand_e in entity_cand[i]:\n",
        "                        tmp_cand_scores.append([cand_e, predictions[j]])\n",
        "                sorted_cand_scores =  sorted(tmp_cand_scores, key=lambda z:z[1], reverse=True)\n",
        "                sorted_cands = [z[0] for z in sorted_cand_scores]\n",
        "                # use H2H as baseline\n",
        "                base_sorted_cands = CF.rank_cand_h2h(h2, entity_cand[i])\n",
        "                result.append([target_e, entity_cand[i], sorted_cands, base_sorted_cands])\n",
        "        data_sample = data_sample[100:]\n",
        "    results.append({\n",
        "        'pgTitle': pgTitle,\n",
        "        'secTitle': secTitle,\n",
        "        'caption': caption,\n",
        "        'headers': [h1, h2],\n",
        "        'result': result\n",
        "    })"
      ]
    },
    {
      "cell_type": "code",
      "execution_count": null,
      "metadata": {
        "id": "vs6AdE6PTd8A",
        "outputId": "abe49b70-f6c6-4cdb-a814-e09988628ede",
        "colab": {
          "base_uri": "https://localhost:8080/"
        }
      },
      "outputs": [
        {
          "output_type": "stream",
          "name": "stdout",
          "text": [
            "tok(metadata) outputs 3\n",
            "tok prediction logits: [batch_size, num_toks, vocab_size]\n",
            " torch.Size([1, 10, 30522])\n",
            "tok hidden states: [batch_size, num_toks, hidden_size]\n",
            " torch.Size([1, 10, 312])\n",
            "tok attention: n_layers*[batch_size, num_attention_headers, num_toks, num_toks+num_ents]\n",
            " torch.Size([1, 12, 10, 19])\n",
            "entity(cell) outputs 3\n",
            "ent prediction logits: [batch_size, num_ents, candidate_size]\n",
            " torch.Size([1, 9, 53])\n",
            "ent hidden states: [batch_size, num_ents, hidden_size]\n",
            " torch.Size([1, 9, 312])\n",
            "ent attention: n_layers*[batch_size, num_attention_headers, num_ents, num_toks+num_ents]\n",
            " torch.Size([1, 12, 9, 19])\n"
          ]
        }
      ],
      "source": [
        "print('tok(metadata) outputs', len(tok_outputs))\n",
        "print('tok prediction logits: [batch_size, num_toks, vocab_size]\\n', tok_outputs[0].shape)\n",
        "print('tok hidden states: [batch_size, num_toks, hidden_size]\\n', tok_outputs[1].shape)\n",
        "print('tok attention: n_layers*[batch_size, num_attention_headers, num_toks, num_toks+num_ents]\\n', tok_outputs[2][0].shape)\n",
        "print('entity(cell) outputs', len(ent_outputs))\n",
        "print('ent prediction logits: [batch_size, num_ents, candidate_size]\\n', ent_outputs[0].shape)\n",
        "print('ent hidden states: [batch_size, num_ents, hidden_size]\\n', ent_outputs[1].shape)\n",
        "print('ent attention: n_layers*[batch_size, num_attention_headers, num_ents, num_toks+num_ents]\\n', ent_outputs[2][0].shape)"
      ]
    },
    {
      "cell_type": "code",
      "execution_count": null,
      "metadata": {
        "id": "5w8z9zzOTd8B"
      },
      "outputs": [],
      "source": [
        "def get_precision(result):\n",
        "    recall = 0\n",
        "    precision_neural = [0, 0, 0, 0]\n",
        "    precision_base = [0, 0, 0, 0]\n",
        "    for target_e, cand, p_neural, p_base in result:\n",
        "        if target_e in cand:\n",
        "            recall += 1\n",
        "            if target_e == p_neural[0]:\n",
        "                precision_neural[0] += 1\n",
        "            if target_e == p_base[0]:\n",
        "                precision_base[0] += 1\n",
        "            if target_e in p_neural[:3]:\n",
        "                precision_neural[1] += 1\n",
        "            if target_e in p_neural[:5]:\n",
        "                precision_neural[2] += 1\n",
        "            if target_e in p_neural[:10]:\n",
        "                precision_neural[3] += 1\n",
        "            if target_e in p_base[:3]:\n",
        "                precision_base[1] += 1\n",
        "            if target_e in p_base[:5]:\n",
        "                precision_base[2] += 1\n",
        "            if target_e in p_base[:10]:\n",
        "                precision_base[3] += 1\n",
        "    if recall != 0:\n",
        "        return recall/len(result), [z/recall for z in precision_neural], [z/recall for z in precision_base]\n",
        "    else:\n",
        "        return 0, [0 for z in precision_neural], [0 for z in precision_base]"
      ]
    },
    {
      "cell_type": "code",
      "execution_count": null,
      "metadata": {
        "id": "9qc5dY50Td8C",
        "outputId": "9ea56d7d-6539-4892-d6c9-a61d8ce6391f",
        "colab": {
          "base_uri": "https://localhost:8080/"
        }
      },
      "outputs": [
        {
          "output_type": "stream",
          "name": "stdout",
          "text": [
            "recall 0.6145301312480205\n",
            "neural\n",
            "p@1 0.23121257618176175\n",
            "p@3 0.4530341949269496\n",
            "p@5 0.5483342080901582\n",
            "p@10 0.6678285388664684\n",
            "base\n",
            "p@1 0.5189550699035596\n",
            "p@3 0.7094590968795172\n",
            "p@5 0.7733420876389275\n",
            "p@10 0.8544311158445016\n"
          ]
        }
      ],
      "source": [
        "final_results = [get_precision(x['result']) for x in results]\n",
        "print('recall', np.mean([x[0] for x in final_results]))\n",
        "print('neural')\n",
        "print('p@1', np.mean([x[1][0] for x in final_results if x[0]!=0]))\n",
        "print('p@3', np.mean([x[1][1] for x in final_results if x[0]!=0]))\n",
        "print('p@5', np.mean([x[1][2] for x in final_results if x[0]!=0]))\n",
        "print('p@10', np.mean([x[1][3] for x in final_results if x[0]!=0]))\n",
        "print('base')\n",
        "print('p@1', np.mean([x[2][0] for x in final_results if x[0]!=0]))\n",
        "print('p@3', np.mean([x[2][1] for x in final_results if x[0]!=0]))\n",
        "print('p@5', np.mean([x[2][2] for x in final_results if x[0]!=0]))\n",
        "print('p@10', np.mean([x[2][3] for x in final_results if x[0]!=0]))"
      ]
    },
    {
      "cell_type": "markdown",
      "metadata": {
        "id": "GduQiNstTd8C"
      },
      "source": [
        "<a class=\"anchor\" id=\"el\"></a>\n",
        "# EL\n",
        "Evaluate Entity Linking"
      ]
    },
    {
      "cell_type": "code",
      "execution_count": null,
      "metadata": {
        "id": "POmMMV4STd8D",
        "outputId": "a2bea887-9f85-4023-daba-20b9118b2430",
        "colab": {
          "base_uri": "https://localhost:8080/"
        }
      },
      "outputs": [
        {
          "output_type": "stream",
          "name": "stdout",
          "text": [
            "recall 0.6145301312480205\n",
            "neural\n",
            "p@1 0.23121257618176175\n",
            "p@3 0.4530341949269496\n",
            "p@5 0.5483342080901582\n",
            "p@10 0.6678285388664684\n",
            "base\n",
            "p@1 0.5189550699035596\n",
            "p@3 0.7094590968795172\n",
            "p@5 0.7733420876389275\n",
            "p@10 0.8544311158445016\n"
          ]
        }
      ],
      "source": [
        "final_results = [get_precision(x['result']) for x in results]\n",
        "print('recall', np.mean([x[0] for x in final_results]))\n",
        "print('neural')\n",
        "print('p@1', np.mean([x[1][0] for x in final_results if x[0]!=0]))\n",
        "print('p@3', np.mean([x[1][1] for x in final_results if x[0]!=0]))\n",
        "print('p@5', np.mean([x[1][2] for x in final_results if x[0]!=0]))\n",
        "print('p@10', np.mean([x[1][3] for x in final_results if x[0]!=0]))\n",
        "print('base')\n",
        "print('p@1', np.mean([x[2][0] for x in final_results if x[0]!=0]))\n",
        "print('p@3', np.mean([x[2][1] for x in final_results if x[0]!=0]))\n",
        "print('p@5', np.mean([x[2][2] for x in final_results if x[0]!=0]))\n",
        "print('p@10', np.mean([x[2][3] for x in final_results if x[0]!=0]))"
      ]
    },
    {
      "cell_type": "code",
      "execution_count": null,
      "metadata": {
        "id": "toXk46LmTd8D",
        "outputId": "9765aa99-9c75-4975-b0e9-f2d1ba4dfcc8",
        "colab": {
          "base_uri": "https://localhost:8080/"
        }
      },
      "outputs": [
        {
          "output_type": "stream",
          "name": "stdout",
          "text": [
            "neural\n",
            "p@1 0.24136023957323663\n",
            "p@3 0.46718400585218456\n",
            "p@5 0.56236821678784\n",
            "p@10 0.6823428781448035\n",
            "base\n",
            "p@1 0.5391679272617237\n",
            "p@3 0.7275446853176161\n",
            "p@5 0.7879552266125807\n",
            "p@10 0.8620558693826613\n"
          ]
        }
      ],
      "source": [
        "print('neural')\n",
        "print('p@1', np.mean([x[1][0] for i,x in enumerate(final_results) if x[0]!=0 and 'team' not in results[i]['headers'][1]]))\n",
        "print('p@3', np.mean([x[1][1] for i,x in enumerate(final_results) if x[0]!=0 and 'team' not in results[i]['headers'][1]]))\n",
        "print('p@5', np.mean([x[1][2] for i,x in enumerate(final_results) if x[0]!=0 and 'team' not in results[i]['headers'][1]]))\n",
        "print('p@10', np.mean([x[1][3] for i,x in enumerate(final_results) if x[0]!=0 and 'team' not in results[i]['headers'][1]]))\n",
        "print('base')\n",
        "print('p@1', np.mean([x[2][0] for i,x in enumerate(final_results) if x[0]!=0 and 'team' not in results[i]['headers'][1]]))\n",
        "print('p@3', np.mean([x[2][1] for i,x in enumerate(final_results) if x[0]!=0 and 'team' not in results[i]['headers'][1]]))\n",
        "print('p@5', np.mean([x[2][2] for i,x in enumerate(final_results) if x[0]!=0 and 'team' not in results[i]['headers'][1]]))\n",
        "print('p@10', np.mean([x[2][3] for i,x in enumerate(final_results) if x[0]!=0 and 'team' not in results[i]['headers'][1]]))"
      ]
    },
    {
      "cell_type": "code",
      "execution_count": null,
      "metadata": {
        "id": "O2r1iXWPTd8E",
        "colab": {
          "base_uri": "https://localhost:8080/"
        },
        "outputId": "4a01a34b-25e7-46ca-d16d-fe806cd9e1bd"
      },
      "outputs": [
        {
          "output_type": "stream",
          "name": "stdout",
          "text": [
            "neural\n",
            "p@1 0.24136023957323663\n",
            "p@3 0.46718400585218456\n",
            "p@5 0.56236821678784\n",
            "p@10 0.6823428781448035\n",
            "base\n",
            "p@1 0.5391679272617237\n",
            "p@3 0.7275446853176161\n",
            "p@5 0.7879552266125807\n",
            "p@10 0.8620558693826613\n"
          ]
        }
      ],
      "source": [
        "print('neural')\n",
        "print('p@1', np.mean([x[1][0] for i,x in enumerate(final_results) if x[0]!=0 and 'team' not in results[i]['headers'][1]]))\n",
        "print('p@3', np.mean([x[1][1] for i,x in enumerate(final_results) if x[0]!=0 and 'team' not in results[i]['headers'][1]]))\n",
        "print('p@5', np.mean([x[1][2] for i,x in enumerate(final_results) if x[0]!=0 and 'team' not in results[i]['headers'][1]]))\n",
        "print('p@10', np.mean([x[1][3] for i,x in enumerate(final_results) if x[0]!=0 and 'team' not in results[i]['headers'][1]]))\n",
        "print('base')\n",
        "print('p@1', np.mean([x[2][0] for i,x in enumerate(final_results) if x[0]!=0 and 'team' not in results[i]['headers'][1]]))\n",
        "print('p@3', np.mean([x[2][1] for i,x in enumerate(final_results) if x[0]!=0 and 'team' not in results[i]['headers'][1]]))\n",
        "print('p@5', np.mean([x[2][2] for i,x in enumerate(final_results) if x[0]!=0 and 'team' not in results[i]['headers'][1]]))\n",
        "print('p@10', np.mean([x[2][3] for i,x in enumerate(final_results) if x[0]!=0 and 'team' not in results[i]['headers'][1]]))"
      ]
    },
    {
      "cell_type": "code",
      "execution_count": null,
      "metadata": {
        "id": "NZm49bLRTd8E"
      },
      "outputs": [],
      "source": [
        "#load dbpedia types from depedia_type_vocab.txt\n",
        "type_vocab = load_dbpedia_type_vocab(data_dir)\n",
        "config_class, model_class, _ = MODEL_CLASSES['EL']\n",
        "config = config_class.from_pretrained(config_name)\n",
        "config.ent_type_vocab_size = len(type_vocab)\n",
        "config.mode=0"
      ]
    },
    {
      "cell_type": "code",
      "execution_count": null,
      "metadata": {
        "id": "lZlATrrSTd8F",
        "outputId": "e0dec936-e5fd-43e6-b993-8a3d9f8dbbf0",
        "colab": {
          "base_uri": "https://localhost:8080/",
          "height": 1000
        }
      },
      "outputs": [
        {
          "output_type": "display_data",
          "data": {
            "text/plain": [
              "['377509-5',\n",
              " '2000 Rugby League World Cup',\n",
              " 'Final',\n",
              " '',\n",
              " ['australia', 'position', 'new zealand'],\n",
              " [[[9, 0], 'Robbie Kearns'],\n",
              "  [[12, 0], 'Scott Hill'],\n",
              "  [[14, 0], 'Nathan Hindmarsh'],\n",
              "  [[7, 2], 'Craig Smith'],\n",
              "  [[11, 2], 'Stephen Kearney'],\n",
              "  [[1, 0], 'Mat Rogers'],\n",
              "  [[13, 0], 'Trent Barrett'],\n",
              "  [[10, 0], 'Gorden Tallis'],\n",
              "  [[5, 2], 'Henry Paul'],\n",
              "  [[16, 0], 'Jason Stevens'],\n",
              "  [[4, 0], 'Wendell Sailor'],\n",
              "  [[17, 0], 'Chris Anderson'],\n",
              "  [[15, 2], 'Nathan Cayless'],\n",
              "  [[8, 2], 'Richard Swain'],\n",
              "  [[9, 2], 'Quentin Pongia'],\n",
              "  [[6, 2], 'Stacey Jones'],\n",
              "  [[2, 2], 'Tonie Carroll'],\n",
              "  [[11, 0], 'Bryan Fletcher'],\n",
              "  [[0, 0], 'Darren Lockyer'],\n",
              "  [[4, 2], 'Lesley Vainikolo'],\n",
              "  [[0, 2], 'Richie Barnett'],\n",
              "  [[15, 0], 'Darren Britt'],\n",
              "  [[8, 0], 'Andrew Johns'],\n",
              "  [[14, 2], 'Joe Vagana'],\n",
              "  [[12, 2], 'Ruben Wiki'],\n",
              "  [[7, 0], 'Shane Webcke'],\n",
              "  [[5, 0], 'Brad Fittler'],\n",
              "  [[13, 2], 'Robbie Paul'],\n",
              "  [[10, 2], 'Matt Rua'],\n",
              "  [[2, 0], 'Adam MacDougall'],\n",
              "  [[16, 2], 'Logan Swann'],\n",
              "  [[17, 2], 'Frank Endacott'],\n",
              "  [[6, 0], 'Brett Kimmorley'],\n",
              "  [[1, 2], 'Nigel Vagana'],\n",
              "  [[3, 2], 'Willie Talau']],\n",
              " [['Robbie Kearns', 'Australian rugby league footballer', ['RugbyPlayer']],\n",
              "  ['Scott Hill', 'frontman of Fu Manchu', []],\n",
              "  ['Scott Hill', 'Wikipedia disambiguation page', []],\n",
              "  ['Scott Hill', 'Australian rugby league footballer', ['RugbyPlayer']],\n",
              "  ['Scott Hill', 'mountain in the United States of America', []],\n",
              "  ['Scott Hill', 'mountain in Utah, United States of America', []],\n",
              "  ['Scott Hill', 'mountain in Tennessee, United States of America', []],\n",
              "  ['Scott Hill', 'mountain in Connecticut, United States of America', []],\n",
              "  ['Scott Hill', 'mountain in Vermont, United States of America', []],\n",
              "  ['Scott Hill', 'mountain in Pennsylvania, United States of America', []],\n",
              "  ['Scott Hill', 'mountain in Australia', []],\n",
              "  ['Scott Hill',\n",
              "   'mountain in Hampshire County, Massachusetts, United States of America',\n",
              "   []],\n",
              "  ['Scott Hill', 'mountain in Wyoming, United States of America', []],\n",
              "  ['Scott Hill', 'mountain in Lincoln County, United States of America', []],\n",
              "  ['Scott Hill',\n",
              "   'mountain in Norfolk County, Massachusetts, United States of America',\n",
              "   []],\n",
              "  ['Scott Hill', 'mountain in Texas, United States of America', []],\n",
              "  ['Scott Hill', 'mountain in Wisconsin, United States of America', []],\n",
              "  ['Scott Hill',\n",
              "   'mountain in Placer County, California, United States of America',\n",
              "   []],\n",
              "  ['Scott Hill',\n",
              "   'building in West Virginia, United States',\n",
              "   ['HistoricPlace']],\n",
              "  ['Scott Hill', 'mountain in Missouri, United States of America', []],\n",
              "  ['Scott Hill', 'mountain in California, United States of America', []],\n",
              "  ['Scott Hill', 'mountain in Colorado, United States of America', []],\n",
              "  ['Scott Hill', 'mountain in North Dakota, United States of America', []],\n",
              "  ['Scott Hill', 'mountain in Massachusetts, United States of America', []],\n",
              "  ['Scott Hill', 'mountain in United States of America', []],\n",
              "  ['Scott Hill', None, []],\n",
              "  ['Scott Hill', 'mountain in South Australia, Australia', []],\n",
              "  ['Scott Hillenbrand', 'American director, actor and screenwriter', []],\n",
              "  ['Scott Hillman', 'Canadian ice hockey defenceman', ['IceHockeyPlayer']],\n",
              "  ['Scott Hiller', 'Lacrosse coach and player', []],\n",
              "  ['Scott Hilliar', None, []],\n",
              "  ['Scott Hill', 'hill in Canada', []],\n",
              "  ['Nathan Hindmarsh', 'Australian rugby league player', ['RugbyPlayer']],\n",
              "  ['Craig A. Smith', 'researcher', []],\n",
              "  ['Craig Smith', 'researcher', []],\n",
              "  ['Craig Smith', 'American ice hockey player', ['IceHockeyPlayer']],\n",
              "  ['Craig Smith', 'American basketball player', []],\n",
              "  ['Craig Smith', 'Wikimedia disambiguation page', []],\n",
              "  ['Craig Smith', 'Scottish rugby union player', ['RugbyPlayer']],\n",
              "  ['Craig Smith',\n",
              "   'New Zealand rugby league foorballer and coach',\n",
              "   ['RugbyPlayer']],\n",
              "  ['Craig Smith', 'psychologist', []],\n",
              "  ['Craig Smith', 'New Zealander cricketer', []],\n",
              "  ['Craig Smith', 'American conductor', ['owl#Thing']],\n",
              "  ['Craig Smith', 'Australian rugby league footballer', ['RugbyPlayer']],\n",
              "  ['Craig Smith', 'Australian footballer', ['AustralianRulesFootballPlayer']],\n",
              "  ['Craig Smith', 'Australian 1990s rugby league player', []],\n",
              "  ['Craig Smith', 'basketball coach', ['CollegeCoach']],\n",
              "  ['Craig Smith', 'association football player (1976-)', []],\n",
              "  [\"Craig Smith's Files (NAID 7409166)\",\n",
              "   \"series in the National Archives and Records Administration's holdings\",\n",
              "   []],\n",
              "  [\"Craig Smith's Files (NAID 7368820)\",\n",
              "   \"series in the National Archives and Records Administration's holdings\",\n",
              "   []],\n",
              "  ['Stephen Kearney',\n",
              "   'New Zealand rugby league footballer and coach',\n",
              "   ['RugbyPlayer']],\n",
              "  ['Stephen Kearney', None, []],\n",
              "  ['Stephen Kearney', 'researcher', []],\n",
              "  ['Mat Rogers',\n",
              "   'Australian rugby league and rugby union footballer',\n",
              "   ['RugbyPlayer']],\n",
              "  ['Trent Barrett',\n",
              "   'Australian rugby league footballer and coach',\n",
              "   ['RugbyPlayer']],\n",
              "  ['Trent Barreta', 'American professional wrestler', ['Wrestler']],\n",
              "  ['Gorden Tallis',\n",
              "   'Australian rugby league footballer and administrator',\n",
              "   ['RugbyPlayer']],\n",
              "  ['Henry Paul',\n",
              "   'New Zealand rugby league footballer, and rugby union footballer and coach',\n",
              "   ['RugbyPlayer']],\n",
              "  ['Henry Paul', 'Peerage person ID=406007', []],\n",
              "  ['Henry Paul', 'American musician', ['MusicalArtist']],\n",
              "  ['Henry Paul', None, []],\n",
              "  ['Henry Paulson', '74th United States Secretary of the Treasury', []],\n",
              "  ['Henry Paul Minchin', '(1826-1909)', []],\n",
              "  ['Henry Paul Coventry', 'Peerage person ID=179994', []],\n",
              "  ['Henry Paulet, 16th Marquess of Winchester', 'peer and business man', []],\n",
              "  ['Henry Paulet', 'died 1672', []],\n",
              "  ['Henry Paul Minchin', '(1889-1954)', []],\n",
              "  ['Henry Paul Dobbin', 'Peerage person ID=388777', []],\n",
              "  ['Henry Paul Minchin', 'Peerage person ID=339197', []],\n",
              "  ['Henry Paul Lindley Wood', '(1879-1886)', []],\n",
              "  [\"Henry Paul D'Isney Kenworthy\", '(1849-1874)', []],\n",
              "  ['Henry Paul Lefebvre', 'born 2008', []],\n",
              "  ['Henry Paul Hansen', 'American palynologist', ['Scientist']],\n",
              "  ['Henry Paul Talbot', None, []],\n",
              "  ['Henry Paul Edmond Caron', 'French painter', []],\n",
              "  ['Henry Paul Jordan', None, []],\n",
              "  ['Henry Paull', 'politician', ['OfficeHolder']],\n",
              "  ['Henry Paulyn Gillow', 'Peerage person ID=543078', []],\n",
              "  ['Henry Paul Mason', 'Peerage person ID=608850', []],\n",
              "  ['Henry Paulet', 'Wikimedia disambiguation page', []],\n",
              "  ['Henry Paul Talbot', 'scientific article published in August 1927', []],\n",
              "  ['HENRY PAUL TALBOT', 'scientific article published on 01 August 1927', []],\n",
              "  ['Henri Cartan', 'French mathematician', ['Scientist']],\n",
              "  ['Paul Channon, Baron Kelvedon',\n",
              "   'British politician and Cabinet Minister',\n",
              "   []],\n",
              "  ['Harry Powlett, 4th Duke of Bolton', 'British politician', []],\n",
              "  ['Henry Howard Paul', 'American actor', ['owl#Thing']],\n",
              "  ['Henry Paul', None, []],\n",
              "  ['Henry Paul Monaghan', None, []],\n",
              "  ['Jason Stevens', 'Australian rugby league footballer', ['RugbyPlayer']],\n",
              "  ['Wendell Sailor',\n",
              "   'Australian rugby union and rugby league footballer',\n",
              "   ['RugbyPlayer']],\n",
              "  ['Chris Anderson', 'American author and entrepreneur', ['Person']],\n",
              "  ['Chris Anderson', 'curator of TED', ['Person']],\n",
              "  ['Christopher D Anderson', 'researcher', []],\n",
              "  ['Chris Anderson', 'Wikimedia disambiguation page', []],\n",
              "  ['Chris Anderson', 'American jazz pianist', ['MusicalArtist']],\n",
              "  ['Chris Anderson', 'Australian high jumper', ['owl#Thing']],\n",
              "  ['Chris Anderson', None, []],\n",
              "  ['Chris Anderson', 'Scottish footballer', []],\n",
              "  ['Chris Anderson',\n",
              "   'Australian rugby league footballer and coach, and rugby union coach',\n",
              "   ['RugbyPlayer']],\n",
              "  ['Chris Anderson', 'professional golfer', ['GolfPlayer']],\n",
              "  ['Chris Anderson', 'baseball player (1992-)', ['BaseballPlayer']],\n",
              "  ['Chris Anderson',\n",
              "   'American trumpeter (Southside Johnny and the Asbury Jukes)',\n",
              "   ['owl#Thing']],\n",
              "  ['Chris Anderson', 'American politician', ['OfficeHolder']],\n",
              "  [\"Chris Anderson: Technology's long tail\", 'TED2004', []],\n",
              "  ['Chris Anderson: How web video powers global innovation',\n",
              "   'TEDGlobal 2010',\n",
              "   []],\n",
              "  [\"Chris Anderson: TED's nonprofit transition\", 'TED2002', []],\n",
              "  ['Chris Anderson admite plagiar a Wikipedia', 'Wikinews article', []],\n",
              "  ['Nathan Cayless',\n",
              "   'Australian rugby league footballer and coach',\n",
              "   ['RugbyPlayer']],\n",
              "  ['Richard Swain', 'New Zealand rugby league footballer', ['RugbyPlayer']],\n",
              "  ['Richard Swaine', 'German politician', []],\n",
              "  ['Quentin Pongia',\n",
              "   'New Zealand rugby league footballer and coach',\n",
              "   ['RugbyPlayer']],\n",
              "  ['Stacey Jones',\n",
              "   'New Zealand rugby league footballer and coach',\n",
              "   ['RugbyPlayer']],\n",
              "  ['Stacey Jones', 'Peerage person ID=519369', []],\n",
              "  ['Tonie Carroll',\n",
              "   'New Zealand-Australian rugby league footballer',\n",
              "   ['RugbyPlayer']],\n",
              "  ['Bryan Fletcher', 'Nordic combined skier', ['Skier']],\n",
              "  ['Bryan Fletcher', 'American football player', ['AmericanFootballPlayer']],\n",
              "  ['Bryan Fletcher', 'Wikipedia disambiguation page', []],\n",
              "  ['Bryan Fletcher', 'Australian rugby league footballer', ['RugbyPlayer']],\n",
              "  ['Darren Lockyer',\n",
              "   'Australian rugby league footballer and commentator',\n",
              "   ['RugbyPlayer']],\n",
              "  ['Lesley Vainikolo',\n",
              "   'Tongan-New Zealand rugby league and rugby union footballer',\n",
              "   ['RugbyPlayer']],\n",
              "  ['Richie Barnett', 'New Zealand rugby league footballer', ['RugbyPlayer']],\n",
              "  ['Richie Barnett',\n",
              "   'Jamaican-British rugby league footballer',\n",
              "   ['RugbyPlayer']],\n",
              "  ['Darren Britt', 'Australian rugby league footballer', ['RugbyPlayer']],\n",
              "  ['Andrew Johns', 'triathlete', []],\n",
              "  ['Andrew Johns', 'Australian rugby league footballer', []],\n",
              "  ['Andrew Johns',\n",
              "   'Green Party candidate in the 2019 United Kingdom General Election',\n",
              "   []],\n",
              "  ['Andrew Johnson',\n",
              "   'American politician, 17th President of the United States (in office from 1865 to 1869)',\n",
              "   []],\n",
              "  ['Andrew Johnson', 'English association football player', []],\n",
              "  ['Andrew Johnson', 'Wikimedia disambiguation page', []],\n",
              "  ['Andrew Johnston', 'Scottish singer', ['MusicalArtist']],\n",
              "  ['Andrew Johnson National Historic Site',\n",
              "   'National Historic Site in the United States',\n",
              "   ['Building']],\n",
              "  ['Andy Johnson', 'basketball player', []],\n",
              "  ['Andrew Johnstone Nash Christian', '(1884-1935)', []],\n",
              "  ['Andrew Johnstone, 4th of Elphinstone', 'Peerage person ID=281381', []],\n",
              "  ['Andrew Johnston', '(1835-1870)', []],\n",
              "  ['Andrew Johnston', 'golfer', ['GolfPlayer']],\n",
              "  ['Andrew Johnston', '(1769-1845)', []],\n",
              "  ['Andrew Jonston', 'accused of witchcraft', []],\n",
              "  ['Andrew Johnson', 'painting by Arthur Stumpf', []],\n",
              "  ['Andrew Johnson', None, []],\n",
              "  ['Andrew Johnson National Cemetery',\n",
              "   'National cemetery in Greeneville, Tennessee',\n",
              "   ['HistoricPlace']],\n",
              "  ['Andrew Johnston', 'American actor', ['owl#Thing']],\n",
              "  ['Andrew Johnston', '(1798-1862)', []],\n",
              "  ['Andrew Johnson', 'archaeologist', []],\n",
              "  ['Andrew Johnston', 'British politician', []],\n",
              "  ['Andrew Johnston', 'Scottish politician', []],\n",
              "  ['Andrew Johnson', 'Recipient of the Medal of Honor', ['MilitaryPerson']],\n",
              "  ['Andrew Johnston', 'died 1876', []],\n",
              "  ['Andrew Johnson', 'researcher ORCID ID = 0000-0002-7952-6536', []],\n",
              "  ['Andrew Johnston', 'born 1965', []],\n",
              "  ['Andrew Johnston', 'Peerage person ID=651693', []],\n",
              "  ['Andrew Johnson', 'painting by Washington Bogart Cooper', []],\n",
              "  ['Andrew Johnston', 'Peerage person ID=651456', []],\n",
              "  ['Andrew Johnstone', 'died 1810', []],\n",
              "  ['Andrew Johnston', 'Peerage person ID=712128', []],\n",
              "  ['Andrew Johnson', 'American architect', ['Architect']],\n",
              "  [\"Andrew Johnson's Third State of the Union Address\", None, []],\n",
              "  [\"Andrew Johnson's Fourth State of the Union Address\", None, []],\n",
              "  ['Andrew Johnson', None, []],\n",
              "  ['Andrew Johnston', 'American politician', []],\n",
              "  [\"Andrew Johnson's First State of the Union Address\", None, []],\n",
              "  [\"Andrew Johnson's Second State of the Union Address\", None, []],\n",
              "  ['Andy Dog Johnson', 'British artist', ['Artist']],\n",
              "  ['Andrew Johnson', None, []],\n",
              "  ['Andrew Johnston', 'died 1922', []],\n",
              "  ['Christopher Johnson', 'researcher', []],\n",
              "  ['Andrew Johnstone', 'Peerage person ID=199438', []],\n",
              "  ['Andrew Johnstone', None, []],\n",
              "  ['Andrew Johnson', 'American rower', []],\n",
              "  ['Andrew Johnson', None, []],\n",
              "  ['Andrew Johnston Watson', None, []],\n",
              "  ['Andrew Johnson', 'researcher', []],\n",
              "  ['Andrew Johnston', 'New Zealand poet', ['owl#Thing']],\n",
              "  ['Joe Vagana',\n",
              "   'New Zealand rugby league footballer and coach',\n",
              "   ['RugbyPlayer']],\n",
              "  ['Ruben Wiki', 'New Zealand rugby league footballer', ['RugbyPlayer']],\n",
              "  ['Shane Webcke', 'Australian rugby league footballer', ['RugbyPlayer']],\n",
              "  ['Brad Fittler',\n",
              "   'Australian rugby league footballer and coach',\n",
              "   ['RugbyPlayer']],\n",
              "  ['Robbie Paul',\n",
              "   'New Zealand rugby league footballer and administrator, and rugby union footballer',\n",
              "   ['RugbyPlayer']],\n",
              "  ['Matt Rua', 'New Zealand rugby league footballer', ['RugbyPlayer']],\n",
              "  ['Matt Ruatsale Homestead', None, ['Building']],\n",
              "  ['Adam MacDougall', 'American musician', ['MusicalArtist']],\n",
              "  ['Adam MacDougall', 'Australian rugby league footballer', ['RugbyPlayer']],\n",
              "  ['Logan Swann', 'New Zealand rugby league footballer', ['RugbyPlayer']],\n",
              "  ['Frank Endacott',\n",
              "   'New Zealand rugby league footballer and coach',\n",
              "   ['RugbyPlayer']],\n",
              "  ['Brett Kimmorley',\n",
              "   'Australian rugby league footballer and coach',\n",
              "   ['RugbyPlayer']],\n",
              "  ['Nigel Vagana', 'New Zealand rugby league footballer', ['RugbyPlayer']],\n",
              "  ['Willie Talau',\n",
              "   'Samoan-New Zealand rugby league footballer',\n",
              "   ['RugbyPlayer']]],\n",
              " [0,\n",
              "  3,\n",
              "  32,\n",
              "  39,\n",
              "  50,\n",
              "  53,\n",
              "  54,\n",
              "  56,\n",
              "  57,\n",
              "  88,\n",
              "  89,\n",
              "  98,\n",
              "  107,\n",
              "  108,\n",
              "  110,\n",
              "  111,\n",
              "  113,\n",
              "  117,\n",
              "  118,\n",
              "  119,\n",
              "  120,\n",
              "  122,\n",
              "  124,\n",
              "  173,\n",
              "  174,\n",
              "  175,\n",
              "  176,\n",
              "  177,\n",
              "  178,\n",
              "  181,\n",
              "  182,\n",
              "  183,\n",
              "  184,\n",
              "  185,\n",
              "  186],\n",
              " [[0],\n",
              "  [1,\n",
              "   2,\n",
              "   3,\n",
              "   4,\n",
              "   5,\n",
              "   6,\n",
              "   7,\n",
              "   8,\n",
              "   9,\n",
              "   10,\n",
              "   11,\n",
              "   12,\n",
              "   13,\n",
              "   14,\n",
              "   15,\n",
              "   16,\n",
              "   17,\n",
              "   18,\n",
              "   19,\n",
              "   20,\n",
              "   21,\n",
              "   22,\n",
              "   23,\n",
              "   24,\n",
              "   25,\n",
              "   26,\n",
              "   27,\n",
              "   28,\n",
              "   29,\n",
              "   30,\n",
              "   31],\n",
              "  [32],\n",
              "  [33, 34, 35, 36, 37, 38, 39, 40, 41, 42, 43, 44, 45, 46, 47, 48, 49],\n",
              "  [50, 51, 52],\n",
              "  [53],\n",
              "  [54, 55],\n",
              "  [56],\n",
              "  [57,\n",
              "   58,\n",
              "   59,\n",
              "   60,\n",
              "   61,\n",
              "   62,\n",
              "   63,\n",
              "   64,\n",
              "   65,\n",
              "   66,\n",
              "   67,\n",
              "   68,\n",
              "   69,\n",
              "   70,\n",
              "   71,\n",
              "   72,\n",
              "   73,\n",
              "   74,\n",
              "   75,\n",
              "   76,\n",
              "   77,\n",
              "   78,\n",
              "   79,\n",
              "   80,\n",
              "   81,\n",
              "   82,\n",
              "   83,\n",
              "   84,\n",
              "   85,\n",
              "   86,\n",
              "   87],\n",
              "  [88],\n",
              "  [89],\n",
              "  [90, 91, 92, 93, 94, 95, 96, 97, 98, 99, 100, 101, 102, 103, 104, 105, 106],\n",
              "  [107],\n",
              "  [108, 109],\n",
              "  [110],\n",
              "  [111, 112],\n",
              "  [113],\n",
              "  [114, 115, 116, 117],\n",
              "  [118],\n",
              "  [119],\n",
              "  [120, 121],\n",
              "  [122],\n",
              "  [123,\n",
              "   124,\n",
              "   125,\n",
              "   126,\n",
              "   127,\n",
              "   128,\n",
              "   129,\n",
              "   130,\n",
              "   131,\n",
              "   132,\n",
              "   133,\n",
              "   134,\n",
              "   135,\n",
              "   136,\n",
              "   137,\n",
              "   138,\n",
              "   139,\n",
              "   140,\n",
              "   141,\n",
              "   142,\n",
              "   143,\n",
              "   144,\n",
              "   145,\n",
              "   146,\n",
              "   147,\n",
              "   148,\n",
              "   149,\n",
              "   150,\n",
              "   151,\n",
              "   152,\n",
              "   153,\n",
              "   154,\n",
              "   155,\n",
              "   156,\n",
              "   157,\n",
              "   158,\n",
              "   159,\n",
              "   160,\n",
              "   161,\n",
              "   162,\n",
              "   163,\n",
              "   164,\n",
              "   165,\n",
              "   166,\n",
              "   167,\n",
              "   168,\n",
              "   169,\n",
              "   170,\n",
              "   171,\n",
              "   172],\n",
              "  [173],\n",
              "  [174],\n",
              "  [175],\n",
              "  [176],\n",
              "  [177],\n",
              "  [178, 179],\n",
              "  [180, 181],\n",
              "  [182],\n",
              "  [183],\n",
              "  [184],\n",
              "  [185],\n",
              "  [186]]]"
            ]
          },
          "metadata": {}
        }
      ],
      "source": [
        "with open(os.path.join(data_dir, 'test_own.table_entity_linking.json'), 'r') as f:\n",
        "    example = json.load(f)[0]\n",
        "display(example)"
      ]
    },
    {
      "cell_type": "markdown",
      "source": [
        "**changes made in the data loading script. Chnages made to include the model bert case uncased**"
      ],
      "metadata": {
        "id": "Kwt1ONKyqx_e"
      }
    },
    {
      "cell_type": "code",
      "source": [
        "\n",
        "from torch.utils.data import Dataset, DataLoader, Subset\n",
        "from torch.utils.data.dataloader import default_collate\n",
        "from torch.utils.data.sampler import Sampler\n",
        "import torch\n",
        "import torch.nn as nn\n",
        "import torch.nn.functional as F\n",
        "from base import BaseDataLoader\n",
        "import pickle\n",
        "import numpy as np\n",
        "import json\n",
        "import os\n",
        "from tqdm import tqdm\n",
        "from torch._six import string_classes\n",
        "import re\n",
        "import random\n",
        "import copy\n",
        "import itertools\n",
        "import math\n",
        "from multiprocessing import Pool\n",
        "from functools import partial\n",
        "\n",
        "import pdb\n",
        "\n",
        "from model.transformers import BertTokenizer\n",
        "\n",
        "\n",
        "def process_single_EL(input_data, config):\n",
        "    table_id, pgTitle, secTitle, caption, headers, entities, candidate_entities, labels,_ = input_data\n",
        "\n",
        "    cand_name = []\n",
        "    cand_description = []\n",
        "    cand_type = []\n",
        "    for name, description, types in candidate_entities:\n",
        "        if name is None:\n",
        "            name=''\n",
        "        if description is None:\n",
        "            description=''\n",
        "        if types is None:\n",
        "            types=[]\n",
        "        cand_name.append(config.tokenizer.encode(name, max_length=config.max_cell_length, add_special_tokens=False))\n",
        "        cand_description.append(config.tokenizer.encode(description, max_length=config.max_description_length, add_special_tokens=False))\n",
        "        cand_type.append([config.ent_type_vocab.get(t,0) for t in types])\n",
        "    cand_name_length = [len(x) for x in cand_name]\n",
        "    cand_description_length = [len(x) for x in cand_description]\n",
        "    cand_type_length = [len(x) for x in cand_type]\n",
        "    max_cand_name_length = max(cand_name_length)\n",
        "    max_cand_description_length = max(cand_description_length)\n",
        "    max_cand_type_length = max(cand_type_length)\n",
        "    cand_name_padded = np.zeros([len(cand_name), max_cand_name_length], dtype=int)\n",
        "    cand_description_padded = np.zeros([len(cand_description), max_cand_description_length], dtype=int)\n",
        "    cand_type_padded = np.zeros([len(cand_type), max_cand_type_length], dtype=int)\n",
        "    for i,(x,y,z) in enumerate(zip(cand_name_length,cand_description_length,cand_type_length)):\n",
        "        cand_name_padded[i,:x] = cand_name[i]\n",
        "        cand_description_padded[i,:y] = cand_description[i]\n",
        "        cand_type_padded[i,:z] = cand_type[i]\n",
        "\n",
        "    # pgEnt = config.entity_wikid2id.get(pgEnt, -1)\n",
        "    pgEnt = -1\n",
        "\n",
        "    tokenized_pgTitle = config.tokenizer.encode(pgTitle, max_length=config.max_title_length, add_special_tokens=False)\n",
        "    tokenized_meta = tokenized_pgTitle+\\\n",
        "                    config.tokenizer.encode(secTitle, max_length=config.max_title_length, add_special_tokens=False)\n",
        "    if caption != secTitle:\n",
        "        tokenized_meta += config.tokenizer.encode(caption, max_length=config.max_title_length, add_special_tokens=False)\n",
        "    tokenized_headers = [config.tokenizer.encode(z, max_length=config.max_header_length, add_special_tokens=False) for z in headers]\n",
        "    input_tok = []\n",
        "    input_tok_pos = []\n",
        "    input_tok_type = []\n",
        "    tokenized_meta_length = len(tokenized_meta)\n",
        "    input_tok += tokenized_meta\n",
        "    input_tok_pos += list(range(tokenized_meta_length))\n",
        "    input_tok_type += [0]*tokenized_meta_length\n",
        "    tokenized_headers_length = [len(z) for z in tokenized_headers]\n",
        "    input_tok += list(itertools.chain(*tokenized_headers))\n",
        "    input_tok_pos += list(itertools.chain(*[list(range(z)) for z in tokenized_headers_length]))\n",
        "    input_tok_type += [1]*sum(tokenized_headers_length)\n",
        "\n",
        "    input_ent_text = []\n",
        "    input_ent_type = []\n",
        "    column_en_map = {}\n",
        "    row_en_map = {}\n",
        "    entities_index = []\n",
        "    for e_i, (index, cell) in enumerate(entities):\n",
        "        entities_index.append(index)\n",
        "        entity_text = cell\n",
        "        tokenized_ent_text = config.tokenizer.encode(entity_text, max_length=config.max_cell_length, add_special_tokens=False)\n",
        "        input_ent_text.append(tokenized_ent_text)\n",
        "        input_ent_type.append(4)\n",
        "        if index[1] not in column_en_map:\n",
        "            column_en_map[index[1]] = [e_i]\n",
        "        else:\n",
        "            column_en_map[index[1]].append(e_i)\n",
        "        if index[0] not in row_en_map:\n",
        "            row_en_map[index[0]] = [e_i]\n",
        "        else:\n",
        "            row_en_map[index[0]].append(e_i)\n",
        "    input_ent_length = len(input_ent_text)\n",
        "    #create input mask\n",
        "    tok_tok_mask = np.ones([len(input_tok), len(input_tok)], dtype=int)\n",
        "    meta_ent_mask = np.ones([tokenized_meta_length, len(input_ent_text)], dtype=int)\n",
        "    header_ent_mask = np.zeros([sum(tokenized_headers_length), len(input_ent_text)], dtype=int)\n",
        "    start_i = 0\n",
        "    header_span = {}\n",
        "    for h_i, _ in enumerate(headers):\n",
        "        header_span[h_i] = (start_i, start_i+tokenized_headers_length[h_i])\n",
        "        start_i += tokenized_headers_length[h_i]\n",
        "    for e_i, (index, _) in enumerate(entities):\n",
        "        header_ent_mask[header_span[index[1]][0]:header_span[index[1]][1], e_i] = 1\n",
        "    ent_header_mask = np.transpose(header_ent_mask)\n",
        "\n",
        "    input_tok_mask = [tok_tok_mask, np.concatenate([meta_ent_mask, header_ent_mask], axis=0)]\n",
        "    ent_meta_mask = np.ones([len(input_ent_text), tokenized_meta_length], dtype=int)\n",
        "    \n",
        "    ent_ent_mask = np.eye(len(input_ent_text), dtype=int)\n",
        "    for _,e_is in column_en_map.items():\n",
        "        for e_i_1 in e_is:\n",
        "            for e_i_2 in e_is:\n",
        "                ent_ent_mask[e_i_1, e_i_2] = 1\n",
        "    for _,e_is in row_en_map.items():\n",
        "        for e_i_1 in e_is:\n",
        "            for e_i_2 in e_is:\n",
        "                ent_ent_mask[e_i_1, e_i_2] = 1\n",
        "    input_ent_mask = [np.concatenate([ent_meta_mask, ent_header_mask], axis=1), ent_ent_mask]\n",
        "    # prepend pgEnt to input_ent, input_ent[0] = pgEnt\n",
        "    if pgEnt!=-1:\n",
        "        input_tok_mask[1] = np.concatenate([np.ones([len(input_tok), 1], dtype=int),input_tok_mask[1]],axis=1)\n",
        "    else:\n",
        "        input_tok_mask[1] = np.concatenate([np.zeros([len(input_tok), 1], dtype=int),input_tok_mask[1]],axis=1)\n",
        "    input_ent_text = [tokenized_pgTitle[:config.max_cell_length]] + input_ent_text\n",
        "    input_ent_type = [2] + input_ent_type\n",
        "\n",
        "    new_input_ent_mask = [np.ones([len(input_ent_text), len(input_tok)], dtype=int), np.ones([len(input_ent_text), len(input_ent_text)], dtype=int)]\n",
        "    new_input_ent_mask[0][1:, :] = input_ent_mask[0]\n",
        "    new_input_ent_mask[1][1:, 1:] = input_ent_mask[1]\n",
        "    if pgEnt==-1:\n",
        "        new_input_ent_mask[1][:, 0] = 0\n",
        "        new_input_ent_mask[1][0, :] = 0\n",
        "\n",
        "    input_ent_mask = new_input_ent_mask\n",
        "    input_ent_cell_length = [len(x) if len(x)!=0 else 1 for x in input_ent_text]\n",
        "    max_cell_length = max(input_ent_cell_length)\n",
        "    input_ent_text_padded = np.zeros([len(input_ent_text), max_cell_length], dtype=int)\n",
        "    for i,x in enumerate(input_ent_text):\n",
        "        input_ent_text_padded[i, :len(x)] = x\n",
        "\n",
        "    return [table_id,np.array(input_tok),np.array(input_tok_type),np.array(input_tok_pos),(np.array(input_tok_mask[0]),np.array(input_tok_mask[1])),len(input_tok), \\\n",
        "                input_ent_text_padded,input_ent_cell_length,np.array(input_ent_type),(np.array(input_ent_mask[0]),np.array(input_ent_mask[1])),len(input_ent_text), \\\n",
        "                cand_name_padded,cand_name_length,cand_description_padded,cand_description_length,cand_type_padded,cand_type_length,len(cand_name_length),np.array(labels),entities_index]\n",
        "\n",
        "class ELDataset(Dataset):\n",
        "\n",
        "    def _preprocess(self, data_dir):\n",
        "        preprocessed_filename = os.path.join(\n",
        "            data_dir, \"procressed_EL\", self.src\n",
        "        )\n",
        "        preprocessed_filename += \".pickle\"\n",
        "        if not self.force_new and os.path.exists(preprocessed_filename):\n",
        "            print(\"try loading preprocessed data from %s\" % preprocessed_filename)\n",
        "            with open(preprocessed_filename, \"rb\") as f:\n",
        "                return pickle.load(f)\n",
        "        else:\n",
        "            print(\"try creating preprocessed data in %s\" % preprocessed_filename)\n",
        "            try:\n",
        "                os.mkdir(os.path.join(data_dir, \"procressed_EL\"))\n",
        "            except FileExistsError:\n",
        "                pass\n",
        "            with open(os.path.join(data_dir, \"{}.table_entity_linking.json\".format(self.src)), \"r\") as f:\n",
        "                data = json.load(f)\n",
        "\n",
        "        print('{} {} tables'.format(len(data),self.src))\n",
        "        process_single_EL(data[0], self)\n",
        "        pool = Pool(processes=10)\n",
        "        processed_data = list(tqdm(pool.imap(partial(process_single_EL,config=self), data, chunksize=1000),total=len(data)))\n",
        "        pool.close()\n",
        "        # pdb.set_trace()\n",
        "\n",
        "        \n",
        "        with open(os.path.join(data_dir, \"procressed_EL\", '{}.pickle'.format(self.src)), 'wb') as f:\n",
        "            pickle.dump(processed_data, f)\n",
        "        # pdb.set_trace()\n",
        "        return processed_data\n",
        "\n",
        "    def __init__(self, data_dir, ent_type_vocab, max_input_tok=500, src=\"train\", max_length = [50, 10, 10, 100], force_new=False, tokenizer = None):\n",
        "        if tokenizer is not None:\n",
        "            self.tokenizer = tokenizer\n",
        "        else:\n",
        "            self.tokenizer = BertTokenizer.from_pretrained('bert-base-uncased')\n",
        "        self.src = src\n",
        "        self.force_new = force_new\n",
        "        self.max_input_tok = max_input_tok\n",
        "        self.max_title_length = max_length[0]\n",
        "        self.max_header_length = max_length[1]\n",
        "        self.max_cell_length = max_length[2]\n",
        "        self.max_description_length = max_length[3]\n",
        "        self.ent_type_vocab = ent_type_vocab\n",
        "        self.ent_type_num = len(self.ent_type_vocab)\n",
        "        self.data = self._preprocess(data_dir)\n",
        "        # pdb.set_trace()\n",
        "\n",
        "    def __len__(self):\n",
        "        return len(self.data)\n",
        "\n",
        "    def __getitem__(self, index):\n",
        "        return self.data[index]\n",
        "\n",
        "\n",
        "class finetune_collate_fn_EL:\n",
        "    def __init__(self, tokenizer, is_train=True):\n",
        "        self.tokenizer = tokenizer\n",
        "        self.is_train = is_train\n",
        "    def __call__(self, raw_batch):\n",
        "        batch_table_id, batch_input_tok, batch_input_tok_type, batch_input_tok_pos, batch_input_tok_mask, batch_input_tok_length, \\\n",
        "            batch_input_ent_text, batch_input_ent_cell_length, batch_input_ent_type, batch_input_ent_mask, batch_input_ent_length, \\\n",
        "            batch_cand_name,batch_cand_name_length_tmp,batch_cand_description,batch_cand_description_length_tmp,batch_cand_type,batch_cand_type_length_tmp,batch_cand_length,batch_labels,batch_entities_index = zip(*raw_batch)\n",
        "        \n",
        "        batch_size = len(batch_table_id)\n",
        "        max_input_tok_length = max(batch_input_tok_length)\n",
        "        max_input_ent_length = max(batch_input_ent_length)\n",
        "        max_input_cell_length = max([z.shape[-1] for z in batch_input_ent_text])\n",
        "        max_cand_name_length = max([z.shape[-1] for z in batch_cand_name])\n",
        "        max_cand_description_length = max([z.shape[-1] for z in batch_cand_description])\n",
        "        max_cand_type_length = max([z.shape[-1] for z in batch_cand_type])\n",
        "        max_cand_size = max(batch_cand_length)\n",
        "\n",
        "        batch_input_tok_padded = np.zeros([batch_size, max_input_tok_length], dtype=int)\n",
        "        batch_input_tok_type_padded = np.zeros([batch_size, max_input_tok_length], dtype=int)\n",
        "        batch_input_tok_pos_padded = np.zeros([batch_size, max_input_tok_length], dtype=int)\n",
        "        batch_input_tok_mask_padded = np.zeros([batch_size, max_input_tok_length, max_input_tok_length+max_input_ent_length], dtype=int)\n",
        "\n",
        "        batch_input_ent_text_padded = np.zeros([batch_size, max_input_ent_length, max_input_cell_length], dtype=int)\n",
        "        batch_input_ent_text_length = np.ones([batch_size, max_input_ent_length], dtype=int)\n",
        "        batch_input_ent_type_padded = np.zeros([batch_size, max_input_ent_length], dtype=int)\n",
        "        batch_input_ent_mask_padded = np.zeros([batch_size, max_input_ent_length, max_input_tok_length+max_input_ent_length], dtype=int)\n",
        "\n",
        "        batch_cand_name_padded = np.zeros([batch_size, max_cand_size, max_cand_name_length], dtype=int)\n",
        "        batch_cand_name_length = np.ones([batch_size, max_cand_size], dtype=int)\n",
        "        batch_cand_description_padded = np.zeros([batch_size, max_cand_size, max_cand_description_length], dtype=int)\n",
        "        batch_cand_description_length = np.ones([batch_size, max_cand_size], dtype=int)\n",
        "        batch_cand_type_padded = np.zeros([batch_size, max_cand_size, max_cand_type_length], dtype=int)\n",
        "        batch_cand_type_length = np.ones([batch_size, max_cand_size], dtype=int)\n",
        "        batch_cand_mask_padded = np.zeros([batch_size, max_cand_size], dtype=int)\n",
        "\n",
        "        \n",
        "        batch_labels_padded = np.full([batch_size, max_input_ent_length-1], -1, dtype=int)\n",
        "        # pdb.set_trace()\n",
        "        for i, (tok_l, ent_l, cand_l) in enumerate(zip(batch_input_tok_length, batch_input_ent_length, batch_cand_length)):\n",
        "            batch_input_tok_padded[i, :tok_l] = batch_input_tok[i]\n",
        "            batch_input_tok_type_padded[i, :tok_l] = batch_input_tok_type[i]\n",
        "            batch_input_tok_pos_padded[i, :tok_l] = batch_input_tok_pos[i]\n",
        "            batch_input_tok_mask_padded[i, :tok_l, :tok_l] = batch_input_tok_mask[i][0]\n",
        "            batch_input_tok_mask_padded[i, :tok_l, max_input_tok_length:max_input_tok_length+ent_l] = batch_input_tok_mask[i][1]\n",
        "\n",
        "            batch_cand_name_padded[i, :cand_l, :batch_cand_name[i].shape[-1]] = batch_cand_name[i]\n",
        "            batch_cand_name_length[i, :cand_l] = batch_cand_name_length_tmp[i]\n",
        "            batch_cand_description_padded[i, :cand_l, :batch_cand_description[i].shape[-1]] = batch_cand_description[i]\n",
        "            batch_cand_description_length[i, :cand_l] = batch_cand_description_length_tmp[i]\n",
        "            batch_cand_type_padded[i, :cand_l, :batch_cand_type[i].shape[-1]] = batch_cand_type[i]\n",
        "            batch_cand_type_length[i, :cand_l] = batch_cand_type_length_tmp[i]\n",
        "            batch_cand_mask_padded[i, :cand_l] = 1\n",
        "\n",
        "            batch_input_ent_text_padded[i, :ent_l, :batch_input_ent_text[i].shape[-1]] = batch_input_ent_text[i]\n",
        "            batch_input_ent_text_length[i, :ent_l] = batch_input_ent_cell_length[i]\n",
        "            batch_input_ent_type_padded[i, :ent_l] = batch_input_ent_type[i]\n",
        "            batch_input_ent_mask_padded[i, :ent_l, :tok_l] = batch_input_ent_mask[i][0]\n",
        "            batch_input_ent_mask_padded[i, :ent_l, max_input_tok_length:max_input_tok_length+ent_l] = batch_input_ent_mask[i][1]\n",
        "            batch_labels_padded[i, :ent_l-1] = batch_labels[i]\n",
        "        \n",
        "        batch_cand_name_length[batch_cand_name_length==0] = 1\n",
        "        batch_cand_description_length[batch_cand_description_length==0] = 1\n",
        "        batch_cand_type_length[batch_cand_type_length==0] = 1\n",
        "                    \n",
        "        batch_input_tok_padded = torch.LongTensor(batch_input_tok_padded)\n",
        "        batch_input_tok_type_padded = torch.LongTensor(batch_input_tok_type_padded)\n",
        "        batch_input_tok_pos_padded = torch.LongTensor(batch_input_tok_pos_padded)\n",
        "        batch_input_tok_mask_padded = torch.LongTensor(batch_input_tok_mask_padded)\n",
        "\n",
        "        batch_cand_name_padded = torch.LongTensor(batch_cand_name_padded)\n",
        "        batch_cand_name_length = torch.LongTensor(batch_cand_name_length)\n",
        "        batch_cand_description_padded = torch.LongTensor(batch_cand_description_padded)\n",
        "        batch_cand_description_length = torch.LongTensor(batch_cand_description_length)\n",
        "        batch_cand_type_padded = torch.LongTensor(batch_cand_type_padded)\n",
        "        batch_cand_type_length = torch.LongTensor(batch_cand_type_length)\n",
        "        batch_cand_mask_padded = torch.LongTensor(batch_cand_mask_padded)\n",
        "\n",
        "        batch_input_ent_text_padded = torch.LongTensor(batch_input_ent_text_padded)\n",
        "        batch_input_ent_text_length = torch.LongTensor(batch_input_ent_text_length)\n",
        "        batch_input_ent_type_padded = torch.LongTensor(batch_input_ent_type_padded)\n",
        "        batch_input_ent_mask_padded = torch.LongTensor(batch_input_ent_mask_padded)\n",
        "\n",
        "        batch_labels_padded = torch.LongTensor(batch_labels_padded)\n",
        "\n",
        "        return batch_table_id, batch_input_tok_padded, batch_input_tok_type_padded, batch_input_tok_pos_padded, batch_input_tok_mask_padded, \\\n",
        "                batch_input_ent_text_padded, batch_input_ent_text_length, batch_input_ent_type_padded, batch_input_ent_mask_padded, \\\n",
        "                batch_cand_name_padded, batch_cand_name_length,batch_cand_description_padded, batch_cand_description_length,batch_cand_type_padded, batch_cand_type_length, batch_cand_mask_padded, \\\n",
        "                batch_labels_padded,batch_entities_index\n",
        "\n",
        "class ELLoader(DataLoader):\n",
        "    \"\"\"\n",
        "    Base class for all data loaders\n",
        "    \"\"\"\n",
        "    def __init__(\n",
        "        self,\n",
        "        dataset,\n",
        "        batch_size,\n",
        "        shuffle=True,\n",
        "        is_train = True,\n",
        "        num_workers=0,\n",
        "        sampler=None,\n",
        "    ):\n",
        "        self.shuffle = shuffle\n",
        "        if sampler is not None:\n",
        "            self.shuffle = False\n",
        "\n",
        "        self.batch_idx = 0\n",
        "        self.n_samples = len(dataset)\n",
        "        self.is_train = is_train\n",
        "        self.collate_fn = finetune_collate_fn_EL(dataset.tokenizer, is_train=self.is_train)\n",
        "\n",
        "        self.init_kwargs = {\n",
        "            \"dataset\": dataset,\n",
        "            \"batch_size\": batch_size,\n",
        "            \"shuffle\": self.shuffle,\n",
        "            \"collate_fn\": self.collate_fn,\n",
        "            \"num_workers\": num_workers,\n",
        "            \"sampler\": sampler\n",
        "        }\n",
        "        super().__init__(**self.init_kwargs)\n",
        "\n"
      ],
      "metadata": {
        "id": "i5xTkXBFqj5i"
      },
      "execution_count": null,
      "outputs": []
    },
    {
      "cell_type": "code",
      "execution_count": null,
      "metadata": {
        "id": "Y2KuS0rVTd8F",
        "outputId": "e0997fc0-1521-4d80-c452-52324ccfe1d7",
        "colab": {
          "base_uri": "https://localhost:8080/"
        }
      },
      "outputs": [
        {
          "output_type": "stream",
          "name": "stderr",
          "text": [
            "100%|██████████| 231508/231508 [00:00<00:00, 916438.28B/s]\n"
          ]
        },
        {
          "output_type": "stream",
          "name": "stdout",
          "text": [
            "try loading preprocessed data from /content/drive/MyDrive/TURL/data/procressed_EL/test_own.pickle\n"
          ]
        }
      ],
      "source": [
        "# load test data from [dataset].table_entity_linking.json\n",
        "test_dataset = ELDataset(data_dir, type_vocab, max_input_tok=500, src=\"test_own\", max_length = [50, 10, 10, 100], force_new=False, tokenizer = None)"
      ]
    },
    {
      "cell_type": "code",
      "source": [
        "config.mode"
      ],
      "metadata": {
        "colab": {
          "base_uri": "https://localhost:8080/"
        },
        "id": "N97AwB7Lxjlc",
        "outputId": "f3d98a71-44f4-4d11-b1a5-5667dc9fbf62"
      },
      "execution_count": null,
      "outputs": [
        {
          "output_type": "execute_result",
          "data": {
            "text/plain": [
              "0"
            ]
          },
          "metadata": {},
          "execution_count": 32
        }
      ]
    },
    {
      "cell_type": "code",
      "source": [
        "my_path='/content/drive/MyDrive/TURL/checkpoint/entity_linking/0/pytorch_model.bin'"
      ],
      "metadata": {
        "id": "TrDNNcPhym3y"
      },
      "execution_count": null,
      "outputs": []
    },
    {
      "cell_type": "code",
      "execution_count": null,
      "metadata": {
        "id": "WuTpHCH5Td8G",
        "outputId": "aa014a40-e466-4ca2-82cb-4f3ee1bd3024",
        "colab": {
          "base_uri": "https://localhost:8080/"
        }
      },
      "outputs": [
        {
          "output_type": "execute_result",
          "data": {
            "text/plain": [
              "HybridTableEL(\n",
              "  (table): HybridTableModel(\n",
              "    (embeddings): TableHybridEmbeddings(\n",
              "      (word_embeddings): Embedding(30522, 312, padding_idx=0)\n",
              "      (ent_embeddings): Embedding(926135, 312, padding_idx=0)\n",
              "      (position_embeddings): Embedding(512, 312)\n",
              "      (type_embeddings): Embedding(5, 312)\n",
              "      (ent_mask_embedding): Embedding(4, 312, padding_idx=0)\n",
              "      (fusion): Linear(in_features=624, out_features=312, bias=True)\n",
              "      (LayerNorm): LayerNorm((312,), eps=1e-12, elementwise_affine=True)\n",
              "      (dropout): Dropout(p=0.1, inplace=False)\n",
              "    )\n",
              "    (encoder): TableEncoderSimple(\n",
              "      (layer): ModuleList(\n",
              "        (0): TableLayerSimple(\n",
              "          (attention): BertAttention(\n",
              "            (self): BertSelfAttention(\n",
              "              (query): Linear(in_features=312, out_features=312, bias=True)\n",
              "              (key): Linear(in_features=312, out_features=312, bias=True)\n",
              "              (value): Linear(in_features=312, out_features=312, bias=True)\n",
              "              (dropout): Dropout(p=0.1, inplace=False)\n",
              "            )\n",
              "            (output): BertSelfOutput(\n",
              "              (dense): Linear(in_features=312, out_features=312, bias=True)\n",
              "              (LayerNorm): LayerNorm((312,), eps=1e-12, elementwise_affine=True)\n",
              "              (dropout): Dropout(p=0.1, inplace=False)\n",
              "            )\n",
              "          )\n",
              "          (intermediate): BertIntermediate(\n",
              "            (dense): Linear(in_features=312, out_features=1200, bias=True)\n",
              "          )\n",
              "          (output): BertOutput(\n",
              "            (dense): Linear(in_features=1200, out_features=312, bias=True)\n",
              "            (LayerNorm): LayerNorm((312,), eps=1e-12, elementwise_affine=True)\n",
              "            (dropout): Dropout(p=0.1, inplace=False)\n",
              "          )\n",
              "        )\n",
              "        (1): TableLayerSimple(\n",
              "          (attention): BertAttention(\n",
              "            (self): BertSelfAttention(\n",
              "              (query): Linear(in_features=312, out_features=312, bias=True)\n",
              "              (key): Linear(in_features=312, out_features=312, bias=True)\n",
              "              (value): Linear(in_features=312, out_features=312, bias=True)\n",
              "              (dropout): Dropout(p=0.1, inplace=False)\n",
              "            )\n",
              "            (output): BertSelfOutput(\n",
              "              (dense): Linear(in_features=312, out_features=312, bias=True)\n",
              "              (LayerNorm): LayerNorm((312,), eps=1e-12, elementwise_affine=True)\n",
              "              (dropout): Dropout(p=0.1, inplace=False)\n",
              "            )\n",
              "          )\n",
              "          (intermediate): BertIntermediate(\n",
              "            (dense): Linear(in_features=312, out_features=1200, bias=True)\n",
              "          )\n",
              "          (output): BertOutput(\n",
              "            (dense): Linear(in_features=1200, out_features=312, bias=True)\n",
              "            (LayerNorm): LayerNorm((312,), eps=1e-12, elementwise_affine=True)\n",
              "            (dropout): Dropout(p=0.1, inplace=False)\n",
              "          )\n",
              "        )\n",
              "        (2): TableLayerSimple(\n",
              "          (attention): BertAttention(\n",
              "            (self): BertSelfAttention(\n",
              "              (query): Linear(in_features=312, out_features=312, bias=True)\n",
              "              (key): Linear(in_features=312, out_features=312, bias=True)\n",
              "              (value): Linear(in_features=312, out_features=312, bias=True)\n",
              "              (dropout): Dropout(p=0.1, inplace=False)\n",
              "            )\n",
              "            (output): BertSelfOutput(\n",
              "              (dense): Linear(in_features=312, out_features=312, bias=True)\n",
              "              (LayerNorm): LayerNorm((312,), eps=1e-12, elementwise_affine=True)\n",
              "              (dropout): Dropout(p=0.1, inplace=False)\n",
              "            )\n",
              "          )\n",
              "          (intermediate): BertIntermediate(\n",
              "            (dense): Linear(in_features=312, out_features=1200, bias=True)\n",
              "          )\n",
              "          (output): BertOutput(\n",
              "            (dense): Linear(in_features=1200, out_features=312, bias=True)\n",
              "            (LayerNorm): LayerNorm((312,), eps=1e-12, elementwise_affine=True)\n",
              "            (dropout): Dropout(p=0.1, inplace=False)\n",
              "          )\n",
              "        )\n",
              "        (3): TableLayerSimple(\n",
              "          (attention): BertAttention(\n",
              "            (self): BertSelfAttention(\n",
              "              (query): Linear(in_features=312, out_features=312, bias=True)\n",
              "              (key): Linear(in_features=312, out_features=312, bias=True)\n",
              "              (value): Linear(in_features=312, out_features=312, bias=True)\n",
              "              (dropout): Dropout(p=0.1, inplace=False)\n",
              "            )\n",
              "            (output): BertSelfOutput(\n",
              "              (dense): Linear(in_features=312, out_features=312, bias=True)\n",
              "              (LayerNorm): LayerNorm((312,), eps=1e-12, elementwise_affine=True)\n",
              "              (dropout): Dropout(p=0.1, inplace=False)\n",
              "            )\n",
              "          )\n",
              "          (intermediate): BertIntermediate(\n",
              "            (dense): Linear(in_features=312, out_features=1200, bias=True)\n",
              "          )\n",
              "          (output): BertOutput(\n",
              "            (dense): Linear(in_features=1200, out_features=312, bias=True)\n",
              "            (LayerNorm): LayerNorm((312,), eps=1e-12, elementwise_affine=True)\n",
              "            (dropout): Dropout(p=0.1, inplace=False)\n",
              "          )\n",
              "        )\n",
              "      )\n",
              "    )\n",
              "  )\n",
              "  (cand_embeddings): TableELEmbeddings(\n",
              "    (word_embeddings): Embedding(30522, 312, padding_idx=0)\n",
              "    (ent_type_embeddings): Embedding(404, 312, padding_idx=0, sparse=True)\n",
              "    (LayerNorm): LayerNorm((312,), eps=1e-12, elementwise_affine=True)\n",
              "    (dropout): Dropout(p=0.1, inplace=False)\n",
              "  )\n",
              "  (cls): TableELHead(\n",
              "    (ent_predictions): TableLMSubPredictionHead(\n",
              "      (transform): BertPredictionHeadTransform(\n",
              "        (dense): Linear(in_features=312, out_features=936, bias=True)\n",
              "        (LayerNorm): LayerNorm((936,), eps=1e-12, elementwise_affine=True)\n",
              "      )\n",
              "    )\n",
              "  )\n",
              ")"
            ]
          },
          "metadata": {},
          "execution_count": 34
        }
      ],
      "source": [
        "model = model_class(config, is_simple=True)\n",
        "# load the checkpoint based on mode but i do it manually\n",
        "#checkpoint = torch.load(f\"output/EL/v2/{config.mode}/model_v1_table_0.2_0.6_0.7_10000_1e-4_candnew_0_adam/pytorch_model.bin\")\n",
        "checkpoint = torch.load(my_path)\n",
        "\n",
        "model.load_state_dict(checkpoint)\n",
        "model.to(device)\n",
        "model.eval()"
      ]
    },
    {
      "cell_type": "code",
      "execution_count": null,
      "metadata": {
        "id": "_0eDOMkYTd8G",
        "colab": {
          "base_uri": "https://localhost:8080/"
        },
        "outputId": "9b4cf60b-771a-4a96-eaaa-ace225c1234c"
      },
      "outputs": [
        {
          "output_type": "stream",
          "name": "stdout",
          "text": [
            "Num examples = 7291\n",
            "Batch size = 10\n"
          ]
        },
        {
          "output_type": "stream",
          "name": "stderr",
          "text": [
            "Evaluating: 100%|██████████| 730/730 [00:49<00:00, 14.62it/s]"
          ]
        },
        {
          "output_type": "stream",
          "name": "stdout",
          "text": [
            "eval_acc = 0.8529694252226451\n",
            "eval_loss = 0.6310599533458279\n"
          ]
        },
        {
          "output_type": "stream",
          "name": "stderr",
          "text": [
            "\n"
          ]
        }
      ],
      "source": [
        "test_batch_size = 10\n",
        "test_sampler = SequentialSampler(test_dataset)\n",
        "test_dataloader = ELLoader(test_dataset, sampler=test_sampler, batch_size=test_batch_size, is_train=False)\n",
        "\n",
        "# Eval!\n",
        "print(\"Num examples = %d\"%len(test_dataset))\n",
        "print(\"Batch size = %d\"%test_batch_size)\n",
        "test_loss = 0.0\n",
        "test_acc = 0.0\n",
        "nb_test_steps = 0\n",
        "test_results = []\n",
        "\n",
        "for batch in tqdm(test_dataloader, desc=\"Evaluating\"):\n",
        "    table_id, input_tok, input_tok_type, input_tok_pos, input_tok_mask, \\\n",
        "            input_ent_text, input_ent_text_length, input_ent_type, input_ent_mask, \\\n",
        "            cand_name, cand_name_length,cand_description, cand_description_length,cand_type, cand_type_length, cand_mask, \\\n",
        "            labels,entities_index = batch\n",
        "    input_tok = input_tok.to(device)\n",
        "    input_tok_type = input_tok_type.to(device)\n",
        "    input_tok_pos = input_tok_pos.to(device)\n",
        "    input_tok_mask = input_tok_mask.to(device)\n",
        "    input_ent_text = input_ent_text.to(device)\n",
        "    input_ent_text_length = input_ent_text_length.to(device)\n",
        "    input_ent_type = input_ent_type.to(device)\n",
        "    input_ent_mask = input_ent_mask.to(device)\n",
        "    cand_name = cand_name.to(device)\n",
        "    cand_name_length = cand_name_length.to(device)\n",
        "    cand_description = cand_description.to(device)\n",
        "    cand_description_length = cand_description_length.to(device)\n",
        "    cand_type = cand_type.to(device)\n",
        "    cand_type_length = cand_type_length.to(device)\n",
        "    cand_mask = cand_mask.to(device)\n",
        "    labels = labels.to(device)\n",
        "    \n",
        "    if config.mode == 1:\n",
        "        cand_description = None\n",
        "        cand_description_length = None\n",
        "    elif config.mode == 2:\n",
        "        cand_type = None\n",
        "        cand_type_length = None\n",
        "    elif config.mode != 0:\n",
        "        raise Exception\n",
        "    \n",
        "    with torch.no_grad():\n",
        "        outputs = model(input_tok, input_tok_type, input_tok_pos, input_tok_mask,\\\n",
        "            input_ent_text, input_ent_text_length, input_ent_type, input_ent_mask, \\\n",
        "            cand_name, cand_name_length,cand_description, cand_description_length,cand_type, cand_type_length, cand_mask, \\\n",
        "            labels)\n",
        "        loss = outputs[0]\n",
        "        prediction_scores = outputs[1]\n",
        "        predict_index = torch.argsort(prediction_scores.view(input_ent_text.size(0),input_ent_text.size(1)-1,-1),descending=True)\n",
        "        sorted_scores = (torch.gather(prediction_scores.view(input_ent_text.size(0),input_ent_text.size(1)-1,-1),-1,predict_index)).tolist()\n",
        "        predict_index = predict_index.tolist()\n",
        "        acc = metric.accuracy(prediction_scores, labels.view(-1),ignore_index=-1)\n",
        "        cand_length = cand_mask.sum(1).tolist()\n",
        "        ent_length = (labels!=-1).sum(1).tolist()\n",
        "        for i,t_id in enumerate(table_id):\n",
        "            test_results.append([t_id,entities_index[i],\\\n",
        "                                 [x[:cand_length[i]] for x in predict_index[i][:ent_length[i]]],\\\n",
        "                                 [x[:cand_length[i]] for x in sorted_scores[i][:ent_length[i]]],\\\n",
        "                                ])\n",
        "        test_loss += loss.mean().item()\n",
        "        test_acc += acc.item()\n",
        "    nb_test_steps += 1\n",
        "\n",
        "test_loss = test_loss / nb_test_steps\n",
        "test_acc = test_acc / nb_test_steps\n",
        "\n",
        "result = {\n",
        "    \"eval_loss\": test_loss,\n",
        "    \"eval_acc\": test_acc,\n",
        "}\n",
        "for key in sorted(result.keys()):\n",
        "    print(\"%s = %s\"%(key, str(result[key])))"
      ]
    },
    {
      "cell_type": "code",
      "execution_count": null,
      "metadata": {
        "id": "OgetuLUZTd8H"
      },
      "outputs": [],
      "source": [
        "# we dump the predictions in seperate file an use another script for official evaluation.\n",
        "# The reason is that our entity linking is based on wikidata lookup. In certain cases, the candidates\n",
        "# do not contain the target entity, such test example is still considered for metric calculation.\n",
        "# However, since there is nothing to rank we do not pass thoses examples here. So the test examples here\n",
        "# is incomplete\n",
        "with open(os.path.join(data_dir,\"test_own_entity_linking_results_0.pkl\"),\"wb\") as f:\n",
        "    pickle.dump(test_results, f)"
      ]
    },
    {
      "cell_type": "markdown",
      "metadata": {
        "id": "CwIt-c77Td8H"
      },
      "source": [
        "<a class=\"anchor\" id=\"ct\"></a>\n",
        "# CT\n",
        "Evaluate column type annotation"
      ]
    },
    {
      "cell_type": "code",
      "execution_count": null,
      "metadata": {
        "id": "OJTrA4FXTd8I",
        "outputId": "2848338b-7668-4e57-a181-4a5bf482d4d4",
        "colab": {
          "base_uri": "https://localhost:8080/",
          "height": 364
        }
      },
      "outputs": [
        {
          "output_type": "display_data",
          "data": {
            "text/plain": [
              "['27295818-29',\n",
              " '2010–11 rangers f.c. season',\n",
              " 27295818,\n",
              " 'overall',\n",
              " '',\n",
              " ['competition', 'started round', 'final position / round'],\n",
              " [[[[0, 0], [26980923, 'Scottish Premier League']],\n",
              "   [[1, 0], [18255941, 'UEFA Champions League']],\n",
              "   [[2, 0], [20795986, 'UEFA Europa League']],\n",
              "   [[3, 0], [28233480, 'League Cup']],\n",
              "   [[4, 0], [28233536, 'Scottish Cup']]],\n",
              "  [[[1, 1], [18255941, 'Group stage']],\n",
              "   [[2, 1], [20795986, 'Round of 32']],\n",
              "   [[3, 1], [28233480, '3rd Round']],\n",
              "   [[4, 1], [28233536, '4th Round']]],\n",
              "  [[[1, 2], [18255941, 'Group stage']],\n",
              "   [[2, 2], [20795986, 'Round of 16']],\n",
              "   [[3, 2], [28233480, 'Winners']],\n",
              "   [[4, 2], [28233536, '5th Round']]]],\n",
              " [['time.event'], ['time.event'], ['time.event']]]"
            ]
          },
          "metadata": {}
        }
      ],
      "source": [
        "with open(os.path.join(data_dir, 'test.table_col_type.json'), 'r') as f:\n",
        "    example = json.load(f)[0]\n",
        "display(example)"
      ]
    },
    {
      "cell_type": "code",
      "source": [
        ""
      ],
      "metadata": {
        "id": "uTxdcJMDvO5G"
      },
      "execution_count": null,
      "outputs": []
    },
    {
      "cell_type": "markdown",
      "source": [
        "**Modifying the CT_Wiki_data_loaders.py file**"
      ],
      "metadata": {
        "id": "LzHSB278vPqG"
      }
    },
    {
      "cell_type": "markdown",
      "source": [
        ""
      ],
      "metadata": {
        "id": "qz_Mr288vYl7"
      }
    },
    {
      "cell_type": "code",
      "source": [
        "from torch.utils.data import Dataset, DataLoader, Subset\n",
        "from torch.utils.data.dataloader import default_collate\n",
        "from torch.utils.data.sampler import Sampler\n",
        "import torch\n",
        "import torch.nn as nn\n",
        "import torch.nn.functional as F\n",
        "from base import BaseDataLoader\n",
        "import pickle\n",
        "import numpy as np\n",
        "import json\n",
        "import os\n",
        "from tqdm import tqdm\n",
        "from torch._six import string_classes\n",
        "import re\n",
        "import random\n",
        "import copy\n",
        "import itertools\n",
        "import math\n",
        "from multiprocessing import Pool\n",
        "from functools import partial\n",
        "\n",
        "import pdb\n",
        "\n",
        "from model.transformers import BertTokenizer\n",
        "\n",
        "\n",
        "def process_single_CT(input_data, config):\n",
        "    table_id, pgTitle, pgEnt, secTitle, caption, headers, entities, type_annotations = input_data\n",
        "    entities = [z for column in entities for z in column[:config.max_column]]\n",
        "    pgEnt = config.entity_wikid2id.get(pgEnt, -1)\n",
        "\n",
        "    tokenized_pgTitle = config.tokenizer.encode(pgTitle, max_length=config.max_title_length, add_special_tokens=False)\n",
        "    tokenized_meta = tokenized_pgTitle+\\\n",
        "                    config.tokenizer.encode(secTitle, max_length=config.max_title_length, add_special_tokens=False)\n",
        "    if caption != secTitle:\n",
        "        tokenized_meta += config.tokenizer.encode(caption, max_length=config.max_title_length, add_special_tokens=False)\n",
        "    tokenized_headers = [config.tokenizer.encode(z, max_length=config.max_header_length, add_special_tokens=False) for z in headers]\n",
        "    input_tok = []\n",
        "    input_tok_pos = []\n",
        "    input_tok_type = []\n",
        "    tokenized_meta_length = len(tokenized_meta)\n",
        "    input_tok += tokenized_meta\n",
        "    input_tok_pos += list(range(tokenized_meta_length))\n",
        "    input_tok_type += [0]*tokenized_meta_length\n",
        "    tokenized_headers_length = [len(z) for z in tokenized_headers]\n",
        "    input_tok += list(itertools.chain(*tokenized_headers))\n",
        "    input_tok_pos += list(itertools.chain(*[list(range(z)) for z in tokenized_headers_length]))\n",
        "    input_tok_type += [1]*sum(tokenized_headers_length)\n",
        "\n",
        "    input_ent = []\n",
        "    input_ent_text = []\n",
        "    input_ent_type = []\n",
        "    column_en_map = {}\n",
        "    row_en_map = {}\n",
        "    for e_i, (index, cell) in enumerate(entities):\n",
        "        entity, entity_text = cell\n",
        "        entity = config.entity_wikid2id.get(entity, 0)\n",
        "        tokenized_ent_text = config.tokenizer.encode(entity_text, max_length=config.max_cell_length, add_special_tokens=False)\n",
        "        input_ent.append(entity)\n",
        "        input_ent_text.append(tokenized_ent_text)\n",
        "        input_ent_type.append(4)\n",
        "        if index[1] not in column_en_map:\n",
        "            column_en_map[index[1]] = [e_i]\n",
        "        else:\n",
        "            column_en_map[index[1]].append(e_i)\n",
        "        if index[0] not in row_en_map:\n",
        "            row_en_map[index[0]] = [e_i]\n",
        "        else:\n",
        "            row_en_map[index[0]].append(e_i)\n",
        "    input_ent_length = len(input_ent)\n",
        "    # create column entity mask\n",
        "    column_entity_mask = np.zeros([len(type_annotations), len(input_ent)], dtype=int)\n",
        "    for j in range(len(type_annotations)):\n",
        "        for e_i_1 in column_en_map[j]:\n",
        "            column_entity_mask[j, e_i_1] = 1\n",
        "    # create column header mask\n",
        "    start_i = 0\n",
        "    header_span = {}\n",
        "    column_header_mask = np.zeros([len(type_annotations), len(input_tok)], dtype=int)\n",
        "    for j in range(len(type_annotations)):\n",
        "        header_span[j] = (start_i, start_i+tokenized_headers_length[j])\n",
        "        column_header_mask[j, tokenized_meta_length+header_span[j][0]:tokenized_meta_length+header_span[j][1]] = 1\n",
        "        start_i += tokenized_headers_length[j]\n",
        "    #create input mask\n",
        "    tok_tok_mask = np.ones([len(input_tok), len(input_tok)], dtype=int)\n",
        "    meta_ent_mask = np.ones([tokenized_meta_length, len(input_ent)], dtype=int)\n",
        "    header_ent_mask = np.zeros([sum(tokenized_headers_length), len(input_ent)], dtype=int)\n",
        "    \n",
        "    for e_i, (index, _) in enumerate(entities):\n",
        "        header_ent_mask[header_span[index[1]][0]:header_span[index[1]][1], e_i] = 1\n",
        "    ent_header_mask = np.transpose(header_ent_mask)\n",
        "\n",
        "    input_tok_mask = [tok_tok_mask, np.concatenate([meta_ent_mask, header_ent_mask], axis=0)]\n",
        "    ent_meta_mask = np.ones([len(input_ent), tokenized_meta_length], dtype=int)\n",
        "    \n",
        "    ent_ent_mask = np.eye(len(input_ent), dtype=int)\n",
        "    for _,e_is in column_en_map.items():\n",
        "        for e_i_1 in e_is:\n",
        "            for e_i_2 in e_is:\n",
        "                ent_ent_mask[e_i_1, e_i_2] = 1\n",
        "    for _,e_is in row_en_map.items():\n",
        "        for e_i_1 in e_is:\n",
        "            for e_i_2 in e_is:\n",
        "                ent_ent_mask[e_i_1, e_i_2] = 1\n",
        "    input_ent_mask = [np.concatenate([ent_meta_mask, ent_header_mask], axis=1), ent_ent_mask]\n",
        "    # prepend pgEnt to input_ent, input_ent[0] = pgEnt\n",
        "    if pgEnt!=-1:\n",
        "        input_tok_mask[1] = np.concatenate([np.ones([len(input_tok), 1], dtype=int),input_tok_mask[1]],axis=1)\n",
        "    else:\n",
        "        input_tok_mask[1] = np.concatenate([np.zeros([len(input_tok), 1], dtype=int),input_tok_mask[1]],axis=1)\n",
        "    input_ent = [pgEnt if pgEnt!=-1 else 0] + input_ent\n",
        "    input_ent_text = [tokenized_pgTitle[:config.max_cell_length]] + input_ent_text\n",
        "    input_ent_type = [2] + input_ent_type\n",
        "\n",
        "    new_input_ent_mask = [np.ones([len(input_ent), len(input_tok)], dtype=int), np.ones([len(input_ent), len(input_ent)], dtype=int)]\n",
        "    new_input_ent_mask[0][1:, :] = input_ent_mask[0]\n",
        "    new_input_ent_mask[1][1:, 1:] = input_ent_mask[1]\n",
        "    if pgEnt==-1:\n",
        "        new_input_ent_mask[1][:, 0] = 0\n",
        "        new_input_ent_mask[1][0, :] = 0\n",
        "    column_entity_mask = np.concatenate([np.zeros([len(type_annotations), 1], dtype=int),column_entity_mask],axis=1)\n",
        "\n",
        "    input_ent_mask = new_input_ent_mask\n",
        "    labels = np.zeros([len(type_annotations), config.type_num], dtype=int)\n",
        "    for j, types in enumerate(type_annotations):\n",
        "        for t in types:\n",
        "            labels[j, config.type_vocab[t]] = 1\n",
        "    input_ent_cell_length = [len(x) if len(x)!=0 else 1 for x in input_ent_text]\n",
        "    max_cell_length = max(input_ent_cell_length)\n",
        "    input_ent_text_padded = np.zeros([len(input_ent_text), max_cell_length], dtype=int)\n",
        "    for i,x in enumerate(input_ent_text):\n",
        "        input_ent_text_padded[i, :len(x)] = x\n",
        "\n",
        "    return [table_id,np.array(input_tok),np.array(input_tok_type),np.array(input_tok_pos),(np.array(input_tok_mask[0]),np.array(input_tok_mask[1])),len(input_tok), \\\n",
        "                np.array(input_ent),input_ent_text_padded,input_ent_cell_length,np.array(input_ent_type),(np.array(input_ent_mask[0]),np.array(input_ent_mask[1])),len(input_ent), \\\n",
        "                column_header_mask,column_entity_mask,labels,len(labels)]\n",
        "\n",
        "class WikiCTDataset(Dataset):\n",
        "\n",
        "    def _preprocess(self, data_dir):\n",
        "        preprocessed_filename = os.path.join(\n",
        "            data_dir, \"procressed_WikiCT\", self.src\n",
        "        )\n",
        "        preprocessed_filename += \".pickle\"\n",
        "        if not self.force_new and os.path.exists(preprocessed_filename):\n",
        "            print(\"try loading preprocessed data from %s\" % preprocessed_filename)\n",
        "            with open(preprocessed_filename, \"rb\") as f:\n",
        "                return pickle.load(f)\n",
        "        else:\n",
        "            print(\"try creating preprocessed data in %s\" % preprocessed_filename)\n",
        "            try:\n",
        "                os.mkdir(os.path.join(data_dir, \"procressed_WikiCT\"))\n",
        "            except FileExistsError:\n",
        "                pass\n",
        "            with open(os.path.join(data_dir, \"{}.table_col_type.json\".format(self.src)), \"r\") as f:\n",
        "                cols = json.load(f)\n",
        "\n",
        "        print('{} {} tables'.format(len(cols),self.src))\n",
        "        pool = Pool(processes=4)\n",
        "        processed_cols = list(tqdm(pool.imap(partial(process_single_CT,config=self), cols, chunksize=1000),total=len(cols)))\n",
        "        pool.close()\n",
        "        # pdb.set_trace()\n",
        "\n",
        "        \n",
        "        with open(os.path.join(data_dir, \"procressed_WikiCT\", '{}.pickle'.format(self.src)), 'wb') as f:\n",
        "            pickle.dump(processed_cols, f)\n",
        "        # pdb.set_trace()\n",
        "        return processed_cols\n",
        "\n",
        "    def __init__(self, data_dir, entity_vocab, type_vocab, max_column=10, max_input_tok=500, src=\"train\", max_length = [50, 10, 10], force_new=False, tokenizer = None):\n",
        "        if tokenizer is not None:\n",
        "            self.tokenizer = tokenizer\n",
        "        else:\n",
        "\n",
        "            #------change made here-----------------------------------------------------\n",
        "            self.tokenizer = BertTokenizer.from_pretrained('bert-base-uncased')\n",
        "            #---------------------------------------------------------------\n",
        "        self.src = src\n",
        "        self.force_new = force_new\n",
        "        self.max_input_tok = max_input_tok\n",
        "        self.max_title_length = max_length[0]\n",
        "        self.max_header_length = max_length[1]\n",
        "        self.max_cell_length = max_length[2]\n",
        "        self.max_column = max_column\n",
        "        self.entity_vocab = entity_vocab\n",
        "        self.entity_wikid2id = {self.entity_vocab[x]['wiki_id']:x for x in self.entity_vocab}\n",
        "        self.type_vocab = type_vocab\n",
        "        self.type_num = len(self.type_vocab)\n",
        "        self.data = self._preprocess(data_dir)\n",
        "        # pdb.set_trace()\n",
        "\n",
        "    def __len__(self):\n",
        "        return len(self.data)\n",
        "\n",
        "    def __getitem__(self, index):\n",
        "        return self.data[index]\n",
        "\n",
        "\n",
        "class finetune_collate_fn_CT:\n",
        "    def __init__(self, tokenizer, is_train=True):\n",
        "        self.tokenizer = tokenizer\n",
        "        self.is_train = is_train\n",
        "    def __call__(self, raw_batch):\n",
        "        batch_table_id, batch_input_tok, batch_input_tok_type, batch_input_tok_pos, batch_input_tok_mask, batch_input_tok_length, \\\n",
        "            batch_input_ent, batch_input_ent_text, batch_input_ent_cell_length, batch_input_ent_type, batch_input_ent_mask, batch_input_ent_length, \\\n",
        "            batch_column_header_mask, batch_column_entity_mask, batch_labels, batch_col_num = zip(*raw_batch)\n",
        "        \n",
        "        batch_size = len(batch_table_id)\n",
        "        max_input_tok_length = max(batch_input_tok_length)\n",
        "        max_input_ent_length = max(batch_input_ent_length)\n",
        "        max_input_cell_length = max([z.shape[-1] for z in batch_input_ent_text])\n",
        "        max_input_col_num = max(batch_col_num)\n",
        "\n",
        "        batch_input_tok_padded = np.zeros([batch_size, max_input_tok_length], dtype=int)\n",
        "        batch_input_tok_type_padded = np.zeros([batch_size, max_input_tok_length], dtype=int)\n",
        "        batch_input_tok_pos_padded = np.zeros([batch_size, max_input_tok_length], dtype=int)\n",
        "        batch_input_tok_mask_padded = np.zeros([batch_size, max_input_tok_length, max_input_tok_length+max_input_ent_length], dtype=int)\n",
        "\n",
        "        batch_input_ent_padded = np.zeros([batch_size, max_input_ent_length], dtype=int)\n",
        "        batch_input_ent_text_padded = np.zeros([batch_size, max_input_ent_length, max_input_cell_length], dtype=int)\n",
        "        batch_input_ent_text_length = np.ones([batch_size, max_input_ent_length], dtype=int)\n",
        "        batch_input_ent_type_padded = np.zeros([batch_size, max_input_ent_length], dtype=int)\n",
        "        batch_input_ent_mask_padded = np.zeros([batch_size, max_input_ent_length, max_input_tok_length+max_input_ent_length], dtype=int)\n",
        "\n",
        "        batch_column_entity_mask_padded = np.zeros([batch_size, max_input_col_num, max_input_ent_length], dtype=int)\n",
        "        batch_column_header_mask_padded = np.zeros([batch_size, max_input_col_num, max_input_tok_length], dtype=int)\n",
        "        batch_labels_padded = np.zeros([batch_size, max_input_col_num, batch_labels[0].shape[-1]], dtype=int)\n",
        "        batch_labels_mask = np.zeros([batch_size, max_input_col_num], dtype=int)\n",
        "        \n",
        "        for i, (tok_l, ent_l, col_num) in enumerate(zip(batch_input_tok_length, batch_input_ent_length, batch_col_num)):\n",
        "            batch_input_tok_padded[i, :tok_l] = batch_input_tok[i]\n",
        "            batch_input_tok_type_padded[i, :tok_l] = batch_input_tok_type[i]\n",
        "            batch_input_tok_pos_padded[i, :tok_l] = batch_input_tok_pos[i]\n",
        "            batch_input_tok_mask_padded[i, :tok_l, :tok_l] = batch_input_tok_mask[i][0]\n",
        "            batch_input_tok_mask_padded[i, :tok_l, max_input_tok_length:max_input_tok_length+ent_l] = batch_input_tok_mask[i][1]\n",
        "\n",
        "            batch_input_ent_padded[i, :ent_l] = batch_input_ent[i]\n",
        "            batch_input_ent_text_padded[i, :ent_l, :batch_input_ent_text[i].shape[-1]] = batch_input_ent_text[i]\n",
        "            batch_input_ent_text_length[i, :ent_l] = batch_input_ent_cell_length[i]\n",
        "            batch_input_ent_type_padded[i, :ent_l] = batch_input_ent_type[i]\n",
        "            batch_input_ent_mask_padded[i, :ent_l, :tok_l] = batch_input_ent_mask[i][0]\n",
        "            batch_input_ent_mask_padded[i, :ent_l, max_input_tok_length:max_input_tok_length+ent_l] = batch_input_ent_mask[i][1]\n",
        "            batch_column_entity_mask_padded[i, :col_num, :ent_l] = batch_column_entity_mask[i]\n",
        "            batch_column_entity_mask_padded[i, col_num:, 0] = 1\n",
        "            batch_column_header_mask_padded[i, :col_num, :tok_l] = batch_column_header_mask[i]\n",
        "            batch_column_header_mask_padded[i, col_num:, 0] = 1\n",
        "            batch_labels_padded[i, :col_num] = batch_labels[i]\n",
        "            batch_labels_mask[i, :col_num] = batch_labels[i].sum(1)!=0\n",
        "                    \n",
        "        batch_input_tok_padded = torch.LongTensor(batch_input_tok_padded)\n",
        "        batch_input_tok_type_padded = torch.LongTensor(batch_input_tok_type_padded)\n",
        "        batch_input_tok_pos_padded = torch.LongTensor(batch_input_tok_pos_padded)\n",
        "        batch_input_tok_mask_padded = torch.LongTensor(batch_input_tok_mask_padded)\n",
        "\n",
        "        batch_input_ent_padded = torch.LongTensor(batch_input_ent_padded)\n",
        "        batch_input_ent_text_padded = torch.LongTensor(batch_input_ent_text_padded)\n",
        "        batch_input_ent_text_length = torch.LongTensor(batch_input_ent_text_length)\n",
        "        batch_input_ent_type_padded = torch.LongTensor(batch_input_ent_type_padded)\n",
        "        batch_input_ent_mask_padded = torch.LongTensor(batch_input_ent_mask_padded)\n",
        "\n",
        "        batch_column_entity_mask_padded = torch.FloatTensor(batch_column_entity_mask_padded)\n",
        "        batch_column_header_mask_padded = torch.FloatTensor(batch_column_header_mask_padded)\n",
        "        batch_labels_mask = torch.FloatTensor(batch_labels_mask)\n",
        "        batch_labels_padded = torch.FloatTensor(batch_labels_padded)\n",
        "\n",
        "        return batch_table_id, batch_input_tok_padded, batch_input_tok_type_padded, batch_input_tok_pos_padded, batch_input_tok_mask_padded, \\\n",
        "                batch_input_ent_text_padded, batch_input_ent_text_length, batch_input_ent_padded, batch_input_ent_type_padded, batch_input_ent_mask_padded, \\\n",
        "                batch_column_entity_mask_padded, batch_column_header_mask_padded, batch_labels_mask, batch_labels_padded\n",
        "\n",
        "class CTLoader(DataLoader):\n",
        "    \"\"\"\n",
        "    Base class for all data loaders\n",
        "    \"\"\"\n",
        "    def __init__(\n",
        "        self,\n",
        "        dataset,\n",
        "        batch_size,\n",
        "        shuffle=True,\n",
        "        is_train = True,\n",
        "        num_workers=0,\n",
        "        sampler=None,\n",
        "    ):\n",
        "        self.shuffle = shuffle\n",
        "        if sampler is not None:\n",
        "            self.shuffle = False\n",
        "\n",
        "        self.batch_idx = 0\n",
        "        self.n_samples = len(dataset)\n",
        "        self.is_train = is_train\n",
        "        self.collate_fn = finetune_collate_fn_CT(dataset.tokenizer, is_train=self.is_train)\n",
        "\n",
        "        self.init_kwargs = {\n",
        "            \"dataset\": dataset,\n",
        "            \"batch_size\": batch_size,\n",
        "            \"shuffle\": self.shuffle,\n",
        "            \"collate_fn\": self.collate_fn,\n",
        "            \"num_workers\": num_workers,\n",
        "            \"sampler\": sampler\n",
        "        }\n",
        "        super().__init__(**self.init_kwargs)"
      ],
      "metadata": {
        "id": "TdAmm_pK0cyq"
      },
      "execution_count": null,
      "outputs": []
    },
    {
      "cell_type": "code",
      "execution_count": null,
      "metadata": {
        "id": "bw9o7v62Td8I",
        "outputId": "cb07cd0c-a576-474c-a0e5-b53d44ef95b9",
        "colab": {
          "base_uri": "https://localhost:8080/"
        }
      },
      "outputs": [
        {
          "output_type": "stream",
          "name": "stdout",
          "text": [
            "try loading preprocessed data from /content/drive/MyDrive/TURL/data/procressed_WikiCT/test.pickle\n"
          ]
        }
      ],
      "source": [
        "# load type vocab from type_vocab.txt\n",
        "type_vocab = load_type_vocab(data_dir)\n",
        "test_dataset = WikiCTDataset(data_dir, entity_vocab, type_vocab, max_input_tok=500, src=\"test\", max_length = [50, 10, 10], force_new=False, tokenizer = None)"
      ]
    },
    {
      "cell_type": "code",
      "execution_count": null,
      "metadata": {
        "id": "CCc1e-3vTd8I"
      },
      "outputs": [],
      "source": [
        "id2type = {idx:t for t, idx in type_vocab.items()}\n",
        "t2d_invalid = set()"
      ]
    },
    {
      "cell_type": "code",
      "execution_count": null,
      "metadata": {
        "id": "-vchiJD3Td8J"
      },
      "outputs": [],
      "source": [
        "def average_precision(output, relevance_labels):\n",
        "    with torch.no_grad():\n",
        "        sorted_output = torch.argsort(output, dim=-1, descending=True)\n",
        "        sorted_labels = torch.gather(relevance_labels, -1, sorted_output).float()\n",
        "        cum_correct = torch.cumsum(sorted_labels, dim=-1)\n",
        "        cum_precision = cum_correct / torch.arange(start=1,end=cum_correct.shape[-1]+1, device=cum_correct.device)[None, :]\n",
        "        cum_precision = cum_precision * sorted_labels\n",
        "        total_valid = torch.sum(sorted_labels, dim=-1)\n",
        "        total_valid[total_valid==0] = 1\n",
        "        average_precision = torch.sum(cum_precision, dim=-1)/total_valid\n",
        "\n",
        "    return average_precision"
      ]
    },
    {
      "cell_type": "code",
      "execution_count": null,
      "metadata": {
        "id": "4XOvcHxsTd8J"
      },
      "outputs": [],
      "source": [
        "per_type_accuracy = {}\n",
        "per_type_precision = {}\n",
        "per_type_recall = {}\n",
        "per_type_f1 = {}\n",
        "map = {}\n",
        "precision = {}\n",
        "recall = {}\n",
        "f1 = {}\n",
        "per_table_result = {}"
      ]
    },
    {
      "cell_type": "code",
      "source": [
        "'/content/drive/MyDrive/TURL/checkpoint/column_type/0/pytorch_model.bin'"
      ],
      "metadata": {
        "colab": {
          "base_uri": "https://localhost:8080/",
          "height": 35
        },
        "id": "vsQVLpN_wnGm",
        "outputId": "e8c10cb0-2a5a-4bd9-84dc-de3d4ab38057"
      },
      "execution_count": null,
      "outputs": [
        {
          "output_type": "execute_result",
          "data": {
            "text/plain": [
              "'/content/drive/MyDrive/TURL/checkpoint/column_type/0/pytorch_model.bin'"
            ],
            "application/vnd.google.colaboratory.intrinsic+json": {
              "type": "string"
            }
          },
          "metadata": {},
          "execution_count": 51
        }
      ]
    },
    {
      "cell_type": "code",
      "execution_count": null,
      "metadata": {
        "id": "9-drgP_BTd8J",
        "outputId": "55a3f6d9-3e8a-4d7e-e1ae-acf9bc096b03",
        "scrolled": true,
        "colab": {
          "referenced_widgets": [
            "1535a8ca19344f13acd2e82dc2ce57d7",
            "1e7d4f44281448d982f331cbaece1cf6",
            "cc1f51a3f7974a27a3605f4eb82eea5c",
            "7563412f02a14d039b3512ee32134c21",
            "03610c135ab24442a38b8c36f9cd2f18",
            "8ce6fe1cb69242b28a67e533809beac0",
            "b0818cef2ef845ccbb9eb1fe8ac618d5",
            "136e877255864210aed5da6026fb2e12",
            "3eb952082a124ba6a64d94acf76e54fd",
            "71cd27d97ebb4c2daacba6f64dbd07ec",
            "fa15d44e6c6247b5a0bd339f0841d0fa",
            "d0d482aa57ef429a964f4691a76661d8",
            "4bc46e45423b4d22a4a22b90a82419b1",
            "13c918b1369e425fad10909ede20daff",
            "8a269d661e56444cabe96f682a5f8770",
            "9e5f3410e1d14528af739d08664cce8d",
            "f7cdf730353e47aebcfc85d6ad790a3a",
            "edcf68b8edd041bda857a27bf514188e",
            "a208dd847f904936844d12c42d939c0b",
            "5dddc98f714647788ec85b2b4e50b45b",
            "92ca7cb9b2d44b7688a17ae9a4af8dc6",
            "5ed8c9deba954abab4ee0fbfdfcc667a",
            "fca61584683f40e28da07f4a6cb57a53",
            "b24c8c9858fa43c5b4770b074c1205fa",
            "42d1bfa00e2e4bf7ad8e9ca26299f912",
            "4af7c507a29849d7a246ef722b3ac3d4",
            "95fd55e95c5944f18938a052b212bf19",
            "38e0d49bceb04bf8aac5f1d1743e2389",
            "4dd1430fd82b4395abddfeb88c74867f",
            "83ce24e5dc2a4617bf5f3133341f462e",
            "6286af4d61f7447bb935e9519566461b",
            "d16f0d4f8d1a4d3eb99898cee92f4968",
            "d27bc50fabbd4c88b5944abb7a888cab",
            "646f4fd0f35d4c4788c0fd46958bc586",
            "87bb03270b85443883add955f86f9e9a",
            "9904f5082da8443b882fa7bb5c28cbd6",
            "986707e32ae9471cb2a6c1e8feb6c0c8",
            "04405183c7694432b2604414024957db",
            "cf18a437353742409d19b9999b82ac21",
            "1755aca79db2417c956ebf6ca303330e",
            "a7060252f2234d66adaa1022d0399590",
            "beb4a21f58874972ad736dd4c76015eb",
            "70512e20f33d4e668a65ce3536151ed9",
            "d9d7da876e9440cb8155469c34d510c5",
            "41d7913c92994c1096ec6a92896c1090",
            "e234aaea9fb3499aba20fb59fe7008fb",
            "48f91a9e27504259aa4dd5e7768dbaa6",
            "9c509b6d40264e64960865821f173cfb",
            "a344ee20d9c64f2da949e699f094fae9",
            "dbf2a77eeaae4d35a64752dca9a90a7a",
            "1730722fdd97439299458d80270347c2",
            "e705d97e7deb4bfe97ea041487fdec55",
            "d5fdf80c6d004866812f0b25bec43bf5",
            "4af3b7cb5a2b4ce4b3a738b767510ddd",
            "115b8f884743418394325cfc4b1ebddd",
            "22b87851d1a749f1bf0b8d3187c8fb23",
            "ac951e128b4e4c29ae5c45ced7e61827",
            "ee2d8296050e4a7a80272ff948ebe049",
            "162891b9630a439fac5bc316189a9abb",
            "25bb11e1acf9450ead0df9b18bdb44db",
            "dc1c61a7b40c46df8bef0c41fd84b932",
            "d38d73e43d2849c795d77b51963458d2",
            "fc2d7ce77fae418a9489708a2bfaa967",
            "67e60670395c4b659690e7193f1f9adb",
            "d361b519e52147538e1472a2564269a8",
            "347151b3240e4870866f7481d127afde"
          ],
          "base_uri": "https://localhost:8080/",
          "height": 469
        }
      },
      "outputs": [
        {
          "output_type": "stream",
          "name": "stdout",
          "text": [
            "0\n"
          ]
        },
        {
          "output_type": "display_data",
          "data": {
            "text/plain": [
              "Evaluating:   0%|          | 0/239 [00:00<?, ?it/s]"
            ],
            "application/vnd.jupyter.widget-view+json": {
              "version_major": 2,
              "version_minor": 0,
              "model_id": "1535a8ca19344f13acd2e82dc2ce57d7"
            }
          },
          "metadata": {}
        },
        {
          "output_type": "stream",
          "name": "stdout",
          "text": [
            "0.9933874786648291\n"
          ]
        },
        {
          "output_type": "stream",
          "name": "stderr",
          "text": [
            "/usr/local/lib/python3.7/dist-packages/ipykernel_launcher.py:110: RuntimeWarning: invalid value encountered in true_divide\n",
            "/usr/local/lib/python3.7/dist-packages/ipykernel_launcher.py:112: RuntimeWarning: invalid value encountered in true_divide\n",
            "/usr/local/lib/python3.7/dist-packages/ipykernel_launcher.py:114: RuntimeWarning: invalid value encountered in true_divide\n"
          ]
        },
        {
          "output_type": "stream",
          "name": "stdout",
          "text": [
            "1\n"
          ]
        },
        {
          "output_type": "display_data",
          "data": {
            "text/plain": [
              "Evaluating:   0%|          | 0/239 [00:00<?, ?it/s]"
            ],
            "application/vnd.jupyter.widget-view+json": {
              "version_major": 2,
              "version_minor": 0,
              "model_id": "d0d482aa57ef429a964f4691a76661d8"
            }
          },
          "metadata": {}
        },
        {
          "output_type": "stream",
          "name": "stdout",
          "text": [
            "0.9896862372194872\n",
            "2\n"
          ]
        },
        {
          "output_type": "display_data",
          "data": {
            "text/plain": [
              "Evaluating:   0%|          | 0/239 [00:00<?, ?it/s]"
            ],
            "application/vnd.jupyter.widget-view+json": {
              "version_major": 2,
              "version_minor": 0,
              "model_id": "fca61584683f40e28da07f4a6cb57a53"
            }
          },
          "metadata": {}
        },
        {
          "output_type": "stream",
          "name": "stdout",
          "text": [
            "0.9725424644837319\n",
            "3\n"
          ]
        },
        {
          "output_type": "display_data",
          "data": {
            "text/plain": [
              "Evaluating:   0%|          | 0/239 [00:00<?, ?it/s]"
            ],
            "application/vnd.jupyter.widget-view+json": {
              "version_major": 2,
              "version_minor": 0,
              "model_id": "646f4fd0f35d4c4788c0fd46958bc586"
            }
          },
          "metadata": {}
        },
        {
          "output_type": "stream",
          "name": "stdout",
          "text": [
            "0.9846508577777751\n",
            "4\n"
          ]
        },
        {
          "output_type": "display_data",
          "data": {
            "text/plain": [
              "Evaluating:   0%|          | 0/239 [00:00<?, ?it/s]"
            ],
            "application/vnd.jupyter.widget-view+json": {
              "version_major": 2,
              "version_minor": 0,
              "model_id": "41d7913c92994c1096ec6a92896c1090"
            }
          },
          "metadata": {}
        },
        {
          "output_type": "stream",
          "name": "stdout",
          "text": [
            "0.9616417717734141\n",
            "5\n"
          ]
        },
        {
          "output_type": "display_data",
          "data": {
            "text/plain": [
              "Evaluating:   0%|          | 0/239 [00:00<?, ?it/s]"
            ],
            "application/vnd.jupyter.widget-view+json": {
              "version_major": 2,
              "version_minor": 0,
              "model_id": "22b87851d1a749f1bf0b8d3187c8fb23"
            }
          },
          "metadata": {}
        },
        {
          "output_type": "stream",
          "name": "stdout",
          "text": [
            "0.9862419815741822\n"
          ]
        }
      ],
      "source": [
        "from tqdm.autonotebook import tqdm\n",
        "\n",
        "#--------------------------changes made here----------------------------------------------\n",
        "checkpoints = [\n",
        "    \"/content/drive/MyDrive/TURL/checkpoint/column_type/0/pytorch_model.bin\",\n",
        "    \"/content/drive/MyDrive/TURL/checkpoint/column_type/1/pytorch_model.bin\",\n",
        "    \"/content/drive/MyDrive/TURL/checkpoint/column_type/2/pytorch_model.bin\",\n",
        "    \"/content/drive/MyDrive/TURL/checkpoint/column_type/3/pytorch_model.bin\",\n",
        "    \"/content/drive/MyDrive/TURL/checkpoint/column_type/4/pytorch_model.bin\",\n",
        "    \"/content/drive/MyDrive/TURL/checkpoint/column_type/5/pytorch_model.bin\"\n",
        "\n",
        "]\n",
        "\n",
        "#------------------------------changes made here------------------------------------------------------\n",
        "for mode in range(6):\n",
        "    print(mode)\n",
        "    config_class, model_class, _ = MODEL_CLASSES['CT']\n",
        "    config = config_class.from_pretrained(config_name)\n",
        "    config.class_num = len(type_vocab)\n",
        "    config.mode = mode\n",
        "    model = model_class(config, is_simple=True)\n",
        "    checkpoint = checkpoints[mode]\n",
        "    checkpoint = torch.load(checkpoint)\n",
        "    model.load_state_dict(checkpoint)\n",
        "    model.to(device)\n",
        "    model.eval()\n",
        "    eval_batch_size = 20\n",
        "    eval_sampler = SequentialSampler(test_dataset)\n",
        "    eval_dataloader = CTLoader(test_dataset, sampler=eval_sampler, batch_size=eval_batch_size, is_train=False)\n",
        "    eval_loss = 0.0\n",
        "    eval_map = 0.0\n",
        "    nb_eval_steps = 0\n",
        "    eval_targets = []\n",
        "    eval_prediction_scores = []\n",
        "    eval_pred = []\n",
        "    eval_mask = []\n",
        "    per_table_result[mode] = {}\n",
        "    for batch in tqdm(eval_dataloader, desc=\"Evaluating\"):\n",
        "        table_ids, input_tok, input_tok_type, input_tok_pos, input_tok_mask, \\\n",
        "            input_ent_text, input_ent_text_length, input_ent, input_ent_type, input_ent_mask, \\\n",
        "            column_entity_mask, column_header_mask, labels_mask, labels = batch\n",
        "        input_tok = input_tok.to(device)\n",
        "        input_tok_type = input_tok_type.to(device)\n",
        "        input_tok_pos = input_tok_pos.to(device)\n",
        "        input_tok_mask = input_tok_mask.to(device)\n",
        "        input_ent_text = input_ent_text.to(device)\n",
        "        input_ent_text_length = input_ent_text_length.to(device)\n",
        "        input_ent = input_ent.to(device)\n",
        "        input_ent_type = input_ent_type.to(device)\n",
        "        input_ent_mask = input_ent_mask.to(device)\n",
        "        column_entity_mask = column_entity_mask.to(device)\n",
        "        column_header_mask = column_header_mask.to(device)\n",
        "        labels_mask = labels_mask.to(device)\n",
        "        labels = labels.to(device)\n",
        "        if mode == 1:\n",
        "            input_ent_mask = input_ent_mask[:,:,input_tok_mask.shape[1]:]\n",
        "            input_tok = None\n",
        "            input_tok_type = None\n",
        "            input_tok_pos = None\n",
        "            input_tok_mask = None\n",
        "        elif mode == 2:\n",
        "            input_tok_mask = input_tok_mask[:,:,:input_tok_mask.shape[1]]\n",
        "            input_ent_text = None\n",
        "            input_ent_text_length = None\n",
        "            input_ent = None\n",
        "            input_ent_type = None\n",
        "            input_ent_mask = None\n",
        "        elif mode == 3:\n",
        "            input_ent = None\n",
        "        elif mode == 4:\n",
        "            input_ent_mask = input_ent_mask[:,:,input_tok_mask.shape[1]:]\n",
        "            input_tok = None\n",
        "            input_tok_type = None\n",
        "            input_tok_pos = None\n",
        "            input_tok_mask = None\n",
        "            input_ent = None\n",
        "        elif mode == 5:\n",
        "            input_ent_mask = input_ent_mask[:,:,input_tok_mask.shape[1]:]\n",
        "            input_tok = None\n",
        "            input_tok_type = None\n",
        "            input_tok_pos = None\n",
        "            input_tok_mask = None\n",
        "            input_ent_text = None\n",
        "            input_ent_text_length = None\n",
        "        with torch.no_grad():\n",
        "            outputs = model(input_tok, input_tok_type, input_tok_pos, input_tok_mask,\\\n",
        "                input_ent_text, input_ent_text_length, input_ent, input_ent_type, input_ent_mask, column_entity_mask, column_header_mask, labels_mask, labels)\n",
        "            loss = outputs[0]\n",
        "            prediction_scores = outputs[1]\n",
        "            for l_i in t2d_invalid:\n",
        "                prediction_scores[:,:,l_i] = -1000\n",
        "            for idx, table_id in enumerate(table_ids):\n",
        "                valid = labels_mask[idx].nonzero().max().item()+1\n",
        "                if table_id not in per_table_result[mode]:\n",
        "                    per_table_result[mode][table_id] = [[],labels_mask[idx,:valid],labels[idx,:valid]]\n",
        "                per_table_result[mode][table_id][0].append(prediction_scores[idx,:valid])\n",
        "            ap = metric.average_precision(prediction_scores.view(-1, config.class_num), labels.view((-1, config.class_num)))\n",
        "            map = (ap*labels_mask.view(-1)).sum()/labels_mask.sum()\n",
        "            eval_loss += loss.mean().item()\n",
        "            eval_map += map.item()\n",
        "            eval_targets.extend(labels.view(-1, config.class_num).tolist())\n",
        "            eval_prediction_scores.extend(prediction_scores.view(-1, config.class_num).tolist())\n",
        "            eval_pred.extend((torch.sigmoid(prediction_scores.view(-1, config.class_num))>0.5).tolist())\n",
        "            eval_mask.extend(labels_mask.view(-1).tolist())\n",
        "        nb_eval_steps += 1\n",
        "    print(eval_map/nb_eval_steps)\n",
        "    eval_targets = np.array(eval_targets)\n",
        "    eval_prediction_scores = np.array(eval_prediction_scores)\n",
        "    eval_mask = np.array(eval_mask)\n",
        "    eval_prediction_ranks = np.argsort(np.argsort(-eval_prediction_scores))\n",
        "    eval_pred = np.array(eval_pred)\n",
        "    eval_tp = eval_mask[:,np.newaxis]*eval_pred*eval_targets\n",
        "    eval_precision = np.sum(eval_tp,axis=0)/np.sum(eval_mask[:,np.newaxis]*eval_pred,axis=0)\n",
        "    eval_precision = np.nan_to_num(eval_precision, 1)\n",
        "    eval_recall = np.sum(eval_tp,axis=0)/np.sum(eval_mask[:,np.newaxis]*eval_targets,axis=0)\n",
        "    eval_recall = np.nan_to_num(eval_recall, 1)\n",
        "    eval_f1 = 2*eval_precision*eval_recall/(eval_precision+eval_recall)\n",
        "    eval_f1 = np.nan_to_num(eval_f1, 0)\n",
        "    per_type_instance_num = np.sum(eval_mask[:,np.newaxis]*eval_targets,axis=0)\n",
        "    per_type_instance_num[per_type_instance_num==0] = 1\n",
        "    per_type_correct_instance_num = np.sum(eval_mask[:,np.newaxis]*(eval_prediction_ranks<eval_targets.sum(axis=1)[:,np.newaxis])*eval_targets,axis=0)\n",
        "    per_type_accuracy[mode] = per_type_correct_instance_num/per_type_instance_num\n",
        "    per_type_precision[mode] = eval_precision\n",
        "    per_type_recall[mode] = eval_recall\n",
        "    per_type_f1[mode] = eval_f1\n",
        "    precision[mode] = np.sum(eval_tp)/np.sum(eval_mask[:,np.newaxis]*eval_pred)\n",
        "    recall[mode] = np.sum(eval_tp)/np.sum(eval_mask[:,np.newaxis]*eval_targets)\n",
        "    f1[mode] = 2*precision[mode]*recall[mode]/(precision[mode]+recall[mode])"
      ]
    },
    {
      "cell_type": "code",
      "execution_count": null,
      "metadata": {
        "id": "JVbu1RzrTd8K",
        "outputId": "f0d58a7a-2853-453d-cc66-162f68f97b46",
        "colab": {
          "base_uri": "https://localhost:8080/"
        }
      },
      "outputs": [
        {
          "output_type": "stream",
          "name": "stdout",
          "text": [
            "0.982725527831094 13025.0\n"
          ]
        }
      ],
      "source": [
        "total_corr = 0\n",
        "total_valid = 0\n",
        "errors = []\n",
        "for table_id, result in per_table_result[3].items():\n",
        "    prediction_scores, label_mask, label = result\n",
        "    prediction_scores = torch.stack(prediction_scores, 0).mean(0)\n",
        "    current_corr = 0\n",
        "    for col_idx, pred in enumerate(prediction_scores.argmax(-1).tolist()):\n",
        "        current_corr += label[col_idx, pred].item()\n",
        "    total_valid += label_mask.sum().item()\n",
        "    total_corr += current_corr\n",
        "    if current_corr!=label_mask.sum().item():\n",
        "        errors.append(table_id)\n",
        "print(total_corr/total_valid, total_valid)"
      ]
    },
    {
      "cell_type": "code",
      "execution_count": null,
      "metadata": {
        "id": "katLgkWbTd8L",
        "outputId": "16ed1cb5-731b-4a2d-ed30-a25bb9bf36ae",
        "colab": {
          "base_uri": "https://localhost:8080/"
        }
      },
      "outputs": [
        {
          "output_type": "stream",
          "name": "stdout",
          "text": [
            "people.person 3906.0000 0.9963 0.9843 0.9932 0.9932  0.9837 0.9904\n",
            "\n",
            "location.location 3245.0000 0.9943 0.9682 0.9911 0.9863  0.9787 0.9862\n",
            "\n",
            "organization.organization 2122.0000 0.9657 0.8941 0.9572 0.9343  0.8974 0.9507\n",
            "\n",
            "sports.sports_team 1701.0000 0.9886 0.9536 0.9847 0.9772  0.9659 0.9871\n",
            "\n",
            "sports.pro_athlete 1688.0000 0.9117 0.8763 0.8977 0.9066  0.8984 0.9002\n",
            "\n",
            "time.event 1304.0000 0.9969 0.9645 0.9923 0.9843  0.9694 0.9880\n",
            "\n",
            "soccer.football_team 822.0000 0.9469 0.8959 0.9426 0.9309  0.9173 0.9472\n",
            "\n",
            "location.citytown 562.0000 0.8449 0.6438 0.7860 0.7681  0.7473 0.7798\n",
            "\n",
            "location.country 538.0000 0.9788 0.9267 0.9788 0.9542  0.9292 0.9797\n",
            "\n",
            "government.politician 495.0000 0.9261 0.8797 0.9193 0.9080  0.8750 0.9043\n",
            "\n",
            "sports.sports_league 491.0000 0.9716 0.9457 0.9672 0.9587  0.9265 0.9724\n",
            "\n",
            "location.administrative_division 317.0000 0.8537 0.6678 0.8213 0.8098  0.7051 0.8097\n",
            "\n",
            "sports.sports_league_season 312.0000 0.9062 0.7783 0.8857 0.8527  0.8217 0.9011\n",
            "\n",
            "government.u_s_congressperson 308.0000 0.9698 0.9289 0.9651 0.9542  0.9388 0.9543\n",
            "\n",
            "architecture.structure 289.0000 0.8897 0.8263 0.8857 0.8667  0.8485 0.8672\n",
            "\n",
            "government.political_party 274.0000 0.9548 0.9317 0.9491 0.9468  0.9220 0.9493\n",
            "\n",
            "soccer.football_player 262.0000 0.8860 0.8384 0.8582 0.8736  0.8636 0.8356\n",
            "\n",
            "business.business_operation 237.0000 0.9023 0.7834 0.8879 0.8875  0.8050 0.8685\n",
            "\n",
            "baseball.baseball_league 230.0000 0.9957 0.9935 0.9978 0.9935  0.9957 0.9978\n",
            "\n",
            "time.recurring_event 230.0000 0.9761 0.8958 0.9806 0.9432  0.8843 0.9784\n",
            "\n",
            "film.actor 215.0000 0.7930 0.6720 0.7688 0.7951  0.7854 0.7744\n",
            "\n",
            "sports.sports_position 199.0000 0.9975 0.9950 0.9975 0.9975  0.9874 1.0000\n",
            "\n",
            "music.artist 176.0000 0.9017 0.7110 0.8843 0.8655  0.8457 0.8757\n",
            "\n",
            "tennis.tennis_player 169.0000 0.9853 0.9493 0.9765 0.9825  0.9602 0.9763\n",
            "\n",
            "government.general_election 163.0000 0.9152 0.8589 0.9341 0.9085  0.8839 0.9226\n",
            "\n",
            "film.film 161.0000 0.9907 0.9091 0.9752 0.9907  0.9845 0.9753\n",
            "\n",
            "architecture.venue 149.0000 0.8927 0.8389 0.8850 0.8852  0.7723 0.8935\n",
            "\n",
            "sports.sport 149.0000 0.9899 0.9617 0.9899 0.9832  0.9728 0.9932\n",
            "\n",
            "tv.tv_actor 139.0000 0.7143 0.4907 0.7190 0.6719  0.5854 0.7273\n",
            "\n",
            "sports.sports_facility 137.0000 0.9030 0.8159 0.8712 0.8857  0.7801 0.8806\n",
            "\n",
            "sports.professional_sports_team 132.0000 0.9660 0.8784 0.9695 0.8930  0.8394 0.9416\n",
            "\n",
            "education.educational_institution 129.0000 0.9545 0.8582 0.9385 0.8889  0.8797 0.9302\n",
            "\n",
            "film.director 129.0000 0.9091 0.7381 0.8782 0.8913  0.8809 0.8914\n",
            "\n",
            "soccer.football_league 110.0000 0.9636 0.8860 0.9498 0.8940  0.7413 0.9686\n",
            "\n",
            "baseball.baseball_player 109.0000 0.7097 0.7143 0.7810 0.7437  0.6489 0.8169\n",
            "\n",
            "education.university 94.0000 0.9418 0.8377 0.9574 0.8750  0.8663 0.9622\n",
            "\n",
            "baseball.baseball_team 94.0000 0.8945 0.8525 0.8936 0.8235  0.7738 0.8950\n",
            "\n",
            "location.hud_county_place 85.0000 0.5753 0.2593 0.4930 0.4741  0.4133 0.5479\n",
            "\n",
            "american_football.football_player 81.0000 0.9448 0.8068 0.9114 0.9518  0.9123 0.9202\n",
            "\n",
            "tv.tv_program 78.0000 0.9806 0.9211 0.9740 0.9682  0.9554 0.9740\n",
            "\n",
            "royalty.noble_person 75.0000 0.8613 0.8276 0.8182 0.8392  0.8272 0.8148\n",
            "\n",
            "basketball.basketball_team 68.0000 0.9635 0.8872 0.9778 0.8951  0.8493 0.9781\n",
            "\n",
            "award.competition 59.0000 0.9593 0.8174 0.9060 0.8983  0.9016 0.9107\n",
            "\n",
            "basketball.basketball_player 59.0000 0.8870 0.7107 0.8966 0.8522  0.8246 0.8772\n",
            "\n",
            "tennis.tennis_tournament_champion 58.0000 0.7826 0.4444 0.7170 0.6105  0.6667 0.7080\n",
            "\n",
            "sports.golfer 57.0000 0.9735 0.9159 0.9735 0.9739  0.9744 0.9825\n",
            "\n",
            "music.album 57.0000 0.9828 0.8182 0.9828 0.9825  0.9912 0.9483\n",
            "\n",
            "olympics.olympic_event_competition 54.0000 0.9245 0.9273 0.9444 0.8972  0.9174 0.9273\n",
            "\n",
            "book.author 54.0000 0.6535 0.3099 0.6170 0.6667  0.5895 0.6250\n",
            "\n",
            "music.composition 52.0000 0.9903 0.9053 0.9903 0.9200  0.9293 0.9808\n",
            "\n",
            "sports.multi_event_tournament 50.0000 0.9388 0.7742 0.8913 0.7742  0.8000 0.8696\n",
            "\n",
            "music.group_member 50.0000 0.6353 0.3226 0.5455 0.5476  0.4810 0.6000\n",
            "\n",
            "american_football.football_team 44.0000 0.9778 0.8261 0.9670 0.8913  0.8140 0.9773\n",
            "\n",
            "sports.school_sports_team 43.0000 0.9885 0.8471 0.9885 0.9302  0.8837 0.9885\n",
            "\n",
            "baseball.baseball_position 43.0000 1.0000 0.9773 1.0000 1.0000  0.9882 1.0000\n",
            "\n",
            "ice_hockey.hockey_team 42.0000 0.9425 0.7674 0.9000 0.7778  0.6596 0.8916\n",
            "\n",
            "sports.tournament_event_competition 41.0000 0.8434 0.7500 0.8140 0.8101  0.8537 0.7500\n",
            "\n",
            "biology.organism_classification 41.0000 0.9756 0.7901 0.9630 0.9136  0.8810 0.9512\n",
            "\n",
            "tv.tv_network 39.0000 0.9383 0.8000 0.9750 0.9091  0.8395 0.9750\n",
            "\n",
            "sports.cyclist 39.0000 0.8750 0.6849 0.8684 0.8158  0.8372 0.8608\n",
            "\n",
            "cricket.cricket_player 38.0000 0.9231 0.8052 0.9091 0.9250  0.8831 0.9091\n",
            "\n",
            "music.composer 38.0000 0.6250 0.3750 0.5965 0.6441  0.5333 0.4815\n",
            "\n",
            "location.capital_of_administrative_division 37.0000 0.5484 0.0000 0.3846 0.3922  0.2791 0.1923\n",
            "\n",
            "location.us_state 37.0000 0.9737 0.8718 0.9487 0.9487  0.8421 0.9487\n",
            "\n",
            "location.us_county 37.0000 0.9474 0.6234 0.9211 0.8718  0.9091 0.9067\n",
            "\n",
            "award.award_ceremony 36.0000 0.9730 0.8889 0.9041 0.9211  0.9577 0.9565\n",
            "\n",
            "film.writer 35.0000 0.6000 0.1778 0.5185 0.5763  0.4912 0.4082\n",
            "\n",
            "military.military_person 35.0000 0.8611 0.7941 0.8056 0.8451  0.8116 0.7692\n",
            "\n",
            "ice_hockey.hockey_player 34.0000 0.8182 0.6667 0.8387 0.7077  0.7143 0.7869\n",
            "\n",
            "tv.tv_personality 33.0000 0.6786 0.3721 0.4348 0.4906  0.2857 0.4783\n",
            "\n",
            "media_common.media_genre 33.0000 0.9118 0.9180 0.9091 0.9118  0.8615 0.9091\n",
            "\n",
            "ice_hockey.hockey_position 32.0000 1.0000 1.0000 1.0000 1.0000  1.0000 1.0000\n",
            "\n",
            "fictional_universe.fictional_character 32.0000 0.9841 0.5098 0.8966 0.9355  0.8852 0.9180\n",
            "\n",
            "broadcast.artist 32.0000 0.6984 0.4390 0.6154 0.5926  0.5763 0.6545\n",
            "\n",
            "language.human_language 32.0000 1.0000 0.9688 1.0000 0.9841  0.9677 1.0000\n",
            "\n",
            "award.award_category 30.0000 0.9836 0.9508 0.9836 1.0000  0.9123 1.0000\n",
            "\n",
            "broadcast.broadcast 30.0000 0.9508 0.9153 0.9333 0.9508  0.9032 0.8056\n",
            "\n",
            "education.athletics_brand 29.0000 1.0000 0.6667 1.0000 0.7937  0.8000 1.0000\n",
            "\n",
            "government.legislative_session 29.0000 0.9492 0.9180 0.9655 0.9492  0.9310 0.9825\n",
            "\n",
            "cvg.cvg_developer 28.0000 0.9259 0.9091 0.9091 0.9286  0.8727 0.9286\n",
            "\n",
            "aviation.airport 28.0000 0.8929 0.8889 0.9474 0.8889  0.8679 0.9286\n",
            "\n",
            "sports.sports_championship_event 27.0000 0.7451 0.5957 0.8235 0.6429  0.5652 0.7547\n",
            "\n",
            "music.record_label 26.0000 0.9804 0.8980 0.9615 0.9600  0.9804 0.9615\n",
            "\n",
            "education.school 25.0000 0.9434 0.5641 0.8235 0.8889  0.8679 0.7692\n",
            "\n",
            "boats.ship 25.0000 1.0000 0.8163 0.9200 1.0000  0.9796 0.8846\n",
            "\n",
            "automotive.company 25.0000 1.0000 0.9130 0.9583 0.9200  0.7547 0.9583\n",
            "\n",
            "film.production_company 25.0000 0.8571 0.7143 0.7556 0.7826  0.7143 0.7755\n",
            "\n",
            "film.producer 25.0000 0.5294 0.2069 0.3125 0.5143  0.4444 0.2000\n",
            "\n",
            "transportation.road 24.0000 0.7692 0.6316 0.6190 0.6939  0.4324 0.6087\n",
            "\n",
            "soccer.football_position 23.0000 0.9778 1.0000 0.9778 0.9778  0.9565 1.0000\n",
            "\n",
            "automotive.model 23.0000 1.0000 0.8837 1.0000 0.9545  0.8696 1.0000\n",
            "\n",
            "cricket.cricket_team 21.0000 0.9545 0.8780 0.9767 0.9130  0.7083 0.9333\n",
            "\n",
            "martial_arts.martial_artist 21.0000 0.6667 0.2941 0.6364 0.6341  0.7111 0.5405\n",
            "\n",
            "metropolitan_transit.transit_stop 21.0000 0.8000 0.5581 0.7391 0.8000  0.6800 0.7000\n",
            "\n",
            "medicine.anatomical_structure 20.0000 0.9474 0.8421 0.9189 0.9189  0.9474 0.9474\n",
            "\n",
            "people.family_member 20.0000 0.4667 0.3448 0.4286 0.4516  0.4375 0.4444\n",
            "\n",
            "government.election 20.0000 0.8444 0.3030 0.6809 0.6000  0.4091 0.8293\n",
            "\n",
            "royalty.monarch 20.0000 0.8649 0.6207 0.7368 0.7692  0.7179 0.8235\n",
            "\n",
            "astronomy.celestial_object 19.0000 0.9744 0.8095 0.9744 0.9474  1.0000 0.5926\n",
            "\n",
            "basketball.basketball_conference 19.0000 0.8085 0.5455 0.7805 0.6818  0.7660 0.8000\n",
            "\n",
            "tv.tv_character 19.0000 0.9189 0.4444 0.8235 0.8333  0.8649 0.8333\n",
            "\n",
            "film.film_genre 18.0000 0.8947 0.9000 0.8718 0.8780  0.8780 0.9000\n",
            "\n",
            "military.military_unit 18.0000 0.8824 0.8889 0.9189 0.9143  0.8649 0.8485\n",
            "\n",
            "location.jp_prefecture 18.0000 0.9730 0.9444 0.9730 0.8947  0.7273 0.9730\n",
            "\n",
            "tv.tv_program_creator 17.0000 0.8824 0.6429 0.8750 0.8333  0.6857 0.8000\n",
            "\n",
            "sports.boxer 17.0000 0.7895 0.4242 0.7619 0.6842  0.7907 0.6286\n",
            "\n",
            "cvg.computer_videogame 17.0000 1.0000 0.9143 0.9697 1.0000  0.9697 0.8824\n",
            "\n",
            "organization.membership_organization 17.0000 0.9375 0.8276 0.9032 0.8667  0.5000 0.9375\n",
            "\n",
            "cvg.cvg_publisher 16.0000 0.6429 0.5385 0.8667 0.6154  0.7097 0.7742\n",
            "\n",
            "travel.accommodation 16.0000 1.0000 1.0000 1.0000 1.0000  1.0000 1.0000\n",
            "\n",
            "soccer.football_award 16.0000 0.9677 0.8000 0.8667 0.8276  0.7429 0.8966\n",
            "\n",
            "broadcast.radio_station 16.0000 1.0000 0.9091 0.9333 0.9375  0.8571 0.7368\n",
            "\n",
            "book.written_work 16.0000 0.9091 0.3636 0.9091 0.8750  0.8750 0.8276\n",
            "\n",
            "metropolitan_transit.transit_line 15.0000 0.8571 0.5000 0.5926 0.8462  0.6429 0.5926\n",
            "\n",
            "music.lyricist 15.0000 0.5600 0.3000 0.5217 0.5185  0.3333 0.4545\n",
            "\n",
            "film.film_distributor 15.0000 0.7742 0.5600 0.5517 0.5714  0.5600 0.5714\n",
            "\n",
            "basketball.basketball_coach 15.0000 0.7742 0.5833 0.8387 0.8387  0.7143 0.8485\n",
            "\n",
            "education.field_of_study 15.0000 0.8276 0.5000 0.5455 0.6957  0.4211 0.5455\n",
            "\n",
            "cvg.cvg_platform 14.0000 1.0000 0.8276 0.9333 1.0000  0.8750 0.9333\n",
            "\n",
            "olympics.olympic_games 14.0000 1.0000 0.9630 1.0000 1.0000  0.9630 1.0000\n",
            "\n",
            "astronomy.orbital_relationship 14.0000 1.0000 0.9333 1.0000 1.0000  1.0000 0.3529\n",
            "\n",
            "astronomy.astronomical_discovery 14.0000 1.0000 0.9655 0.9655 1.0000  1.0000 0.3529\n",
            "\n",
            "protected_sites.listed_site 13.0000 0.0000 0.0000 0.0000 0.0000  0.0000 0.1429\n",
            "\n",
            "astronomy.asteroid 13.0000 0.9630 0.9286 0.9630 0.9630  0.9630 0.2500\n",
            "\n",
            "cricket.cricket_bowler 13.0000 0.6154 0.4348 0.5833 0.6207  0.5517 0.6154\n",
            "\n",
            "music.musical_group 13.0000 0.6667 0.4762 0.6000 0.7857  0.7692 0.4444\n",
            "\n",
            "astronomy.star_system_body 13.0000 0.9630 0.9630 0.9630 0.9630  0.9630 0.3750\n",
            "\n",
            "basketball.basketball_position 12.0000 1.0000 0.7619 1.0000 0.9167  0.8182 1.0000\n",
            "\n",
            "architecture.building 12.0000 0.2667 0.0000 0.4000 0.1429  0.0000 0.1429\n",
            "\n",
            "fictional_universe.fictional_organization 12.0000 0.7826 0.6000 0.7826 0.6667  0.4000 0.7826\n",
            "\n",
            "royalty.chivalric_order_member 12.0000 0.7619 0.3529 0.8000 0.4706  0.4000 0.6667\n",
            "\n",
            "location.uk_statistical_location 12.0000 0.8276 0.2667 0.8889 0.6452  0.6429 0.7200\n",
            "\n",
            "cricket.cricket_stadium 11.0000 1.0000 0.9524 1.0000 1.0000  0.7273 0.9565\n",
            "\n",
            "music.producer 11.0000 0.6000 0.0000 0.4286 0.3750  0.3529 0.4286\n",
            "\n",
            "aviation.aircraft_owner 11.0000 0.9091 0.8421 0.9524 0.7619  0.7619 0.8571\n",
            "\n",
            "soccer.football_league_season 11.0000 0.5556 0.1429 0.5882 0.3077  0.0000 0.5000\n",
            "\n",
            "government.government_office_or_title 10.0000 0.8889 0.8000 0.8889 0.8000  0.6316 0.9474\n",
            "\n",
            "cvg.cvg_genre 10.0000 0.8421 0.6667 0.7778 0.8889  0.7059 0.8421\n",
            "\n",
            "military.armed_force 10.0000 0.9000 0.8000 0.9474 0.7619  0.8421 1.0000\n",
            "\n",
            "religion.religion 10.0000 1.0000 0.9474 1.0000 1.0000  0.9474 1.0000\n",
            "\n",
            "business.job_title 9.0000 0.8235 0.8750 0.8750 0.7778  0.8750 0.7778\n",
            "\n",
            "military.rank 9.0000 1.0000 0.9474 0.9474 0.9474  1.0000 1.0000\n",
            "\n",
            "amusement_parks.ride 9.0000 1.0000 0.8750 1.0000 1.0000  1.0000 1.0000\n",
            "\n",
            "american_football.football_coach 9.0000 0.8000 0.0000 0.7143 0.7059  0.7059 0.8000\n",
            "\n",
            "book.book 9.0000 0.8000 0.4000 0.5556 0.7368  0.6667 0.5000\n",
            "\n",
            "chemistry.chemical_element 9.0000 1.0000 0.5000 1.0000 1.0000  1.0000 1.0000\n",
            "\n",
            "film.music_contributor 9.0000 0.8750 0.5000 0.7500 0.8750  0.8750 0.8235\n",
            "\n",
            "tv.tv_series_season 9.0000 0.9474 0.9412 0.9000 0.9474  0.9412 0.9474\n",
            "\n",
            "amusement_parks.park 9.0000 0.9474 0.9474 0.9474 0.8571  0.8571 1.0000\n",
            "\n",
            "geography.body_of_water 9.0000 0.4615 0.0000 0.1429 0.4615  0.4615 0.2667\n",
            "\n",
            "tv.tv_genre 9.0000 0.7619 0.6667 0.7000 0.6316  0.5000 0.6667\n",
            "\n",
            "government.us_president 9.0000 1.0000 0.8421 0.9474 1.0000  0.8571 0.9474\n",
            "\n",
            "finance.currency 9.0000 1.0000 0.8750 1.0000 0.9474  0.7500 1.0000\n",
            "\n",
            "aviation.aircraft_model 9.0000 1.0000 0.9412 1.0000 0.9412  0.8889 1.0000\n",
            "\n",
            "location.province 8.0000 0.9412 0.8750 0.9412 0.9412  0.9412 1.0000\n",
            "\n",
            "royalty.kingdom 8.0000 0.7059 0.7143 0.6250 0.6250  0.1818 0.5882\n",
            "\n",
            "broadcast.tv_station 8.0000 0.7000 0.7059 0.8235 0.7000  0.5882 0.6250\n",
            "\n",
            "government.governmental_body 8.0000 0.8889 0.6667 0.8235 0.7059  0.6250 0.8750\n",
            "\n",
            "award.award_presenting_organization 8.0000 0.5714 0.3636 0.6154 0.3636  0.0000 0.7143\n",
            "\n",
            "computer.software 8.0000 1.0000 0.8889 1.0000 1.0000  0.8750 1.0000\n",
            "\n",
            "military.military_conflict 8.0000 0.9333 0.9412 0.7692 0.8000  0.8750 0.7692\n",
            "\n",
            "sports.sports_league_draft 8.0000 1.0000 0.4286 1.0000 0.9333  0.8000 1.0000\n",
            "\n",
            "business.defunct_company 7.0000 0.6000 0.0000 0.2222 0.2500  0.0000 0.2222\n",
            "\n",
            "soccer.football_team_manager 7.0000 0.5000 0.0000 0.1818 0.3636  0.4444 0.2500\n",
            "\n",
            "boats.ship_class 7.0000 1.0000 0.7143 0.9231 1.0000  0.8750 0.8333\n",
            "\n",
            "celebrities.celebrity 7.0000 0.7692 0.2222 0.5455 0.2222  0.3333 0.7273\n",
            "\n",
            "award.award 7.0000 1.0000 0.8571 1.0000 0.8571  0.8000 0.9333\n",
            "\n",
            "geography.mountain 7.0000 0.8571 0.3077 0.5882 0.8000  0.6667 0.7143\n",
            "\n",
            "chemistry.chemical_compound 7.0000 0.7500 0.7692 0.6250 0.8000  0.7692 0.8571\n",
            "\n",
            "music.genre 7.0000 1.0000 0.8333 0.9333 1.0000  1.0000 0.9333\n",
            "\n",
            "award.hall_of_fame_inductee 7.0000 0.4444 0.2500 0.4444 0.4444  0.4444 0.2222\n",
            "\n",
            "people.ethnicity 6.0000 0.9091 0.7273 0.8333 0.8000  0.6000 0.9091\n",
            "\n",
            "theater.play 6.0000 0.9091 0.0000 0.9091 0.6667  0.6667 0.9091\n",
            "\n",
            "business.consumer_company 6.0000 0.7273 0.7273 0.7273 0.8000  0.2222 0.7273\n",
            "\n",
            "law.court 6.0000 1.0000 0.9091 1.0000 1.0000  1.0000 0.9091\n",
            "\n",
            "computer.software_license 6.0000 0.9231 0.9231 0.9231 1.0000  0.8333 0.9231\n",
            "\n",
            "computer.operating_system 6.0000 0.9091 0.8333 0.9091 0.8000  0.7273 0.9091\n",
            "\n",
            "tennis.tennis_tournament 5.0000 0.9091 1.0000 0.9091 1.0000  0.8333 0.9091\n",
            "\n",
            "american_football.football_conference 5.0000 0.5000 0.0000 0.2500 0.5714  0.0000 0.4444\n",
            "\n",
            "medicine.disease 5.0000 0.6667 0.5000 0.6154 0.6667  0.2222 0.7273\n",
            "\n",
            "religion.religious_leader 5.0000 1.0000 0.8889 0.9091 1.0000  1.0000 0.6000\n",
            "\n",
            "geography.river 5.0000 0.6667 0.0000 0.3333 0.7500  0.7500 0.3333\n",
            "\n",
            "astronomy.constellation 5.0000 1.0000 0.9091 1.0000 0.9091  0.9091 1.0000\n",
            "\n",
            "rail.locomotive_class 5.0000 1.0000 0.5714 0.8889 1.0000  0.8889 0.7500\n",
            "\n",
            "award.award_discipline 5.0000 0.5455 0.5714 0.6667 0.6667  0.0000 0.5000\n",
            "\n",
            "film.film_character 5.0000 0.6667 0.6667 0.7500 0.6000  0.6000 0.7500\n",
            "\n",
            "location.in_state 5.0000 0.8333 0.9091 0.8333 0.8333  0.8333 0.8333\n",
            "\n",
            "business.industry 4.0000 0.6667 0.6667 0.6667 0.6667  0.4000 0.6667\n",
            "\n",
            "music.musical_scale 4.0000 1.0000 1.0000 1.0000 1.0000  1.0000 1.0000\n",
            "\n",
            "broadcast.genre 4.0000 0.7500 0.4000 0.7500 0.6667  0.0000 0.7500\n",
            "\n",
            "book.periodical 4.0000 0.8571 0.4000 0.8571 0.7500  0.5714 0.8571\n",
            "\n",
            "metropolitan_transit.transit_system 4.0000 0.8571 0.6667 0.6667 0.2857  0.0000 0.3333\n",
            "\n",
            "aviation.airline 4.0000 0.8571 0.7500 0.7500 0.8571  0.8571 0.8571\n",
            "\n",
            "theater.theater_actor 4.0000 0.4444 0.4000 0.3333 0.3636  0.4444 0.3333\n",
            "\n",
            "tv.tv_producer 4.0000 0.6667 0.3333 0.7500 0.4444  0.3333 0.5714\n",
            "\n",
            "medicine.muscle 4.0000 0.8889 0.7500 0.6667 0.8889  0.8889 0.7500\n",
            "\n",
            "biology.organism 4.0000 1.0000 0.4444 1.0000 1.0000  1.0000 1.0000\n",
            "\n",
            "boats.ship_type 4.0000 0.8889 0.5455 0.7500 0.8000  0.6667 0.8571\n",
            "\n",
            "law.invention 4.0000 0.8571 0.6667 0.8571 0.6667  0.5714 0.8571\n",
            "\n",
            "education.fraternity_sorority 4.0000 1.0000 0.4000 1.0000 1.0000  0.8571 1.0000\n",
            "\n",
            "government.election_campaign 4.0000 1.0000 0.8571 1.0000 0.8571  0.3333 1.0000\n",
            "\n",
            "sports.sports_award_winner 4.0000 0.4000 0.4000 0.8571 0.4000  0.0000 0.6667\n",
            "\n",
            "music.performance_role 4.0000 0.8571 0.8571 0.8571 0.7500  0.8571 0.7500\n",
            "\n",
            "music.writer 3.0000 0.8000 0.0000 0.5000 0.6667  0.5000 1.0000\n",
            "\n",
            "business.brand 3.0000 1.0000 0.8000 0.8000 0.8000  0.0000 0.8000\n",
            "\n",
            "computer.computer 3.0000 0.8571 0.8000 1.0000 1.0000  0.0000 1.0000\n",
            "\n",
            "music.media_format 3.0000 1.0000 0.8000 1.0000 1.0000  0.8571 1.0000\n",
            "\n",
            "sports.sports_championship 3.0000 1.0000 0.5714 1.0000 1.0000  0.8000 1.0000\n",
            "\n",
            "tv.tv_director 3.0000 0.2222 0.2500 0.2222 0.2000  0.2222 0.2000\n",
            "\n",
            "comic_books.comic_book_character 3.0000 0.8571 0.8000 0.8571 0.5714  0.4000 0.8571\n",
            "\n",
            "location.australian_state 3.0000 0.8571 0.7500 0.7500 0.8571  0.8571 0.7500\n",
            "\n",
            "internet.website_owner 3.0000 0.0000 0.0000 0.0000 0.0000  0.0000 0.0000\n",
            "\n",
            "government.government_agency 3.0000 0.6667 0.0000 0.6667 0.0000  0.0000 0.6667\n",
            "\n",
            "location.region 3.0000 0.7500 0.6667 0.8000 0.4000  0.5000 0.6667\n",
            "\n",
            "business.customer 3.0000 0.4000 0.0000 0.0000 0.0000  0.0000 0.0000\n",
            "\n",
            "medicine.medical_treatment 3.0000 0.5000 0.0000 0.5000 0.8000  0.5000 0.5000\n",
            "\n",
            "exhibitions.exhibition_sponsor 3.0000 0.4000 0.4000 0.4000 0.4000  0.4000 0.4000\n",
            "\n",
            "film.film_festival_focus 3.0000 0.7500 0.5000 0.8000 0.8571  0.0000 0.6667\n",
            "\n",
            "award.recurring_competition 3.0000 1.0000 0.6667 0.8571 0.8571  0.5000 1.0000\n",
            "\n",
            "soccer.football_world_cup 2.0000 1.0000 0.6667 1.0000 1.0000  0.6667 1.0000\n",
            "\n",
            "soccer.fifa 2.0000 1.0000 1.0000 1.0000 1.0000  0.8000 1.0000\n",
            "\n",
            "book.periodical_subject 2.0000 0.6667 1.0000 0.0000 0.5000  0.0000 0.0000\n",
            "\n",
            "business.product_category 2.0000 1.0000 0.8000 1.0000 0.8000  0.8000 1.0000\n",
            "\n",
            "military.military_post 2.0000 0.0000 0.0000 0.0000 0.0000  0.0000 0.0000\n",
            "\n",
            "medicine.drug_ingredient 2.0000 1.0000 0.0000 0.4000 0.6667  0.6667 0.6667\n",
            "\n",
            "architecture.architectural_structure_owner 2.0000 1.0000 0.6667 1.0000 1.0000  0.0000 0.6667\n",
            "\n",
            "music.music_video_director 2.0000 0.6667 0.5000 0.6667 1.0000  0.0000 1.0000\n",
            "\n",
            "food.food 2.0000 1.0000 0.3333 0.5000 0.6667  0.0000 0.6667\n",
            "\n",
            "geography.island 2.0000 0.5000 0.0000 0.4000 0.5000  0.5714 0.4000\n",
            "\n",
            "location.uk_constituent_country 2.0000 1.0000 0.6667 1.0000 1.0000  0.4000 1.0000\n",
            "\n",
            "tv.tv_series_episode 2.0000 1.0000 0.0000 0.6667 1.0000  1.0000 0.6667\n",
            "\n",
            "interests.collection_category 2.0000 1.0000 1.0000 1.0000 1.0000  0.8000 1.0000\n",
            "\n",
            "business.consumer_product 2.0000 1.0000 0.6667 0.6667 0.6667  0.0000 1.0000\n",
            "\n",
            "broadcast.radio_format 2.0000 0.6667 0.6667 1.0000 0.6667  0.5000 1.0000\n",
            "\n",
            "book.periodical_publisher 2.0000 0.5000 0.6667 0.0000 0.0000  0.0000 0.5000\n",
            "\n",
            "education.educational_degree 2.0000 1.0000 1.0000 1.0000 1.0000  1.0000 1.0000\n",
            "\n",
            "sports.sports_award_type 2.0000 0.6667 0.5000 1.0000 0.5000  0.6667 1.0000\n",
            "\n",
            "royalty.noble_title 2.0000 0.6667 0.6667 0.5000 0.6667  0.6667 0.0000\n",
            "\n",
            "organization.non_profit_organization 1.0000 0.0000 0.0000 0.0000 0.0000  0.0000 0.0000\n",
            "\n",
            "broadcast.tv_channel 1.0000 0.6667 0.0000 0.6667 1.0000  0.0000 0.6667\n",
            "\n",
            "internet.website 1.0000 0.0000 0.0000 0.0000 0.0000  0.0000 0.0000\n",
            "\n",
            "chess.chess_player 1.0000 0.0000 0.0000 0.0000 0.0000  0.0000 0.0000\n",
            "\n",
            "tv.tv_writer 1.0000 0.0000 0.0000 0.4000 1.0000  1.0000 0.0000\n",
            "\n",
            "spaceflight.astronaut 1.0000 1.0000 0.0000 1.0000 1.0000  1.0000 1.0000\n",
            "\n",
            "meteorology.tropical_cyclone 1.0000 1.0000 1.0000 1.0000 1.0000  1.0000 1.0000\n",
            "\n",
            "book.magazine 1.0000 0.5000 0.0000 0.5000 0.4000  0.0000 0.5000\n",
            "\n",
            "visual_art.visual_artist 1.0000 0.0000 0.0000 0.0000 0.0000  0.0000 0.0000\n",
            "\n",
            "meteorology.tropical_cyclone_season 1.0000 1.0000 1.0000 1.0000 1.0000  1.0000 1.0000\n",
            "\n",
            "book.newspaper 1.0000 0.0000 0.0000 0.0000 0.0000  0.0000 0.0000\n",
            "\n",
            "music.instrument 1.0000 0.0000 0.0000 0.0000 0.0000  0.0000 0.0000\n",
            "\n",
            "location.australian_local_government_area 1.0000 0.0000 0.0000 0.0000 0.0000  0.0000 0.0000\n",
            "\n",
            "medicine.drug 1.0000 0.0000 0.0000 1.0000 0.0000  0.0000 1.0000\n",
            "\n",
            "location.in_district 1.0000 0.0000 0.0000 0.0000 0.0000  0.0000 0.0000\n",
            "\n",
            "law.legal_case 1.0000 0.0000 0.5000 0.6667 0.0000  0.5000 1.0000\n",
            "\n",
            "biology.animal 1.0000 0.0000 0.0000 1.0000 0.0000  0.0000 1.0000\n",
            "\n"
          ]
        }
      ],
      "source": [
        "for t,i in sorted(type_vocab.items(),key=lambda z:-per_type_instance_num[z[1]]):\n",
        "    print('%s %.4f %.4f %.4f %.4f %.4f  %.4f %.4f'%(t, per_type_instance_num[i], per_type_f1[0][i], per_type_f1[4][i], per_type_f1[1][i], per_type_f1[3][i], per_type_f1[2][i], per_type_f1[5][i]))\n",
        "    print()"
      ]
    },
    {
      "cell_type": "code",
      "source": [
        "f1"
      ],
      "metadata": {
        "colab": {
          "base_uri": "https://localhost:8080/"
        },
        "id": "QYVrHAO1JwqB",
        "outputId": "99e50862-bf1a-463f-be4f-96f0d2b3b18a"
      },
      "execution_count": null,
      "outputs": [
        {
          "output_type": "execute_result",
          "data": {
            "text/plain": [
              "{0: 0.9475334987593053,\n",
              " 1: 0.9376614534313235,\n",
              " 2: 0.9024452821251653,\n",
              " 3: 0.926955935697437,\n",
              " 4: 0.8885750030267566,\n",
              " 5: 0.9332609657057854}"
            ]
          },
          "metadata": {},
          "execution_count": 55
        }
      ]
    },
    {
      "cell_type": "code",
      "execution_count": null,
      "metadata": {
        "id": "BWMVNfaBTd8L",
        "outputId": "c52bdf16-5389-423b-a088-1f95dc07d564",
        "colab": {
          "base_uri": "https://localhost:8080/"
        }
      },
      "outputs": [
        {
          "output_type": "execute_result",
          "data": {
            "text/plain": [
              "{0: 0.9475334987593053,\n",
              " 1: 0.9376614534313235,\n",
              " 2: 0.9024452821251653,\n",
              " 3: 0.926955935697437,\n",
              " 4: 0.8885750030267566,\n",
              " 5: 0.9332609657057854}"
            ]
          },
          "metadata": {},
          "execution_count": 49
        }
      ],
      "source": [
        "f1"
      ]
    },
    {
      "cell_type": "code",
      "execution_count": null,
      "metadata": {
        "id": "ehgS6lyJTd8L",
        "outputId": "e2151880-8fbc-4c62-84f8-237a4ab07834",
        "colab": {
          "base_uri": "https://localhost:8080/"
        }
      },
      "outputs": [
        {
          "output_type": "execute_result",
          "data": {
            "text/plain": [
              "{0: 0.949512631788343,\n",
              " 1: 0.9479693889946147,\n",
              " 2: 0.8990915883440167,\n",
              " 3: 0.9275258836129954,\n",
              " 4: 0.9054198536063821,\n",
              " 5: 0.9472374112462254}"
            ]
          },
          "metadata": {},
          "execution_count": 50
        }
      ],
      "source": [
        "precision"
      ]
    },
    {
      "cell_type": "code",
      "execution_count": null,
      "metadata": {
        "id": "Z9KQummfTd8M",
        "outputId": "114250bf-0898-46df-ae09-4f3d594e2ab1",
        "colab": {
          "base_uri": "https://localhost:8080/"
        }
      },
      "outputs": [
        {
          "output_type": "execute_result",
          "data": {
            "text/plain": [
              "{0: 0.9455625990491283,\n",
              " 1: 0.9275752773375594,\n",
              " 2: 0.905824088748019,\n",
              " 3: 0.9263866877971474,\n",
              " 4: 0.8723454833597465,\n",
              " 5: 0.9196909667194929}"
            ]
          },
          "metadata": {},
          "execution_count": 51
        }
      ],
      "source": [
        "recall"
      ]
    },
    {
      "cell_type": "markdown",
      "metadata": {
        "id": "ut6Hxm7xTd8M"
      },
      "source": [
        "Type mapping is used to map the types used in some other datasets to our types, so we can directly evaluate without retraining our model"
      ]
    },
    {
      "cell_type": "code",
      "execution_count": null,
      "metadata": {
        "id": "JLDg3ncDTd8M"
      },
      "outputs": [],
      "source": [
        "t2d_type_mapping = {\n",
        "    'Election': ['government.election'],\n",
        "    'Film': ['film.film'],\n",
        "    'mountain': ['geography.mountain'],\n",
        "    'Building': ['architecture.building'],\n",
        "    'RadioStation': ['broadcast.radio_station'],\n",
        "    'TelevisionShow': ['tv.tv_program'],\n",
        "    'Country': ['location.country'],\n",
        "    'Airport': ['aviation.airport'],\n",
        "    'AdministrativeRegion': ['location.region'],\n",
        "    'University': ['education.university'],\n",
        "    'Newspaper': ['book.newspaper'],\n",
        "    'FictionalCharacter': ['fictional_universe.fictional_character'],\n",
        "    'Currency': ['finance.currency'],\n",
        "    'Novel': ['book.book'],\n",
        "    'Wrestler': ['sports.pro_athlete'],\n",
        "    'swimmer': ['sports.pro_athlete'],\n",
        "    'GolfPlayer': ['sports.golfer', 'sports.pro_athlete'],\n",
        "    'Book': ['book.book'],\n",
        "    'Political Party': ['government.political_party'],\n",
        "    'Person': ['people.person'],\n",
        "    'VideoGame': ['cvg.computer_videogame'],\n",
        "    'Animal': ['biology.animal'],\n",
        "    'PoliticalParty': ['government.political_party'],\n",
        "    'BaseballPlayer': ['sports.pro_athlete'],\n",
        "    'Monarch': ['royalty.monarch'],\n",
        "    'Mountain': ['geography.mountain'],\n",
        "    'City': ['location.citytown'],\n",
        "    'Company': ['business.consumer_company'],\n",
        "    'cricketer': ['sports.pro_athlete'],\n",
        "    'Airline': ['aviation.airline']\n",
        "}\n",
        "t2d_types = set([y for _,x in t2d_type_mapping.items() for y in x])\n",
        "t2d_invalid = []\n",
        "for t,i in type_vocab.items():\n",
        "    if t not in t2d_types:\n",
        "        t2d_invalid.append(i)"
      ]
    },
    {
      "cell_type": "code",
      "execution_count": null,
      "metadata": {
        "id": "lu55HS_ITd8N"
      },
      "outputs": [],
      "source": [
        "t2d_type_mapping = {\n",
        "    'City': ['location.citytown'],\n",
        "    'VideoGame': ['cvg.computer_videogame'],\n",
        "    'Mountain': ['geography.mountain'],\n",
        "    'Museum': [],\n",
        "    'Writer': ['film.writer', 'tv.tv_writer', 'music.writer', 'book.author'],\n",
        "    'Lake': [], \n",
        "    'AdministrativeRegion': ['location.administrative_division'],\n",
        "    'Book': ['book.book'],\n",
        "    'Saint': [],\n",
        "    'Monarch': ['royalty.monarch'],\n",
        "    'Bird': [],\n",
        "    'Plant': [],\n",
        "    'Mayor': [],\n",
        "    'Currency': ['finance.currency'],\n",
        "    'MovieDirector': ['film.director'],\n",
        "    'Company': ['film.production_company', 'automotive.company', 'business.consumer_company', 'business.defunct_company', ],\n",
        "    'Genre': ['cvg.cvg_genre', 'film.film_genre', 'broadcast.genre', 'media_common.media_genre', 'tv.tv_genre', 'music.genre'],\n",
        "    'GovernmentType': ['government.governmental_body'],\n",
        "    'Hospital': [],\n",
        "    'Building': ['architecture.building'],\n",
        "    'PoliticalParty': ['government.political_party'],\n",
        "    'Language': ['language.human_language'],\n",
        "    'Country': ['location.country'],\n",
        "    'University': ['education.university'],\n",
        "    'SportsTeam': ['sports.sports_team'],\n",
        "    'RadioStation': ['broadcast.radio_station'],\n",
        "    'Airport': ['aviation.airport'],\n",
        "    'Airline': ['aviation.airline'],\n",
        "    'Wrestler': [],\n",
        "    'Newspaper': ['book.newspaper'],\n",
        "    'Mammal': [],\n",
        "    'MountainRange': [],\n",
        "    'BaseballPlayer': ['baseball.baseball_player'],\n",
        "    'AcademicJournal': [],\n",
        "    'Scientist': [],\n",
        "    'Continent': [],\n",
        "    'Film': ['film.film']\n",
        "}\n",
        "\n",
        "t2d_types = set([y for _,x in t2d_type_mapping.items() for y in x])\n",
        "t2d_invalid = []\n",
        "for t,i in type_vocab.items():\n",
        "    if t not in t2d_types:\n",
        "        t2d_invalid.append(i)"
      ]
    },
    {
      "cell_type": "code",
      "execution_count": null,
      "metadata": {
        "id": "ud9ezn4vTd8N"
      },
      "outputs": [],
      "source": [
        "t2d_type_mapping = {\n",
        "    'Film': ['film.film'],\n",
        "    'Lake': [],\n",
        "    'Language': ['language.human_language'],\n",
        "    'Country': ['location.country'],\n",
        "    'Company': ['film.production_company', 'automotive.company', 'business.consumer_company', 'business.defunct_company'],\n",
        "    'Person': ['people.person'],\n",
        "    'VideoGame': ['cvg.computer_videogame'],\n",
        "    'City': ['location.citytown'],\n",
        "    'Currency': ['finance.currency'],\n",
        "    'Bird': [],\n",
        "    'Mountain': ['geography.mountain'],\n",
        "    'Scientist': [],\n",
        "    'Plant': [],\n",
        "    'TelevisionShow': ['tv.tv_program'],\n",
        "    'Animal': [],\n",
        "    'AdministrativeRegion': ['location.administrative_division'],\n",
        "    'Genre': ['cvg.cvg_genre', 'film.film_genre', 'broadcast.genre', 'media_common.media_genre', 'tv.tv_genre', 'music.genre'],\n",
        "    'Newspaper': ['book.newspaper'],\n",
        "    'Airport': ['aviation.airport'],\n",
        "    'AcademicJournal': [],\n",
        "    'PopulatedPlace': [],\n",
        "    'Wrestler': [],\n",
        "    'PoliticalParty': ['government.political_party'],\n",
        "    'Cricketer': ['cricket.cricket_player'],\n",
        "    'Eukaryote': [],\n",
        "    'Saint': [],\n",
        "    'Writer': ['film.writer', 'tv.tv_writer', 'music.writer', 'book.author'],\n",
        "    'Museum': [],\n",
        "    'BaseballPlayer': ['baseball.baseball_player'],\n",
        "    'EducationalInstitution': ['education.educational_institution'],\n",
        "    'GovernmentType': ['government.governmental_body'],\n",
        "    'SportsTeam': ['sports.sports_team'],   \n",
        "}\n",
        "\n",
        "reverse_type_mapping = {t2:t1 for t1,t2s in t2d_type_mapping.items() for t2 in t2s}\n",
        "\n",
        "t2d_types = set([y for _,x in t2d_type_mapping.items() for y in x])\n",
        "t2d_invalid = []\n",
        "for t,i in type_vocab.items():\n",
        "    if t not in t2d_types:\n",
        "        t2d_invalid.append(i)"
      ]
    },
    {
      "cell_type": "code",
      "execution_count": null,
      "metadata": {
        "id": "zaD3D_pwTd8O",
        "outputId": "26f9c90c-2d69-41ba-d8a4-730d76351981",
        "scrolled": true,
        "colab": {
          "base_uri": "https://localhost:8080/"
        }
      },
      "outputs": [
        {
          "output_type": "execute_result",
          "data": {
            "text/plain": [
              "['56602-2',\n",
              " '29006961-1',\n",
              " '13596949-1',\n",
              " '34411-2',\n",
              " '24237524-6',\n",
              " '309890-10',\n",
              " '9634320-2',\n",
              " '27369580-2',\n",
              " '58074-2',\n",
              " '387618-1',\n",
              " '88184-95',\n",
              " '27802631-12',\n",
              " '79397-3',\n",
              " '35306913-6',\n",
              " '14688681-2',\n",
              " '23756649-2',\n",
              " '8238237-1',\n",
              " '8246459-3',\n",
              " '63065-3',\n",
              " '2754197-1',\n",
              " '28602041-3',\n",
              " '30167892-2',\n",
              " '13926824-2',\n",
              " '30889011-1',\n",
              " '32167235-1',\n",
              " '11730138-2',\n",
              " '31547882-14',\n",
              " '25391150-5',\n",
              " '335810-1',\n",
              " '33599465-1',\n",
              " '9610140-1',\n",
              " '16786378-1',\n",
              " '40554028-1',\n",
              " '944336-1',\n",
              " '160843-1',\n",
              " '343206-1',\n",
              " '235195-1',\n",
              " '1073488-1',\n",
              " '10577579-2',\n",
              " '38978487-1',\n",
              " '1432070-1',\n",
              " '2115847-1',\n",
              " '18956862-1',\n",
              " '19753692-3',\n",
              " '39956817-2',\n",
              " '2709605-1',\n",
              " '18162085-5',\n",
              " '31503340-4',\n",
              " '26248738-2',\n",
              " '26250392-12',\n",
              " '5603032-2',\n",
              " '13110459-1',\n",
              " '28873880-1',\n",
              " '10613742-2',\n",
              " '34368822-1',\n",
              " '27987339-1',\n",
              " '34736917-1',\n",
              " '34753869-1',\n",
              " '198039-4',\n",
              " '21204469-1',\n",
              " '21211-2',\n",
              " '5400266-2',\n",
              " '24598502-5',\n",
              " '9481737-2',\n",
              " '33638399-6',\n",
              " '36923967-1',\n",
              " '9272554-1',\n",
              " '1361887-2',\n",
              " '18113377-2',\n",
              " '8209610-1',\n",
              " '3525665-1',\n",
              " '360909-1',\n",
              " '10965699-1',\n",
              " '27484905-2',\n",
              " '387305-1',\n",
              " '32645756-1',\n",
              " '21122231-1',\n",
              " '3379717-1',\n",
              " '33797287-7',\n",
              " '870071-1',\n",
              " '24707517-1',\n",
              " '13458876-65',\n",
              " '35215975-2',\n",
              " '17345263-4',\n",
              " '13403220-2',\n",
              " '13403332-1',\n",
              " '1035880-1',\n",
              " '25934923-5',\n",
              " '16861878-1',\n",
              " '15695166-2',\n",
              " '19368120-1',\n",
              " '1936877-1',\n",
              " '474473-10',\n",
              " '4747302-1',\n",
              " '5663284-1',\n",
              " '5686492-1',\n",
              " '1202912-2',\n",
              " '31644194-3',\n",
              " '1039652-23',\n",
              " '1154806-3',\n",
              " '15513931-5',\n",
              " '322064-1',\n",
              " '3485102-3',\n",
              " '1287977-1',\n",
              " '21522903-1',\n",
              " '21301295-1',\n",
              " '656892-2',\n",
              " '6577834-2',\n",
              " '22721121-2',\n",
              " '10798245-4',\n",
              " '13823392-1',\n",
              " '13823392-2',\n",
              " '4589538-1',\n",
              " '28816530-1',\n",
              " '18503404-1',\n",
              " '26977890-1',\n",
              " '7457479-1',\n",
              " '14282690-23',\n",
              " '33562916-1',\n",
              " '12789881-1',\n",
              " '2119448-1',\n",
              " '32070441-2',\n",
              " '35827148-1',\n",
              " '40180844-1',\n",
              " '5003953-3',\n",
              " '5009517-1',\n",
              " '27654232-2',\n",
              " '30457239-10',\n",
              " '30483166-8',\n",
              " '3953925-7',\n",
              " '3954043-3',\n",
              " '28298999-2',\n",
              " '1926060-1',\n",
              " '3099579-1',\n",
              " '1642271-1',\n",
              " '33410633-1',\n",
              " '33428498-13',\n",
              " '244862-1',\n",
              " '415281-1',\n",
              " '150236-1',\n",
              " '5870680-2',\n",
              " '14812426-1',\n",
              " '28332222-2',\n",
              " '12460836-1',\n",
              " '40084051-1',\n",
              " '38922523-3',\n",
              " '21721631-1',\n",
              " '36771806-15',\n",
              " '629684-1',\n",
              " '27352792-3',\n",
              " '35119782-4',\n",
              " '24357245-1',\n",
              " '18559526-2',\n",
              " '2947773-3',\n",
              " '15808345-1',\n",
              " '2618194-1',\n",
              " '25463606-1',\n",
              " '1030657-8',\n",
              " '1605460-10',\n",
              " '1217316-2',\n",
              " '12190262-7',\n",
              " '364158-1',\n",
              " '51777-1',\n",
              " '3631540-4',\n",
              " '17446270-1',\n",
              " '18368572-4',\n",
              " '460347-1',\n",
              " '4604497-1',\n",
              " '37077879-2',\n",
              " '14253123-4',\n",
              " '31170082-3',\n",
              " '38563711-1',\n",
              " '469164-1',\n",
              " '2677012-6',\n",
              " '2431138-1',\n",
              " '2431156-2',\n",
              " '672965-1',\n",
              " '35942693-1',\n",
              " '21455050-3',\n",
              " '1334167-19',\n",
              " '265967-1',\n",
              " '1585112-2',\n",
              " '164494-1',\n",
              " '27566604-1',\n",
              " '4870384-2',\n",
              " '34111076-5',\n",
              " '5230290-3',\n",
              " '9687936-1',\n",
              " '25005328-2',\n",
              " '31700563-1',\n",
              " '29554743-3',\n",
              " '30102290-9',\n",
              " '4076796-2',\n",
              " '14065508-1',\n",
              " '32809554-1',\n",
              " '32815832-1',\n",
              " '4395515-6',\n",
              " '32382189-2',\n",
              " '15164733-4',\n",
              " '20958-1',\n",
              " '29843892-1',\n",
              " '1236319-1',\n",
              " '37248618-1',\n",
              " '520796-4']"
            ]
          },
          "metadata": {},
          "execution_count": 59
        }
      ],
      "source": [
        "errors"
      ]
    },
    {
      "cell_type": "markdown",
      "source": [
        ""
      ],
      "metadata": {
        "id": "LaWFQ7ZOlHCl"
      }
    },
    {
      "cell_type": "code",
      "execution_count": null,
      "metadata": {
        "id": "imxTC0IxTd8Q",
        "outputId": "063e0237-f111-4d03-9266-4ce125aac0e5",
        "colab": {
          "base_uri": "https://localhost:8080/"
        }
      },
      "outputs": [
        {
          "output_type": "execute_result",
          "data": {
            "text/plain": [
              "{'american_football.football_coach': 85,\n",
              " 'american_football.football_conference': 15,\n",
              " 'american_football.football_player': 201,\n",
              " 'american_football.football_team': 253,\n",
              " 'amusement_parks.park': 166,\n",
              " 'amusement_parks.ride': 48,\n",
              " 'architecture.architectural_structure_owner': 123,\n",
              " 'architecture.building': 132,\n",
              " 'architecture.structure': 68,\n",
              " 'architecture.venue': 121,\n",
              " 'astronomy.asteroid': 64,\n",
              " 'astronomy.astronomical_discovery': 246,\n",
              " 'astronomy.celestial_object': 39,\n",
              " 'astronomy.constellation': 125,\n",
              " 'astronomy.orbital_relationship': 209,\n",
              " 'astronomy.star_system_body': 172,\n",
              " 'automotive.company': 150,\n",
              " 'automotive.model': 197,\n",
              " 'aviation.aircraft_model': 216,\n",
              " 'aviation.aircraft_owner': 170,\n",
              " 'aviation.airline': 143,\n",
              " 'aviation.airport': 56,\n",
              " 'award.award': 138,\n",
              " 'award.award_category': 14,\n",
              " 'award.award_ceremony': 119,\n",
              " 'award.award_discipline': 188,\n",
              " 'award.award_presenting_organization': 99,\n",
              " 'award.competition': 75,\n",
              " 'award.hall_of_fame_inductee': 236,\n",
              " 'award.recurring_competition': 243,\n",
              " 'baseball.baseball_league': 67,\n",
              " 'baseball.baseball_player': 254,\n",
              " 'baseball.baseball_position': 192,\n",
              " 'baseball.baseball_team': 175,\n",
              " 'basketball.basketball_coach': 229,\n",
              " 'basketball.basketball_conference': 185,\n",
              " 'basketball.basketball_player': 210,\n",
              " 'basketball.basketball_position': 124,\n",
              " 'basketball.basketball_team': 57,\n",
              " 'biology.animal': 252,\n",
              " 'biology.organism': 179,\n",
              " 'biology.organism_classification': 78,\n",
              " 'boats.ship': 88,\n",
              " 'boats.ship_class': 94,\n",
              " 'boats.ship_type': 198,\n",
              " 'book.author': 249,\n",
              " 'book.book': 110,\n",
              " 'book.magazine': 80,\n",
              " 'book.newspaper': 128,\n",
              " 'book.periodical': 106,\n",
              " 'book.periodical_publisher': 193,\n",
              " 'book.periodical_subject': 42,\n",
              " 'book.written_work': 167,\n",
              " 'broadcast.artist': 101,\n",
              " 'broadcast.broadcast': 34,\n",
              " 'broadcast.genre': 103,\n",
              " 'broadcast.radio_format': 191,\n",
              " 'broadcast.radio_station': 130,\n",
              " 'broadcast.tv_channel': 22,\n",
              " 'broadcast.tv_station': 86,\n",
              " 'business.brand': 7,\n",
              " 'business.business_operation': 1,\n",
              " 'business.consumer_company': 76,\n",
              " 'business.consumer_product': 190,\n",
              " 'business.customer': 217,\n",
              " 'business.defunct_company': 63,\n",
              " 'business.industry': 19,\n",
              " 'business.job_title': 31,\n",
              " 'business.product_category': 79,\n",
              " 'celebrities.celebrity': 107,\n",
              " 'chemistry.chemical_compound': 233,\n",
              " 'chemistry.chemical_element': 116,\n",
              " 'chess.chess_player': 32,\n",
              " 'comic_books.comic_book_character': 149,\n",
              " 'computer.computer': 12,\n",
              " 'computer.operating_system': 222,\n",
              " 'computer.software': 102,\n",
              " 'computer.software_license': 136,\n",
              " 'cricket.cricket_bowler': 142,\n",
              " 'cricket.cricket_player': 23,\n",
              " 'cricket.cricket_stadium': 73,\n",
              " 'cricket.cricket_team': 40,\n",
              " 'cvg.computer_videogame': 211,\n",
              " 'cvg.cvg_developer': 30,\n",
              " 'cvg.cvg_genre': 9,\n",
              " 'cvg.cvg_platform': 61,\n",
              " 'cvg.cvg_publisher': 36,\n",
              " 'education.athletics_brand': 83,\n",
              " 'education.educational_degree': 215,\n",
              " 'education.educational_institution': 96,\n",
              " 'education.field_of_study': 242,\n",
              " 'education.fraternity_sorority': 231,\n",
              " 'education.school': 58,\n",
              " 'education.university': 104,\n",
              " 'exhibitions.exhibition_sponsor': 238,\n",
              " 'fictional_universe.fictional_character': 82,\n",
              " 'fictional_universe.fictional_organization': 178,\n",
              " 'film.actor': 28,\n",
              " 'film.director': 129,\n",
              " 'film.film': 98,\n",
              " 'film.film_character': 205,\n",
              " 'film.film_distributor': 228,\n",
              " 'film.film_festival_focus': 239,\n",
              " 'film.film_genre': 29,\n",
              " 'film.music_contributor': 122,\n",
              " 'film.producer': 250,\n",
              " 'film.production_company': 240,\n",
              " 'film.writer': 37,\n",
              " 'finance.currency': 199,\n",
              " 'food.food': 160,\n",
              " 'geography.body_of_water': 168,\n",
              " 'geography.island': 162,\n",
              " 'geography.mountain': 218,\n",
              " 'geography.river': 111,\n",
              " 'government.election': 137,\n",
              " 'government.election_campaign': 244,\n",
              " 'government.general_election': 49,\n",
              " 'government.government_agency': 194,\n",
              " 'government.government_office_or_title': 5,\n",
              " 'government.governmental_body': 87,\n",
              " 'government.legislative_session': 200,\n",
              " 'government.political_party': 152,\n",
              " 'government.politician': 146,\n",
              " 'government.u_s_congressperson': 165,\n",
              " 'government.us_president': 176,\n",
              " 'ice_hockey.hockey_player': 156,\n",
              " 'ice_hockey.hockey_position': 10,\n",
              " 'ice_hockey.hockey_team': 74,\n",
              " 'interests.collection_category': 171,\n",
              " 'internet.website': 24,\n",
              " 'internet.website_owner': 186,\n",
              " 'language.human_language': 213,\n",
              " 'law.court': 126,\n",
              " 'law.invention': 203,\n",
              " 'law.legal_case': 212,\n",
              " 'location.administrative_division': 151,\n",
              " 'location.australian_local_government_area': 153,\n",
              " 'location.australian_state': 184,\n",
              " 'location.capital_of_administrative_division': 53,\n",
              " 'location.citytown': 177,\n",
              " 'location.country': 108,\n",
              " 'location.hud_county_place': 118,\n",
              " 'location.in_district': 189,\n",
              " 'location.in_state': 227,\n",
              " 'location.jp_prefecture': 241,\n",
              " 'location.location': 47,\n",
              " 'location.province': 46,\n",
              " 'location.region': 208,\n",
              " 'location.uk_constituent_country': 163,\n",
              " 'location.uk_statistical_location': 226,\n",
              " 'location.us_county': 219,\n",
              " 'location.us_state': 117,\n",
              " 'martial_arts.martial_artist': 204,\n",
              " 'media_common.media_genre': 148,\n",
              " 'medicine.anatomical_structure': 38,\n",
              " 'medicine.disease': 45,\n",
              " 'medicine.drug': 187,\n",
              " 'medicine.drug_ingredient': 112,\n",
              " 'medicine.medical_treatment': 230,\n",
              " 'medicine.muscle': 174,\n",
              " 'meteorology.tropical_cyclone': 55,\n",
              " 'meteorology.tropical_cyclone_season': 90,\n",
              " 'metropolitan_transit.transit_line': 13,\n",
              " 'metropolitan_transit.transit_stop': 232,\n",
              " 'metropolitan_transit.transit_system': 140,\n",
              " 'military.armed_force': 183,\n",
              " 'military.military_conflict': 115,\n",
              " 'military.military_person': 161,\n",
              " 'military.military_post': 95,\n",
              " 'military.military_unit': 84,\n",
              " 'military.rank': 43,\n",
              " 'music.album': 220,\n",
              " 'music.artist': 52,\n",
              " 'music.composer': 221,\n",
              " 'music.composition': 20,\n",
              " 'music.genre': 235,\n",
              " 'music.group_member': 207,\n",
              " 'music.instrument': 134,\n",
              " 'music.lyricist': 51,\n",
              " 'music.media_format': 26,\n",
              " 'music.music_video_director': 147,\n",
              " 'music.musical_group': 145,\n",
              " 'music.musical_scale': 50,\n",
              " 'music.performance_role': 247,\n",
              " 'music.producer': 155,\n",
              " 'music.record_label': 71,\n",
              " 'music.writer': 3,\n",
              " 'olympics.olympic_event_competition': 133,\n",
              " 'olympics.olympic_games': 114,\n",
              " 'organization.membership_organization': 224,\n",
              " 'organization.non_profit_organization': 6,\n",
              " 'organization.organization': 135,\n",
              " 'people.ethnicity': 4,\n",
              " 'people.family_member': 77,\n",
              " 'people.person': 21,\n",
              " 'protected_sites.listed_site': 2,\n",
              " 'rail.locomotive_class': 127,\n",
              " 'religion.religion': 223,\n",
              " 'religion.religious_leader': 62,\n",
              " 'royalty.chivalric_order_member': 202,\n",
              " 'royalty.kingdom': 81,\n",
              " 'royalty.monarch': 157,\n",
              " 'royalty.noble_person': 0,\n",
              " 'royalty.noble_title': 251,\n",
              " 'soccer.fifa': 35,\n",
              " 'soccer.football_award': 100,\n",
              " 'soccer.football_league': 248,\n",
              " 'soccer.football_league_season': 181,\n",
              " 'soccer.football_player': 109,\n",
              " 'soccer.football_position': 59,\n",
              " 'soccer.football_team': 60,\n",
              " 'soccer.football_team_manager': 93,\n",
              " 'soccer.football_world_cup': 17,\n",
              " 'spaceflight.astronaut': 44,\n",
              " 'sports.boxer': 182,\n",
              " 'sports.cyclist': 195,\n",
              " 'sports.golfer': 41,\n",
              " 'sports.multi_event_tournament': 70,\n",
              " 'sports.pro_athlete': 65,\n",
              " 'sports.professional_sports_team': 16,\n",
              " 'sports.school_sports_team': 66,\n",
              " 'sports.sport': 225,\n",
              " 'sports.sports_award_type': 237,\n",
              " 'sports.sports_award_winner': 245,\n",
              " 'sports.sports_championship': 97,\n",
              " 'sports.sports_championship_event': 158,\n",
              " 'sports.sports_facility': 206,\n",
              " 'sports.sports_league': 91,\n",
              " 'sports.sports_league_draft': 159,\n",
              " 'sports.sports_league_season': 92,\n",
              " 'sports.sports_position': 234,\n",
              " 'sports.sports_team': 11,\n",
              " 'sports.tournament_event_competition': 69,\n",
              " 'tennis.tennis_player': 25,\n",
              " 'tennis.tennis_tournament': 8,\n",
              " 'tennis.tennis_tournament_champion': 141,\n",
              " 'theater.play': 54,\n",
              " 'theater.theater_actor': 154,\n",
              " 'time.event': 196,\n",
              " 'time.recurring_event': 105,\n",
              " 'transportation.road': 113,\n",
              " 'travel.accommodation': 72,\n",
              " 'tv.tv_actor': 18,\n",
              " 'tv.tv_character': 214,\n",
              " 'tv.tv_director': 139,\n",
              " 'tv.tv_genre': 169,\n",
              " 'tv.tv_network': 144,\n",
              " 'tv.tv_personality': 27,\n",
              " 'tv.tv_producer': 173,\n",
              " 'tv.tv_program': 180,\n",
              " 'tv.tv_program_creator': 120,\n",
              " 'tv.tv_series_episode': 164,\n",
              " 'tv.tv_series_season': 131,\n",
              " 'tv.tv_writer': 33,\n",
              " 'visual_art.visual_artist': 89}"
            ]
          },
          "metadata": {},
          "execution_count": 60
        }
      ],
      "source": [
        "type_vocab"
      ]
    },
    {
      "cell_type": "code",
      "source": [
        "#-----------------------Trying to do the same for the dataset as suggested by Jixiong--------------------------------"
      ],
      "metadata": {
        "id": "v9-H4UvZx6vS"
      },
      "execution_count": null,
      "outputs": []
    },
    {
      "cell_type": "code",
      "source": [
        "# We are done with replicating the original results. Now what is left with is experimenting with new datasets"
      ],
      "metadata": {
        "id": "1nVFxsdMKKIG"
      },
      "execution_count": null,
      "outputs": []
    },
    {
      "cell_type": "code",
      "source": [
        "# We start with Semtab"
      ],
      "metadata": {
        "id": "-kJCTsj6KmIf"
      },
      "execution_count": null,
      "outputs": []
    },
    {
      "cell_type": "code",
      "source": [
        ""
      ],
      "metadata": {
        "id": "1CJ95X_3KqJn"
      },
      "execution_count": null,
      "outputs": []
    },
    {
      "cell_type": "markdown",
      "source": [
        "**EXPERIMENTATION WITH ANOTHER DATASET(IN THIS CASE WITH SEMTAB)**"
      ],
      "metadata": {
        "id": "qfuSjp0pLEFg"
      }
    },
    {
      "cell_type": "markdown",
      "metadata": {
        "id": "BvqyQtNbTd8R"
      },
      "source": [
        "# CT - Semtab"
      ]
    },
    {
      "cell_type": "code",
      "source": [
        "pwd"
      ],
      "metadata": {
        "colab": {
          "base_uri": "https://localhost:8080/",
          "height": 35
        },
        "id": "kXgZH_KllmQP",
        "outputId": "e5c7de40-16f7-4bec-a9a2-688ed683b9ec"
      },
      "execution_count": null,
      "outputs": [
        {
          "output_type": "execute_result",
          "data": {
            "text/plain": [
              "'/content/drive/MyDrive/TURL'"
            ],
            "application/vnd.google.colaboratory.intrinsic+json": {
              "type": "string"
            }
          },
          "metadata": {},
          "execution_count": 59
        }
      ]
    },
    {
      "cell_type": "code",
      "execution_count": null,
      "metadata": {
        "id": "mimg_9ngTd8R",
        "colab": {
          "base_uri": "https://localhost:8080/"
        },
        "outputId": "25f183f7-e8b1-499f-e1b2-4a72d1b94f80"
      },
      "outputs": [
        {
          "output_type": "stream",
          "name": "stdout",
          "text": [
            "try loading preprocessed data from /content/drive/MyDrive/TURL/data/procressed_WikiCT/test.pickle\n"
          ]
        }
      ],
      "source": [
        "data_dir = '/content/drive/MyDrive/TURL/data'\n",
        "type_vocab = load_type_vocab(data_dir)\n",
        "#------------------------------------------------------------Same methdology as befoore\n",
        "test_dataset = WikiCTDataset(data_dir, entity_vocab, type_vocab, max_input_tok=500, src=\"test\", max_length = [50, 10, 10], force_new=False, tokenizer = None)\n",
        "#---------------------------------------------------------------------------------------------------------------------------------------------------------------------"
      ]
    },
    {
      "cell_type": "code",
      "execution_count": null,
      "metadata": {
        "id": "Ml0KRYOITd8S"
      },
      "outputs": [],
      "source": [
        "id2type = {y:x for x,y in type_vocab.items()}"
      ]
    },
    {
      "cell_type": "code",
      "execution_count": null,
      "metadata": {
        "id": "GU3mwbzMTd8S"
      },
      "outputs": [],
      "source": [
        "def average_precision(output, relevance_labels):\n",
        "    with torch.no_grad():\n",
        "        sorted_output = torch.argsort(output, dim=-1, descending=True)\n",
        "        sorted_labels = torch.gather(relevance_labels, -1, sorted_output).float()\n",
        "        cum_correct = torch.cumsum(sorted_labels, dim=-1)\n",
        "        cum_precision = cum_correct / torch.arange(start=1,end=cum_correct.shape[-1]+1, device=cum_correct.device)[None, :]\n",
        "        cum_precision = cum_precision * sorted_labels\n",
        "        total_valid = torch.sum(sorted_labels, dim=-1)\n",
        "        total_valid[total_valid==0] = 1\n",
        "        average_precision = torch.sum(cum_precision, dim=-1)/total_valid\n",
        "\n",
        "    return average_precision"
      ]
    },
    {
      "cell_type": "code",
      "execution_count": null,
      "metadata": {
        "id": "uK3eq-Z9Td8T"
      },
      "outputs": [],
      "source": [
        "per_type_accuracy = {}\n",
        "per_type_precision = {}\n",
        "per_type_recall = {}\n",
        "per_type_f1 = {}\n",
        "map = {}\n",
        "precision = {}\n",
        "recall = {}\n",
        "f1 = {}"
      ]
    },
    {
      "cell_type": "code",
      "source": [
        "'/content/drive/MyDrive/TURL/checkpoint/column_type/4/pytorch_model.bin'"
      ],
      "metadata": {
        "colab": {
          "base_uri": "https://localhost:8080/",
          "height": 35
        },
        "id": "onR9xcNwouVh",
        "outputId": "a2a40390-89ae-4be4-e2ca-2ac453305078"
      },
      "execution_count": null,
      "outputs": [
        {
          "output_type": "execute_result",
          "data": {
            "text/plain": [
              "'/content/drive/MyDrive/TURL/checkpoint/column_type/4/pytorch_model.bin'"
            ],
            "application/vnd.google.colaboratory.intrinsic+json": {
              "type": "string"
            }
          },
          "metadata": {},
          "execution_count": 65
        }
      ]
    },
    {
      "cell_type": "code",
      "execution_count": null,
      "metadata": {
        "id": "uU3tx3FaTd8T",
        "outputId": "45842b94-1f8b-4edd-af08-58fe398e3e8b",
        "scrolled": true,
        "colab": {
          "referenced_widgets": [
            "f8aeae1fd45c4a43a9001dd82f6cf78e",
            "c0300fd1b15547dd909cb56142d1b704",
            "9f003c08527640daa00acd92ae214f34",
            "07a222d416084e7e9e8509743d450cb1",
            "b2aab291daf1468ab47c363c77a3abf0",
            "78888d5c758a412696106e1afec59d0c",
            "ef5cc7abc82e4fddb0dc8ce584f5beba",
            "dda335ae10f04f7a9aaaa4482635ca30",
            "246a60c4a3aa4e51ac8dbc877af43fb7",
            "bc5b102ba5304d36948f9daa523332a7",
            "d95b99e1589f40f1aa8e06237a58832c"
          ],
          "base_uri": "https://localhost:8080/",
          "height": 118
        }
      },
      "outputs": [
        {
          "output_type": "stream",
          "name": "stdout",
          "text": [
            "4\n"
          ]
        },
        {
          "output_type": "display_data",
          "data": {
            "text/plain": [
              "Evaluating:   0%|          | 0/239 [00:00<?, ?it/s]"
            ],
            "application/vnd.jupyter.widget-view+json": {
              "version_major": 2,
              "version_minor": 0,
              "model_id": "f8aeae1fd45c4a43a9001dd82f6cf78e"
            }
          },
          "metadata": {}
        },
        {
          "output_type": "stream",
          "name": "stderr",
          "text": [
            "/usr/local/lib/python3.7/dist-packages/ipykernel_launcher.py:92: RuntimeWarning: invalid value encountered in true_divide\n",
            "/usr/local/lib/python3.7/dist-packages/ipykernel_launcher.py:94: RuntimeWarning: invalid value encountered in true_divide\n",
            "/usr/local/lib/python3.7/dist-packages/ipykernel_launcher.py:96: RuntimeWarning: invalid value encountered in true_divide\n"
          ]
        }
      ],
      "source": [
        "from tqdm.autonotebook import tqdm\n",
        "checkpoint = \"/content/drive/MyDrive/TURL/checkpoint/column_type/4/pytorch_model.bin\"\n",
        "mode = 4\n",
        "print(mode)\n",
        "config_class, model_class, _ = MODEL_CLASSES['CT']\n",
        "config = config_class.from_pretrained(config_name)\n",
        "config.class_num = len(type_vocab)\n",
        "config.mode = mode\n",
        "model = model_class(config, is_simple=True)\n",
        "checkpoint = torch.load(checkpoint)\n",
        "model.load_state_dict(checkpoint)\n",
        "model.to(device)\n",
        "model.eval()\n",
        "eval_batch_size = 20\n",
        "eval_sampler = SequentialSampler(test_dataset)\n",
        "eval_dataloader = CTLoader(test_dataset, sampler=eval_sampler, batch_size=eval_batch_size, is_train=False)\n",
        "eval_loss = 0.0\n",
        "eval_map = 0.0\n",
        "nb_eval_steps = 0\n",
        "eval_targets = []\n",
        "eval_prediction_scores = []\n",
        "eval_pred = []\n",
        "eval_mask = []\n",
        "per_table_result = {}\n",
        "for batch in tqdm(eval_dataloader, desc=\"Evaluating\"):\n",
        "    table_ids, input_tok, input_tok_type, input_tok_pos, input_tok_mask, \\\n",
        "        input_ent_text, input_ent_text_length, input_ent, input_ent_type, input_ent_mask, \\\n",
        "        column_entity_mask, column_header_mask, labels_mask, labels = batch\n",
        "    input_tok = input_tok.to(device)\n",
        "    input_tok_type = input_tok_type.to(device)\n",
        "    input_tok_pos = input_tok_pos.to(device)\n",
        "    input_tok_mask = input_tok_mask.to(device)\n",
        "    input_ent_text = input_ent_text.to(device)\n",
        "    input_ent_text_length = input_ent_text_length.to(device)\n",
        "    input_ent = input_ent.to(device)\n",
        "    input_ent_type = input_ent_type.to(device)\n",
        "    input_ent_mask = input_ent_mask.to(device)\n",
        "    column_entity_mask = column_entity_mask.to(device)\n",
        "    column_header_mask = column_header_mask.to(device)\n",
        "    labels_mask = labels_mask.to(device)\n",
        "    labels = labels.to(device)\n",
        "    if mode == 1:\n",
        "        input_ent_mask = input_ent_mask[:,:,input_tok_mask.shape[1]:]\n",
        "        input_tok = None\n",
        "        input_tok_type = None\n",
        "        input_tok_pos = None\n",
        "        input_tok_mask = None\n",
        "    elif mode == 2:\n",
        "        input_tok_mask = input_tok_mask[:,:,:input_tok_mask.shape[1]]\n",
        "        input_ent_text = None\n",
        "        input_ent_text_length = None\n",
        "        input_ent = None\n",
        "        input_ent_type = None\n",
        "        input_ent_mask = None\n",
        "    elif mode == 3:\n",
        "        input_ent = None\n",
        "    elif mode == 4:\n",
        "        input_ent_mask = input_ent_mask[:,:,input_tok_mask.shape[1]:]\n",
        "        input_tok = None\n",
        "        input_tok_type = None\n",
        "        input_tok_pos = None\n",
        "        input_tok_mask = None\n",
        "        input_ent = None\n",
        "    elif mode == 5:\n",
        "        input_ent_mask = input_ent_mask[:,:,input_tok_mask.shape[1]:]\n",
        "        input_tok = None\n",
        "        input_tok_type = None\n",
        "        input_tok_pos = None\n",
        "        input_tok_mask = None\n",
        "        input_ent_text = None\n",
        "        input_ent_text_length = None\n",
        "    with torch.no_grad():\n",
        "        outputs = model(input_tok, input_tok_type, input_tok_pos, input_tok_mask,\\\n",
        "            input_ent_text, input_ent_text_length, input_ent, input_ent_type, input_ent_mask, column_entity_mask, column_header_mask, labels_mask, labels)\n",
        "        loss = outputs[0]\n",
        "        prediction_scores = outputs[1]\n",
        "        for idx, table_id in enumerate(table_ids):\n",
        "            valid = labels_mask[idx].nonzero().max().item()+1\n",
        "            if table_id not in per_table_result:\n",
        "                per_table_result[table_id] = [[],labels_mask[idx,:valid],labels[idx,:valid]]\n",
        "            per_table_result[table_id][0].append(prediction_scores[idx,:valid])\n",
        "        \n",
        "        eval_loss += loss.mean().item()\n",
        "        eval_targets.extend(labels.view(-1, config.class_num).tolist())\n",
        "        eval_prediction_scores.extend(prediction_scores.view(-1, config.class_num).tolist())\n",
        "        eval_pred.extend((prediction_scores.view(-1, config.class_num)==prediction_scores.view(-1, config.class_num).max(-1)[0][:,None]).tolist())\n",
        "        eval_mask.extend(labels_mask.view(-1).tolist())\n",
        "    nb_eval_steps += 1\n",
        "eval_targets = np.array(eval_targets)\n",
        "eval_prediction_scores = np.array(eval_prediction_scores)\n",
        "eval_mask = np.array(eval_mask)\n",
        "eval_prediction_ranks = np.argsort(np.argsort(-eval_prediction_scores))\n",
        "eval_pred = np.array(eval_pred)\n",
        "eval_tp = eval_mask[:,np.newaxis]*eval_pred*eval_targets\n",
        "eval_precision = np.sum(eval_tp,axis=0)/np.sum(eval_mask[:,np.newaxis]*eval_pred,axis=0)\n",
        "eval_precision = np.nan_to_num(eval_precision, 1)\n",
        "eval_recall = np.sum(eval_tp,axis=0)/np.sum(eval_mask[:,np.newaxis]*eval_targets,axis=0)\n",
        "eval_recall = np.nan_to_num(eval_recall, 1)\n",
        "eval_f1 = 2*eval_precision*eval_recall/(eval_precision+eval_recall)\n",
        "eval_f1 = np.nan_to_num(eval_f1, 0)\n",
        "per_type_instance_num = np.sum(eval_mask[:,np.newaxis]*eval_targets,axis=0)\n",
        "per_type_instance_num[per_type_instance_num==0] = 1\n",
        "per_type_correct_instance_num = np.sum(eval_mask[:,np.newaxis]*(eval_prediction_ranks<eval_targets.sum(axis=1)[:,np.newaxis])*eval_targets,axis=0)\n",
        "per_type_accuracy[mode] = per_type_correct_instance_num/per_type_instance_num\n",
        "per_type_precision[mode] = eval_precision\n",
        "per_type_recall[mode] = eval_recall\n",
        "per_type_f1[mode] = eval_f1\n",
        "precision[mode] = np.sum(eval_tp)/np.sum(eval_mask[:,np.newaxis]*eval_pred)\n",
        "recall[mode] = np.sum(eval_tp)/np.sum(eval_mask[:,np.newaxis]*eval_targets)\n",
        "f1[mode] = 2*precision[mode]*recall[mode]/(precision[mode]+recall[mode])"
      ]
    },
    {
      "cell_type": "code",
      "execution_count": null,
      "metadata": {
        "id": "Ibrp75qUTd8V"
      },
      "outputs": [],
      "source": [
        "wiki_types = ['City', 'VideoGame', 'Mountain', 'Writer', 'Lake', 'AdministrativeRegion', 'Book', 'Saint', 'Monarch', 'Bird', 'Plant', 'Currency', 'Company', 'Genre', 'Building', 'PoliticalParty', 'Language', 'Country', 'University', 'SportsTeam', 'RadioStation', 'Airport', 'Wrestler', 'Newspaper', 'Mammal', 'Mayor', 'AcademicJournal', 'Scientist', 'Continent', 'Film', 'BaseballPlayer']\n",
        "non_wiki_types = [x for x in type_vocab if x not in wiki_types]"
      ]
    },
    {
      "cell_type": "code",
      "source": [
        "type_vocab"
      ],
      "metadata": {
        "colab": {
          "base_uri": "https://localhost:8080/"
        },
        "id": "E58Gcq1AqGg8",
        "outputId": "5aa076f3-40d2-45a3-b498-8aa4b55bfae0"
      },
      "execution_count": null,
      "outputs": [
        {
          "output_type": "execute_result",
          "data": {
            "text/plain": [
              "{'american_football.football_coach': 85,\n",
              " 'american_football.football_conference': 15,\n",
              " 'american_football.football_player': 201,\n",
              " 'american_football.football_team': 253,\n",
              " 'amusement_parks.park': 166,\n",
              " 'amusement_parks.ride': 48,\n",
              " 'architecture.architectural_structure_owner': 123,\n",
              " 'architecture.building': 132,\n",
              " 'architecture.structure': 68,\n",
              " 'architecture.venue': 121,\n",
              " 'astronomy.asteroid': 64,\n",
              " 'astronomy.astronomical_discovery': 246,\n",
              " 'astronomy.celestial_object': 39,\n",
              " 'astronomy.constellation': 125,\n",
              " 'astronomy.orbital_relationship': 209,\n",
              " 'astronomy.star_system_body': 172,\n",
              " 'automotive.company': 150,\n",
              " 'automotive.model': 197,\n",
              " 'aviation.aircraft_model': 216,\n",
              " 'aviation.aircraft_owner': 170,\n",
              " 'aviation.airline': 143,\n",
              " 'aviation.airport': 56,\n",
              " 'award.award': 138,\n",
              " 'award.award_category': 14,\n",
              " 'award.award_ceremony': 119,\n",
              " 'award.award_discipline': 188,\n",
              " 'award.award_presenting_organization': 99,\n",
              " 'award.competition': 75,\n",
              " 'award.hall_of_fame_inductee': 236,\n",
              " 'award.recurring_competition': 243,\n",
              " 'baseball.baseball_league': 67,\n",
              " 'baseball.baseball_player': 254,\n",
              " 'baseball.baseball_position': 192,\n",
              " 'baseball.baseball_team': 175,\n",
              " 'basketball.basketball_coach': 229,\n",
              " 'basketball.basketball_conference': 185,\n",
              " 'basketball.basketball_player': 210,\n",
              " 'basketball.basketball_position': 124,\n",
              " 'basketball.basketball_team': 57,\n",
              " 'biology.animal': 252,\n",
              " 'biology.organism': 179,\n",
              " 'biology.organism_classification': 78,\n",
              " 'boats.ship': 88,\n",
              " 'boats.ship_class': 94,\n",
              " 'boats.ship_type': 198,\n",
              " 'book.author': 249,\n",
              " 'book.book': 110,\n",
              " 'book.magazine': 80,\n",
              " 'book.newspaper': 128,\n",
              " 'book.periodical': 106,\n",
              " 'book.periodical_publisher': 193,\n",
              " 'book.periodical_subject': 42,\n",
              " 'book.written_work': 167,\n",
              " 'broadcast.artist': 101,\n",
              " 'broadcast.broadcast': 34,\n",
              " 'broadcast.genre': 103,\n",
              " 'broadcast.radio_format': 191,\n",
              " 'broadcast.radio_station': 130,\n",
              " 'broadcast.tv_channel': 22,\n",
              " 'broadcast.tv_station': 86,\n",
              " 'business.brand': 7,\n",
              " 'business.business_operation': 1,\n",
              " 'business.consumer_company': 76,\n",
              " 'business.consumer_product': 190,\n",
              " 'business.customer': 217,\n",
              " 'business.defunct_company': 63,\n",
              " 'business.industry': 19,\n",
              " 'business.job_title': 31,\n",
              " 'business.product_category': 79,\n",
              " 'celebrities.celebrity': 107,\n",
              " 'chemistry.chemical_compound': 233,\n",
              " 'chemistry.chemical_element': 116,\n",
              " 'chess.chess_player': 32,\n",
              " 'comic_books.comic_book_character': 149,\n",
              " 'computer.computer': 12,\n",
              " 'computer.operating_system': 222,\n",
              " 'computer.software': 102,\n",
              " 'computer.software_license': 136,\n",
              " 'cricket.cricket_bowler': 142,\n",
              " 'cricket.cricket_player': 23,\n",
              " 'cricket.cricket_stadium': 73,\n",
              " 'cricket.cricket_team': 40,\n",
              " 'cvg.computer_videogame': 211,\n",
              " 'cvg.cvg_developer': 30,\n",
              " 'cvg.cvg_genre': 9,\n",
              " 'cvg.cvg_platform': 61,\n",
              " 'cvg.cvg_publisher': 36,\n",
              " 'education.athletics_brand': 83,\n",
              " 'education.educational_degree': 215,\n",
              " 'education.educational_institution': 96,\n",
              " 'education.field_of_study': 242,\n",
              " 'education.fraternity_sorority': 231,\n",
              " 'education.school': 58,\n",
              " 'education.university': 104,\n",
              " 'exhibitions.exhibition_sponsor': 238,\n",
              " 'fictional_universe.fictional_character': 82,\n",
              " 'fictional_universe.fictional_organization': 178,\n",
              " 'film.actor': 28,\n",
              " 'film.director': 129,\n",
              " 'film.film': 98,\n",
              " 'film.film_character': 205,\n",
              " 'film.film_distributor': 228,\n",
              " 'film.film_festival_focus': 239,\n",
              " 'film.film_genre': 29,\n",
              " 'film.music_contributor': 122,\n",
              " 'film.producer': 250,\n",
              " 'film.production_company': 240,\n",
              " 'film.writer': 37,\n",
              " 'finance.currency': 199,\n",
              " 'food.food': 160,\n",
              " 'geography.body_of_water': 168,\n",
              " 'geography.island': 162,\n",
              " 'geography.mountain': 218,\n",
              " 'geography.river': 111,\n",
              " 'government.election': 137,\n",
              " 'government.election_campaign': 244,\n",
              " 'government.general_election': 49,\n",
              " 'government.government_agency': 194,\n",
              " 'government.government_office_or_title': 5,\n",
              " 'government.governmental_body': 87,\n",
              " 'government.legislative_session': 200,\n",
              " 'government.political_party': 152,\n",
              " 'government.politician': 146,\n",
              " 'government.u_s_congressperson': 165,\n",
              " 'government.us_president': 176,\n",
              " 'ice_hockey.hockey_player': 156,\n",
              " 'ice_hockey.hockey_position': 10,\n",
              " 'ice_hockey.hockey_team': 74,\n",
              " 'interests.collection_category': 171,\n",
              " 'internet.website': 24,\n",
              " 'internet.website_owner': 186,\n",
              " 'language.human_language': 213,\n",
              " 'law.court': 126,\n",
              " 'law.invention': 203,\n",
              " 'law.legal_case': 212,\n",
              " 'location.administrative_division': 151,\n",
              " 'location.australian_local_government_area': 153,\n",
              " 'location.australian_state': 184,\n",
              " 'location.capital_of_administrative_division': 53,\n",
              " 'location.citytown': 177,\n",
              " 'location.country': 108,\n",
              " 'location.hud_county_place': 118,\n",
              " 'location.in_district': 189,\n",
              " 'location.in_state': 227,\n",
              " 'location.jp_prefecture': 241,\n",
              " 'location.location': 47,\n",
              " 'location.province': 46,\n",
              " 'location.region': 208,\n",
              " 'location.uk_constituent_country': 163,\n",
              " 'location.uk_statistical_location': 226,\n",
              " 'location.us_county': 219,\n",
              " 'location.us_state': 117,\n",
              " 'martial_arts.martial_artist': 204,\n",
              " 'media_common.media_genre': 148,\n",
              " 'medicine.anatomical_structure': 38,\n",
              " 'medicine.disease': 45,\n",
              " 'medicine.drug': 187,\n",
              " 'medicine.drug_ingredient': 112,\n",
              " 'medicine.medical_treatment': 230,\n",
              " 'medicine.muscle': 174,\n",
              " 'meteorology.tropical_cyclone': 55,\n",
              " 'meteorology.tropical_cyclone_season': 90,\n",
              " 'metropolitan_transit.transit_line': 13,\n",
              " 'metropolitan_transit.transit_stop': 232,\n",
              " 'metropolitan_transit.transit_system': 140,\n",
              " 'military.armed_force': 183,\n",
              " 'military.military_conflict': 115,\n",
              " 'military.military_person': 161,\n",
              " 'military.military_post': 95,\n",
              " 'military.military_unit': 84,\n",
              " 'military.rank': 43,\n",
              " 'music.album': 220,\n",
              " 'music.artist': 52,\n",
              " 'music.composer': 221,\n",
              " 'music.composition': 20,\n",
              " 'music.genre': 235,\n",
              " 'music.group_member': 207,\n",
              " 'music.instrument': 134,\n",
              " 'music.lyricist': 51,\n",
              " 'music.media_format': 26,\n",
              " 'music.music_video_director': 147,\n",
              " 'music.musical_group': 145,\n",
              " 'music.musical_scale': 50,\n",
              " 'music.performance_role': 247,\n",
              " 'music.producer': 155,\n",
              " 'music.record_label': 71,\n",
              " 'music.writer': 3,\n",
              " 'olympics.olympic_event_competition': 133,\n",
              " 'olympics.olympic_games': 114,\n",
              " 'organization.membership_organization': 224,\n",
              " 'organization.non_profit_organization': 6,\n",
              " 'organization.organization': 135,\n",
              " 'people.ethnicity': 4,\n",
              " 'people.family_member': 77,\n",
              " 'people.person': 21,\n",
              " 'protected_sites.listed_site': 2,\n",
              " 'rail.locomotive_class': 127,\n",
              " 'religion.religion': 223,\n",
              " 'religion.religious_leader': 62,\n",
              " 'royalty.chivalric_order_member': 202,\n",
              " 'royalty.kingdom': 81,\n",
              " 'royalty.monarch': 157,\n",
              " 'royalty.noble_person': 0,\n",
              " 'royalty.noble_title': 251,\n",
              " 'soccer.fifa': 35,\n",
              " 'soccer.football_award': 100,\n",
              " 'soccer.football_league': 248,\n",
              " 'soccer.football_league_season': 181,\n",
              " 'soccer.football_player': 109,\n",
              " 'soccer.football_position': 59,\n",
              " 'soccer.football_team': 60,\n",
              " 'soccer.football_team_manager': 93,\n",
              " 'soccer.football_world_cup': 17,\n",
              " 'spaceflight.astronaut': 44,\n",
              " 'sports.boxer': 182,\n",
              " 'sports.cyclist': 195,\n",
              " 'sports.golfer': 41,\n",
              " 'sports.multi_event_tournament': 70,\n",
              " 'sports.pro_athlete': 65,\n",
              " 'sports.professional_sports_team': 16,\n",
              " 'sports.school_sports_team': 66,\n",
              " 'sports.sport': 225,\n",
              " 'sports.sports_award_type': 237,\n",
              " 'sports.sports_award_winner': 245,\n",
              " 'sports.sports_championship': 97,\n",
              " 'sports.sports_championship_event': 158,\n",
              " 'sports.sports_facility': 206,\n",
              " 'sports.sports_league': 91,\n",
              " 'sports.sports_league_draft': 159,\n",
              " 'sports.sports_league_season': 92,\n",
              " 'sports.sports_position': 234,\n",
              " 'sports.sports_team': 11,\n",
              " 'sports.tournament_event_competition': 69,\n",
              " 'tennis.tennis_player': 25,\n",
              " 'tennis.tennis_tournament': 8,\n",
              " 'tennis.tennis_tournament_champion': 141,\n",
              " 'theater.play': 54,\n",
              " 'theater.theater_actor': 154,\n",
              " 'time.event': 196,\n",
              " 'time.recurring_event': 105,\n",
              " 'transportation.road': 113,\n",
              " 'travel.accommodation': 72,\n",
              " 'tv.tv_actor': 18,\n",
              " 'tv.tv_character': 214,\n",
              " 'tv.tv_director': 139,\n",
              " 'tv.tv_genre': 169,\n",
              " 'tv.tv_network': 144,\n",
              " 'tv.tv_personality': 27,\n",
              " 'tv.tv_producer': 173,\n",
              " 'tv.tv_program': 180,\n",
              " 'tv.tv_program_creator': 120,\n",
              " 'tv.tv_series_episode': 164,\n",
              " 'tv.tv_series_season': 131,\n",
              " 'tv.tv_writer': 33,\n",
              " 'visual_art.visual_artist': 89}"
            ]
          },
          "metadata": {},
          "execution_count": 69
        }
      ]
    },
    {
      "cell_type": "code",
      "execution_count": null,
      "metadata": {
        "id": "70q08YpCTd8W",
        "outputId": "988b9ee6-bac8-4e34-d339-8d0432c99f95",
        "scrolled": true,
        "colab": {
          "base_uri": "https://localhost:8080/"
        }
      },
      "outputs": [
        {
          "output_type": "stream",
          "name": "stdout",
          "text": [
            "royalty.noble_person 0.025974025974025976 75.0\n",
            "business.business_operation 0.024793388429752067 237.0\n",
            "protected_sites.listed_site 0.0 13.0\n",
            "music.writer 0.0 3.0\n",
            "people.ethnicity 0.8 6.0\n",
            "government.government_office_or_title 0.6666666666666665 10.0\n",
            "organization.non_profit_organization 0.0 1.0\n",
            "business.brand 0.0 3.0\n",
            "tennis.tennis_tournament 0.33333333333333337 5.0\n",
            "cvg.cvg_genre 0.16666666666666669 10.0\n",
            "ice_hockey.hockey_position 0.6938775510204082 32.0\n",
            "sports.sports_team 0.8905109489051095 1701.0\n",
            "computer.computer 0.0 3.0\n",
            "metropolitan_transit.transit_line 0.5 15.0\n",
            "award.award_category 0.9508196721311476 30.0\n",
            "american_football.football_conference 0.0 5.0\n",
            "sports.professional_sports_team 0.05839416058394161 132.0\n",
            "soccer.football_world_cup 0.0 2.0\n",
            "tv.tv_actor 0.014285714285714287 139.0\n",
            "business.industry 0.4 4.0\n",
            "music.composition 0.8842105263157894 52.0\n",
            "people.person 0.9796862946772948 3906.0\n",
            "broadcast.tv_channel 0.0 1.0\n",
            "cricket.cricket_player 0.05128205128205127 38.0\n",
            "internet.website 0.0 1.0\n",
            "tennis.tennis_player 0.0903954802259887 169.0\n",
            "music.media_format 1.0 3.0\n",
            "tv.tv_personality 0.05882352941176471 33.0\n",
            "film.actor 0.0 215.0\n",
            "film.film_genre 0.10526315789473684 18.0\n",
            "cvg.cvg_developer 0.29411764705882354 28.0\n",
            "business.job_title 0.0 9.0\n",
            "chess.chess_player 0.0 1.0\n",
            "tv.tv_writer 0.0 1.0\n",
            "broadcast.broadcast 0.896551724137931 30.0\n",
            "soccer.fifa 0.6666666666666666 2.0\n",
            "cvg.cvg_publisher 0.0 16.0\n",
            "film.writer 0.0 35.0\n",
            "medicine.anatomical_structure 0.8648648648648648 20.0\n",
            "astronomy.celestial_object 0.4666666666666667 19.0\n",
            "cricket.cricket_team 0.0909090909090909 21.0\n",
            "sports.golfer 0.06779661016949151 57.0\n",
            "book.periodical_subject 0.0 2.0\n",
            "military.rank 0.9473684210526316 9.0\n",
            "spaceflight.astronaut 0.0 1.0\n",
            "medicine.disease 0.5 5.0\n",
            "location.province 0.0 8.0\n",
            "location.location 0.9551724137931034 3245.0\n",
            "amusement_parks.ride 0.8750000000000001 9.0\n",
            "government.general_election 0.012195121951219513 163.0\n",
            "music.musical_scale 1.0 4.0\n",
            "music.lyricist 0.0 15.0\n",
            "music.artist 0.6805555555555556 176.0\n",
            "location.capital_of_administrative_division 0.0 37.0\n",
            "theater.play 0.0 6.0\n",
            "meteorology.tropical_cyclone 1.0 1.0\n",
            "aviation.airport 0.13333333333333333 28.0\n",
            "basketball.basketball_team 0.5263157894736842 68.0\n",
            "education.school 0.0 25.0\n",
            "soccer.football_position 0.0 23.0\n",
            "soccer.football_team 0.05207100591715976 822.0\n",
            "cvg.cvg_platform 0.8333333333333333 14.0\n",
            "religion.religious_leader 0.33333333333333337 5.0\n",
            "business.defunct_company 0.0 7.0\n",
            "astronomy.asteroid 0.0 13.0\n",
            "sports.pro_athlete 0.001183431952662722 1688.0\n",
            "sports.school_sports_team 0.5 43.0\n",
            "baseball.baseball_league 0.6208955223880597 230.0\n",
            "architecture.structure 0.0 289.0\n",
            "sports.tournament_event_competition 0.13043478260869565 41.0\n",
            "sports.multi_event_tournament 0.0 50.0\n",
            "music.record_label 0.20689655172413793 26.0\n",
            "travel.accommodation 0.4 16.0\n",
            "cricket.cricket_stadium 0.0 11.0\n",
            "ice_hockey.hockey_team 0.046511627906976744 42.0\n",
            "award.competition 0.2571428571428571 59.0\n",
            "business.consumer_company 0.0 6.0\n",
            "people.family_member 0.0 20.0\n",
            "biology.organism_classification 0.8333333333333333 41.0\n",
            "business.product_category 0.0 2.0\n",
            "book.magazine 0.0 1.0\n",
            "royalty.kingdom 0.0 8.0\n",
            "fictional_universe.fictional_character 0.5490196078431372 32.0\n",
            "education.athletics_brand 0.7547169811320755 29.0\n",
            "military.military_unit 0.09999999999999999 18.0\n",
            "american_football.football_coach 0.0 9.0\n",
            "broadcast.tv_station 0.0 8.0\n",
            "government.governmental_body 0.8571428571428571 8.0\n",
            "boats.ship 0.8571428571428572 25.0\n",
            "visual_art.visual_artist 0.0 1.0\n",
            "meteorology.tropical_cyclone_season 1.0 1.0\n",
            "sports.sports_league 0.24778761061946902 491.0\n",
            "sports.sports_league_season 0.012658227848101266 312.0\n",
            "soccer.football_team_manager 0.0 7.0\n",
            "boats.ship_class 0.8333333333333333 7.0\n",
            "military.military_post 0.0 2.0\n",
            "education.educational_institution 0.15384615384615385 129.0\n",
            "sports.sports_championship 0.8 3.0\n",
            "film.film 0.9122807017543859 161.0\n",
            "award.award_presenting_organization 0.0 8.0\n",
            "soccer.football_award 0.5833333333333334 16.0\n",
            "broadcast.artist 0.0 32.0\n",
            "computer.software 0.7058823529411765 8.0\n",
            "broadcast.genre 0.4 4.0\n",
            "education.university 0.11650485436893203 94.0\n",
            "time.recurring_event 0.49840255591054317 230.0\n",
            "book.periodical 0.4 4.0\n",
            "celebrities.celebrity 0.0 7.0\n",
            "location.country 0.060606060606060594 538.0\n",
            "soccer.football_player 0.0 262.0\n",
            "book.book 0.0 9.0\n",
            "geography.river 0.0 5.0\n",
            "medicine.drug_ingredient 0.0 2.0\n",
            "transportation.road 0.0 24.0\n",
            "olympics.olympic_games 0.6 14.0\n",
            "military.military_conflict 0.0 8.0\n",
            "chemistry.chemical_element 0.7058823529411765 9.0\n",
            "location.us_state 0.05128205128205129 37.0\n",
            "location.hud_county_place 0.0 85.0\n",
            "award.award_ceremony 0.2380952380952381 36.0\n",
            "tv.tv_program_creator 0.0 17.0\n",
            "architecture.venue 0.0 149.0\n",
            "film.music_contributor 0.19999999999999998 9.0\n",
            "architecture.architectural_structure_owner 0.0 2.0\n",
            "basketball.basketball_position 0.15384615384615385 12.0\n",
            "astronomy.constellation 0.8333333333333333 5.0\n",
            "law.court 0.9090909090909091 6.0\n",
            "rail.locomotive_class 0.5714285714285715 5.0\n",
            "book.newspaper 0.0 1.0\n",
            "film.director 0.015384615384615384 129.0\n",
            "broadcast.radio_station 0.11764705882352941 16.0\n",
            "tv.tv_series_season 0.823529411764706 9.0\n",
            "architecture.building 0.0 12.0\n",
            "olympics.olympic_event_competition 0.03636363636363636 54.0\n",
            "music.instrument 0.0 1.0\n",
            "organization.organization 0.7516210882435861 2122.0\n",
            "computer.software_license 0.8571428571428571 6.0\n",
            "government.election 0.0 20.0\n",
            "award.award 0.7999999999999999 7.0\n",
            "tv.tv_director 0.0 3.0\n",
            "metropolitan_transit.transit_system 0.4 4.0\n",
            "tennis.tennis_tournament_champion 0.0 58.0\n",
            "cricket.cricket_bowler 0.0 13.0\n",
            "aviation.airline 0.0 4.0\n",
            "tv.tv_network 0.6562499999999999 39.0\n",
            "music.musical_group 0.125 13.0\n",
            "government.politician 0.008048289738430582 495.0\n",
            "music.music_video_director 0.0 2.0\n",
            "media_common.media_genre 0.8620689655172413 33.0\n",
            "comic_books.comic_book_character 0.0 3.0\n",
            "automotive.company 0.0 25.0\n",
            "location.administrative_division 0.0548780487804878 317.0\n",
            "government.political_party 0.0896551724137931 274.0\n",
            "location.australian_local_government_area 0.0 1.0\n",
            "theater.theater_actor 0.0 4.0\n",
            "music.producer 0.0 11.0\n",
            "ice_hockey.hockey_player 0.0 34.0\n",
            "royalty.monarch 0.09523809523809523 20.0\n",
            "sports.sports_championship_event 0.0 27.0\n",
            "sports.sports_league_draft 0.36363636363636365 8.0\n",
            "food.food 0.5714285714285715 2.0\n",
            "military.military_person 0.0 35.0\n",
            "geography.island 0.0 2.0\n",
            "location.uk_constituent_country 0.0 2.0\n",
            "tv.tv_series_episode 0.3333333333333333 2.0\n",
            "government.u_s_congressperson 0.019292604501607715 308.0\n",
            "amusement_parks.park 0.0 9.0\n",
            "book.written_work 0.45454545454545453 16.0\n",
            "geography.body_of_water 0.0 9.0\n",
            "tv.tv_genre 0.0 9.0\n",
            "aviation.aircraft_owner 0.0 11.0\n",
            "interests.collection_category 0.0 2.0\n",
            "astronomy.star_system_body 0.0 13.0\n",
            "tv.tv_producer 0.0 4.0\n",
            "medicine.muscle 0.0 4.0\n",
            "baseball.baseball_team 0.3728813559322034 94.0\n",
            "government.us_president 0.3636363636363636 9.0\n",
            "location.citytown 0.010600706713780918 562.0\n",
            "fictional_universe.fictional_organization 0.0 12.0\n",
            "biology.organism 0.6666666666666665 4.0\n",
            "tv.tv_program 0.9032258064516129 78.0\n",
            "soccer.football_league_season 0.0 11.0\n",
            "sports.boxer 0.0 17.0\n",
            "military.armed_force 0.30769230769230765 10.0\n",
            "location.australian_state 0.0 3.0\n",
            "basketball.basketball_conference 0.09523809523809525 19.0\n",
            "internet.website_owner 0.0 3.0\n",
            "medicine.drug 0.0 1.0\n",
            "award.award_discipline 0.0 5.0\n",
            "location.in_district 0.0 1.0\n",
            "business.consumer_product 0.0 2.0\n",
            "broadcast.radio_format 0.6666666666666666 2.0\n",
            "baseball.baseball_position 0.9249999999999999 43.0\n",
            "book.periodical_publisher 0.0 2.0\n",
            "government.government_agency 0.0 3.0\n",
            "sports.cyclist 0.0 39.0\n",
            "time.event 0.9558481797056545 1304.0\n",
            "automotive.model 0.909090909090909 23.0\n",
            "boats.ship_type 0.8 4.0\n",
            "finance.currency 0.8750000000000001 9.0\n",
            "government.legislative_session 0.9333333333333333 29.0\n",
            "american_football.football_player 0.048192771084337345 81.0\n",
            "royalty.chivalric_order_member 0.0 12.0\n",
            "law.invention 0.0 4.0\n",
            "martial_arts.martial_artist 0.0 21.0\n",
            "film.film_character 0.0 5.0\n",
            "sports.sports_facility 0.0 137.0\n",
            "music.group_member 0.0 50.0\n",
            "location.region 0.0 3.0\n",
            "astronomy.orbital_relationship 0.782608695652174 14.0\n",
            "basketball.basketball_player 0.0 59.0\n",
            "cvg.computer_videogame 0.9696969696969697 17.0\n",
            "law.legal_case 0.0 1.0\n",
            "language.human_language 0.9538461538461539 32.0\n",
            "tv.tv_character 0.0 19.0\n",
            "education.educational_degree 1.0 2.0\n",
            "aviation.aircraft_model 0.9473684210526316 9.0\n",
            "business.customer 0.0 3.0\n",
            "geography.mountain 0.0 7.0\n",
            "location.us_county 0.23255813953488372 37.0\n",
            "music.album 0.8596491228070176 57.0\n",
            "music.composer 0.0 38.0\n",
            "computer.operating_system 0.6666666666666666 6.0\n",
            "religion.religion 0.9473684210526316 10.0\n",
            "organization.membership_organization 0.0 17.0\n",
            "sports.sport 0.3535911602209945 149.0\n",
            "location.uk_statistical_location 0.0 12.0\n",
            "location.in_state 0.0 5.0\n",
            "film.film_distributor 0.0 15.0\n",
            "basketball.basketball_coach 0.0 15.0\n",
            "medicine.medical_treatment 0.0 3.0\n",
            "education.fraternity_sorority 0.4 4.0\n",
            "metropolitan_transit.transit_stop 0.0 21.0\n",
            "chemistry.chemical_compound 0.5714285714285714 7.0\n",
            "sports.sports_position 0.8328445747800587 199.0\n",
            "music.genre 0.8333333333333333 7.0\n",
            "award.hall_of_fame_inductee 0.0 7.0\n",
            "sports.sports_award_type 0.0 2.0\n",
            "exhibitions.exhibition_sponsor 0.0 3.0\n",
            "film.film_festival_focus 0.0 3.0\n",
            "film.production_company 0.0 25.0\n",
            "location.jp_prefecture 0.2857142857142857 18.0\n",
            "education.field_of_study 0.47619047619047616 15.0\n",
            "award.recurring_competition 0.0 3.0\n",
            "government.election_campaign 0.0 4.0\n",
            "sports.sports_award_winner 0.0 4.0\n",
            "astronomy.astronomical_discovery 0.25 14.0\n",
            "music.performance_role 0.8571428571428571 4.0\n",
            "soccer.football_league 0.0 110.0\n",
            "book.author 0.03636363636363636 54.0\n",
            "film.producer 0.0 25.0\n",
            "royalty.noble_title 0.6666666666666666 2.0\n",
            "biology.animal 0.0 1.0\n",
            "american_football.football_team 0.4761904761904762 44.0\n",
            "baseball.baseball_player 0.0 109.0\n"
          ]
        }
      ],
      "source": [
        "for t,i in type_vocab.items():\n",
        "    print(t, per_type_f1[4][i],per_type_instance_num[i])"
      ]
    },
    {
      "cell_type": "code",
      "execution_count": null,
      "metadata": {
        "id": "IxEoKqAiTd8W",
        "outputId": "55a43be6-e057-4b69-d6c3-a4de785f123b",
        "scrolled": true,
        "colab": {
          "base_uri": "https://localhost:8080/"
        }
      },
      "outputs": [
        {
          "output_type": "execute_result",
          "data": {
            "text/plain": [
              "['royalty.noble_person',\n",
              " 'business.business_operation',\n",
              " 'protected_sites.listed_site',\n",
              " 'music.writer',\n",
              " 'people.ethnicity',\n",
              " 'government.government_office_or_title',\n",
              " 'organization.non_profit_organization',\n",
              " 'business.brand',\n",
              " 'tennis.tennis_tournament',\n",
              " 'cvg.cvg_genre',\n",
              " 'ice_hockey.hockey_position',\n",
              " 'sports.sports_team',\n",
              " 'computer.computer',\n",
              " 'metropolitan_transit.transit_line',\n",
              " 'award.award_category',\n",
              " 'american_football.football_conference',\n",
              " 'sports.professional_sports_team',\n",
              " 'soccer.football_world_cup',\n",
              " 'tv.tv_actor',\n",
              " 'business.industry',\n",
              " 'music.composition',\n",
              " 'people.person',\n",
              " 'broadcast.tv_channel',\n",
              " 'cricket.cricket_player',\n",
              " 'internet.website',\n",
              " 'tennis.tennis_player',\n",
              " 'music.media_format',\n",
              " 'tv.tv_personality',\n",
              " 'film.actor',\n",
              " 'film.film_genre',\n",
              " 'cvg.cvg_developer',\n",
              " 'business.job_title',\n",
              " 'chess.chess_player',\n",
              " 'tv.tv_writer',\n",
              " 'broadcast.broadcast',\n",
              " 'soccer.fifa',\n",
              " 'cvg.cvg_publisher',\n",
              " 'film.writer',\n",
              " 'medicine.anatomical_structure',\n",
              " 'astronomy.celestial_object',\n",
              " 'cricket.cricket_team',\n",
              " 'sports.golfer',\n",
              " 'book.periodical_subject',\n",
              " 'military.rank',\n",
              " 'spaceflight.astronaut',\n",
              " 'medicine.disease',\n",
              " 'location.province',\n",
              " 'location.location',\n",
              " 'amusement_parks.ride',\n",
              " 'government.general_election',\n",
              " 'music.musical_scale',\n",
              " 'music.lyricist',\n",
              " 'music.artist',\n",
              " 'location.capital_of_administrative_division',\n",
              " 'theater.play',\n",
              " 'meteorology.tropical_cyclone',\n",
              " 'aviation.airport',\n",
              " 'basketball.basketball_team',\n",
              " 'education.school',\n",
              " 'soccer.football_position',\n",
              " 'soccer.football_team',\n",
              " 'cvg.cvg_platform',\n",
              " 'religion.religious_leader',\n",
              " 'business.defunct_company',\n",
              " 'astronomy.asteroid',\n",
              " 'sports.pro_athlete',\n",
              " 'sports.school_sports_team',\n",
              " 'baseball.baseball_league',\n",
              " 'architecture.structure',\n",
              " 'sports.tournament_event_competition',\n",
              " 'sports.multi_event_tournament',\n",
              " 'music.record_label',\n",
              " 'travel.accommodation',\n",
              " 'cricket.cricket_stadium',\n",
              " 'ice_hockey.hockey_team',\n",
              " 'award.competition',\n",
              " 'business.consumer_company',\n",
              " 'people.family_member',\n",
              " 'biology.organism_classification',\n",
              " 'business.product_category',\n",
              " 'book.magazine',\n",
              " 'royalty.kingdom',\n",
              " 'fictional_universe.fictional_character',\n",
              " 'education.athletics_brand',\n",
              " 'military.military_unit',\n",
              " 'american_football.football_coach',\n",
              " 'broadcast.tv_station',\n",
              " 'government.governmental_body',\n",
              " 'boats.ship',\n",
              " 'visual_art.visual_artist',\n",
              " 'meteorology.tropical_cyclone_season',\n",
              " 'sports.sports_league',\n",
              " 'sports.sports_league_season',\n",
              " 'soccer.football_team_manager',\n",
              " 'boats.ship_class',\n",
              " 'military.military_post',\n",
              " 'education.educational_institution',\n",
              " 'sports.sports_championship',\n",
              " 'film.film',\n",
              " 'award.award_presenting_organization',\n",
              " 'soccer.football_award',\n",
              " 'broadcast.artist',\n",
              " 'computer.software',\n",
              " 'broadcast.genre',\n",
              " 'education.university',\n",
              " 'time.recurring_event',\n",
              " 'book.periodical',\n",
              " 'celebrities.celebrity',\n",
              " 'location.country',\n",
              " 'soccer.football_player',\n",
              " 'book.book',\n",
              " 'geography.river',\n",
              " 'medicine.drug_ingredient',\n",
              " 'transportation.road',\n",
              " 'olympics.olympic_games',\n",
              " 'military.military_conflict',\n",
              " 'chemistry.chemical_element',\n",
              " 'location.us_state',\n",
              " 'location.hud_county_place',\n",
              " 'award.award_ceremony',\n",
              " 'tv.tv_program_creator',\n",
              " 'architecture.venue',\n",
              " 'film.music_contributor',\n",
              " 'architecture.architectural_structure_owner',\n",
              " 'basketball.basketball_position',\n",
              " 'astronomy.constellation',\n",
              " 'law.court',\n",
              " 'rail.locomotive_class',\n",
              " 'book.newspaper',\n",
              " 'film.director',\n",
              " 'broadcast.radio_station',\n",
              " 'tv.tv_series_season',\n",
              " 'architecture.building',\n",
              " 'olympics.olympic_event_competition',\n",
              " 'music.instrument',\n",
              " 'organization.organization',\n",
              " 'computer.software_license',\n",
              " 'government.election',\n",
              " 'award.award',\n",
              " 'tv.tv_director',\n",
              " 'metropolitan_transit.transit_system',\n",
              " 'tennis.tennis_tournament_champion',\n",
              " 'cricket.cricket_bowler',\n",
              " 'aviation.airline',\n",
              " 'tv.tv_network',\n",
              " 'music.musical_group',\n",
              " 'government.politician',\n",
              " 'music.music_video_director',\n",
              " 'media_common.media_genre',\n",
              " 'comic_books.comic_book_character',\n",
              " 'automotive.company',\n",
              " 'location.administrative_division',\n",
              " 'government.political_party',\n",
              " 'location.australian_local_government_area',\n",
              " 'theater.theater_actor',\n",
              " 'music.producer',\n",
              " 'ice_hockey.hockey_player',\n",
              " 'royalty.monarch',\n",
              " 'sports.sports_championship_event',\n",
              " 'sports.sports_league_draft',\n",
              " 'food.food',\n",
              " 'military.military_person',\n",
              " 'geography.island',\n",
              " 'location.uk_constituent_country',\n",
              " 'tv.tv_series_episode',\n",
              " 'government.u_s_congressperson',\n",
              " 'amusement_parks.park',\n",
              " 'book.written_work',\n",
              " 'geography.body_of_water',\n",
              " 'tv.tv_genre',\n",
              " 'aviation.aircraft_owner',\n",
              " 'interests.collection_category',\n",
              " 'astronomy.star_system_body',\n",
              " 'tv.tv_producer',\n",
              " 'medicine.muscle',\n",
              " 'baseball.baseball_team',\n",
              " 'government.us_president',\n",
              " 'location.citytown',\n",
              " 'fictional_universe.fictional_organization',\n",
              " 'biology.organism',\n",
              " 'tv.tv_program',\n",
              " 'soccer.football_league_season',\n",
              " 'sports.boxer',\n",
              " 'military.armed_force',\n",
              " 'location.australian_state',\n",
              " 'basketball.basketball_conference',\n",
              " 'internet.website_owner',\n",
              " 'medicine.drug',\n",
              " 'award.award_discipline',\n",
              " 'location.in_district',\n",
              " 'business.consumer_product',\n",
              " 'broadcast.radio_format',\n",
              " 'baseball.baseball_position',\n",
              " 'book.periodical_publisher',\n",
              " 'government.government_agency',\n",
              " 'sports.cyclist',\n",
              " 'time.event',\n",
              " 'automotive.model',\n",
              " 'boats.ship_type',\n",
              " 'finance.currency',\n",
              " 'government.legislative_session',\n",
              " 'american_football.football_player',\n",
              " 'royalty.chivalric_order_member',\n",
              " 'law.invention',\n",
              " 'martial_arts.martial_artist',\n",
              " 'film.film_character',\n",
              " 'sports.sports_facility',\n",
              " 'music.group_member',\n",
              " 'location.region',\n",
              " 'astronomy.orbital_relationship',\n",
              " 'basketball.basketball_player',\n",
              " 'cvg.computer_videogame',\n",
              " 'law.legal_case',\n",
              " 'language.human_language',\n",
              " 'tv.tv_character',\n",
              " 'education.educational_degree',\n",
              " 'aviation.aircraft_model',\n",
              " 'business.customer',\n",
              " 'geography.mountain',\n",
              " 'location.us_county',\n",
              " 'music.album',\n",
              " 'music.composer',\n",
              " 'computer.operating_system',\n",
              " 'religion.religion',\n",
              " 'organization.membership_organization',\n",
              " 'sports.sport',\n",
              " 'location.uk_statistical_location',\n",
              " 'location.in_state',\n",
              " 'film.film_distributor',\n",
              " 'basketball.basketball_coach',\n",
              " 'medicine.medical_treatment',\n",
              " 'education.fraternity_sorority',\n",
              " 'metropolitan_transit.transit_stop',\n",
              " 'chemistry.chemical_compound',\n",
              " 'sports.sports_position',\n",
              " 'music.genre',\n",
              " 'award.hall_of_fame_inductee',\n",
              " 'sports.sports_award_type',\n",
              " 'exhibitions.exhibition_sponsor',\n",
              " 'film.film_festival_focus',\n",
              " 'film.production_company',\n",
              " 'location.jp_prefecture',\n",
              " 'education.field_of_study',\n",
              " 'award.recurring_competition',\n",
              " 'government.election_campaign',\n",
              " 'sports.sports_award_winner',\n",
              " 'astronomy.astronomical_discovery',\n",
              " 'music.performance_role',\n",
              " 'soccer.football_league',\n",
              " 'book.author',\n",
              " 'film.producer',\n",
              " 'royalty.noble_title',\n",
              " 'biology.animal',\n",
              " 'american_football.football_team',\n",
              " 'baseball.baseball_player']"
            ]
          },
          "metadata": {},
          "execution_count": 71
        }
      ],
      "source": [
        "non_wiki_types"
      ]
    },
    {
      "cell_type": "code",
      "execution_count": null,
      "metadata": {
        "id": "ATFuqyOFTd8W",
        "outputId": "a372a6b8-8f5c-47ea-c1fa-305e55b753d0",
        "colab": {
          "base_uri": "https://localhost:8080/"
        }
      },
      "outputs": [
        {
          "output_type": "execute_result",
          "data": {
            "text/plain": [
              "{'american_football.football_coach': 85,\n",
              " 'american_football.football_conference': 15,\n",
              " 'american_football.football_player': 201,\n",
              " 'american_football.football_team': 253,\n",
              " 'amusement_parks.park': 166,\n",
              " 'amusement_parks.ride': 48,\n",
              " 'architecture.architectural_structure_owner': 123,\n",
              " 'architecture.building': 132,\n",
              " 'architecture.structure': 68,\n",
              " 'architecture.venue': 121,\n",
              " 'astronomy.asteroid': 64,\n",
              " 'astronomy.astronomical_discovery': 246,\n",
              " 'astronomy.celestial_object': 39,\n",
              " 'astronomy.constellation': 125,\n",
              " 'astronomy.orbital_relationship': 209,\n",
              " 'astronomy.star_system_body': 172,\n",
              " 'automotive.company': 150,\n",
              " 'automotive.model': 197,\n",
              " 'aviation.aircraft_model': 216,\n",
              " 'aviation.aircraft_owner': 170,\n",
              " 'aviation.airline': 143,\n",
              " 'aviation.airport': 56,\n",
              " 'award.award': 138,\n",
              " 'award.award_category': 14,\n",
              " 'award.award_ceremony': 119,\n",
              " 'award.award_discipline': 188,\n",
              " 'award.award_presenting_organization': 99,\n",
              " 'award.competition': 75,\n",
              " 'award.hall_of_fame_inductee': 236,\n",
              " 'award.recurring_competition': 243,\n",
              " 'baseball.baseball_league': 67,\n",
              " 'baseball.baseball_player': 254,\n",
              " 'baseball.baseball_position': 192,\n",
              " 'baseball.baseball_team': 175,\n",
              " 'basketball.basketball_coach': 229,\n",
              " 'basketball.basketball_conference': 185,\n",
              " 'basketball.basketball_player': 210,\n",
              " 'basketball.basketball_position': 124,\n",
              " 'basketball.basketball_team': 57,\n",
              " 'biology.animal': 252,\n",
              " 'biology.organism': 179,\n",
              " 'biology.organism_classification': 78,\n",
              " 'boats.ship': 88,\n",
              " 'boats.ship_class': 94,\n",
              " 'boats.ship_type': 198,\n",
              " 'book.author': 249,\n",
              " 'book.book': 110,\n",
              " 'book.magazine': 80,\n",
              " 'book.newspaper': 128,\n",
              " 'book.periodical': 106,\n",
              " 'book.periodical_publisher': 193,\n",
              " 'book.periodical_subject': 42,\n",
              " 'book.written_work': 167,\n",
              " 'broadcast.artist': 101,\n",
              " 'broadcast.broadcast': 34,\n",
              " 'broadcast.genre': 103,\n",
              " 'broadcast.radio_format': 191,\n",
              " 'broadcast.radio_station': 130,\n",
              " 'broadcast.tv_channel': 22,\n",
              " 'broadcast.tv_station': 86,\n",
              " 'business.brand': 7,\n",
              " 'business.business_operation': 1,\n",
              " 'business.consumer_company': 76,\n",
              " 'business.consumer_product': 190,\n",
              " 'business.customer': 217,\n",
              " 'business.defunct_company': 63,\n",
              " 'business.industry': 19,\n",
              " 'business.job_title': 31,\n",
              " 'business.product_category': 79,\n",
              " 'celebrities.celebrity': 107,\n",
              " 'chemistry.chemical_compound': 233,\n",
              " 'chemistry.chemical_element': 116,\n",
              " 'chess.chess_player': 32,\n",
              " 'comic_books.comic_book_character': 149,\n",
              " 'computer.computer': 12,\n",
              " 'computer.operating_system': 222,\n",
              " 'computer.software': 102,\n",
              " 'computer.software_license': 136,\n",
              " 'cricket.cricket_bowler': 142,\n",
              " 'cricket.cricket_player': 23,\n",
              " 'cricket.cricket_stadium': 73,\n",
              " 'cricket.cricket_team': 40,\n",
              " 'cvg.computer_videogame': 211,\n",
              " 'cvg.cvg_developer': 30,\n",
              " 'cvg.cvg_genre': 9,\n",
              " 'cvg.cvg_platform': 61,\n",
              " 'cvg.cvg_publisher': 36,\n",
              " 'education.athletics_brand': 83,\n",
              " 'education.educational_degree': 215,\n",
              " 'education.educational_institution': 96,\n",
              " 'education.field_of_study': 242,\n",
              " 'education.fraternity_sorority': 231,\n",
              " 'education.school': 58,\n",
              " 'education.university': 104,\n",
              " 'exhibitions.exhibition_sponsor': 238,\n",
              " 'fictional_universe.fictional_character': 82,\n",
              " 'fictional_universe.fictional_organization': 178,\n",
              " 'film.actor': 28,\n",
              " 'film.director': 129,\n",
              " 'film.film': 98,\n",
              " 'film.film_character': 205,\n",
              " 'film.film_distributor': 228,\n",
              " 'film.film_festival_focus': 239,\n",
              " 'film.film_genre': 29,\n",
              " 'film.music_contributor': 122,\n",
              " 'film.producer': 250,\n",
              " 'film.production_company': 240,\n",
              " 'film.writer': 37,\n",
              " 'finance.currency': 199,\n",
              " 'food.food': 160,\n",
              " 'geography.body_of_water': 168,\n",
              " 'geography.island': 162,\n",
              " 'geography.mountain': 218,\n",
              " 'geography.river': 111,\n",
              " 'government.election': 137,\n",
              " 'government.election_campaign': 244,\n",
              " 'government.general_election': 49,\n",
              " 'government.government_agency': 194,\n",
              " 'government.government_office_or_title': 5,\n",
              " 'government.governmental_body': 87,\n",
              " 'government.legislative_session': 200,\n",
              " 'government.political_party': 152,\n",
              " 'government.politician': 146,\n",
              " 'government.u_s_congressperson': 165,\n",
              " 'government.us_president': 176,\n",
              " 'ice_hockey.hockey_player': 156,\n",
              " 'ice_hockey.hockey_position': 10,\n",
              " 'ice_hockey.hockey_team': 74,\n",
              " 'interests.collection_category': 171,\n",
              " 'internet.website': 24,\n",
              " 'internet.website_owner': 186,\n",
              " 'language.human_language': 213,\n",
              " 'law.court': 126,\n",
              " 'law.invention': 203,\n",
              " 'law.legal_case': 212,\n",
              " 'location.administrative_division': 151,\n",
              " 'location.australian_local_government_area': 153,\n",
              " 'location.australian_state': 184,\n",
              " 'location.capital_of_administrative_division': 53,\n",
              " 'location.citytown': 177,\n",
              " 'location.country': 108,\n",
              " 'location.hud_county_place': 118,\n",
              " 'location.in_district': 189,\n",
              " 'location.in_state': 227,\n",
              " 'location.jp_prefecture': 241,\n",
              " 'location.location': 47,\n",
              " 'location.province': 46,\n",
              " 'location.region': 208,\n",
              " 'location.uk_constituent_country': 163,\n",
              " 'location.uk_statistical_location': 226,\n",
              " 'location.us_county': 219,\n",
              " 'location.us_state': 117,\n",
              " 'martial_arts.martial_artist': 204,\n",
              " 'media_common.media_genre': 148,\n",
              " 'medicine.anatomical_structure': 38,\n",
              " 'medicine.disease': 45,\n",
              " 'medicine.drug': 187,\n",
              " 'medicine.drug_ingredient': 112,\n",
              " 'medicine.medical_treatment': 230,\n",
              " 'medicine.muscle': 174,\n",
              " 'meteorology.tropical_cyclone': 55,\n",
              " 'meteorology.tropical_cyclone_season': 90,\n",
              " 'metropolitan_transit.transit_line': 13,\n",
              " 'metropolitan_transit.transit_stop': 232,\n",
              " 'metropolitan_transit.transit_system': 140,\n",
              " 'military.armed_force': 183,\n",
              " 'military.military_conflict': 115,\n",
              " 'military.military_person': 161,\n",
              " 'military.military_post': 95,\n",
              " 'military.military_unit': 84,\n",
              " 'military.rank': 43,\n",
              " 'music.album': 220,\n",
              " 'music.artist': 52,\n",
              " 'music.composer': 221,\n",
              " 'music.composition': 20,\n",
              " 'music.genre': 235,\n",
              " 'music.group_member': 207,\n",
              " 'music.instrument': 134,\n",
              " 'music.lyricist': 51,\n",
              " 'music.media_format': 26,\n",
              " 'music.music_video_director': 147,\n",
              " 'music.musical_group': 145,\n",
              " 'music.musical_scale': 50,\n",
              " 'music.performance_role': 247,\n",
              " 'music.producer': 155,\n",
              " 'music.record_label': 71,\n",
              " 'music.writer': 3,\n",
              " 'olympics.olympic_event_competition': 133,\n",
              " 'olympics.olympic_games': 114,\n",
              " 'organization.membership_organization': 224,\n",
              " 'organization.non_profit_organization': 6,\n",
              " 'organization.organization': 135,\n",
              " 'people.ethnicity': 4,\n",
              " 'people.family_member': 77,\n",
              " 'people.person': 21,\n",
              " 'protected_sites.listed_site': 2,\n",
              " 'rail.locomotive_class': 127,\n",
              " 'religion.religion': 223,\n",
              " 'religion.religious_leader': 62,\n",
              " 'royalty.chivalric_order_member': 202,\n",
              " 'royalty.kingdom': 81,\n",
              " 'royalty.monarch': 157,\n",
              " 'royalty.noble_person': 0,\n",
              " 'royalty.noble_title': 251,\n",
              " 'soccer.fifa': 35,\n",
              " 'soccer.football_award': 100,\n",
              " 'soccer.football_league': 248,\n",
              " 'soccer.football_league_season': 181,\n",
              " 'soccer.football_player': 109,\n",
              " 'soccer.football_position': 59,\n",
              " 'soccer.football_team': 60,\n",
              " 'soccer.football_team_manager': 93,\n",
              " 'soccer.football_world_cup': 17,\n",
              " 'spaceflight.astronaut': 44,\n",
              " 'sports.boxer': 182,\n",
              " 'sports.cyclist': 195,\n",
              " 'sports.golfer': 41,\n",
              " 'sports.multi_event_tournament': 70,\n",
              " 'sports.pro_athlete': 65,\n",
              " 'sports.professional_sports_team': 16,\n",
              " 'sports.school_sports_team': 66,\n",
              " 'sports.sport': 225,\n",
              " 'sports.sports_award_type': 237,\n",
              " 'sports.sports_award_winner': 245,\n",
              " 'sports.sports_championship': 97,\n",
              " 'sports.sports_championship_event': 158,\n",
              " 'sports.sports_facility': 206,\n",
              " 'sports.sports_league': 91,\n",
              " 'sports.sports_league_draft': 159,\n",
              " 'sports.sports_league_season': 92,\n",
              " 'sports.sports_position': 234,\n",
              " 'sports.sports_team': 11,\n",
              " 'sports.tournament_event_competition': 69,\n",
              " 'tennis.tennis_player': 25,\n",
              " 'tennis.tennis_tournament': 8,\n",
              " 'tennis.tennis_tournament_champion': 141,\n",
              " 'theater.play': 54,\n",
              " 'theater.theater_actor': 154,\n",
              " 'time.event': 196,\n",
              " 'time.recurring_event': 105,\n",
              " 'transportation.road': 113,\n",
              " 'travel.accommodation': 72,\n",
              " 'tv.tv_actor': 18,\n",
              " 'tv.tv_character': 214,\n",
              " 'tv.tv_director': 139,\n",
              " 'tv.tv_genre': 169,\n",
              " 'tv.tv_network': 144,\n",
              " 'tv.tv_personality': 27,\n",
              " 'tv.tv_producer': 173,\n",
              " 'tv.tv_program': 180,\n",
              " 'tv.tv_program_creator': 120,\n",
              " 'tv.tv_series_episode': 164,\n",
              " 'tv.tv_series_season': 131,\n",
              " 'tv.tv_writer': 33,\n",
              " 'visual_art.visual_artist': 89}"
            ]
          },
          "metadata": {},
          "execution_count": 72
        }
      ],
      "source": [
        "type_vocab"
      ]
    },
    {
      "cell_type": "code",
      "execution_count": null,
      "metadata": {
        "id": "8Lid0aeCTd8X"
      },
      "outputs": [],
      "source": [
        "total_corr = 0\n",
        "total_valid = 0\n",
        "errors = []\n",
        "for table_id, result in per_table_result.items():\n",
        "    prediction_scores, label_mask, label = result\n",
        "    prediction_scores = torch.stack(prediction_scores, 0).mean(0)\n",
        "    prediction_scores[:,15] = torch.where(prediction_scores[:,15]>prediction_scores[:,27],prediction_scores[:,15],prediction_scores[:,27])\n",
        "    #prediction_scores += wiki_type_mask[None, :]\n",
        "    pred_acc = ((prediction_scores==prediction_scores.max(-1)[0][:,None])*label).sum(-1)\n",
        "    total_valid += label_mask.sum().item()\n",
        "    total_corr += pred_acc.sum().item()\n",
        "    if pred_acc.sum().item()!=label_mask.sum().item():\n",
        "        errors.append(table_id)"
      ]
    },
    {
      "cell_type": "code",
      "execution_count": null,
      "metadata": {
        "id": "Mhh4RVuRTd8X",
        "outputId": "f43262bf-a8eb-45a6-ef2b-78dce9f5ec5c"
      },
      "outputs": [
        {
          "data": {
            "text/plain": [
              "121.0"
            ]
          },
          "execution_count": 469,
          "metadata": {},
          "output_type": "execute_result"
        }
      ],
      "source": [
        "total_corr"
      ]
    },
    {
      "cell_type": "code",
      "execution_count": null,
      "metadata": {
        "id": "u1Pz5Cl-Td8X",
        "outputId": "ea6fdb89-da47-4c49-df72-ec28ad1087ed"
      },
      "outputs": [
        {
          "data": {
            "text/plain": [
              "185.0"
            ]
          },
          "execution_count": 470,
          "metadata": {},
          "output_type": "execute_result"
        }
      ],
      "source": [
        "total_valid"
      ]
    },
    {
      "cell_type": "code",
      "execution_count": null,
      "metadata": {
        "id": "Tx4YLUDnTd8Y",
        "outputId": "5c0d7bd2-ba29-442b-975d-765d5ede08ac"
      },
      "outputs": [
        {
          "data": {
            "text/plain": [
              "['Microsoft_Award#0',\n",
              " 'List_of_Major_League_Baseball_players_from_Europe#8',\n",
              " 'Norwegian_krone#2',\n",
              " '2012%E2%80%9313_Handball-Bundesliga#1',\n",
              " 'Harry_Bosch#0',\n",
              " 'Ruslan_Sydykov#0',\n",
              " 'Laurence_Olivier_Award_for_Most_Promising_Playwright#0',\n",
              " 'List_of_Capsicum_cultivars#1',\n",
              " 'List_of_newspapers_in_Norway#0',\n",
              " 'Shekhar_Kapur#Future_projects#1',\n",
              " 'Listed_buildings_in_Ince_Blundell#1',\n",
              " 'List_of_mammals_of_California#0',\n",
              " 'List_of_mammals_described_in_the_21st_century#1',\n",
              " 'Chronological_list_of_saints_and_blesseds_in_the_16th_century#0',\n",
              " 'Association_of_Alternative_Newsmedia#0',\n",
              " '1991%E2%80%9392_Eerste_Divisie#1',\n",
              " 'Mayor_of_St._Louis#1',\n",
              " '2010%E2%80%9311_Belgian_Pro_League#6',\n",
              " 'Aidan_Gillen#4',\n",
              " 'Air_transportation_in_the_United_States#0',\n",
              " 'Languages_of_the_United_States#1',\n",
              " 'Kono_Mystery_ga_Sugoi!#16',\n",
              " '1951_Census_of_India#0',\n",
              " 'List_of_lakes_of_Kazakhstan#0',\n",
              " 'Languages_of_South_Asia#2',\n",
              " 'List_of_Russian-language_playwrights#9',\n",
              " 'Brossard#0',\n",
              " 'List_of_mammals_of_Pennsylvania#11',\n",
              " 'Newspaper_endorsements_in_the_United_States_presidential_election,_2012#9',\n",
              " 'List_of_historic_buildings_in_Shanghai#0',\n",
              " 'List_of_DreamWorks_Pictures_films#2',\n",
              " 'Princesa_Sujei#0',\n",
              " 'Wall_of_Soundz#0',\n",
              " 'Municipalities_of_Morelos#0',\n",
              " 'List_of_mammals_of_Pennsylvania#0',\n",
              " 'Chinese_Super_League#16',\n",
              " 'Cerebro_Negro#0',\n",
              " 'Mayor_of_St._Louis#0',\n",
              " 'Liberal_Party_of_Canada_candidates,_2008_Canadian_federal_election#Winnipeg_Centre#10',\n",
              " 'Kentucky_Educational_Television#1',\n",
              " 'Euro#1',\n",
              " 'Bond_girl#List_of_Bond_girls#0',\n",
              " 'O._Henry_Award#0',\n",
              " 'SCW_World_Heavyweight_Championship#0',\n",
              " 'Wikipedia_talk:WikiProject_Transport_in_Scotland#0',\n",
              " 'Mayor_of_Fayetteville,_North_Carolina#0',\n",
              " 'List_of_ornithology_journals#0',\n",
              " 'County_administrative_boards_of_Sweden#0',\n",
              " 'Nyaung-u_Sawrahan#0',\n",
              " 'Demographics_of_Bihar#3',\n",
              " 'List_of_mammals_of_California#1',\n",
              " 'J._T._Edson#0',\n",
              " 'Dr._Dre#2000.E2.80.932007:_Third_studio_album#3',\n",
              " 'United_States_presidential_election_in_Washington_(state),_2004#0',\n",
              " '2000_Torneo_Descentralizado#2',\n",
              " 'CJK_Unified_Ideographs#5',\n",
              " 'ECW_Pennsylvania_Championship#0',\n",
              " 'Raghavendra_Rajkumar#0',\n",
              " 'German_euro_coins#11',\n",
              " 'A_roads_in_Zone_4_of_the_Great_Britain_numbering_scheme#Four-digit_roads_.2841xx.29#0',\n",
              " '2002%E2%80%9303_UEFA_Champions_League#4',\n",
              " 'Star_Wars#Setting#4',\n",
              " 'Dead_Sea_Scrolls#10']"
            ]
          },
          "execution_count": 471,
          "metadata": {},
          "output_type": "execute_result"
        }
      ],
      "source": [
        "errors"
      ]
    },
    {
      "cell_type": "code",
      "execution_count": null,
      "metadata": {
        "id": "NPqQc486Td8Y",
        "outputId": "8dc8cbdd-71cb-4318-e088-ed479df6c933"
      },
      "outputs": [
        {
          "name": "stdout",
          "output_type": "stream",
          "text": [
            "Microsoft_Award#0\n"
          ]
        },
        {
          "data": {
            "text/plain": [
              "'Scientist'"
            ]
          },
          "metadata": {},
          "output_type": "display_data"
        },
        {
          "data": {
            "text/plain": [
              "[['Film', 3.7781550884246826],\n",
              " ['VideoGame', 2.9057600498199463],\n",
              " ['MovieDirector', 2.8163394927978516]]"
            ]
          },
          "metadata": {},
          "output_type": "display_data"
        },
        {
          "name": "stdout",
          "output_type": "stream",
          "text": [
            "List_of_Major_League_Baseball_players_from_Europe#8\n"
          ]
        },
        {
          "data": {
            "text/plain": [
              "'BaseballPlayer'"
            ]
          },
          "metadata": {},
          "output_type": "display_data"
        },
        {
          "data": {
            "text/plain": [
              "[['Mountain', 6.61229944229126],\n",
              " ['Bird', 3.8396008014678955],\n",
              " ['BaseballPlayer', 3.8177456855773926]]"
            ]
          },
          "metadata": {},
          "output_type": "display_data"
        },
        {
          "name": "stdout",
          "output_type": "stream",
          "text": [
            "Norwegian_krone#2\n"
          ]
        },
        {
          "data": {
            "text/plain": [
              "'Currency'"
            ]
          },
          "metadata": {},
          "output_type": "display_data"
        },
        {
          "data": {
            "text/plain": [
              "[['SportsTeam', 7.607003688812256],\n",
              " ['Mayor', 4.215602397918701],\n",
              " ['Monarch', 2.928992986679077]]"
            ]
          },
          "metadata": {},
          "output_type": "display_data"
        },
        {
          "name": "stdout",
          "output_type": "stream",
          "text": [
            "2012%E2%80%9313_Handball-Bundesliga#1\n"
          ]
        },
        {
          "data": {
            "text/plain": [
              "'SportsTeam'"
            ]
          },
          "metadata": {},
          "output_type": "display_data"
        },
        {
          "data": {
            "text/plain": [
              "[['Mountain', 7.4775004386901855],\n",
              " ['Lake', 4.26542329788208],\n",
              " ['Mayor', 4.180629730224609]]"
            ]
          },
          "metadata": {},
          "output_type": "display_data"
        },
        {
          "name": "stdout",
          "output_type": "stream",
          "text": [
            "Harry_Bosch#0\n"
          ]
        },
        {
          "data": {
            "text/plain": [
              "'Book'"
            ]
          },
          "metadata": {},
          "output_type": "display_data"
        },
        {
          "data": {
            "text/plain": [
              "[['VideoGame', 7.716335773468018],\n",
              " ['Film', 4.645701885223389],\n",
              " ['Bird', 2.962435722351074]]"
            ]
          },
          "metadata": {},
          "output_type": "display_data"
        },
        {
          "name": "stdout",
          "output_type": "stream",
          "text": [
            "Ruslan_Sydykov#0\n"
          ]
        },
        {
          "data": {
            "text/plain": [
              "'City'"
            ]
          },
          "metadata": {},
          "output_type": "display_data"
        },
        {
          "data": {
            "text/plain": [
              "[['Country', 5.686351299285889],\n",
              " ['VideoGame', 3.987595796585083],\n",
              " ['Continent', 3.3751518726348877]]"
            ]
          },
          "metadata": {},
          "output_type": "display_data"
        },
        {
          "name": "stdout",
          "output_type": "stream",
          "text": [
            "Laurence_Olivier_Award_for_Most_Promising_Playwright#0\n"
          ]
        },
        {
          "data": {
            "text/plain": [
              "'Writer'"
            ]
          },
          "metadata": {},
          "output_type": "display_data"
        },
        {
          "data": {
            "text/plain": [
              "[['Saint', 5.7155351638793945],\n",
              " ['Writer', 5.57828426361084],\n",
              " ['Scientist', 2.96112060546875]]"
            ]
          },
          "metadata": {},
          "output_type": "display_data"
        },
        {
          "name": "stdout",
          "output_type": "stream",
          "text": [
            "List_of_Capsicum_cultivars#1\n"
          ]
        },
        {
          "data": {
            "text/plain": [
              "'Plant'"
            ]
          },
          "metadata": {},
          "output_type": "display_data"
        },
        {
          "data": {
            "text/plain": [
              "[['Bird', 4.321981430053711],\n",
              " ['Plant', 4.040688514709473],\n",
              " ['Film', 3.689326286315918]]"
            ]
          },
          "metadata": {},
          "output_type": "display_data"
        },
        {
          "name": "stdout",
          "output_type": "stream",
          "text": [
            "List_of_newspapers_in_Norway#0\n"
          ]
        },
        {
          "data": {
            "text/plain": [
              "'Newspaper'"
            ]
          },
          "metadata": {},
          "output_type": "display_data"
        },
        {
          "data": {
            "text/plain": [
              "[['Mountain', 6.888261318206787],\n",
              " ['Plant', 4.222156047821045],\n",
              " ['Currency', 2.538255453109741]]"
            ]
          },
          "metadata": {},
          "output_type": "display_data"
        },
        {
          "name": "stdout",
          "output_type": "stream",
          "text": [
            "Shekhar_Kapur#Future_projects#1\n"
          ]
        },
        {
          "data": {
            "text/plain": [
              "'Film'"
            ]
          },
          "metadata": {},
          "output_type": "display_data"
        },
        {
          "data": {
            "text/plain": [
              "[['Monarch', 4.330351829528809],\n",
              " ['Plant', 4.230898380279541],\n",
              " ['Film', 3.6145431995391846]]"
            ]
          },
          "metadata": {},
          "output_type": "display_data"
        },
        {
          "name": "stdout",
          "output_type": "stream",
          "text": [
            "Listed_buildings_in_Ince_Blundell#1\n"
          ]
        },
        {
          "data": {
            "text/plain": [
              "'Building'"
            ]
          },
          "metadata": {},
          "output_type": "display_data"
        },
        {
          "data": {
            "text/plain": [
              "[['Book', 4.435328483581543],\n",
              " ['Bird', 4.381775856018066],\n",
              " ['Building', 4.3231706619262695]]"
            ]
          },
          "metadata": {},
          "output_type": "display_data"
        },
        {
          "name": "stdout",
          "output_type": "stream",
          "text": [
            "List_of_mammals_of_California#0\n"
          ]
        },
        {
          "data": {
            "text/plain": [
              "'Mammal'"
            ]
          },
          "metadata": {},
          "output_type": "display_data"
        },
        {
          "data": {
            "text/plain": [
              "[['Mountain', 6.050888538360596],\n",
              " ['AdministrativeRegion', 4.786045074462891],\n",
              " ['Bird', 4.566344738006592]]"
            ]
          },
          "metadata": {},
          "output_type": "display_data"
        },
        {
          "name": "stdout",
          "output_type": "stream",
          "text": [
            "List_of_mammals_described_in_the_21st_century#1\n"
          ]
        },
        {
          "data": {
            "text/plain": [
              "'Mammal'"
            ]
          },
          "metadata": {},
          "output_type": "display_data"
        },
        {
          "data": {
            "text/plain": [
              "[['Plant', 6.439520835876465],\n",
              " ['Mammal', 5.654949188232422],\n",
              " ['Writer', 3.2793240547180176]]"
            ]
          },
          "metadata": {},
          "output_type": "display_data"
        },
        {
          "name": "stdout",
          "output_type": "stream",
          "text": [
            "Chronological_list_of_saints_and_blesseds_in_the_16th_century#0\n"
          ]
        },
        {
          "data": {
            "text/plain": [
              "'Saint'"
            ]
          },
          "metadata": {},
          "output_type": "display_data"
        },
        {
          "data": {
            "text/plain": [
              "[['Writer', 7.0864691734313965],\n",
              " ['Saint', 6.695380210876465],\n",
              " ['Scientist', 4.806767463684082]]"
            ]
          },
          "metadata": {},
          "output_type": "display_data"
        },
        {
          "name": "stdout",
          "output_type": "stream",
          "text": [
            "Association_of_Alternative_Newsmedia#0\n"
          ]
        },
        {
          "data": {
            "text/plain": [
              "'Newspaper'"
            ]
          },
          "metadata": {},
          "output_type": "display_data"
        },
        {
          "data": {
            "text/plain": [
              "[['City', 7.024073123931885],\n",
              " ['Newspaper', 2.8573598861694336],\n",
              " ['Company', 2.740835666656494]]"
            ]
          },
          "metadata": {},
          "output_type": "display_data"
        },
        {
          "name": "stdout",
          "output_type": "stream",
          "text": [
            "1991%E2%80%9392_Eerste_Divisie#1\n"
          ]
        },
        {
          "data": {
            "text/plain": [
              "'SportsTeam'"
            ]
          },
          "metadata": {},
          "output_type": "display_data"
        },
        {
          "data": {
            "text/plain": [
              "[['AdministrativeRegion', 5.523829460144043],\n",
              " ['Plant', 4.311154365539551],\n",
              " ['Mountain', 3.423631191253662]]"
            ]
          },
          "metadata": {},
          "output_type": "display_data"
        },
        {
          "name": "stdout",
          "output_type": "stream",
          "text": [
            "Mayor_of_St._Louis#1\n"
          ]
        },
        {
          "data": {
            "text/plain": [
              "'Mayor'"
            ]
          },
          "metadata": {},
          "output_type": "display_data"
        },
        {
          "data": {
            "text/plain": [
              "[['Writer', 7.470709800720215],\n",
              " ['Mayor', 7.132476806640625],\n",
              " ['Monarch', 2.7278552055358887]]"
            ]
          },
          "metadata": {},
          "output_type": "display_data"
        },
        {
          "name": "stdout",
          "output_type": "stream",
          "text": [
            "2010%E2%80%9311_Belgian_Pro_League#6\n"
          ]
        },
        {
          "data": {
            "text/plain": [
              "'SportsTeam'"
            ]
          },
          "metadata": {},
          "output_type": "display_data"
        },
        {
          "data": {
            "text/plain": [
              "[['Mountain', 7.99193811416626],\n",
              " ['Lake', 4.894503593444824],\n",
              " ['City', 3.5893659591674805]]"
            ]
          },
          "metadata": {},
          "output_type": "display_data"
        },
        {
          "name": "stdout",
          "output_type": "stream",
          "text": [
            "Aidan_Gillen#4\n"
          ]
        },
        {
          "data": {
            "text/plain": [
              "'VideoGame'"
            ]
          },
          "metadata": {},
          "output_type": "display_data"
        },
        {
          "data": {
            "text/plain": [
              "[['MovieDirector', 4.906012058258057],\n",
              " ['City', 4.306239128112793],\n",
              " ['Film', 4.133734703063965]]"
            ]
          },
          "metadata": {},
          "output_type": "display_data"
        },
        {
          "name": "stdout",
          "output_type": "stream",
          "text": [
            "Air_transportation_in_the_United_States#0\n"
          ]
        },
        {
          "data": {
            "text/plain": [
              "'Airport'"
            ]
          },
          "metadata": {},
          "output_type": "display_data"
        },
        {
          "data": {
            "text/plain": [
              "[['City', 9.726961135864258],\n",
              " ['MovieDirector', 3.8368778228759766],\n",
              " ['AdministrativeRegion', 3.251962900161743]]"
            ]
          },
          "metadata": {},
          "output_type": "display_data"
        },
        {
          "name": "stdout",
          "output_type": "stream",
          "text": [
            "Languages_of_the_United_States#1\n"
          ]
        },
        {
          "data": {
            "text/plain": [
              "'Language'"
            ]
          },
          "metadata": {},
          "output_type": "display_data"
        },
        {
          "data": {
            "text/plain": [
              "[['City', 4.3642802238464355],\n",
              " ['Plant', 4.079023838043213],\n",
              " ['Mayor', 2.6557579040527344]]"
            ]
          },
          "metadata": {},
          "output_type": "display_data"
        },
        {
          "name": "stdout",
          "output_type": "stream",
          "text": [
            "Kono_Mystery_ga_Sugoi!#16\n"
          ]
        },
        {
          "data": {
            "text/plain": [
              "'Writer'"
            ]
          },
          "metadata": {},
          "output_type": "display_data"
        },
        {
          "data": {
            "text/plain": [
              "[['BaseballPlayer', 6.269160270690918],\n",
              " ['Writer', 5.54099178314209],\n",
              " ['Scientist', 2.9800121784210205]]"
            ]
          },
          "metadata": {},
          "output_type": "display_data"
        },
        {
          "name": "stdout",
          "output_type": "stream",
          "text": [
            "1951_Census_of_India#0\n"
          ]
        },
        {
          "data": {
            "text/plain": [
              "'Language'"
            ]
          },
          "metadata": {},
          "output_type": "display_data"
        },
        {
          "data": {
            "text/plain": [
              "[['Country', 6.919342517852783],\n",
              " ['Language', 4.759162425994873],\n",
              " ['City', 2.8428807258605957]]"
            ]
          },
          "metadata": {},
          "output_type": "display_data"
        },
        {
          "name": "stdout",
          "output_type": "stream",
          "text": [
            "List_of_lakes_of_Kazakhstan#0\n"
          ]
        },
        {
          "data": {
            "text/plain": [
              "'Lake'"
            ]
          },
          "metadata": {},
          "output_type": "display_data"
        },
        {
          "data": {
            "text/plain": [
              "[['Mountain', 6.447965621948242],\n",
              " ['Plant', 5.009868144989014],\n",
              " ['Lake', 2.5128979682922363]]"
            ]
          },
          "metadata": {},
          "output_type": "display_data"
        },
        {
          "name": "stdout",
          "output_type": "stream",
          "text": [
            "Languages_of_South_Asia#2\n"
          ]
        },
        {
          "data": {
            "text/plain": [
              "'Language'"
            ]
          },
          "metadata": {},
          "output_type": "display_data"
        },
        {
          "data": {
            "text/plain": [
              "[['Country', 7.349468231201172],\n",
              " ['Plant', 2.8698718547821045],\n",
              " ['Currency', 2.6472485065460205]]"
            ]
          },
          "metadata": {},
          "output_type": "display_data"
        },
        {
          "name": "stdout",
          "output_type": "stream",
          "text": [
            "List_of_Russian-language_playwrights#9\n"
          ]
        },
        {
          "data": {
            "text/plain": [
              "'Writer'"
            ]
          },
          "metadata": {},
          "output_type": "display_data"
        },
        {
          "data": {
            "text/plain": [
              "[['Mammal', 4.1929240226745605],\n",
              " ['Scientist', 2.9867379665374756],\n",
              " ['Lake', 2.9690163135528564]]"
            ]
          },
          "metadata": {},
          "output_type": "display_data"
        },
        {
          "name": "stdout",
          "output_type": "stream",
          "text": [
            "Brossard#0\n"
          ]
        },
        {
          "data": {
            "text/plain": [
              "'Mayor'"
            ]
          },
          "metadata": {},
          "output_type": "display_data"
        },
        {
          "data": {
            "text/plain": [
              "[['Scientist', 5.994750022888184],\n",
              " ['Saint', 4.603593349456787],\n",
              " ['Bird', 3.498793125152588]]"
            ]
          },
          "metadata": {},
          "output_type": "display_data"
        },
        {
          "name": "stdout",
          "output_type": "stream",
          "text": [
            "List_of_mammals_of_Pennsylvania#11\n"
          ]
        },
        {
          "data": {
            "text/plain": [
              "'Mammal'"
            ]
          },
          "metadata": {},
          "output_type": "display_data"
        },
        {
          "data": {
            "text/plain": [
              "[['Bird', 6.035667896270752],\n",
              " ['Plant', 3.812906503677368],\n",
              " ['BaseballPlayer', 2.5984833240509033]]"
            ]
          },
          "metadata": {},
          "output_type": "display_data"
        },
        {
          "name": "stdout",
          "output_type": "stream",
          "text": [
            "Newspaper_endorsements_in_the_United_States_presidential_election,_2012#9\n"
          ]
        },
        {
          "data": {
            "text/plain": [
              "'Newspaper'"
            ]
          },
          "metadata": {},
          "output_type": "display_data"
        },
        {
          "data": {
            "text/plain": [
              "[['City', 6.90084171295166],\n",
              " ['Country', 4.925096035003662],\n",
              " ['AdministrativeRegion', 4.199737548828125]]"
            ]
          },
          "metadata": {},
          "output_type": "display_data"
        },
        {
          "name": "stdout",
          "output_type": "stream",
          "text": [
            "List_of_historic_buildings_in_Shanghai#0\n"
          ]
        },
        {
          "data": {
            "text/plain": [
              "'Building'"
            ]
          },
          "metadata": {},
          "output_type": "display_data"
        },
        {
          "data": {
            "text/plain": [
              "[['Film', 5.909276962280273],\n",
              " ['Monarch', 3.5720150470733643],\n",
              " ['Book', 3.339003324508667]]"
            ]
          },
          "metadata": {},
          "output_type": "display_data"
        },
        {
          "name": "stdout",
          "output_type": "stream",
          "text": [
            "List_of_DreamWorks_Pictures_films#2\n"
          ]
        },
        {
          "data": {
            "text/plain": [
              "'Film'"
            ]
          },
          "metadata": {},
          "output_type": "display_data"
        },
        {
          "data": {
            "text/plain": [
              "[['VideoGame', 6.439610958099365],\n",
              " ['Company', 5.565396785736084],\n",
              " ['Film', 3.404829502105713]]"
            ]
          },
          "metadata": {},
          "output_type": "display_data"
        },
        {
          "name": "stdout",
          "output_type": "stream",
          "text": [
            "Princesa_Sujei#0\n"
          ]
        },
        {
          "data": {
            "text/plain": [
              "'Wrestler'"
            ]
          },
          "metadata": {},
          "output_type": "display_data"
        },
        {
          "data": {
            "text/plain": [
              "[['City', 5.166473388671875],\n",
              " ['Mountain', 2.531421184539795],\n",
              " ['Country', 2.369309663772583]]"
            ]
          },
          "metadata": {},
          "output_type": "display_data"
        },
        {
          "name": "stdout",
          "output_type": "stream",
          "text": [
            "Wall_of_Soundz#0\n"
          ]
        },
        {
          "data": {
            "text/plain": [
              "'Newspaper'"
            ]
          },
          "metadata": {},
          "output_type": "display_data"
        },
        {
          "data": {
            "text/plain": [
              "[['Book', 7.416996002197266],\n",
              " ['Newspaper', 6.0492424964904785],\n",
              " ['Film', 3.4344797134399414]]"
            ]
          },
          "metadata": {},
          "output_type": "display_data"
        },
        {
          "name": "stdout",
          "output_type": "stream",
          "text": [
            "Municipalities_of_Morelos#0\n"
          ]
        },
        {
          "data": {
            "text/plain": [
              "'City'"
            ]
          },
          "metadata": {},
          "output_type": "display_data"
        },
        {
          "data": {
            "text/plain": [
              "[['Plant', 7.162017345428467],\n",
              " ['City', 4.52318811416626],\n",
              " ['Mayor', 3.5953752994537354]]"
            ]
          },
          "metadata": {},
          "output_type": "display_data"
        },
        {
          "name": "stdout",
          "output_type": "stream",
          "text": [
            "List_of_mammals_of_Pennsylvania#0\n"
          ]
        },
        {
          "data": {
            "text/plain": [
              "'Mammal'"
            ]
          },
          "metadata": {},
          "output_type": "display_data"
        },
        {
          "data": {
            "text/plain": [
              "[['AdministrativeRegion', 7.180556774139404],\n",
              " ['Plant', 5.741520881652832],\n",
              " ['Mountain', 3.2855753898620605]]"
            ]
          },
          "metadata": {},
          "output_type": "display_data"
        },
        {
          "name": "stdout",
          "output_type": "stream",
          "text": [
            "Chinese_Super_League#16\n"
          ]
        },
        {
          "data": {
            "text/plain": [
              "'SportsTeam'"
            ]
          },
          "metadata": {},
          "output_type": "display_data"
        },
        {
          "data": {
            "text/plain": [
              "[['Mayor', 6.072988986968994],\n",
              " ['Currency', 3.872136116027832],\n",
              " ['Airline', 3.234466791152954]]"
            ]
          },
          "metadata": {},
          "output_type": "display_data"
        },
        {
          "name": "stdout",
          "output_type": "stream",
          "text": [
            "Cerebro_Negro#0\n"
          ]
        },
        {
          "data": {
            "text/plain": [
              "'Wrestler'"
            ]
          },
          "metadata": {},
          "output_type": "display_data"
        },
        {
          "data": {
            "text/plain": [
              "[['Film', 7.747060298919678],\n",
              " ['City', 4.193591117858887],\n",
              " ['Country', 3.9115488529205322]]"
            ]
          },
          "metadata": {},
          "output_type": "display_data"
        },
        {
          "name": "stdout",
          "output_type": "stream",
          "text": [
            "Mayor_of_St._Louis#0\n"
          ]
        },
        {
          "data": {
            "text/plain": [
              "'Mayor'"
            ]
          },
          "metadata": {},
          "output_type": "display_data"
        },
        {
          "data": {
            "text/plain": [
              "[['Writer', 5.948485374450684],\n",
              " ['MovieDirector', 5.338688850402832],\n",
              " ['Scientist', 5.317113399505615]]"
            ]
          },
          "metadata": {},
          "output_type": "display_data"
        },
        {
          "name": "stdout",
          "output_type": "stream",
          "text": [
            "Liberal_Party_of_Canada_candidates,_2008_Canadian_federal_election#Winnipeg_Centre#10\n"
          ]
        },
        {
          "data": {
            "text/plain": [
              "'AdministrativeRegion'"
            ]
          },
          "metadata": {},
          "output_type": "display_data"
        },
        {
          "data": {
            "text/plain": [
              "[['Country', 8.527190208435059],\n",
              " ['AdministrativeRegion', 3.6627562046051025],\n",
              " ['PoliticalParty', 3.2389540672302246]]"
            ]
          },
          "metadata": {},
          "output_type": "display_data"
        },
        {
          "name": "stdout",
          "output_type": "stream",
          "text": [
            "Kentucky_Educational_Television#1\n"
          ]
        },
        {
          "data": {
            "text/plain": [
              "'City'"
            ]
          },
          "metadata": {},
          "output_type": "display_data"
        },
        {
          "data": {
            "text/plain": [
              "[['RadioStation', 4.325492858886719],\n",
              " ['Mayor', 4.211221694946289],\n",
              " ['Building', 3.555643081665039]]"
            ]
          },
          "metadata": {},
          "output_type": "display_data"
        },
        {
          "name": "stdout",
          "output_type": "stream",
          "text": [
            "Euro#1\n"
          ]
        },
        {
          "data": {
            "text/plain": [
              "'Currency'"
            ]
          },
          "metadata": {},
          "output_type": "display_data"
        },
        {
          "data": {
            "text/plain": [
              "[['SportsTeam', 7.699277400970459],\n",
              " ['Mayor', 3.5438690185546875],\n",
              " ['Monarch', 2.7483341693878174]]"
            ]
          },
          "metadata": {},
          "output_type": "display_data"
        },
        {
          "data": {
            "text/plain": [
              "'Currency'"
            ]
          },
          "metadata": {},
          "output_type": "display_data"
        },
        {
          "data": {
            "text/plain": [
              "[['PoliticalParty', 5.4618306159973145],\n",
              " ['RadioStation', 4.426476001739502],\n",
              " ['SportsTeam', 3.258920669555664]]"
            ]
          },
          "metadata": {},
          "output_type": "display_data"
        },
        {
          "name": "stdout",
          "output_type": "stream",
          "text": [
            "Bond_girl#List_of_Bond_girls#0\n"
          ]
        },
        {
          "data": {
            "text/plain": [
              "'Book'"
            ]
          },
          "metadata": {},
          "output_type": "display_data"
        },
        {
          "data": {
            "text/plain": [
              "[['Film', 6.006075382232666],\n",
              " ['Wrestler', 5.2740583419799805],\n",
              " ['Book', 2.9093799591064453]]"
            ]
          },
          "metadata": {},
          "output_type": "display_data"
        },
        {
          "name": "stdout",
          "output_type": "stream",
          "text": [
            "O._Henry_Award#0\n"
          ]
        },
        {
          "data": {
            "text/plain": [
              "'Writer'"
            ]
          },
          "metadata": {},
          "output_type": "display_data"
        },
        {
          "data": {
            "text/plain": [
              "[['Book', 5.405272960662842],\n",
              " ['Writer', 4.559235572814941],\n",
              " ['VideoGame', 3.770987033843994]]"
            ]
          },
          "metadata": {},
          "output_type": "display_data"
        },
        {
          "name": "stdout",
          "output_type": "stream",
          "text": [
            "SCW_World_Heavyweight_Championship#0\n"
          ]
        },
        {
          "data": {
            "text/plain": [
              "'Wrestler'"
            ]
          },
          "metadata": {},
          "output_type": "display_data"
        },
        {
          "data": {
            "text/plain": [
              "[['MovieDirector', 4.728102684020996],\n",
              " ['City', 4.537333965301514],\n",
              " ['BaseballPlayer', 3.5831570625305176]]"
            ]
          },
          "metadata": {},
          "output_type": "display_data"
        },
        {
          "name": "stdout",
          "output_type": "stream",
          "text": [
            "Wikipedia_talk:WikiProject_Transport_in_Scotland#0\n"
          ]
        },
        {
          "data": {
            "text/plain": [
              "'Company'"
            ]
          },
          "metadata": {},
          "output_type": "display_data"
        },
        {
          "data": {
            "text/plain": [
              "[['AcademicJournal', 2.5316498279571533],\n",
              " ['Currency', 2.291719913482666],\n",
              " ['Newspaper', 2.2604644298553467]]"
            ]
          },
          "metadata": {},
          "output_type": "display_data"
        },
        {
          "name": "stdout",
          "output_type": "stream",
          "text": [
            "Mayor_of_Fayetteville,_North_Carolina#0\n"
          ]
        },
        {
          "data": {
            "text/plain": [
              "'Mayor'"
            ]
          },
          "metadata": {},
          "output_type": "display_data"
        },
        {
          "data": {
            "text/plain": [
              "[['MovieDirector', 7.476836204528809],\n",
              " ['BaseballPlayer', 5.430243492126465],\n",
              " ['Writer', 2.6378540992736816]]"
            ]
          },
          "metadata": {},
          "output_type": "display_data"
        },
        {
          "name": "stdout",
          "output_type": "stream",
          "text": [
            "List_of_ornithology_journals#0\n"
          ]
        },
        {
          "data": {
            "text/plain": [
              "'AcademicJournal'"
            ]
          },
          "metadata": {},
          "output_type": "display_data"
        },
        {
          "data": {
            "text/plain": [
              "[['Mammal', 4.1664533615112305],\n",
              " ['AcademicJournal', 3.7859981060028076],\n",
              " ['Country', 3.643855333328247]]"
            ]
          },
          "metadata": {},
          "output_type": "display_data"
        },
        {
          "name": "stdout",
          "output_type": "stream",
          "text": [
            "County_administrative_boards_of_Sweden#0\n"
          ]
        },
        {
          "data": {
            "text/plain": [
              "'AdministrativeRegion'"
            ]
          },
          "metadata": {},
          "output_type": "display_data"
        },
        {
          "data": {
            "text/plain": [
              "[['Mountain', 4.946440696716309],\n",
              " ['Plant', 4.7388129234313965],\n",
              " ['BaseballPlayer', 3.9922709465026855]]"
            ]
          },
          "metadata": {},
          "output_type": "display_data"
        },
        {
          "name": "stdout",
          "output_type": "stream",
          "text": [
            "Nyaung-u_Sawrahan#0\n"
          ]
        },
        {
          "data": {
            "text/plain": [
              "'Book'"
            ]
          },
          "metadata": {},
          "output_type": "display_data"
        },
        {
          "data": {
            "text/plain": [
              "[['Mayor', 5.534918785095215],\n",
              " ['Monarch', 4.8745222091674805],\n",
              " ['Writer', 4.038356781005859]]"
            ]
          },
          "metadata": {},
          "output_type": "display_data"
        },
        {
          "name": "stdout",
          "output_type": "stream",
          "text": [
            "Demographics_of_Bihar#3\n"
          ]
        },
        {
          "data": {
            "text/plain": [
              "'Language'"
            ]
          },
          "metadata": {},
          "output_type": "display_data"
        },
        {
          "data": {
            "text/plain": [
              "[['Country', 4.650577068328857],\n",
              " ['Plant', 3.5735526084899902],\n",
              " ['Continent', 3.2423970699310303]]"
            ]
          },
          "metadata": {},
          "output_type": "display_data"
        },
        {
          "name": "stdout",
          "output_type": "stream",
          "text": [
            "List_of_mammals_of_California#1\n"
          ]
        },
        {
          "data": {
            "text/plain": [
              "'Mammal'"
            ]
          },
          "metadata": {},
          "output_type": "display_data"
        },
        {
          "data": {
            "text/plain": [
              "[['Bird', 6.295578956604004],\n",
              " ['Mammal', 5.8907389640808105],\n",
              " ['Book', 3.5547633171081543]]"
            ]
          },
          "metadata": {},
          "output_type": "display_data"
        },
        {
          "name": "stdout",
          "output_type": "stream",
          "text": [
            "J._T._Edson#0\n"
          ]
        },
        {
          "data": {
            "text/plain": [
              "'Book'"
            ]
          },
          "metadata": {},
          "output_type": "display_data"
        },
        {
          "data": {
            "text/plain": [
              "[['Mayor', 4.801694869995117],\n",
              " ['Book', 3.6142916679382324],\n",
              " ['Mountain', 3.518979549407959]]"
            ]
          },
          "metadata": {},
          "output_type": "display_data"
        },
        {
          "name": "stdout",
          "output_type": "stream",
          "text": [
            "Dr._Dre#2000.E2.80.932007:_Third_studio_album#3\n"
          ]
        },
        {
          "data": {
            "text/plain": [
              "'VideoGame'"
            ]
          },
          "metadata": {},
          "output_type": "display_data"
        },
        {
          "data": {
            "text/plain": [
              "[['Company', 6.062756538391113],\n",
              " ['VideoGame', 5.679917812347412],\n",
              " ['Wrestler', 3.5574889183044434]]"
            ]
          },
          "metadata": {},
          "output_type": "display_data"
        },
        {
          "name": "stdout",
          "output_type": "stream",
          "text": [
            "United_States_presidential_election_in_Washington_(state),_2004#0\n"
          ]
        },
        {
          "data": {
            "text/plain": [
              "'AdministrativeRegion'"
            ]
          },
          "metadata": {},
          "output_type": "display_data"
        },
        {
          "data": {
            "text/plain": [
              "[['City', 6.308424472808838],\n",
              " ['Country', 3.475154161453247],\n",
              " ['AdministrativeRegion', 3.1624398231506348]]"
            ]
          },
          "metadata": {},
          "output_type": "display_data"
        },
        {
          "name": "stdout",
          "output_type": "stream",
          "text": [
            "2000_Torneo_Descentralizado#2\n"
          ]
        },
        {
          "data": {
            "text/plain": [
              "'SportsTeam'"
            ]
          },
          "metadata": {},
          "output_type": "display_data"
        },
        {
          "data": {
            "text/plain": [
              "[['City', 8.452183723449707],\n",
              " ['Plant', 3.4823391437530518],\n",
              " ['Mayor', 3.4821040630340576]]"
            ]
          },
          "metadata": {},
          "output_type": "display_data"
        },
        {
          "name": "stdout",
          "output_type": "stream",
          "text": [
            "CJK_Unified_Ideographs#5\n"
          ]
        },
        {
          "data": {
            "text/plain": [
              "'Book'"
            ]
          },
          "metadata": {},
          "output_type": "display_data"
        },
        {
          "data": {
            "text/plain": [
              "[['AcademicJournal', 4.602292537689209],\n",
              " ['Museum', 3.8718178272247314],\n",
              " ['Mayor', 2.750965118408203]]"
            ]
          },
          "metadata": {},
          "output_type": "display_data"
        },
        {
          "name": "stdout",
          "output_type": "stream",
          "text": [
            "ECW_Pennsylvania_Championship#0\n"
          ]
        },
        {
          "data": {
            "text/plain": [
              "'Wrestler'"
            ]
          },
          "metadata": {},
          "output_type": "display_data"
        },
        {
          "data": {
            "text/plain": [
              "[['Film', 5.537380695343018],\n",
              " ['VideoGame', 4.776243686676025],\n",
              " ['Building', 4.241153717041016]]"
            ]
          },
          "metadata": {},
          "output_type": "display_data"
        },
        {
          "name": "stdout",
          "output_type": "stream",
          "text": [
            "Raghavendra_Rajkumar#0\n"
          ]
        },
        {
          "data": {
            "text/plain": [
              "'Film'"
            ]
          },
          "metadata": {},
          "output_type": "display_data"
        },
        {
          "data": {
            "text/plain": [
              "[['Plant', 6.4952545166015625],\n",
              " ['Mountain', 4.090939044952393],\n",
              " ['Writer', 3.6246302127838135]]"
            ]
          },
          "metadata": {},
          "output_type": "display_data"
        },
        {
          "name": "stdout",
          "output_type": "stream",
          "text": [
            "German_euro_coins#11\n"
          ]
        },
        {
          "data": {
            "text/plain": [
              "'AdministrativeRegion'"
            ]
          },
          "metadata": {},
          "output_type": "display_data"
        },
        {
          "data": {
            "text/plain": [
              "[['Country', 2.9595837593078613],\n",
              " ['City', 2.7875547409057617],\n",
              " ['Saint', 2.4619317054748535]]"
            ]
          },
          "metadata": {},
          "output_type": "display_data"
        },
        {
          "name": "stdout",
          "output_type": "stream",
          "text": [
            "A_roads_in_Zone_4_of_the_Great_Britain_numbering_scheme#Four-digit_roads_.2841xx.29#0\n"
          ]
        },
        {
          "data": {
            "text/plain": [
              "'City'"
            ]
          },
          "metadata": {},
          "output_type": "display_data"
        },
        {
          "data": {
            "text/plain": [
              "[['Building', 5.3044753074646],\n",
              " ['City', 4.738766193389893],\n",
              " ['Mountain', 3.9395456314086914]]"
            ]
          },
          "metadata": {},
          "output_type": "display_data"
        },
        {
          "name": "stdout",
          "output_type": "stream",
          "text": [
            "2002%E2%80%9303_UEFA_Champions_League#4\n"
          ]
        },
        {
          "data": {
            "text/plain": [
              "'SportsTeam'"
            ]
          },
          "metadata": {},
          "output_type": "display_data"
        },
        {
          "data": {
            "text/plain": [
              "[['Company', 5.833075523376465],\n",
              " ['City', 4.31510066986084],\n",
              " ['Currency', 3.7061493396759033]]"
            ]
          },
          "metadata": {},
          "output_type": "display_data"
        },
        {
          "name": "stdout",
          "output_type": "stream",
          "text": [
            "Star_Wars#Setting#4\n"
          ]
        },
        {
          "data": {
            "text/plain": [
              "'Film'"
            ]
          },
          "metadata": {},
          "output_type": "display_data"
        },
        {
          "data": {
            "text/plain": [
              "[['VideoGame', 8.95494270324707],\n",
              " ['Film', 3.858873128890991],\n",
              " ['Building', 3.560220241546631]]"
            ]
          },
          "metadata": {},
          "output_type": "display_data"
        },
        {
          "name": "stdout",
          "output_type": "stream",
          "text": [
            "Dead_Sea_Scrolls#10\n"
          ]
        },
        {
          "data": {
            "text/plain": [
              "'Book'"
            ]
          },
          "metadata": {},
          "output_type": "display_data"
        },
        {
          "data": {
            "text/plain": [
              "[['Monarch', 6.848552227020264],\n",
              " ['Mammal', 3.9416849613189697],\n",
              " ['Plant', 3.248840570449829]]"
            ]
          },
          "metadata": {},
          "output_type": "display_data"
        }
      ],
      "source": [
        " for inspect_id in errors:\n",
        "    print(inspect_id)\n",
        "    prediction_scores, label_mask, label = per_table_result[inspect_id]\n",
        "    prediction_scores = torch.stack(prediction_scores, 0).mean(0)\n",
        "    for col_id in range(label.shape[0]):\n",
        "        if label[col_id].sum().item()==0:\n",
        "            continue\n",
        "        display(id2type[label[col_id].nonzero().item()])\n",
        "        display([[id2type[l],prediction_scores[col_id,l].item()] for l in prediction_scores[col_id].argsort().tolist()[::-1][:3]])"
      ]
    },
    {
      "cell_type": "code",
      "execution_count": null,
      "metadata": {
        "id": "6su4xZ6PTd8Y",
        "outputId": "9a3ba3c1-ab2f-4bba-891f-d59d40c64bf1"
      },
      "outputs": [
        {
          "data": {
            "text/plain": [
              "tensor([0., 0., 0., 0., 0., 0., 0., 0., 0., 0., 0., 0., 0., 0., 0., 0., 0., 0., 0., 0., 0., 0., 0., 0.,\n",
              "        0., 0., 0., 0., 0., 0., 0., 0., 0., 0., 0., 0., 0.], device='cuda:0')"
            ]
          },
          "execution_count": 478,
          "metadata": {},
          "output_type": "execute_result"
        }
      ],
      "source": [
        "label[col_id]"
      ]
    },
    {
      "cell_type": "code",
      "execution_count": null,
      "metadata": {
        "id": "EjzPKdvxTd8Z",
        "outputId": "250428c8-f0d1-44c5-f3ef-bee3877795fa"
      },
      "outputs": [
        {
          "data": {
            "text/plain": [
              "tensor([[22,  6, 21, 24, 17, 23, 31, 20, 35, 18, 13,  0, 27, 26, 33, 16,  7,  9,\n",
              "          5, 32, 25, 30, 19, 11,  8, 15,  3,  2, 29, 36, 10,  4, 14, 28, 12, 34,\n",
              "          1]], device='cuda:0')"
            ]
          },
          "execution_count": 90,
          "metadata": {},
          "output_type": "execute_result"
        }
      ],
      "source": [
        "per_table_result['Baseball_Hall_of_Fame_balloting,_2015#0'][0][0].argsort()"
      ]
    },
    {
      "cell_type": "code",
      "source": [
        ""
      ],
      "metadata": {
        "id": "PGxsGkDa3CHy"
      },
      "execution_count": null,
      "outputs": []
    },
    {
      "cell_type": "code",
      "source": [
        ""
      ],
      "metadata": {
        "id": "MlPS5FxZ3CKC"
      },
      "execution_count": null,
      "outputs": []
    },
    {
      "cell_type": "code",
      "source": [
        ""
      ],
      "metadata": {
        "id": "5MG1SdDj3CMM"
      },
      "execution_count": null,
      "outputs": []
    },
    {
      "cell_type": "code",
      "source": [
        ""
      ],
      "metadata": {
        "id": "DimeEQZu3CON"
      },
      "execution_count": null,
      "outputs": []
    },
    {
      "cell_type": "code",
      "source": [
        ""
      ],
      "metadata": {
        "id": "wZD4JbfA3CQT"
      },
      "execution_count": null,
      "outputs": []
    },
    {
      "cell_type": "code",
      "source": [
        ""
      ],
      "metadata": {
        "id": "zqakEpuV3CSW"
      },
      "execution_count": null,
      "outputs": []
    },
    {
      "cell_type": "code",
      "source": [
        ""
      ],
      "metadata": {
        "id": "XTXDM8x93CUU"
      },
      "execution_count": null,
      "outputs": []
    },
    {
      "cell_type": "code",
      "source": [
        ""
      ],
      "metadata": {
        "id": "lgeBu-2r3CnU"
      },
      "execution_count": null,
      "outputs": []
    },
    {
      "cell_type": "code",
      "source": [
        ""
      ],
      "metadata": {
        "id": "Gp3gyUuH3Csn"
      },
      "execution_count": null,
      "outputs": []
    },
    {
      "cell_type": "code",
      "source": [
        ""
      ],
      "metadata": {
        "id": "5JaNWjkA3Cuk"
      },
      "execution_count": null,
      "outputs": []
    },
    {
      "cell_type": "code",
      "source": [
        ""
      ],
      "metadata": {
        "id": "CuIjKGdx3Cwk"
      },
      "execution_count": null,
      "outputs": []
    },
    {
      "cell_type": "code",
      "source": [
        ""
      ],
      "metadata": {
        "id": "dM3ua9C73Cyi"
      },
      "execution_count": null,
      "outputs": []
    },
    {
      "cell_type": "code",
      "source": [
        ""
      ],
      "metadata": {
        "id": "ekZZ6OvA3C0o"
      },
      "execution_count": null,
      "outputs": []
    },
    {
      "cell_type": "code",
      "source": [
        ""
      ],
      "metadata": {
        "id": "l123tgQg3C27"
      },
      "execution_count": null,
      "outputs": []
    },
    {
      "cell_type": "code",
      "source": [
        ""
      ],
      "metadata": {
        "id": "_OJrmi6R3LeN"
      },
      "execution_count": null,
      "outputs": []
    },
    {
      "cell_type": "code",
      "source": [
        ""
      ],
      "metadata": {
        "id": "EFpSncmx3LgS"
      },
      "execution_count": null,
      "outputs": []
    },
    {
      "cell_type": "code",
      "source": [
        ""
      ],
      "metadata": {
        "id": "S7OL1BRK3LiM"
      },
      "execution_count": null,
      "outputs": []
    },
    {
      "cell_type": "code",
      "source": [
        ""
      ],
      "metadata": {
        "id": "-J1BBuyE3LkG"
      },
      "execution_count": null,
      "outputs": []
    },
    {
      "cell_type": "code",
      "source": [
        ""
      ],
      "metadata": {
        "id": "fKn62job3Lme"
      },
      "execution_count": null,
      "outputs": []
    },
    {
      "cell_type": "code",
      "source": [
        ""
      ],
      "metadata": {
        "id": "nu18i2sc3LoN"
      },
      "execution_count": null,
      "outputs": []
    },
    {
      "cell_type": "code",
      "source": [
        ""
      ],
      "metadata": {
        "id": "zIcHRU3-3LqR"
      },
      "execution_count": null,
      "outputs": []
    },
    {
      "cell_type": "code",
      "source": [
        ""
      ],
      "metadata": {
        "id": "HnqBTcFd3Lr-"
      },
      "execution_count": null,
      "outputs": []
    },
    {
      "cell_type": "code",
      "source": [
        ""
      ],
      "metadata": {
        "id": "20ibgGhQ3LvG"
      },
      "execution_count": null,
      "outputs": []
    },
    {
      "cell_type": "code",
      "source": [
        ""
      ],
      "metadata": {
        "id": "4fD3J7x33C5t"
      },
      "execution_count": null,
      "outputs": []
    }
  ],
  "metadata": {
    "colab": {
      "machine_shape": "hm",
      "name": "evaluate_task.ipynb",
      "provenance": [],
      "collapsed_sections": [
        "6fJfi0oETd5l",
        "BvqyQtNbTd8R",
        "-J0cPXWiTd8j",
        "0d9j2rc2Td8r"
      ],
      "background_execution": "on"
    },
    "kernelspec": {
      "display_name": "Python 3",
      "language": "python",
      "name": "python3"
    },
    "language_info": {
      "codemirror_mode": {
        "name": "ipython",
        "version": 3
      },
      "file_extension": ".py",
      "mimetype": "text/x-python",
      "name": "python",
      "nbconvert_exporter": "python",
      "pygments_lexer": "ipython3",
      "version": "3.6.9"
    },
    "accelerator": "GPU",
    "widgets": {
      "application/vnd.jupyter.widget-state+json": {
        "f3c673af049f4fe1a0e173fda5072e0f": {
          "model_module": "@jupyter-widgets/controls",
          "model_name": "HBoxModel",
          "model_module_version": "1.5.0",
          "state": {
            "_dom_classes": [],
            "_model_module": "@jupyter-widgets/controls",
            "_model_module_version": "1.5.0",
            "_model_name": "HBoxModel",
            "_view_count": null,
            "_view_module": "@jupyter-widgets/controls",
            "_view_module_version": "1.5.0",
            "_view_name": "HBoxView",
            "box_style": "",
            "children": [
              "IPY_MODEL_66edaf101952408280bb8eef8f055598",
              "IPY_MODEL_33cf984bd3e746dd80520246c549fc48",
              "IPY_MODEL_259c0f119a3f4a99b203011b334d2ff7"
            ],
            "layout": "IPY_MODEL_291fd2641b7c48f1864ff7891b4b8a4f"
          }
        },
        "66edaf101952408280bb8eef8f055598": {
          "model_module": "@jupyter-widgets/controls",
          "model_name": "HTMLModel",
          "model_module_version": "1.5.0",
          "state": {
            "_dom_classes": [],
            "_model_module": "@jupyter-widgets/controls",
            "_model_module_version": "1.5.0",
            "_model_name": "HTMLModel",
            "_view_count": null,
            "_view_module": "@jupyter-widgets/controls",
            "_view_module_version": "1.5.0",
            "_view_name": "HTMLView",
            "description": "",
            "description_tooltip": null,
            "layout": "IPY_MODEL_58226e444da0440c9561e6d8e64a9815",
            "placeholder": "​",
            "style": "IPY_MODEL_29dcee667e2449f6ab9cd327fe9205a2",
            "value": "Downloading: 100%"
          }
        },
        "33cf984bd3e746dd80520246c549fc48": {
          "model_module": "@jupyter-widgets/controls",
          "model_name": "FloatProgressModel",
          "model_module_version": "1.5.0",
          "state": {
            "_dom_classes": [],
            "_model_module": "@jupyter-widgets/controls",
            "_model_module_version": "1.5.0",
            "_model_name": "FloatProgressModel",
            "_view_count": null,
            "_view_module": "@jupyter-widgets/controls",
            "_view_module_version": "1.5.0",
            "_view_name": "ProgressView",
            "bar_style": "success",
            "description": "",
            "description_tooltip": null,
            "layout": "IPY_MODEL_0d147dda4d4c40d0a32656909bc40f32",
            "max": 231508,
            "min": 0,
            "orientation": "horizontal",
            "style": "IPY_MODEL_62feaf1bed9d4a079d043b2e138bfd3e",
            "value": 231508
          }
        },
        "259c0f119a3f4a99b203011b334d2ff7": {
          "model_module": "@jupyter-widgets/controls",
          "model_name": "HTMLModel",
          "model_module_version": "1.5.0",
          "state": {
            "_dom_classes": [],
            "_model_module": "@jupyter-widgets/controls",
            "_model_module_version": "1.5.0",
            "_model_name": "HTMLModel",
            "_view_count": null,
            "_view_module": "@jupyter-widgets/controls",
            "_view_module_version": "1.5.0",
            "_view_name": "HTMLView",
            "description": "",
            "description_tooltip": null,
            "layout": "IPY_MODEL_35f9fed1f7584617ac9ea77ed7434599",
            "placeholder": "​",
            "style": "IPY_MODEL_b8dbcd692cf4475086209494cbdce553",
            "value": " 226k/226k [00:00&lt;00:00, 611kB/s]"
          }
        },
        "291fd2641b7c48f1864ff7891b4b8a4f": {
          "model_module": "@jupyter-widgets/base",
          "model_name": "LayoutModel",
          "model_module_version": "1.2.0",
          "state": {
            "_model_module": "@jupyter-widgets/base",
            "_model_module_version": "1.2.0",
            "_model_name": "LayoutModel",
            "_view_count": null,
            "_view_module": "@jupyter-widgets/base",
            "_view_module_version": "1.2.0",
            "_view_name": "LayoutView",
            "align_content": null,
            "align_items": null,
            "align_self": null,
            "border": null,
            "bottom": null,
            "display": null,
            "flex": null,
            "flex_flow": null,
            "grid_area": null,
            "grid_auto_columns": null,
            "grid_auto_flow": null,
            "grid_auto_rows": null,
            "grid_column": null,
            "grid_gap": null,
            "grid_row": null,
            "grid_template_areas": null,
            "grid_template_columns": null,
            "grid_template_rows": null,
            "height": null,
            "justify_content": null,
            "justify_items": null,
            "left": null,
            "margin": null,
            "max_height": null,
            "max_width": null,
            "min_height": null,
            "min_width": null,
            "object_fit": null,
            "object_position": null,
            "order": null,
            "overflow": null,
            "overflow_x": null,
            "overflow_y": null,
            "padding": null,
            "right": null,
            "top": null,
            "visibility": null,
            "width": null
          }
        },
        "58226e444da0440c9561e6d8e64a9815": {
          "model_module": "@jupyter-widgets/base",
          "model_name": "LayoutModel",
          "model_module_version": "1.2.0",
          "state": {
            "_model_module": "@jupyter-widgets/base",
            "_model_module_version": "1.2.0",
            "_model_name": "LayoutModel",
            "_view_count": null,
            "_view_module": "@jupyter-widgets/base",
            "_view_module_version": "1.2.0",
            "_view_name": "LayoutView",
            "align_content": null,
            "align_items": null,
            "align_self": null,
            "border": null,
            "bottom": null,
            "display": null,
            "flex": null,
            "flex_flow": null,
            "grid_area": null,
            "grid_auto_columns": null,
            "grid_auto_flow": null,
            "grid_auto_rows": null,
            "grid_column": null,
            "grid_gap": null,
            "grid_row": null,
            "grid_template_areas": null,
            "grid_template_columns": null,
            "grid_template_rows": null,
            "height": null,
            "justify_content": null,
            "justify_items": null,
            "left": null,
            "margin": null,
            "max_height": null,
            "max_width": null,
            "min_height": null,
            "min_width": null,
            "object_fit": null,
            "object_position": null,
            "order": null,
            "overflow": null,
            "overflow_x": null,
            "overflow_y": null,
            "padding": null,
            "right": null,
            "top": null,
            "visibility": null,
            "width": null
          }
        },
        "29dcee667e2449f6ab9cd327fe9205a2": {
          "model_module": "@jupyter-widgets/controls",
          "model_name": "DescriptionStyleModel",
          "model_module_version": "1.5.0",
          "state": {
            "_model_module": "@jupyter-widgets/controls",
            "_model_module_version": "1.5.0",
            "_model_name": "DescriptionStyleModel",
            "_view_count": null,
            "_view_module": "@jupyter-widgets/base",
            "_view_module_version": "1.2.0",
            "_view_name": "StyleView",
            "description_width": ""
          }
        },
        "0d147dda4d4c40d0a32656909bc40f32": {
          "model_module": "@jupyter-widgets/base",
          "model_name": "LayoutModel",
          "model_module_version": "1.2.0",
          "state": {
            "_model_module": "@jupyter-widgets/base",
            "_model_module_version": "1.2.0",
            "_model_name": "LayoutModel",
            "_view_count": null,
            "_view_module": "@jupyter-widgets/base",
            "_view_module_version": "1.2.0",
            "_view_name": "LayoutView",
            "align_content": null,
            "align_items": null,
            "align_self": null,
            "border": null,
            "bottom": null,
            "display": null,
            "flex": null,
            "flex_flow": null,
            "grid_area": null,
            "grid_auto_columns": null,
            "grid_auto_flow": null,
            "grid_auto_rows": null,
            "grid_column": null,
            "grid_gap": null,
            "grid_row": null,
            "grid_template_areas": null,
            "grid_template_columns": null,
            "grid_template_rows": null,
            "height": null,
            "justify_content": null,
            "justify_items": null,
            "left": null,
            "margin": null,
            "max_height": null,
            "max_width": null,
            "min_height": null,
            "min_width": null,
            "object_fit": null,
            "object_position": null,
            "order": null,
            "overflow": null,
            "overflow_x": null,
            "overflow_y": null,
            "padding": null,
            "right": null,
            "top": null,
            "visibility": null,
            "width": null
          }
        },
        "62feaf1bed9d4a079d043b2e138bfd3e": {
          "model_module": "@jupyter-widgets/controls",
          "model_name": "ProgressStyleModel",
          "model_module_version": "1.5.0",
          "state": {
            "_model_module": "@jupyter-widgets/controls",
            "_model_module_version": "1.5.0",
            "_model_name": "ProgressStyleModel",
            "_view_count": null,
            "_view_module": "@jupyter-widgets/base",
            "_view_module_version": "1.2.0",
            "_view_name": "StyleView",
            "bar_color": null,
            "description_width": ""
          }
        },
        "35f9fed1f7584617ac9ea77ed7434599": {
          "model_module": "@jupyter-widgets/base",
          "model_name": "LayoutModel",
          "model_module_version": "1.2.0",
          "state": {
            "_model_module": "@jupyter-widgets/base",
            "_model_module_version": "1.2.0",
            "_model_name": "LayoutModel",
            "_view_count": null,
            "_view_module": "@jupyter-widgets/base",
            "_view_module_version": "1.2.0",
            "_view_name": "LayoutView",
            "align_content": null,
            "align_items": null,
            "align_self": null,
            "border": null,
            "bottom": null,
            "display": null,
            "flex": null,
            "flex_flow": null,
            "grid_area": null,
            "grid_auto_columns": null,
            "grid_auto_flow": null,
            "grid_auto_rows": null,
            "grid_column": null,
            "grid_gap": null,
            "grid_row": null,
            "grid_template_areas": null,
            "grid_template_columns": null,
            "grid_template_rows": null,
            "height": null,
            "justify_content": null,
            "justify_items": null,
            "left": null,
            "margin": null,
            "max_height": null,
            "max_width": null,
            "min_height": null,
            "min_width": null,
            "object_fit": null,
            "object_position": null,
            "order": null,
            "overflow": null,
            "overflow_x": null,
            "overflow_y": null,
            "padding": null,
            "right": null,
            "top": null,
            "visibility": null,
            "width": null
          }
        },
        "b8dbcd692cf4475086209494cbdce553": {
          "model_module": "@jupyter-widgets/controls",
          "model_name": "DescriptionStyleModel",
          "model_module_version": "1.5.0",
          "state": {
            "_model_module": "@jupyter-widgets/controls",
            "_model_module_version": "1.5.0",
            "_model_name": "DescriptionStyleModel",
            "_view_count": null,
            "_view_module": "@jupyter-widgets/base",
            "_view_module_version": "1.2.0",
            "_view_name": "StyleView",
            "description_width": ""
          }
        },
        "862260d31736412da95290a63b4c94f5": {
          "model_module": "@jupyter-widgets/controls",
          "model_name": "HBoxModel",
          "model_module_version": "1.5.0",
          "state": {
            "_dom_classes": [],
            "_model_module": "@jupyter-widgets/controls",
            "_model_module_version": "1.5.0",
            "_model_name": "HBoxModel",
            "_view_count": null,
            "_view_module": "@jupyter-widgets/controls",
            "_view_module_version": "1.5.0",
            "_view_name": "HBoxView",
            "box_style": "",
            "children": [
              "IPY_MODEL_2f2a465f8113415f8c7208e6c6f2d3e7",
              "IPY_MODEL_5806ca38e04c45a38f20570d4dcac35d",
              "IPY_MODEL_5ea12ef2d0e34e07bf8181b138d2767a"
            ],
            "layout": "IPY_MODEL_cf919b7ec14944fcb8f8c0f73de5bb66"
          }
        },
        "2f2a465f8113415f8c7208e6c6f2d3e7": {
          "model_module": "@jupyter-widgets/controls",
          "model_name": "HTMLModel",
          "model_module_version": "1.5.0",
          "state": {
            "_dom_classes": [],
            "_model_module": "@jupyter-widgets/controls",
            "_model_module_version": "1.5.0",
            "_model_name": "HTMLModel",
            "_view_count": null,
            "_view_module": "@jupyter-widgets/controls",
            "_view_module_version": "1.5.0",
            "_view_name": "HTMLView",
            "description": "",
            "description_tooltip": null,
            "layout": "IPY_MODEL_1aad611696b84fa3aa58f3e40e908ae0",
            "placeholder": "​",
            "style": "IPY_MODEL_80ae3d161108468cbb20508c5200cbc1",
            "value": "Downloading: 100%"
          }
        },
        "5806ca38e04c45a38f20570d4dcac35d": {
          "model_module": "@jupyter-widgets/controls",
          "model_name": "FloatProgressModel",
          "model_module_version": "1.5.0",
          "state": {
            "_dom_classes": [],
            "_model_module": "@jupyter-widgets/controls",
            "_model_module_version": "1.5.0",
            "_model_name": "FloatProgressModel",
            "_view_count": null,
            "_view_module": "@jupyter-widgets/controls",
            "_view_module_version": "1.5.0",
            "_view_name": "ProgressView",
            "bar_style": "success",
            "description": "",
            "description_tooltip": null,
            "layout": "IPY_MODEL_d9945f7ce3644c22b811552fce099cf9",
            "max": 28,
            "min": 0,
            "orientation": "horizontal",
            "style": "IPY_MODEL_c414a18fe2ee44fc9d002e8aeb7298b2",
            "value": 28
          }
        },
        "5ea12ef2d0e34e07bf8181b138d2767a": {
          "model_module": "@jupyter-widgets/controls",
          "model_name": "HTMLModel",
          "model_module_version": "1.5.0",
          "state": {
            "_dom_classes": [],
            "_model_module": "@jupyter-widgets/controls",
            "_model_module_version": "1.5.0",
            "_model_name": "HTMLModel",
            "_view_count": null,
            "_view_module": "@jupyter-widgets/controls",
            "_view_module_version": "1.5.0",
            "_view_name": "HTMLView",
            "description": "",
            "description_tooltip": null,
            "layout": "IPY_MODEL_11e72d0ea8e04eeda622c741d92ee92d",
            "placeholder": "​",
            "style": "IPY_MODEL_b536af28704640749c381ef784279ed4",
            "value": " 28.0/28.0 [00:00&lt;00:00, 1.08kB/s]"
          }
        },
        "cf919b7ec14944fcb8f8c0f73de5bb66": {
          "model_module": "@jupyter-widgets/base",
          "model_name": "LayoutModel",
          "model_module_version": "1.2.0",
          "state": {
            "_model_module": "@jupyter-widgets/base",
            "_model_module_version": "1.2.0",
            "_model_name": "LayoutModel",
            "_view_count": null,
            "_view_module": "@jupyter-widgets/base",
            "_view_module_version": "1.2.0",
            "_view_name": "LayoutView",
            "align_content": null,
            "align_items": null,
            "align_self": null,
            "border": null,
            "bottom": null,
            "display": null,
            "flex": null,
            "flex_flow": null,
            "grid_area": null,
            "grid_auto_columns": null,
            "grid_auto_flow": null,
            "grid_auto_rows": null,
            "grid_column": null,
            "grid_gap": null,
            "grid_row": null,
            "grid_template_areas": null,
            "grid_template_columns": null,
            "grid_template_rows": null,
            "height": null,
            "justify_content": null,
            "justify_items": null,
            "left": null,
            "margin": null,
            "max_height": null,
            "max_width": null,
            "min_height": null,
            "min_width": null,
            "object_fit": null,
            "object_position": null,
            "order": null,
            "overflow": null,
            "overflow_x": null,
            "overflow_y": null,
            "padding": null,
            "right": null,
            "top": null,
            "visibility": null,
            "width": null
          }
        },
        "1aad611696b84fa3aa58f3e40e908ae0": {
          "model_module": "@jupyter-widgets/base",
          "model_name": "LayoutModel",
          "model_module_version": "1.2.0",
          "state": {
            "_model_module": "@jupyter-widgets/base",
            "_model_module_version": "1.2.0",
            "_model_name": "LayoutModel",
            "_view_count": null,
            "_view_module": "@jupyter-widgets/base",
            "_view_module_version": "1.2.0",
            "_view_name": "LayoutView",
            "align_content": null,
            "align_items": null,
            "align_self": null,
            "border": null,
            "bottom": null,
            "display": null,
            "flex": null,
            "flex_flow": null,
            "grid_area": null,
            "grid_auto_columns": null,
            "grid_auto_flow": null,
            "grid_auto_rows": null,
            "grid_column": null,
            "grid_gap": null,
            "grid_row": null,
            "grid_template_areas": null,
            "grid_template_columns": null,
            "grid_template_rows": null,
            "height": null,
            "justify_content": null,
            "justify_items": null,
            "left": null,
            "margin": null,
            "max_height": null,
            "max_width": null,
            "min_height": null,
            "min_width": null,
            "object_fit": null,
            "object_position": null,
            "order": null,
            "overflow": null,
            "overflow_x": null,
            "overflow_y": null,
            "padding": null,
            "right": null,
            "top": null,
            "visibility": null,
            "width": null
          }
        },
        "80ae3d161108468cbb20508c5200cbc1": {
          "model_module": "@jupyter-widgets/controls",
          "model_name": "DescriptionStyleModel",
          "model_module_version": "1.5.0",
          "state": {
            "_model_module": "@jupyter-widgets/controls",
            "_model_module_version": "1.5.0",
            "_model_name": "DescriptionStyleModel",
            "_view_count": null,
            "_view_module": "@jupyter-widgets/base",
            "_view_module_version": "1.2.0",
            "_view_name": "StyleView",
            "description_width": ""
          }
        },
        "d9945f7ce3644c22b811552fce099cf9": {
          "model_module": "@jupyter-widgets/base",
          "model_name": "LayoutModel",
          "model_module_version": "1.2.0",
          "state": {
            "_model_module": "@jupyter-widgets/base",
            "_model_module_version": "1.2.0",
            "_model_name": "LayoutModel",
            "_view_count": null,
            "_view_module": "@jupyter-widgets/base",
            "_view_module_version": "1.2.0",
            "_view_name": "LayoutView",
            "align_content": null,
            "align_items": null,
            "align_self": null,
            "border": null,
            "bottom": null,
            "display": null,
            "flex": null,
            "flex_flow": null,
            "grid_area": null,
            "grid_auto_columns": null,
            "grid_auto_flow": null,
            "grid_auto_rows": null,
            "grid_column": null,
            "grid_gap": null,
            "grid_row": null,
            "grid_template_areas": null,
            "grid_template_columns": null,
            "grid_template_rows": null,
            "height": null,
            "justify_content": null,
            "justify_items": null,
            "left": null,
            "margin": null,
            "max_height": null,
            "max_width": null,
            "min_height": null,
            "min_width": null,
            "object_fit": null,
            "object_position": null,
            "order": null,
            "overflow": null,
            "overflow_x": null,
            "overflow_y": null,
            "padding": null,
            "right": null,
            "top": null,
            "visibility": null,
            "width": null
          }
        },
        "c414a18fe2ee44fc9d002e8aeb7298b2": {
          "model_module": "@jupyter-widgets/controls",
          "model_name": "ProgressStyleModel",
          "model_module_version": "1.5.0",
          "state": {
            "_model_module": "@jupyter-widgets/controls",
            "_model_module_version": "1.5.0",
            "_model_name": "ProgressStyleModel",
            "_view_count": null,
            "_view_module": "@jupyter-widgets/base",
            "_view_module_version": "1.2.0",
            "_view_name": "StyleView",
            "bar_color": null,
            "description_width": ""
          }
        },
        "11e72d0ea8e04eeda622c741d92ee92d": {
          "model_module": "@jupyter-widgets/base",
          "model_name": "LayoutModel",
          "model_module_version": "1.2.0",
          "state": {
            "_model_module": "@jupyter-widgets/base",
            "_model_module_version": "1.2.0",
            "_model_name": "LayoutModel",
            "_view_count": null,
            "_view_module": "@jupyter-widgets/base",
            "_view_module_version": "1.2.0",
            "_view_name": "LayoutView",
            "align_content": null,
            "align_items": null,
            "align_self": null,
            "border": null,
            "bottom": null,
            "display": null,
            "flex": null,
            "flex_flow": null,
            "grid_area": null,
            "grid_auto_columns": null,
            "grid_auto_flow": null,
            "grid_auto_rows": null,
            "grid_column": null,
            "grid_gap": null,
            "grid_row": null,
            "grid_template_areas": null,
            "grid_template_columns": null,
            "grid_template_rows": null,
            "height": null,
            "justify_content": null,
            "justify_items": null,
            "left": null,
            "margin": null,
            "max_height": null,
            "max_width": null,
            "min_height": null,
            "min_width": null,
            "object_fit": null,
            "object_position": null,
            "order": null,
            "overflow": null,
            "overflow_x": null,
            "overflow_y": null,
            "padding": null,
            "right": null,
            "top": null,
            "visibility": null,
            "width": null
          }
        },
        "b536af28704640749c381ef784279ed4": {
          "model_module": "@jupyter-widgets/controls",
          "model_name": "DescriptionStyleModel",
          "model_module_version": "1.5.0",
          "state": {
            "_model_module": "@jupyter-widgets/controls",
            "_model_module_version": "1.5.0",
            "_model_name": "DescriptionStyleModel",
            "_view_count": null,
            "_view_module": "@jupyter-widgets/base",
            "_view_module_version": "1.2.0",
            "_view_name": "StyleView",
            "description_width": ""
          }
        },
        "9fcfdfca9b57429092911fc72738584d": {
          "model_module": "@jupyter-widgets/controls",
          "model_name": "HBoxModel",
          "model_module_version": "1.5.0",
          "state": {
            "_dom_classes": [],
            "_model_module": "@jupyter-widgets/controls",
            "_model_module_version": "1.5.0",
            "_model_name": "HBoxModel",
            "_view_count": null,
            "_view_module": "@jupyter-widgets/controls",
            "_view_module_version": "1.5.0",
            "_view_name": "HBoxView",
            "box_style": "",
            "children": [
              "IPY_MODEL_4947b45065274af2a33e7b1e7ee7a2f7",
              "IPY_MODEL_61467f755a974b589462eb81d6aa255f",
              "IPY_MODEL_443557dadbd04a1aadbc726bae31839d"
            ],
            "layout": "IPY_MODEL_8cb355e03a1141e5a6f9834de0b555ee"
          }
        },
        "4947b45065274af2a33e7b1e7ee7a2f7": {
          "model_module": "@jupyter-widgets/controls",
          "model_name": "HTMLModel",
          "model_module_version": "1.5.0",
          "state": {
            "_dom_classes": [],
            "_model_module": "@jupyter-widgets/controls",
            "_model_module_version": "1.5.0",
            "_model_name": "HTMLModel",
            "_view_count": null,
            "_view_module": "@jupyter-widgets/controls",
            "_view_module_version": "1.5.0",
            "_view_name": "HTMLView",
            "description": "",
            "description_tooltip": null,
            "layout": "IPY_MODEL_f2e5f4fb184f49b7a0774683930bf9c0",
            "placeholder": "​",
            "style": "IPY_MODEL_c22000f10b28464b8ec5049024be4e07",
            "value": "Downloading: 100%"
          }
        },
        "61467f755a974b589462eb81d6aa255f": {
          "model_module": "@jupyter-widgets/controls",
          "model_name": "FloatProgressModel",
          "model_module_version": "1.5.0",
          "state": {
            "_dom_classes": [],
            "_model_module": "@jupyter-widgets/controls",
            "_model_module_version": "1.5.0",
            "_model_name": "FloatProgressModel",
            "_view_count": null,
            "_view_module": "@jupyter-widgets/controls",
            "_view_module_version": "1.5.0",
            "_view_name": "ProgressView",
            "bar_style": "success",
            "description": "",
            "description_tooltip": null,
            "layout": "IPY_MODEL_e7cc119ac20149c8b176cd86c8269de0",
            "max": 570,
            "min": 0,
            "orientation": "horizontal",
            "style": "IPY_MODEL_b536ecb0f09e4521bfd1a13772b85277",
            "value": 570
          }
        },
        "443557dadbd04a1aadbc726bae31839d": {
          "model_module": "@jupyter-widgets/controls",
          "model_name": "HTMLModel",
          "model_module_version": "1.5.0",
          "state": {
            "_dom_classes": [],
            "_model_module": "@jupyter-widgets/controls",
            "_model_module_version": "1.5.0",
            "_model_name": "HTMLModel",
            "_view_count": null,
            "_view_module": "@jupyter-widgets/controls",
            "_view_module_version": "1.5.0",
            "_view_name": "HTMLView",
            "description": "",
            "description_tooltip": null,
            "layout": "IPY_MODEL_cbcef1d47db9403f9d37512f3ccf5ac3",
            "placeholder": "​",
            "style": "IPY_MODEL_14d277bc95b3425a98999343680b5278",
            "value": " 570/570 [00:00&lt;00:00, 21.9kB/s]"
          }
        },
        "8cb355e03a1141e5a6f9834de0b555ee": {
          "model_module": "@jupyter-widgets/base",
          "model_name": "LayoutModel",
          "model_module_version": "1.2.0",
          "state": {
            "_model_module": "@jupyter-widgets/base",
            "_model_module_version": "1.2.0",
            "_model_name": "LayoutModel",
            "_view_count": null,
            "_view_module": "@jupyter-widgets/base",
            "_view_module_version": "1.2.0",
            "_view_name": "LayoutView",
            "align_content": null,
            "align_items": null,
            "align_self": null,
            "border": null,
            "bottom": null,
            "display": null,
            "flex": null,
            "flex_flow": null,
            "grid_area": null,
            "grid_auto_columns": null,
            "grid_auto_flow": null,
            "grid_auto_rows": null,
            "grid_column": null,
            "grid_gap": null,
            "grid_row": null,
            "grid_template_areas": null,
            "grid_template_columns": null,
            "grid_template_rows": null,
            "height": null,
            "justify_content": null,
            "justify_items": null,
            "left": null,
            "margin": null,
            "max_height": null,
            "max_width": null,
            "min_height": null,
            "min_width": null,
            "object_fit": null,
            "object_position": null,
            "order": null,
            "overflow": null,
            "overflow_x": null,
            "overflow_y": null,
            "padding": null,
            "right": null,
            "top": null,
            "visibility": null,
            "width": null
          }
        },
        "f2e5f4fb184f49b7a0774683930bf9c0": {
          "model_module": "@jupyter-widgets/base",
          "model_name": "LayoutModel",
          "model_module_version": "1.2.0",
          "state": {
            "_model_module": "@jupyter-widgets/base",
            "_model_module_version": "1.2.0",
            "_model_name": "LayoutModel",
            "_view_count": null,
            "_view_module": "@jupyter-widgets/base",
            "_view_module_version": "1.2.0",
            "_view_name": "LayoutView",
            "align_content": null,
            "align_items": null,
            "align_self": null,
            "border": null,
            "bottom": null,
            "display": null,
            "flex": null,
            "flex_flow": null,
            "grid_area": null,
            "grid_auto_columns": null,
            "grid_auto_flow": null,
            "grid_auto_rows": null,
            "grid_column": null,
            "grid_gap": null,
            "grid_row": null,
            "grid_template_areas": null,
            "grid_template_columns": null,
            "grid_template_rows": null,
            "height": null,
            "justify_content": null,
            "justify_items": null,
            "left": null,
            "margin": null,
            "max_height": null,
            "max_width": null,
            "min_height": null,
            "min_width": null,
            "object_fit": null,
            "object_position": null,
            "order": null,
            "overflow": null,
            "overflow_x": null,
            "overflow_y": null,
            "padding": null,
            "right": null,
            "top": null,
            "visibility": null,
            "width": null
          }
        },
        "c22000f10b28464b8ec5049024be4e07": {
          "model_module": "@jupyter-widgets/controls",
          "model_name": "DescriptionStyleModel",
          "model_module_version": "1.5.0",
          "state": {
            "_model_module": "@jupyter-widgets/controls",
            "_model_module_version": "1.5.0",
            "_model_name": "DescriptionStyleModel",
            "_view_count": null,
            "_view_module": "@jupyter-widgets/base",
            "_view_module_version": "1.2.0",
            "_view_name": "StyleView",
            "description_width": ""
          }
        },
        "e7cc119ac20149c8b176cd86c8269de0": {
          "model_module": "@jupyter-widgets/base",
          "model_name": "LayoutModel",
          "model_module_version": "1.2.0",
          "state": {
            "_model_module": "@jupyter-widgets/base",
            "_model_module_version": "1.2.0",
            "_model_name": "LayoutModel",
            "_view_count": null,
            "_view_module": "@jupyter-widgets/base",
            "_view_module_version": "1.2.0",
            "_view_name": "LayoutView",
            "align_content": null,
            "align_items": null,
            "align_self": null,
            "border": null,
            "bottom": null,
            "display": null,
            "flex": null,
            "flex_flow": null,
            "grid_area": null,
            "grid_auto_columns": null,
            "grid_auto_flow": null,
            "grid_auto_rows": null,
            "grid_column": null,
            "grid_gap": null,
            "grid_row": null,
            "grid_template_areas": null,
            "grid_template_columns": null,
            "grid_template_rows": null,
            "height": null,
            "justify_content": null,
            "justify_items": null,
            "left": null,
            "margin": null,
            "max_height": null,
            "max_width": null,
            "min_height": null,
            "min_width": null,
            "object_fit": null,
            "object_position": null,
            "order": null,
            "overflow": null,
            "overflow_x": null,
            "overflow_y": null,
            "padding": null,
            "right": null,
            "top": null,
            "visibility": null,
            "width": null
          }
        },
        "b536ecb0f09e4521bfd1a13772b85277": {
          "model_module": "@jupyter-widgets/controls",
          "model_name": "ProgressStyleModel",
          "model_module_version": "1.5.0",
          "state": {
            "_model_module": "@jupyter-widgets/controls",
            "_model_module_version": "1.5.0",
            "_model_name": "ProgressStyleModel",
            "_view_count": null,
            "_view_module": "@jupyter-widgets/base",
            "_view_module_version": "1.2.0",
            "_view_name": "StyleView",
            "bar_color": null,
            "description_width": ""
          }
        },
        "cbcef1d47db9403f9d37512f3ccf5ac3": {
          "model_module": "@jupyter-widgets/base",
          "model_name": "LayoutModel",
          "model_module_version": "1.2.0",
          "state": {
            "_model_module": "@jupyter-widgets/base",
            "_model_module_version": "1.2.0",
            "_model_name": "LayoutModel",
            "_view_count": null,
            "_view_module": "@jupyter-widgets/base",
            "_view_module_version": "1.2.0",
            "_view_name": "LayoutView",
            "align_content": null,
            "align_items": null,
            "align_self": null,
            "border": null,
            "bottom": null,
            "display": null,
            "flex": null,
            "flex_flow": null,
            "grid_area": null,
            "grid_auto_columns": null,
            "grid_auto_flow": null,
            "grid_auto_rows": null,
            "grid_column": null,
            "grid_gap": null,
            "grid_row": null,
            "grid_template_areas": null,
            "grid_template_columns": null,
            "grid_template_rows": null,
            "height": null,
            "justify_content": null,
            "justify_items": null,
            "left": null,
            "margin": null,
            "max_height": null,
            "max_width": null,
            "min_height": null,
            "min_width": null,
            "object_fit": null,
            "object_position": null,
            "order": null,
            "overflow": null,
            "overflow_x": null,
            "overflow_y": null,
            "padding": null,
            "right": null,
            "top": null,
            "visibility": null,
            "width": null
          }
        },
        "14d277bc95b3425a98999343680b5278": {
          "model_module": "@jupyter-widgets/controls",
          "model_name": "DescriptionStyleModel",
          "model_module_version": "1.5.0",
          "state": {
            "_model_module": "@jupyter-widgets/controls",
            "_model_module_version": "1.5.0",
            "_model_name": "DescriptionStyleModel",
            "_view_count": null,
            "_view_module": "@jupyter-widgets/base",
            "_view_module_version": "1.2.0",
            "_view_name": "StyleView",
            "description_width": ""
          }
        },
        "1535a8ca19344f13acd2e82dc2ce57d7": {
          "model_module": "@jupyter-widgets/controls",
          "model_name": "HBoxModel",
          "model_module_version": "1.5.0",
          "state": {
            "_dom_classes": [],
            "_model_module": "@jupyter-widgets/controls",
            "_model_module_version": "1.5.0",
            "_model_name": "HBoxModel",
            "_view_count": null,
            "_view_module": "@jupyter-widgets/controls",
            "_view_module_version": "1.5.0",
            "_view_name": "HBoxView",
            "box_style": "",
            "children": [
              "IPY_MODEL_1e7d4f44281448d982f331cbaece1cf6",
              "IPY_MODEL_cc1f51a3f7974a27a3605f4eb82eea5c",
              "IPY_MODEL_7563412f02a14d039b3512ee32134c21"
            ],
            "layout": "IPY_MODEL_03610c135ab24442a38b8c36f9cd2f18"
          }
        },
        "1e7d4f44281448d982f331cbaece1cf6": {
          "model_module": "@jupyter-widgets/controls",
          "model_name": "HTMLModel",
          "model_module_version": "1.5.0",
          "state": {
            "_dom_classes": [],
            "_model_module": "@jupyter-widgets/controls",
            "_model_module_version": "1.5.0",
            "_model_name": "HTMLModel",
            "_view_count": null,
            "_view_module": "@jupyter-widgets/controls",
            "_view_module_version": "1.5.0",
            "_view_name": "HTMLView",
            "description": "",
            "description_tooltip": null,
            "layout": "IPY_MODEL_8ce6fe1cb69242b28a67e533809beac0",
            "placeholder": "​",
            "style": "IPY_MODEL_b0818cef2ef845ccbb9eb1fe8ac618d5",
            "value": "Evaluating: 100%"
          }
        },
        "cc1f51a3f7974a27a3605f4eb82eea5c": {
          "model_module": "@jupyter-widgets/controls",
          "model_name": "FloatProgressModel",
          "model_module_version": "1.5.0",
          "state": {
            "_dom_classes": [],
            "_model_module": "@jupyter-widgets/controls",
            "_model_module_version": "1.5.0",
            "_model_name": "FloatProgressModel",
            "_view_count": null,
            "_view_module": "@jupyter-widgets/controls",
            "_view_module_version": "1.5.0",
            "_view_name": "ProgressView",
            "bar_style": "success",
            "description": "",
            "description_tooltip": null,
            "layout": "IPY_MODEL_136e877255864210aed5da6026fb2e12",
            "max": 239,
            "min": 0,
            "orientation": "horizontal",
            "style": "IPY_MODEL_3eb952082a124ba6a64d94acf76e54fd",
            "value": 239
          }
        },
        "7563412f02a14d039b3512ee32134c21": {
          "model_module": "@jupyter-widgets/controls",
          "model_name": "HTMLModel",
          "model_module_version": "1.5.0",
          "state": {
            "_dom_classes": [],
            "_model_module": "@jupyter-widgets/controls",
            "_model_module_version": "1.5.0",
            "_model_name": "HTMLModel",
            "_view_count": null,
            "_view_module": "@jupyter-widgets/controls",
            "_view_module_version": "1.5.0",
            "_view_name": "HTMLView",
            "description": "",
            "description_tooltip": null,
            "layout": "IPY_MODEL_71cd27d97ebb4c2daacba6f64dbd07ec",
            "placeholder": "​",
            "style": "IPY_MODEL_fa15d44e6c6247b5a0bd339f0841d0fa",
            "value": " 239/239 [00:04&lt;00:00, 53.55it/s]"
          }
        },
        "03610c135ab24442a38b8c36f9cd2f18": {
          "model_module": "@jupyter-widgets/base",
          "model_name": "LayoutModel",
          "model_module_version": "1.2.0",
          "state": {
            "_model_module": "@jupyter-widgets/base",
            "_model_module_version": "1.2.0",
            "_model_name": "LayoutModel",
            "_view_count": null,
            "_view_module": "@jupyter-widgets/base",
            "_view_module_version": "1.2.0",
            "_view_name": "LayoutView",
            "align_content": null,
            "align_items": null,
            "align_self": null,
            "border": null,
            "bottom": null,
            "display": null,
            "flex": null,
            "flex_flow": null,
            "grid_area": null,
            "grid_auto_columns": null,
            "grid_auto_flow": null,
            "grid_auto_rows": null,
            "grid_column": null,
            "grid_gap": null,
            "grid_row": null,
            "grid_template_areas": null,
            "grid_template_columns": null,
            "grid_template_rows": null,
            "height": null,
            "justify_content": null,
            "justify_items": null,
            "left": null,
            "margin": null,
            "max_height": null,
            "max_width": null,
            "min_height": null,
            "min_width": null,
            "object_fit": null,
            "object_position": null,
            "order": null,
            "overflow": null,
            "overflow_x": null,
            "overflow_y": null,
            "padding": null,
            "right": null,
            "top": null,
            "visibility": null,
            "width": null
          }
        },
        "8ce6fe1cb69242b28a67e533809beac0": {
          "model_module": "@jupyter-widgets/base",
          "model_name": "LayoutModel",
          "model_module_version": "1.2.0",
          "state": {
            "_model_module": "@jupyter-widgets/base",
            "_model_module_version": "1.2.0",
            "_model_name": "LayoutModel",
            "_view_count": null,
            "_view_module": "@jupyter-widgets/base",
            "_view_module_version": "1.2.0",
            "_view_name": "LayoutView",
            "align_content": null,
            "align_items": null,
            "align_self": null,
            "border": null,
            "bottom": null,
            "display": null,
            "flex": null,
            "flex_flow": null,
            "grid_area": null,
            "grid_auto_columns": null,
            "grid_auto_flow": null,
            "grid_auto_rows": null,
            "grid_column": null,
            "grid_gap": null,
            "grid_row": null,
            "grid_template_areas": null,
            "grid_template_columns": null,
            "grid_template_rows": null,
            "height": null,
            "justify_content": null,
            "justify_items": null,
            "left": null,
            "margin": null,
            "max_height": null,
            "max_width": null,
            "min_height": null,
            "min_width": null,
            "object_fit": null,
            "object_position": null,
            "order": null,
            "overflow": null,
            "overflow_x": null,
            "overflow_y": null,
            "padding": null,
            "right": null,
            "top": null,
            "visibility": null,
            "width": null
          }
        },
        "b0818cef2ef845ccbb9eb1fe8ac618d5": {
          "model_module": "@jupyter-widgets/controls",
          "model_name": "DescriptionStyleModel",
          "model_module_version": "1.5.0",
          "state": {
            "_model_module": "@jupyter-widgets/controls",
            "_model_module_version": "1.5.0",
            "_model_name": "DescriptionStyleModel",
            "_view_count": null,
            "_view_module": "@jupyter-widgets/base",
            "_view_module_version": "1.2.0",
            "_view_name": "StyleView",
            "description_width": ""
          }
        },
        "136e877255864210aed5da6026fb2e12": {
          "model_module": "@jupyter-widgets/base",
          "model_name": "LayoutModel",
          "model_module_version": "1.2.0",
          "state": {
            "_model_module": "@jupyter-widgets/base",
            "_model_module_version": "1.2.0",
            "_model_name": "LayoutModel",
            "_view_count": null,
            "_view_module": "@jupyter-widgets/base",
            "_view_module_version": "1.2.0",
            "_view_name": "LayoutView",
            "align_content": null,
            "align_items": null,
            "align_self": null,
            "border": null,
            "bottom": null,
            "display": null,
            "flex": null,
            "flex_flow": null,
            "grid_area": null,
            "grid_auto_columns": null,
            "grid_auto_flow": null,
            "grid_auto_rows": null,
            "grid_column": null,
            "grid_gap": null,
            "grid_row": null,
            "grid_template_areas": null,
            "grid_template_columns": null,
            "grid_template_rows": null,
            "height": null,
            "justify_content": null,
            "justify_items": null,
            "left": null,
            "margin": null,
            "max_height": null,
            "max_width": null,
            "min_height": null,
            "min_width": null,
            "object_fit": null,
            "object_position": null,
            "order": null,
            "overflow": null,
            "overflow_x": null,
            "overflow_y": null,
            "padding": null,
            "right": null,
            "top": null,
            "visibility": null,
            "width": null
          }
        },
        "3eb952082a124ba6a64d94acf76e54fd": {
          "model_module": "@jupyter-widgets/controls",
          "model_name": "ProgressStyleModel",
          "model_module_version": "1.5.0",
          "state": {
            "_model_module": "@jupyter-widgets/controls",
            "_model_module_version": "1.5.0",
            "_model_name": "ProgressStyleModel",
            "_view_count": null,
            "_view_module": "@jupyter-widgets/base",
            "_view_module_version": "1.2.0",
            "_view_name": "StyleView",
            "bar_color": null,
            "description_width": ""
          }
        },
        "71cd27d97ebb4c2daacba6f64dbd07ec": {
          "model_module": "@jupyter-widgets/base",
          "model_name": "LayoutModel",
          "model_module_version": "1.2.0",
          "state": {
            "_model_module": "@jupyter-widgets/base",
            "_model_module_version": "1.2.0",
            "_model_name": "LayoutModel",
            "_view_count": null,
            "_view_module": "@jupyter-widgets/base",
            "_view_module_version": "1.2.0",
            "_view_name": "LayoutView",
            "align_content": null,
            "align_items": null,
            "align_self": null,
            "border": null,
            "bottom": null,
            "display": null,
            "flex": null,
            "flex_flow": null,
            "grid_area": null,
            "grid_auto_columns": null,
            "grid_auto_flow": null,
            "grid_auto_rows": null,
            "grid_column": null,
            "grid_gap": null,
            "grid_row": null,
            "grid_template_areas": null,
            "grid_template_columns": null,
            "grid_template_rows": null,
            "height": null,
            "justify_content": null,
            "justify_items": null,
            "left": null,
            "margin": null,
            "max_height": null,
            "max_width": null,
            "min_height": null,
            "min_width": null,
            "object_fit": null,
            "object_position": null,
            "order": null,
            "overflow": null,
            "overflow_x": null,
            "overflow_y": null,
            "padding": null,
            "right": null,
            "top": null,
            "visibility": null,
            "width": null
          }
        },
        "fa15d44e6c6247b5a0bd339f0841d0fa": {
          "model_module": "@jupyter-widgets/controls",
          "model_name": "DescriptionStyleModel",
          "model_module_version": "1.5.0",
          "state": {
            "_model_module": "@jupyter-widgets/controls",
            "_model_module_version": "1.5.0",
            "_model_name": "DescriptionStyleModel",
            "_view_count": null,
            "_view_module": "@jupyter-widgets/base",
            "_view_module_version": "1.2.0",
            "_view_name": "StyleView",
            "description_width": ""
          }
        },
        "d0d482aa57ef429a964f4691a76661d8": {
          "model_module": "@jupyter-widgets/controls",
          "model_name": "HBoxModel",
          "model_module_version": "1.5.0",
          "state": {
            "_dom_classes": [],
            "_model_module": "@jupyter-widgets/controls",
            "_model_module_version": "1.5.0",
            "_model_name": "HBoxModel",
            "_view_count": null,
            "_view_module": "@jupyter-widgets/controls",
            "_view_module_version": "1.5.0",
            "_view_name": "HBoxView",
            "box_style": "",
            "children": [
              "IPY_MODEL_4bc46e45423b4d22a4a22b90a82419b1",
              "IPY_MODEL_13c918b1369e425fad10909ede20daff",
              "IPY_MODEL_8a269d661e56444cabe96f682a5f8770"
            ],
            "layout": "IPY_MODEL_9e5f3410e1d14528af739d08664cce8d"
          }
        },
        "4bc46e45423b4d22a4a22b90a82419b1": {
          "model_module": "@jupyter-widgets/controls",
          "model_name": "HTMLModel",
          "model_module_version": "1.5.0",
          "state": {
            "_dom_classes": [],
            "_model_module": "@jupyter-widgets/controls",
            "_model_module_version": "1.5.0",
            "_model_name": "HTMLModel",
            "_view_count": null,
            "_view_module": "@jupyter-widgets/controls",
            "_view_module_version": "1.5.0",
            "_view_name": "HTMLView",
            "description": "",
            "description_tooltip": null,
            "layout": "IPY_MODEL_f7cdf730353e47aebcfc85d6ad790a3a",
            "placeholder": "​",
            "style": "IPY_MODEL_edcf68b8edd041bda857a27bf514188e",
            "value": "Evaluating: 100%"
          }
        },
        "13c918b1369e425fad10909ede20daff": {
          "model_module": "@jupyter-widgets/controls",
          "model_name": "FloatProgressModel",
          "model_module_version": "1.5.0",
          "state": {
            "_dom_classes": [],
            "_model_module": "@jupyter-widgets/controls",
            "_model_module_version": "1.5.0",
            "_model_name": "FloatProgressModel",
            "_view_count": null,
            "_view_module": "@jupyter-widgets/controls",
            "_view_module_version": "1.5.0",
            "_view_name": "ProgressView",
            "bar_style": "success",
            "description": "",
            "description_tooltip": null,
            "layout": "IPY_MODEL_a208dd847f904936844d12c42d939c0b",
            "max": 239,
            "min": 0,
            "orientation": "horizontal",
            "style": "IPY_MODEL_5dddc98f714647788ec85b2b4e50b45b",
            "value": 239
          }
        },
        "8a269d661e56444cabe96f682a5f8770": {
          "model_module": "@jupyter-widgets/controls",
          "model_name": "HTMLModel",
          "model_module_version": "1.5.0",
          "state": {
            "_dom_classes": [],
            "_model_module": "@jupyter-widgets/controls",
            "_model_module_version": "1.5.0",
            "_model_name": "HTMLModel",
            "_view_count": null,
            "_view_module": "@jupyter-widgets/controls",
            "_view_module_version": "1.5.0",
            "_view_name": "HTMLView",
            "description": "",
            "description_tooltip": null,
            "layout": "IPY_MODEL_92ca7cb9b2d44b7688a17ae9a4af8dc6",
            "placeholder": "​",
            "style": "IPY_MODEL_5ed8c9deba954abab4ee0fbfdfcc667a",
            "value": " 239/239 [00:03&lt;00:00, 74.40it/s]"
          }
        },
        "9e5f3410e1d14528af739d08664cce8d": {
          "model_module": "@jupyter-widgets/base",
          "model_name": "LayoutModel",
          "model_module_version": "1.2.0",
          "state": {
            "_model_module": "@jupyter-widgets/base",
            "_model_module_version": "1.2.0",
            "_model_name": "LayoutModel",
            "_view_count": null,
            "_view_module": "@jupyter-widgets/base",
            "_view_module_version": "1.2.0",
            "_view_name": "LayoutView",
            "align_content": null,
            "align_items": null,
            "align_self": null,
            "border": null,
            "bottom": null,
            "display": null,
            "flex": null,
            "flex_flow": null,
            "grid_area": null,
            "grid_auto_columns": null,
            "grid_auto_flow": null,
            "grid_auto_rows": null,
            "grid_column": null,
            "grid_gap": null,
            "grid_row": null,
            "grid_template_areas": null,
            "grid_template_columns": null,
            "grid_template_rows": null,
            "height": null,
            "justify_content": null,
            "justify_items": null,
            "left": null,
            "margin": null,
            "max_height": null,
            "max_width": null,
            "min_height": null,
            "min_width": null,
            "object_fit": null,
            "object_position": null,
            "order": null,
            "overflow": null,
            "overflow_x": null,
            "overflow_y": null,
            "padding": null,
            "right": null,
            "top": null,
            "visibility": null,
            "width": null
          }
        },
        "f7cdf730353e47aebcfc85d6ad790a3a": {
          "model_module": "@jupyter-widgets/base",
          "model_name": "LayoutModel",
          "model_module_version": "1.2.0",
          "state": {
            "_model_module": "@jupyter-widgets/base",
            "_model_module_version": "1.2.0",
            "_model_name": "LayoutModel",
            "_view_count": null,
            "_view_module": "@jupyter-widgets/base",
            "_view_module_version": "1.2.0",
            "_view_name": "LayoutView",
            "align_content": null,
            "align_items": null,
            "align_self": null,
            "border": null,
            "bottom": null,
            "display": null,
            "flex": null,
            "flex_flow": null,
            "grid_area": null,
            "grid_auto_columns": null,
            "grid_auto_flow": null,
            "grid_auto_rows": null,
            "grid_column": null,
            "grid_gap": null,
            "grid_row": null,
            "grid_template_areas": null,
            "grid_template_columns": null,
            "grid_template_rows": null,
            "height": null,
            "justify_content": null,
            "justify_items": null,
            "left": null,
            "margin": null,
            "max_height": null,
            "max_width": null,
            "min_height": null,
            "min_width": null,
            "object_fit": null,
            "object_position": null,
            "order": null,
            "overflow": null,
            "overflow_x": null,
            "overflow_y": null,
            "padding": null,
            "right": null,
            "top": null,
            "visibility": null,
            "width": null
          }
        },
        "edcf68b8edd041bda857a27bf514188e": {
          "model_module": "@jupyter-widgets/controls",
          "model_name": "DescriptionStyleModel",
          "model_module_version": "1.5.0",
          "state": {
            "_model_module": "@jupyter-widgets/controls",
            "_model_module_version": "1.5.0",
            "_model_name": "DescriptionStyleModel",
            "_view_count": null,
            "_view_module": "@jupyter-widgets/base",
            "_view_module_version": "1.2.0",
            "_view_name": "StyleView",
            "description_width": ""
          }
        },
        "a208dd847f904936844d12c42d939c0b": {
          "model_module": "@jupyter-widgets/base",
          "model_name": "LayoutModel",
          "model_module_version": "1.2.0",
          "state": {
            "_model_module": "@jupyter-widgets/base",
            "_model_module_version": "1.2.0",
            "_model_name": "LayoutModel",
            "_view_count": null,
            "_view_module": "@jupyter-widgets/base",
            "_view_module_version": "1.2.0",
            "_view_name": "LayoutView",
            "align_content": null,
            "align_items": null,
            "align_self": null,
            "border": null,
            "bottom": null,
            "display": null,
            "flex": null,
            "flex_flow": null,
            "grid_area": null,
            "grid_auto_columns": null,
            "grid_auto_flow": null,
            "grid_auto_rows": null,
            "grid_column": null,
            "grid_gap": null,
            "grid_row": null,
            "grid_template_areas": null,
            "grid_template_columns": null,
            "grid_template_rows": null,
            "height": null,
            "justify_content": null,
            "justify_items": null,
            "left": null,
            "margin": null,
            "max_height": null,
            "max_width": null,
            "min_height": null,
            "min_width": null,
            "object_fit": null,
            "object_position": null,
            "order": null,
            "overflow": null,
            "overflow_x": null,
            "overflow_y": null,
            "padding": null,
            "right": null,
            "top": null,
            "visibility": null,
            "width": null
          }
        },
        "5dddc98f714647788ec85b2b4e50b45b": {
          "model_module": "@jupyter-widgets/controls",
          "model_name": "ProgressStyleModel",
          "model_module_version": "1.5.0",
          "state": {
            "_model_module": "@jupyter-widgets/controls",
            "_model_module_version": "1.5.0",
            "_model_name": "ProgressStyleModel",
            "_view_count": null,
            "_view_module": "@jupyter-widgets/base",
            "_view_module_version": "1.2.0",
            "_view_name": "StyleView",
            "bar_color": null,
            "description_width": ""
          }
        },
        "92ca7cb9b2d44b7688a17ae9a4af8dc6": {
          "model_module": "@jupyter-widgets/base",
          "model_name": "LayoutModel",
          "model_module_version": "1.2.0",
          "state": {
            "_model_module": "@jupyter-widgets/base",
            "_model_module_version": "1.2.0",
            "_model_name": "LayoutModel",
            "_view_count": null,
            "_view_module": "@jupyter-widgets/base",
            "_view_module_version": "1.2.0",
            "_view_name": "LayoutView",
            "align_content": null,
            "align_items": null,
            "align_self": null,
            "border": null,
            "bottom": null,
            "display": null,
            "flex": null,
            "flex_flow": null,
            "grid_area": null,
            "grid_auto_columns": null,
            "grid_auto_flow": null,
            "grid_auto_rows": null,
            "grid_column": null,
            "grid_gap": null,
            "grid_row": null,
            "grid_template_areas": null,
            "grid_template_columns": null,
            "grid_template_rows": null,
            "height": null,
            "justify_content": null,
            "justify_items": null,
            "left": null,
            "margin": null,
            "max_height": null,
            "max_width": null,
            "min_height": null,
            "min_width": null,
            "object_fit": null,
            "object_position": null,
            "order": null,
            "overflow": null,
            "overflow_x": null,
            "overflow_y": null,
            "padding": null,
            "right": null,
            "top": null,
            "visibility": null,
            "width": null
          }
        },
        "5ed8c9deba954abab4ee0fbfdfcc667a": {
          "model_module": "@jupyter-widgets/controls",
          "model_name": "DescriptionStyleModel",
          "model_module_version": "1.5.0",
          "state": {
            "_model_module": "@jupyter-widgets/controls",
            "_model_module_version": "1.5.0",
            "_model_name": "DescriptionStyleModel",
            "_view_count": null,
            "_view_module": "@jupyter-widgets/base",
            "_view_module_version": "1.2.0",
            "_view_name": "StyleView",
            "description_width": ""
          }
        },
        "fca61584683f40e28da07f4a6cb57a53": {
          "model_module": "@jupyter-widgets/controls",
          "model_name": "HBoxModel",
          "model_module_version": "1.5.0",
          "state": {
            "_dom_classes": [],
            "_model_module": "@jupyter-widgets/controls",
            "_model_module_version": "1.5.0",
            "_model_name": "HBoxModel",
            "_view_count": null,
            "_view_module": "@jupyter-widgets/controls",
            "_view_module_version": "1.5.0",
            "_view_name": "HBoxView",
            "box_style": "",
            "children": [
              "IPY_MODEL_b24c8c9858fa43c5b4770b074c1205fa",
              "IPY_MODEL_42d1bfa00e2e4bf7ad8e9ca26299f912",
              "IPY_MODEL_4af7c507a29849d7a246ef722b3ac3d4"
            ],
            "layout": "IPY_MODEL_95fd55e95c5944f18938a052b212bf19"
          }
        },
        "b24c8c9858fa43c5b4770b074c1205fa": {
          "model_module": "@jupyter-widgets/controls",
          "model_name": "HTMLModel",
          "model_module_version": "1.5.0",
          "state": {
            "_dom_classes": [],
            "_model_module": "@jupyter-widgets/controls",
            "_model_module_version": "1.5.0",
            "_model_name": "HTMLModel",
            "_view_count": null,
            "_view_module": "@jupyter-widgets/controls",
            "_view_module_version": "1.5.0",
            "_view_name": "HTMLView",
            "description": "",
            "description_tooltip": null,
            "layout": "IPY_MODEL_38e0d49bceb04bf8aac5f1d1743e2389",
            "placeholder": "​",
            "style": "IPY_MODEL_4dd1430fd82b4395abddfeb88c74867f",
            "value": "Evaluating: 100%"
          }
        },
        "42d1bfa00e2e4bf7ad8e9ca26299f912": {
          "model_module": "@jupyter-widgets/controls",
          "model_name": "FloatProgressModel",
          "model_module_version": "1.5.0",
          "state": {
            "_dom_classes": [],
            "_model_module": "@jupyter-widgets/controls",
            "_model_module_version": "1.5.0",
            "_model_name": "FloatProgressModel",
            "_view_count": null,
            "_view_module": "@jupyter-widgets/controls",
            "_view_module_version": "1.5.0",
            "_view_name": "ProgressView",
            "bar_style": "success",
            "description": "",
            "description_tooltip": null,
            "layout": "IPY_MODEL_83ce24e5dc2a4617bf5f3133341f462e",
            "max": 239,
            "min": 0,
            "orientation": "horizontal",
            "style": "IPY_MODEL_6286af4d61f7447bb935e9519566461b",
            "value": 239
          }
        },
        "4af7c507a29849d7a246ef722b3ac3d4": {
          "model_module": "@jupyter-widgets/controls",
          "model_name": "HTMLModel",
          "model_module_version": "1.5.0",
          "state": {
            "_dom_classes": [],
            "_model_module": "@jupyter-widgets/controls",
            "_model_module_version": "1.5.0",
            "_model_name": "HTMLModel",
            "_view_count": null,
            "_view_module": "@jupyter-widgets/controls",
            "_view_module_version": "1.5.0",
            "_view_name": "HTMLView",
            "description": "",
            "description_tooltip": null,
            "layout": "IPY_MODEL_d16f0d4f8d1a4d3eb99898cee92f4968",
            "placeholder": "​",
            "style": "IPY_MODEL_d27bc50fabbd4c88b5944abb7a888cab",
            "value": " 239/239 [00:03&lt;00:00, 79.39it/s]"
          }
        },
        "95fd55e95c5944f18938a052b212bf19": {
          "model_module": "@jupyter-widgets/base",
          "model_name": "LayoutModel",
          "model_module_version": "1.2.0",
          "state": {
            "_model_module": "@jupyter-widgets/base",
            "_model_module_version": "1.2.0",
            "_model_name": "LayoutModel",
            "_view_count": null,
            "_view_module": "@jupyter-widgets/base",
            "_view_module_version": "1.2.0",
            "_view_name": "LayoutView",
            "align_content": null,
            "align_items": null,
            "align_self": null,
            "border": null,
            "bottom": null,
            "display": null,
            "flex": null,
            "flex_flow": null,
            "grid_area": null,
            "grid_auto_columns": null,
            "grid_auto_flow": null,
            "grid_auto_rows": null,
            "grid_column": null,
            "grid_gap": null,
            "grid_row": null,
            "grid_template_areas": null,
            "grid_template_columns": null,
            "grid_template_rows": null,
            "height": null,
            "justify_content": null,
            "justify_items": null,
            "left": null,
            "margin": null,
            "max_height": null,
            "max_width": null,
            "min_height": null,
            "min_width": null,
            "object_fit": null,
            "object_position": null,
            "order": null,
            "overflow": null,
            "overflow_x": null,
            "overflow_y": null,
            "padding": null,
            "right": null,
            "top": null,
            "visibility": null,
            "width": null
          }
        },
        "38e0d49bceb04bf8aac5f1d1743e2389": {
          "model_module": "@jupyter-widgets/base",
          "model_name": "LayoutModel",
          "model_module_version": "1.2.0",
          "state": {
            "_model_module": "@jupyter-widgets/base",
            "_model_module_version": "1.2.0",
            "_model_name": "LayoutModel",
            "_view_count": null,
            "_view_module": "@jupyter-widgets/base",
            "_view_module_version": "1.2.0",
            "_view_name": "LayoutView",
            "align_content": null,
            "align_items": null,
            "align_self": null,
            "border": null,
            "bottom": null,
            "display": null,
            "flex": null,
            "flex_flow": null,
            "grid_area": null,
            "grid_auto_columns": null,
            "grid_auto_flow": null,
            "grid_auto_rows": null,
            "grid_column": null,
            "grid_gap": null,
            "grid_row": null,
            "grid_template_areas": null,
            "grid_template_columns": null,
            "grid_template_rows": null,
            "height": null,
            "justify_content": null,
            "justify_items": null,
            "left": null,
            "margin": null,
            "max_height": null,
            "max_width": null,
            "min_height": null,
            "min_width": null,
            "object_fit": null,
            "object_position": null,
            "order": null,
            "overflow": null,
            "overflow_x": null,
            "overflow_y": null,
            "padding": null,
            "right": null,
            "top": null,
            "visibility": null,
            "width": null
          }
        },
        "4dd1430fd82b4395abddfeb88c74867f": {
          "model_module": "@jupyter-widgets/controls",
          "model_name": "DescriptionStyleModel",
          "model_module_version": "1.5.0",
          "state": {
            "_model_module": "@jupyter-widgets/controls",
            "_model_module_version": "1.5.0",
            "_model_name": "DescriptionStyleModel",
            "_view_count": null,
            "_view_module": "@jupyter-widgets/base",
            "_view_module_version": "1.2.0",
            "_view_name": "StyleView",
            "description_width": ""
          }
        },
        "83ce24e5dc2a4617bf5f3133341f462e": {
          "model_module": "@jupyter-widgets/base",
          "model_name": "LayoutModel",
          "model_module_version": "1.2.0",
          "state": {
            "_model_module": "@jupyter-widgets/base",
            "_model_module_version": "1.2.0",
            "_model_name": "LayoutModel",
            "_view_count": null,
            "_view_module": "@jupyter-widgets/base",
            "_view_module_version": "1.2.0",
            "_view_name": "LayoutView",
            "align_content": null,
            "align_items": null,
            "align_self": null,
            "border": null,
            "bottom": null,
            "display": null,
            "flex": null,
            "flex_flow": null,
            "grid_area": null,
            "grid_auto_columns": null,
            "grid_auto_flow": null,
            "grid_auto_rows": null,
            "grid_column": null,
            "grid_gap": null,
            "grid_row": null,
            "grid_template_areas": null,
            "grid_template_columns": null,
            "grid_template_rows": null,
            "height": null,
            "justify_content": null,
            "justify_items": null,
            "left": null,
            "margin": null,
            "max_height": null,
            "max_width": null,
            "min_height": null,
            "min_width": null,
            "object_fit": null,
            "object_position": null,
            "order": null,
            "overflow": null,
            "overflow_x": null,
            "overflow_y": null,
            "padding": null,
            "right": null,
            "top": null,
            "visibility": null,
            "width": null
          }
        },
        "6286af4d61f7447bb935e9519566461b": {
          "model_module": "@jupyter-widgets/controls",
          "model_name": "ProgressStyleModel",
          "model_module_version": "1.5.0",
          "state": {
            "_model_module": "@jupyter-widgets/controls",
            "_model_module_version": "1.5.0",
            "_model_name": "ProgressStyleModel",
            "_view_count": null,
            "_view_module": "@jupyter-widgets/base",
            "_view_module_version": "1.2.0",
            "_view_name": "StyleView",
            "bar_color": null,
            "description_width": ""
          }
        },
        "d16f0d4f8d1a4d3eb99898cee92f4968": {
          "model_module": "@jupyter-widgets/base",
          "model_name": "LayoutModel",
          "model_module_version": "1.2.0",
          "state": {
            "_model_module": "@jupyter-widgets/base",
            "_model_module_version": "1.2.0",
            "_model_name": "LayoutModel",
            "_view_count": null,
            "_view_module": "@jupyter-widgets/base",
            "_view_module_version": "1.2.0",
            "_view_name": "LayoutView",
            "align_content": null,
            "align_items": null,
            "align_self": null,
            "border": null,
            "bottom": null,
            "display": null,
            "flex": null,
            "flex_flow": null,
            "grid_area": null,
            "grid_auto_columns": null,
            "grid_auto_flow": null,
            "grid_auto_rows": null,
            "grid_column": null,
            "grid_gap": null,
            "grid_row": null,
            "grid_template_areas": null,
            "grid_template_columns": null,
            "grid_template_rows": null,
            "height": null,
            "justify_content": null,
            "justify_items": null,
            "left": null,
            "margin": null,
            "max_height": null,
            "max_width": null,
            "min_height": null,
            "min_width": null,
            "object_fit": null,
            "object_position": null,
            "order": null,
            "overflow": null,
            "overflow_x": null,
            "overflow_y": null,
            "padding": null,
            "right": null,
            "top": null,
            "visibility": null,
            "width": null
          }
        },
        "d27bc50fabbd4c88b5944abb7a888cab": {
          "model_module": "@jupyter-widgets/controls",
          "model_name": "DescriptionStyleModel",
          "model_module_version": "1.5.0",
          "state": {
            "_model_module": "@jupyter-widgets/controls",
            "_model_module_version": "1.5.0",
            "_model_name": "DescriptionStyleModel",
            "_view_count": null,
            "_view_module": "@jupyter-widgets/base",
            "_view_module_version": "1.2.0",
            "_view_name": "StyleView",
            "description_width": ""
          }
        },
        "646f4fd0f35d4c4788c0fd46958bc586": {
          "model_module": "@jupyter-widgets/controls",
          "model_name": "HBoxModel",
          "model_module_version": "1.5.0",
          "state": {
            "_dom_classes": [],
            "_model_module": "@jupyter-widgets/controls",
            "_model_module_version": "1.5.0",
            "_model_name": "HBoxModel",
            "_view_count": null,
            "_view_module": "@jupyter-widgets/controls",
            "_view_module_version": "1.5.0",
            "_view_name": "HBoxView",
            "box_style": "",
            "children": [
              "IPY_MODEL_87bb03270b85443883add955f86f9e9a",
              "IPY_MODEL_9904f5082da8443b882fa7bb5c28cbd6",
              "IPY_MODEL_986707e32ae9471cb2a6c1e8feb6c0c8"
            ],
            "layout": "IPY_MODEL_04405183c7694432b2604414024957db"
          }
        },
        "87bb03270b85443883add955f86f9e9a": {
          "model_module": "@jupyter-widgets/controls",
          "model_name": "HTMLModel",
          "model_module_version": "1.5.0",
          "state": {
            "_dom_classes": [],
            "_model_module": "@jupyter-widgets/controls",
            "_model_module_version": "1.5.0",
            "_model_name": "HTMLModel",
            "_view_count": null,
            "_view_module": "@jupyter-widgets/controls",
            "_view_module_version": "1.5.0",
            "_view_name": "HTMLView",
            "description": "",
            "description_tooltip": null,
            "layout": "IPY_MODEL_cf18a437353742409d19b9999b82ac21",
            "placeholder": "​",
            "style": "IPY_MODEL_1755aca79db2417c956ebf6ca303330e",
            "value": "Evaluating: 100%"
          }
        },
        "9904f5082da8443b882fa7bb5c28cbd6": {
          "model_module": "@jupyter-widgets/controls",
          "model_name": "FloatProgressModel",
          "model_module_version": "1.5.0",
          "state": {
            "_dom_classes": [],
            "_model_module": "@jupyter-widgets/controls",
            "_model_module_version": "1.5.0",
            "_model_name": "FloatProgressModel",
            "_view_count": null,
            "_view_module": "@jupyter-widgets/controls",
            "_view_module_version": "1.5.0",
            "_view_name": "ProgressView",
            "bar_style": "success",
            "description": "",
            "description_tooltip": null,
            "layout": "IPY_MODEL_a7060252f2234d66adaa1022d0399590",
            "max": 239,
            "min": 0,
            "orientation": "horizontal",
            "style": "IPY_MODEL_beb4a21f58874972ad736dd4c76015eb",
            "value": 239
          }
        },
        "986707e32ae9471cb2a6c1e8feb6c0c8": {
          "model_module": "@jupyter-widgets/controls",
          "model_name": "HTMLModel",
          "model_module_version": "1.5.0",
          "state": {
            "_dom_classes": [],
            "_model_module": "@jupyter-widgets/controls",
            "_model_module_version": "1.5.0",
            "_model_name": "HTMLModel",
            "_view_count": null,
            "_view_module": "@jupyter-widgets/controls",
            "_view_module_version": "1.5.0",
            "_view_name": "HTMLView",
            "description": "",
            "description_tooltip": null,
            "layout": "IPY_MODEL_70512e20f33d4e668a65ce3536151ed9",
            "placeholder": "​",
            "style": "IPY_MODEL_d9d7da876e9440cb8155469c34d510c5",
            "value": " 239/239 [00:04&lt;00:00, 54.62it/s]"
          }
        },
        "04405183c7694432b2604414024957db": {
          "model_module": "@jupyter-widgets/base",
          "model_name": "LayoutModel",
          "model_module_version": "1.2.0",
          "state": {
            "_model_module": "@jupyter-widgets/base",
            "_model_module_version": "1.2.0",
            "_model_name": "LayoutModel",
            "_view_count": null,
            "_view_module": "@jupyter-widgets/base",
            "_view_module_version": "1.2.0",
            "_view_name": "LayoutView",
            "align_content": null,
            "align_items": null,
            "align_self": null,
            "border": null,
            "bottom": null,
            "display": null,
            "flex": null,
            "flex_flow": null,
            "grid_area": null,
            "grid_auto_columns": null,
            "grid_auto_flow": null,
            "grid_auto_rows": null,
            "grid_column": null,
            "grid_gap": null,
            "grid_row": null,
            "grid_template_areas": null,
            "grid_template_columns": null,
            "grid_template_rows": null,
            "height": null,
            "justify_content": null,
            "justify_items": null,
            "left": null,
            "margin": null,
            "max_height": null,
            "max_width": null,
            "min_height": null,
            "min_width": null,
            "object_fit": null,
            "object_position": null,
            "order": null,
            "overflow": null,
            "overflow_x": null,
            "overflow_y": null,
            "padding": null,
            "right": null,
            "top": null,
            "visibility": null,
            "width": null
          }
        },
        "cf18a437353742409d19b9999b82ac21": {
          "model_module": "@jupyter-widgets/base",
          "model_name": "LayoutModel",
          "model_module_version": "1.2.0",
          "state": {
            "_model_module": "@jupyter-widgets/base",
            "_model_module_version": "1.2.0",
            "_model_name": "LayoutModel",
            "_view_count": null,
            "_view_module": "@jupyter-widgets/base",
            "_view_module_version": "1.2.0",
            "_view_name": "LayoutView",
            "align_content": null,
            "align_items": null,
            "align_self": null,
            "border": null,
            "bottom": null,
            "display": null,
            "flex": null,
            "flex_flow": null,
            "grid_area": null,
            "grid_auto_columns": null,
            "grid_auto_flow": null,
            "grid_auto_rows": null,
            "grid_column": null,
            "grid_gap": null,
            "grid_row": null,
            "grid_template_areas": null,
            "grid_template_columns": null,
            "grid_template_rows": null,
            "height": null,
            "justify_content": null,
            "justify_items": null,
            "left": null,
            "margin": null,
            "max_height": null,
            "max_width": null,
            "min_height": null,
            "min_width": null,
            "object_fit": null,
            "object_position": null,
            "order": null,
            "overflow": null,
            "overflow_x": null,
            "overflow_y": null,
            "padding": null,
            "right": null,
            "top": null,
            "visibility": null,
            "width": null
          }
        },
        "1755aca79db2417c956ebf6ca303330e": {
          "model_module": "@jupyter-widgets/controls",
          "model_name": "DescriptionStyleModel",
          "model_module_version": "1.5.0",
          "state": {
            "_model_module": "@jupyter-widgets/controls",
            "_model_module_version": "1.5.0",
            "_model_name": "DescriptionStyleModel",
            "_view_count": null,
            "_view_module": "@jupyter-widgets/base",
            "_view_module_version": "1.2.0",
            "_view_name": "StyleView",
            "description_width": ""
          }
        },
        "a7060252f2234d66adaa1022d0399590": {
          "model_module": "@jupyter-widgets/base",
          "model_name": "LayoutModel",
          "model_module_version": "1.2.0",
          "state": {
            "_model_module": "@jupyter-widgets/base",
            "_model_module_version": "1.2.0",
            "_model_name": "LayoutModel",
            "_view_count": null,
            "_view_module": "@jupyter-widgets/base",
            "_view_module_version": "1.2.0",
            "_view_name": "LayoutView",
            "align_content": null,
            "align_items": null,
            "align_self": null,
            "border": null,
            "bottom": null,
            "display": null,
            "flex": null,
            "flex_flow": null,
            "grid_area": null,
            "grid_auto_columns": null,
            "grid_auto_flow": null,
            "grid_auto_rows": null,
            "grid_column": null,
            "grid_gap": null,
            "grid_row": null,
            "grid_template_areas": null,
            "grid_template_columns": null,
            "grid_template_rows": null,
            "height": null,
            "justify_content": null,
            "justify_items": null,
            "left": null,
            "margin": null,
            "max_height": null,
            "max_width": null,
            "min_height": null,
            "min_width": null,
            "object_fit": null,
            "object_position": null,
            "order": null,
            "overflow": null,
            "overflow_x": null,
            "overflow_y": null,
            "padding": null,
            "right": null,
            "top": null,
            "visibility": null,
            "width": null
          }
        },
        "beb4a21f58874972ad736dd4c76015eb": {
          "model_module": "@jupyter-widgets/controls",
          "model_name": "ProgressStyleModel",
          "model_module_version": "1.5.0",
          "state": {
            "_model_module": "@jupyter-widgets/controls",
            "_model_module_version": "1.5.0",
            "_model_name": "ProgressStyleModel",
            "_view_count": null,
            "_view_module": "@jupyter-widgets/base",
            "_view_module_version": "1.2.0",
            "_view_name": "StyleView",
            "bar_color": null,
            "description_width": ""
          }
        },
        "70512e20f33d4e668a65ce3536151ed9": {
          "model_module": "@jupyter-widgets/base",
          "model_name": "LayoutModel",
          "model_module_version": "1.2.0",
          "state": {
            "_model_module": "@jupyter-widgets/base",
            "_model_module_version": "1.2.0",
            "_model_name": "LayoutModel",
            "_view_count": null,
            "_view_module": "@jupyter-widgets/base",
            "_view_module_version": "1.2.0",
            "_view_name": "LayoutView",
            "align_content": null,
            "align_items": null,
            "align_self": null,
            "border": null,
            "bottom": null,
            "display": null,
            "flex": null,
            "flex_flow": null,
            "grid_area": null,
            "grid_auto_columns": null,
            "grid_auto_flow": null,
            "grid_auto_rows": null,
            "grid_column": null,
            "grid_gap": null,
            "grid_row": null,
            "grid_template_areas": null,
            "grid_template_columns": null,
            "grid_template_rows": null,
            "height": null,
            "justify_content": null,
            "justify_items": null,
            "left": null,
            "margin": null,
            "max_height": null,
            "max_width": null,
            "min_height": null,
            "min_width": null,
            "object_fit": null,
            "object_position": null,
            "order": null,
            "overflow": null,
            "overflow_x": null,
            "overflow_y": null,
            "padding": null,
            "right": null,
            "top": null,
            "visibility": null,
            "width": null
          }
        },
        "d9d7da876e9440cb8155469c34d510c5": {
          "model_module": "@jupyter-widgets/controls",
          "model_name": "DescriptionStyleModel",
          "model_module_version": "1.5.0",
          "state": {
            "_model_module": "@jupyter-widgets/controls",
            "_model_module_version": "1.5.0",
            "_model_name": "DescriptionStyleModel",
            "_view_count": null,
            "_view_module": "@jupyter-widgets/base",
            "_view_module_version": "1.2.0",
            "_view_name": "StyleView",
            "description_width": ""
          }
        },
        "41d7913c92994c1096ec6a92896c1090": {
          "model_module": "@jupyter-widgets/controls",
          "model_name": "HBoxModel",
          "model_module_version": "1.5.0",
          "state": {
            "_dom_classes": [],
            "_model_module": "@jupyter-widgets/controls",
            "_model_module_version": "1.5.0",
            "_model_name": "HBoxModel",
            "_view_count": null,
            "_view_module": "@jupyter-widgets/controls",
            "_view_module_version": "1.5.0",
            "_view_name": "HBoxView",
            "box_style": "",
            "children": [
              "IPY_MODEL_e234aaea9fb3499aba20fb59fe7008fb",
              "IPY_MODEL_48f91a9e27504259aa4dd5e7768dbaa6",
              "IPY_MODEL_9c509b6d40264e64960865821f173cfb"
            ],
            "layout": "IPY_MODEL_a344ee20d9c64f2da949e699f094fae9"
          }
        },
        "e234aaea9fb3499aba20fb59fe7008fb": {
          "model_module": "@jupyter-widgets/controls",
          "model_name": "HTMLModel",
          "model_module_version": "1.5.0",
          "state": {
            "_dom_classes": [],
            "_model_module": "@jupyter-widgets/controls",
            "_model_module_version": "1.5.0",
            "_model_name": "HTMLModel",
            "_view_count": null,
            "_view_module": "@jupyter-widgets/controls",
            "_view_module_version": "1.5.0",
            "_view_name": "HTMLView",
            "description": "",
            "description_tooltip": null,
            "layout": "IPY_MODEL_dbf2a77eeaae4d35a64752dca9a90a7a",
            "placeholder": "​",
            "style": "IPY_MODEL_1730722fdd97439299458d80270347c2",
            "value": "Evaluating: 100%"
          }
        },
        "48f91a9e27504259aa4dd5e7768dbaa6": {
          "model_module": "@jupyter-widgets/controls",
          "model_name": "FloatProgressModel",
          "model_module_version": "1.5.0",
          "state": {
            "_dom_classes": [],
            "_model_module": "@jupyter-widgets/controls",
            "_model_module_version": "1.5.0",
            "_model_name": "FloatProgressModel",
            "_view_count": null,
            "_view_module": "@jupyter-widgets/controls",
            "_view_module_version": "1.5.0",
            "_view_name": "ProgressView",
            "bar_style": "success",
            "description": "",
            "description_tooltip": null,
            "layout": "IPY_MODEL_e705d97e7deb4bfe97ea041487fdec55",
            "max": 239,
            "min": 0,
            "orientation": "horizontal",
            "style": "IPY_MODEL_d5fdf80c6d004866812f0b25bec43bf5",
            "value": 239
          }
        },
        "9c509b6d40264e64960865821f173cfb": {
          "model_module": "@jupyter-widgets/controls",
          "model_name": "HTMLModel",
          "model_module_version": "1.5.0",
          "state": {
            "_dom_classes": [],
            "_model_module": "@jupyter-widgets/controls",
            "_model_module_version": "1.5.0",
            "_model_name": "HTMLModel",
            "_view_count": null,
            "_view_module": "@jupyter-widgets/controls",
            "_view_module_version": "1.5.0",
            "_view_name": "HTMLView",
            "description": "",
            "description_tooltip": null,
            "layout": "IPY_MODEL_4af3b7cb5a2b4ce4b3a738b767510ddd",
            "placeholder": "​",
            "style": "IPY_MODEL_115b8f884743418394325cfc4b1ebddd",
            "value": " 239/239 [00:03&lt;00:00, 75.66it/s]"
          }
        },
        "a344ee20d9c64f2da949e699f094fae9": {
          "model_module": "@jupyter-widgets/base",
          "model_name": "LayoutModel",
          "model_module_version": "1.2.0",
          "state": {
            "_model_module": "@jupyter-widgets/base",
            "_model_module_version": "1.2.0",
            "_model_name": "LayoutModel",
            "_view_count": null,
            "_view_module": "@jupyter-widgets/base",
            "_view_module_version": "1.2.0",
            "_view_name": "LayoutView",
            "align_content": null,
            "align_items": null,
            "align_self": null,
            "border": null,
            "bottom": null,
            "display": null,
            "flex": null,
            "flex_flow": null,
            "grid_area": null,
            "grid_auto_columns": null,
            "grid_auto_flow": null,
            "grid_auto_rows": null,
            "grid_column": null,
            "grid_gap": null,
            "grid_row": null,
            "grid_template_areas": null,
            "grid_template_columns": null,
            "grid_template_rows": null,
            "height": null,
            "justify_content": null,
            "justify_items": null,
            "left": null,
            "margin": null,
            "max_height": null,
            "max_width": null,
            "min_height": null,
            "min_width": null,
            "object_fit": null,
            "object_position": null,
            "order": null,
            "overflow": null,
            "overflow_x": null,
            "overflow_y": null,
            "padding": null,
            "right": null,
            "top": null,
            "visibility": null,
            "width": null
          }
        },
        "dbf2a77eeaae4d35a64752dca9a90a7a": {
          "model_module": "@jupyter-widgets/base",
          "model_name": "LayoutModel",
          "model_module_version": "1.2.0",
          "state": {
            "_model_module": "@jupyter-widgets/base",
            "_model_module_version": "1.2.0",
            "_model_name": "LayoutModel",
            "_view_count": null,
            "_view_module": "@jupyter-widgets/base",
            "_view_module_version": "1.2.0",
            "_view_name": "LayoutView",
            "align_content": null,
            "align_items": null,
            "align_self": null,
            "border": null,
            "bottom": null,
            "display": null,
            "flex": null,
            "flex_flow": null,
            "grid_area": null,
            "grid_auto_columns": null,
            "grid_auto_flow": null,
            "grid_auto_rows": null,
            "grid_column": null,
            "grid_gap": null,
            "grid_row": null,
            "grid_template_areas": null,
            "grid_template_columns": null,
            "grid_template_rows": null,
            "height": null,
            "justify_content": null,
            "justify_items": null,
            "left": null,
            "margin": null,
            "max_height": null,
            "max_width": null,
            "min_height": null,
            "min_width": null,
            "object_fit": null,
            "object_position": null,
            "order": null,
            "overflow": null,
            "overflow_x": null,
            "overflow_y": null,
            "padding": null,
            "right": null,
            "top": null,
            "visibility": null,
            "width": null
          }
        },
        "1730722fdd97439299458d80270347c2": {
          "model_module": "@jupyter-widgets/controls",
          "model_name": "DescriptionStyleModel",
          "model_module_version": "1.5.0",
          "state": {
            "_model_module": "@jupyter-widgets/controls",
            "_model_module_version": "1.5.0",
            "_model_name": "DescriptionStyleModel",
            "_view_count": null,
            "_view_module": "@jupyter-widgets/base",
            "_view_module_version": "1.2.0",
            "_view_name": "StyleView",
            "description_width": ""
          }
        },
        "e705d97e7deb4bfe97ea041487fdec55": {
          "model_module": "@jupyter-widgets/base",
          "model_name": "LayoutModel",
          "model_module_version": "1.2.0",
          "state": {
            "_model_module": "@jupyter-widgets/base",
            "_model_module_version": "1.2.0",
            "_model_name": "LayoutModel",
            "_view_count": null,
            "_view_module": "@jupyter-widgets/base",
            "_view_module_version": "1.2.0",
            "_view_name": "LayoutView",
            "align_content": null,
            "align_items": null,
            "align_self": null,
            "border": null,
            "bottom": null,
            "display": null,
            "flex": null,
            "flex_flow": null,
            "grid_area": null,
            "grid_auto_columns": null,
            "grid_auto_flow": null,
            "grid_auto_rows": null,
            "grid_column": null,
            "grid_gap": null,
            "grid_row": null,
            "grid_template_areas": null,
            "grid_template_columns": null,
            "grid_template_rows": null,
            "height": null,
            "justify_content": null,
            "justify_items": null,
            "left": null,
            "margin": null,
            "max_height": null,
            "max_width": null,
            "min_height": null,
            "min_width": null,
            "object_fit": null,
            "object_position": null,
            "order": null,
            "overflow": null,
            "overflow_x": null,
            "overflow_y": null,
            "padding": null,
            "right": null,
            "top": null,
            "visibility": null,
            "width": null
          }
        },
        "d5fdf80c6d004866812f0b25bec43bf5": {
          "model_module": "@jupyter-widgets/controls",
          "model_name": "ProgressStyleModel",
          "model_module_version": "1.5.0",
          "state": {
            "_model_module": "@jupyter-widgets/controls",
            "_model_module_version": "1.5.0",
            "_model_name": "ProgressStyleModel",
            "_view_count": null,
            "_view_module": "@jupyter-widgets/base",
            "_view_module_version": "1.2.0",
            "_view_name": "StyleView",
            "bar_color": null,
            "description_width": ""
          }
        },
        "4af3b7cb5a2b4ce4b3a738b767510ddd": {
          "model_module": "@jupyter-widgets/base",
          "model_name": "LayoutModel",
          "model_module_version": "1.2.0",
          "state": {
            "_model_module": "@jupyter-widgets/base",
            "_model_module_version": "1.2.0",
            "_model_name": "LayoutModel",
            "_view_count": null,
            "_view_module": "@jupyter-widgets/base",
            "_view_module_version": "1.2.0",
            "_view_name": "LayoutView",
            "align_content": null,
            "align_items": null,
            "align_self": null,
            "border": null,
            "bottom": null,
            "display": null,
            "flex": null,
            "flex_flow": null,
            "grid_area": null,
            "grid_auto_columns": null,
            "grid_auto_flow": null,
            "grid_auto_rows": null,
            "grid_column": null,
            "grid_gap": null,
            "grid_row": null,
            "grid_template_areas": null,
            "grid_template_columns": null,
            "grid_template_rows": null,
            "height": null,
            "justify_content": null,
            "justify_items": null,
            "left": null,
            "margin": null,
            "max_height": null,
            "max_width": null,
            "min_height": null,
            "min_width": null,
            "object_fit": null,
            "object_position": null,
            "order": null,
            "overflow": null,
            "overflow_x": null,
            "overflow_y": null,
            "padding": null,
            "right": null,
            "top": null,
            "visibility": null,
            "width": null
          }
        },
        "115b8f884743418394325cfc4b1ebddd": {
          "model_module": "@jupyter-widgets/controls",
          "model_name": "DescriptionStyleModel",
          "model_module_version": "1.5.0",
          "state": {
            "_model_module": "@jupyter-widgets/controls",
            "_model_module_version": "1.5.0",
            "_model_name": "DescriptionStyleModel",
            "_view_count": null,
            "_view_module": "@jupyter-widgets/base",
            "_view_module_version": "1.2.0",
            "_view_name": "StyleView",
            "description_width": ""
          }
        },
        "22b87851d1a749f1bf0b8d3187c8fb23": {
          "model_module": "@jupyter-widgets/controls",
          "model_name": "HBoxModel",
          "model_module_version": "1.5.0",
          "state": {
            "_dom_classes": [],
            "_model_module": "@jupyter-widgets/controls",
            "_model_module_version": "1.5.0",
            "_model_name": "HBoxModel",
            "_view_count": null,
            "_view_module": "@jupyter-widgets/controls",
            "_view_module_version": "1.5.0",
            "_view_name": "HBoxView",
            "box_style": "",
            "children": [
              "IPY_MODEL_ac951e128b4e4c29ae5c45ced7e61827",
              "IPY_MODEL_ee2d8296050e4a7a80272ff948ebe049",
              "IPY_MODEL_162891b9630a439fac5bc316189a9abb"
            ],
            "layout": "IPY_MODEL_25bb11e1acf9450ead0df9b18bdb44db"
          }
        },
        "ac951e128b4e4c29ae5c45ced7e61827": {
          "model_module": "@jupyter-widgets/controls",
          "model_name": "HTMLModel",
          "model_module_version": "1.5.0",
          "state": {
            "_dom_classes": [],
            "_model_module": "@jupyter-widgets/controls",
            "_model_module_version": "1.5.0",
            "_model_name": "HTMLModel",
            "_view_count": null,
            "_view_module": "@jupyter-widgets/controls",
            "_view_module_version": "1.5.0",
            "_view_name": "HTMLView",
            "description": "",
            "description_tooltip": null,
            "layout": "IPY_MODEL_dc1c61a7b40c46df8bef0c41fd84b932",
            "placeholder": "​",
            "style": "IPY_MODEL_d38d73e43d2849c795d77b51963458d2",
            "value": "Evaluating: 100%"
          }
        },
        "ee2d8296050e4a7a80272ff948ebe049": {
          "model_module": "@jupyter-widgets/controls",
          "model_name": "FloatProgressModel",
          "model_module_version": "1.5.0",
          "state": {
            "_dom_classes": [],
            "_model_module": "@jupyter-widgets/controls",
            "_model_module_version": "1.5.0",
            "_model_name": "FloatProgressModel",
            "_view_count": null,
            "_view_module": "@jupyter-widgets/controls",
            "_view_module_version": "1.5.0",
            "_view_name": "ProgressView",
            "bar_style": "success",
            "description": "",
            "description_tooltip": null,
            "layout": "IPY_MODEL_fc2d7ce77fae418a9489708a2bfaa967",
            "max": 239,
            "min": 0,
            "orientation": "horizontal",
            "style": "IPY_MODEL_67e60670395c4b659690e7193f1f9adb",
            "value": 239
          }
        },
        "162891b9630a439fac5bc316189a9abb": {
          "model_module": "@jupyter-widgets/controls",
          "model_name": "HTMLModel",
          "model_module_version": "1.5.0",
          "state": {
            "_dom_classes": [],
            "_model_module": "@jupyter-widgets/controls",
            "_model_module_version": "1.5.0",
            "_model_name": "HTMLModel",
            "_view_count": null,
            "_view_module": "@jupyter-widgets/controls",
            "_view_module_version": "1.5.0",
            "_view_name": "HTMLView",
            "description": "",
            "description_tooltip": null,
            "layout": "IPY_MODEL_d361b519e52147538e1472a2564269a8",
            "placeholder": "​",
            "style": "IPY_MODEL_347151b3240e4870866f7481d127afde",
            "value": " 239/239 [00:03&lt;00:00, 64.34it/s]"
          }
        },
        "25bb11e1acf9450ead0df9b18bdb44db": {
          "model_module": "@jupyter-widgets/base",
          "model_name": "LayoutModel",
          "model_module_version": "1.2.0",
          "state": {
            "_model_module": "@jupyter-widgets/base",
            "_model_module_version": "1.2.0",
            "_model_name": "LayoutModel",
            "_view_count": null,
            "_view_module": "@jupyter-widgets/base",
            "_view_module_version": "1.2.0",
            "_view_name": "LayoutView",
            "align_content": null,
            "align_items": null,
            "align_self": null,
            "border": null,
            "bottom": null,
            "display": null,
            "flex": null,
            "flex_flow": null,
            "grid_area": null,
            "grid_auto_columns": null,
            "grid_auto_flow": null,
            "grid_auto_rows": null,
            "grid_column": null,
            "grid_gap": null,
            "grid_row": null,
            "grid_template_areas": null,
            "grid_template_columns": null,
            "grid_template_rows": null,
            "height": null,
            "justify_content": null,
            "justify_items": null,
            "left": null,
            "margin": null,
            "max_height": null,
            "max_width": null,
            "min_height": null,
            "min_width": null,
            "object_fit": null,
            "object_position": null,
            "order": null,
            "overflow": null,
            "overflow_x": null,
            "overflow_y": null,
            "padding": null,
            "right": null,
            "top": null,
            "visibility": null,
            "width": null
          }
        },
        "dc1c61a7b40c46df8bef0c41fd84b932": {
          "model_module": "@jupyter-widgets/base",
          "model_name": "LayoutModel",
          "model_module_version": "1.2.0",
          "state": {
            "_model_module": "@jupyter-widgets/base",
            "_model_module_version": "1.2.0",
            "_model_name": "LayoutModel",
            "_view_count": null,
            "_view_module": "@jupyter-widgets/base",
            "_view_module_version": "1.2.0",
            "_view_name": "LayoutView",
            "align_content": null,
            "align_items": null,
            "align_self": null,
            "border": null,
            "bottom": null,
            "display": null,
            "flex": null,
            "flex_flow": null,
            "grid_area": null,
            "grid_auto_columns": null,
            "grid_auto_flow": null,
            "grid_auto_rows": null,
            "grid_column": null,
            "grid_gap": null,
            "grid_row": null,
            "grid_template_areas": null,
            "grid_template_columns": null,
            "grid_template_rows": null,
            "height": null,
            "justify_content": null,
            "justify_items": null,
            "left": null,
            "margin": null,
            "max_height": null,
            "max_width": null,
            "min_height": null,
            "min_width": null,
            "object_fit": null,
            "object_position": null,
            "order": null,
            "overflow": null,
            "overflow_x": null,
            "overflow_y": null,
            "padding": null,
            "right": null,
            "top": null,
            "visibility": null,
            "width": null
          }
        },
        "d38d73e43d2849c795d77b51963458d2": {
          "model_module": "@jupyter-widgets/controls",
          "model_name": "DescriptionStyleModel",
          "model_module_version": "1.5.0",
          "state": {
            "_model_module": "@jupyter-widgets/controls",
            "_model_module_version": "1.5.0",
            "_model_name": "DescriptionStyleModel",
            "_view_count": null,
            "_view_module": "@jupyter-widgets/base",
            "_view_module_version": "1.2.0",
            "_view_name": "StyleView",
            "description_width": ""
          }
        },
        "fc2d7ce77fae418a9489708a2bfaa967": {
          "model_module": "@jupyter-widgets/base",
          "model_name": "LayoutModel",
          "model_module_version": "1.2.0",
          "state": {
            "_model_module": "@jupyter-widgets/base",
            "_model_module_version": "1.2.0",
            "_model_name": "LayoutModel",
            "_view_count": null,
            "_view_module": "@jupyter-widgets/base",
            "_view_module_version": "1.2.0",
            "_view_name": "LayoutView",
            "align_content": null,
            "align_items": null,
            "align_self": null,
            "border": null,
            "bottom": null,
            "display": null,
            "flex": null,
            "flex_flow": null,
            "grid_area": null,
            "grid_auto_columns": null,
            "grid_auto_flow": null,
            "grid_auto_rows": null,
            "grid_column": null,
            "grid_gap": null,
            "grid_row": null,
            "grid_template_areas": null,
            "grid_template_columns": null,
            "grid_template_rows": null,
            "height": null,
            "justify_content": null,
            "justify_items": null,
            "left": null,
            "margin": null,
            "max_height": null,
            "max_width": null,
            "min_height": null,
            "min_width": null,
            "object_fit": null,
            "object_position": null,
            "order": null,
            "overflow": null,
            "overflow_x": null,
            "overflow_y": null,
            "padding": null,
            "right": null,
            "top": null,
            "visibility": null,
            "width": null
          }
        },
        "67e60670395c4b659690e7193f1f9adb": {
          "model_module": "@jupyter-widgets/controls",
          "model_name": "ProgressStyleModel",
          "model_module_version": "1.5.0",
          "state": {
            "_model_module": "@jupyter-widgets/controls",
            "_model_module_version": "1.5.0",
            "_model_name": "ProgressStyleModel",
            "_view_count": null,
            "_view_module": "@jupyter-widgets/base",
            "_view_module_version": "1.2.0",
            "_view_name": "StyleView",
            "bar_color": null,
            "description_width": ""
          }
        },
        "d361b519e52147538e1472a2564269a8": {
          "model_module": "@jupyter-widgets/base",
          "model_name": "LayoutModel",
          "model_module_version": "1.2.0",
          "state": {
            "_model_module": "@jupyter-widgets/base",
            "_model_module_version": "1.2.0",
            "_model_name": "LayoutModel",
            "_view_count": null,
            "_view_module": "@jupyter-widgets/base",
            "_view_module_version": "1.2.0",
            "_view_name": "LayoutView",
            "align_content": null,
            "align_items": null,
            "align_self": null,
            "border": null,
            "bottom": null,
            "display": null,
            "flex": null,
            "flex_flow": null,
            "grid_area": null,
            "grid_auto_columns": null,
            "grid_auto_flow": null,
            "grid_auto_rows": null,
            "grid_column": null,
            "grid_gap": null,
            "grid_row": null,
            "grid_template_areas": null,
            "grid_template_columns": null,
            "grid_template_rows": null,
            "height": null,
            "justify_content": null,
            "justify_items": null,
            "left": null,
            "margin": null,
            "max_height": null,
            "max_width": null,
            "min_height": null,
            "min_width": null,
            "object_fit": null,
            "object_position": null,
            "order": null,
            "overflow": null,
            "overflow_x": null,
            "overflow_y": null,
            "padding": null,
            "right": null,
            "top": null,
            "visibility": null,
            "width": null
          }
        },
        "347151b3240e4870866f7481d127afde": {
          "model_module": "@jupyter-widgets/controls",
          "model_name": "DescriptionStyleModel",
          "model_module_version": "1.5.0",
          "state": {
            "_model_module": "@jupyter-widgets/controls",
            "_model_module_version": "1.5.0",
            "_model_name": "DescriptionStyleModel",
            "_view_count": null,
            "_view_module": "@jupyter-widgets/base",
            "_view_module_version": "1.2.0",
            "_view_name": "StyleView",
            "description_width": ""
          }
        },
        "f8aeae1fd45c4a43a9001dd82f6cf78e": {
          "model_module": "@jupyter-widgets/controls",
          "model_name": "HBoxModel",
          "model_module_version": "1.5.0",
          "state": {
            "_dom_classes": [],
            "_model_module": "@jupyter-widgets/controls",
            "_model_module_version": "1.5.0",
            "_model_name": "HBoxModel",
            "_view_count": null,
            "_view_module": "@jupyter-widgets/controls",
            "_view_module_version": "1.5.0",
            "_view_name": "HBoxView",
            "box_style": "",
            "children": [
              "IPY_MODEL_c0300fd1b15547dd909cb56142d1b704",
              "IPY_MODEL_9f003c08527640daa00acd92ae214f34",
              "IPY_MODEL_07a222d416084e7e9e8509743d450cb1"
            ],
            "layout": "IPY_MODEL_b2aab291daf1468ab47c363c77a3abf0"
          }
        },
        "c0300fd1b15547dd909cb56142d1b704": {
          "model_module": "@jupyter-widgets/controls",
          "model_name": "HTMLModel",
          "model_module_version": "1.5.0",
          "state": {
            "_dom_classes": [],
            "_model_module": "@jupyter-widgets/controls",
            "_model_module_version": "1.5.0",
            "_model_name": "HTMLModel",
            "_view_count": null,
            "_view_module": "@jupyter-widgets/controls",
            "_view_module_version": "1.5.0",
            "_view_name": "HTMLView",
            "description": "",
            "description_tooltip": null,
            "layout": "IPY_MODEL_78888d5c758a412696106e1afec59d0c",
            "placeholder": "​",
            "style": "IPY_MODEL_ef5cc7abc82e4fddb0dc8ce584f5beba",
            "value": "Evaluating: 100%"
          }
        },
        "9f003c08527640daa00acd92ae214f34": {
          "model_module": "@jupyter-widgets/controls",
          "model_name": "FloatProgressModel",
          "model_module_version": "1.5.0",
          "state": {
            "_dom_classes": [],
            "_model_module": "@jupyter-widgets/controls",
            "_model_module_version": "1.5.0",
            "_model_name": "FloatProgressModel",
            "_view_count": null,
            "_view_module": "@jupyter-widgets/controls",
            "_view_module_version": "1.5.0",
            "_view_name": "ProgressView",
            "bar_style": "success",
            "description": "",
            "description_tooltip": null,
            "layout": "IPY_MODEL_dda335ae10f04f7a9aaaa4482635ca30",
            "max": 239,
            "min": 0,
            "orientation": "horizontal",
            "style": "IPY_MODEL_246a60c4a3aa4e51ac8dbc877af43fb7",
            "value": 239
          }
        },
        "07a222d416084e7e9e8509743d450cb1": {
          "model_module": "@jupyter-widgets/controls",
          "model_name": "HTMLModel",
          "model_module_version": "1.5.0",
          "state": {
            "_dom_classes": [],
            "_model_module": "@jupyter-widgets/controls",
            "_model_module_version": "1.5.0",
            "_model_name": "HTMLModel",
            "_view_count": null,
            "_view_module": "@jupyter-widgets/controls",
            "_view_module_version": "1.5.0",
            "_view_name": "HTMLView",
            "description": "",
            "description_tooltip": null,
            "layout": "IPY_MODEL_bc5b102ba5304d36948f9daa523332a7",
            "placeholder": "​",
            "style": "IPY_MODEL_d95b99e1589f40f1aa8e06237a58832c",
            "value": " 239/239 [00:03&lt;00:00, 74.58it/s]"
          }
        },
        "b2aab291daf1468ab47c363c77a3abf0": {
          "model_module": "@jupyter-widgets/base",
          "model_name": "LayoutModel",
          "model_module_version": "1.2.0",
          "state": {
            "_model_module": "@jupyter-widgets/base",
            "_model_module_version": "1.2.0",
            "_model_name": "LayoutModel",
            "_view_count": null,
            "_view_module": "@jupyter-widgets/base",
            "_view_module_version": "1.2.0",
            "_view_name": "LayoutView",
            "align_content": null,
            "align_items": null,
            "align_self": null,
            "border": null,
            "bottom": null,
            "display": null,
            "flex": null,
            "flex_flow": null,
            "grid_area": null,
            "grid_auto_columns": null,
            "grid_auto_flow": null,
            "grid_auto_rows": null,
            "grid_column": null,
            "grid_gap": null,
            "grid_row": null,
            "grid_template_areas": null,
            "grid_template_columns": null,
            "grid_template_rows": null,
            "height": null,
            "justify_content": null,
            "justify_items": null,
            "left": null,
            "margin": null,
            "max_height": null,
            "max_width": null,
            "min_height": null,
            "min_width": null,
            "object_fit": null,
            "object_position": null,
            "order": null,
            "overflow": null,
            "overflow_x": null,
            "overflow_y": null,
            "padding": null,
            "right": null,
            "top": null,
            "visibility": null,
            "width": null
          }
        },
        "78888d5c758a412696106e1afec59d0c": {
          "model_module": "@jupyter-widgets/base",
          "model_name": "LayoutModel",
          "model_module_version": "1.2.0",
          "state": {
            "_model_module": "@jupyter-widgets/base",
            "_model_module_version": "1.2.0",
            "_model_name": "LayoutModel",
            "_view_count": null,
            "_view_module": "@jupyter-widgets/base",
            "_view_module_version": "1.2.0",
            "_view_name": "LayoutView",
            "align_content": null,
            "align_items": null,
            "align_self": null,
            "border": null,
            "bottom": null,
            "display": null,
            "flex": null,
            "flex_flow": null,
            "grid_area": null,
            "grid_auto_columns": null,
            "grid_auto_flow": null,
            "grid_auto_rows": null,
            "grid_column": null,
            "grid_gap": null,
            "grid_row": null,
            "grid_template_areas": null,
            "grid_template_columns": null,
            "grid_template_rows": null,
            "height": null,
            "justify_content": null,
            "justify_items": null,
            "left": null,
            "margin": null,
            "max_height": null,
            "max_width": null,
            "min_height": null,
            "min_width": null,
            "object_fit": null,
            "object_position": null,
            "order": null,
            "overflow": null,
            "overflow_x": null,
            "overflow_y": null,
            "padding": null,
            "right": null,
            "top": null,
            "visibility": null,
            "width": null
          }
        },
        "ef5cc7abc82e4fddb0dc8ce584f5beba": {
          "model_module": "@jupyter-widgets/controls",
          "model_name": "DescriptionStyleModel",
          "model_module_version": "1.5.0",
          "state": {
            "_model_module": "@jupyter-widgets/controls",
            "_model_module_version": "1.5.0",
            "_model_name": "DescriptionStyleModel",
            "_view_count": null,
            "_view_module": "@jupyter-widgets/base",
            "_view_module_version": "1.2.0",
            "_view_name": "StyleView",
            "description_width": ""
          }
        },
        "dda335ae10f04f7a9aaaa4482635ca30": {
          "model_module": "@jupyter-widgets/base",
          "model_name": "LayoutModel",
          "model_module_version": "1.2.0",
          "state": {
            "_model_module": "@jupyter-widgets/base",
            "_model_module_version": "1.2.0",
            "_model_name": "LayoutModel",
            "_view_count": null,
            "_view_module": "@jupyter-widgets/base",
            "_view_module_version": "1.2.0",
            "_view_name": "LayoutView",
            "align_content": null,
            "align_items": null,
            "align_self": null,
            "border": null,
            "bottom": null,
            "display": null,
            "flex": null,
            "flex_flow": null,
            "grid_area": null,
            "grid_auto_columns": null,
            "grid_auto_flow": null,
            "grid_auto_rows": null,
            "grid_column": null,
            "grid_gap": null,
            "grid_row": null,
            "grid_template_areas": null,
            "grid_template_columns": null,
            "grid_template_rows": null,
            "height": null,
            "justify_content": null,
            "justify_items": null,
            "left": null,
            "margin": null,
            "max_height": null,
            "max_width": null,
            "min_height": null,
            "min_width": null,
            "object_fit": null,
            "object_position": null,
            "order": null,
            "overflow": null,
            "overflow_x": null,
            "overflow_y": null,
            "padding": null,
            "right": null,
            "top": null,
            "visibility": null,
            "width": null
          }
        },
        "246a60c4a3aa4e51ac8dbc877af43fb7": {
          "model_module": "@jupyter-widgets/controls",
          "model_name": "ProgressStyleModel",
          "model_module_version": "1.5.0",
          "state": {
            "_model_module": "@jupyter-widgets/controls",
            "_model_module_version": "1.5.0",
            "_model_name": "ProgressStyleModel",
            "_view_count": null,
            "_view_module": "@jupyter-widgets/base",
            "_view_module_version": "1.2.0",
            "_view_name": "StyleView",
            "bar_color": null,
            "description_width": ""
          }
        },
        "bc5b102ba5304d36948f9daa523332a7": {
          "model_module": "@jupyter-widgets/base",
          "model_name": "LayoutModel",
          "model_module_version": "1.2.0",
          "state": {
            "_model_module": "@jupyter-widgets/base",
            "_model_module_version": "1.2.0",
            "_model_name": "LayoutModel",
            "_view_count": null,
            "_view_module": "@jupyter-widgets/base",
            "_view_module_version": "1.2.0",
            "_view_name": "LayoutView",
            "align_content": null,
            "align_items": null,
            "align_self": null,
            "border": null,
            "bottom": null,
            "display": null,
            "flex": null,
            "flex_flow": null,
            "grid_area": null,
            "grid_auto_columns": null,
            "grid_auto_flow": null,
            "grid_auto_rows": null,
            "grid_column": null,
            "grid_gap": null,
            "grid_row": null,
            "grid_template_areas": null,
            "grid_template_columns": null,
            "grid_template_rows": null,
            "height": null,
            "justify_content": null,
            "justify_items": null,
            "left": null,
            "margin": null,
            "max_height": null,
            "max_width": null,
            "min_height": null,
            "min_width": null,
            "object_fit": null,
            "object_position": null,
            "order": null,
            "overflow": null,
            "overflow_x": null,
            "overflow_y": null,
            "padding": null,
            "right": null,
            "top": null,
            "visibility": null,
            "width": null
          }
        },
        "d95b99e1589f40f1aa8e06237a58832c": {
          "model_module": "@jupyter-widgets/controls",
          "model_name": "DescriptionStyleModel",
          "model_module_version": "1.5.0",
          "state": {
            "_model_module": "@jupyter-widgets/controls",
            "_model_module_version": "1.5.0",
            "_model_name": "DescriptionStyleModel",
            "_view_count": null,
            "_view_module": "@jupyter-widgets/base",
            "_view_module_version": "1.2.0",
            "_view_name": "StyleView",
            "description_width": ""
          }
        }
      }
    }
  },
  "nbformat": 4,
  "nbformat_minor": 0
}